{
  "cells": [
    {
      "cell_type": "code",
      "source": [
        "import numpy as np\n",
        "import pandas as pd\n",
        "import matplotlib.pyplot as plt\n",
        "from sklearn.model_selection import train_test_split\n",
        "\n",
        "from sklearn.preprocessing import PolynomialFeatures    # function to generate polynomial and interaction features\n",
        "from sklearn.linear_model import LinearRegression    # classes providing Linear Regression with ordinary squared error loss and Huber loss, respectively\n",
        "from sklearn.metrics import mean_squared_error    # function to calculate mean squared error "
      ],
      "outputs": [],
      "execution_count": null,
      "metadata": {
        "noteable": {},
        "ExecuteTime": {
          "end_time": "2023-10-10T17:58:15.344532+00:00",
          "start_time": "2023-10-10T17:58:14.616198+00:00"
        }
      },
      "id": "c2b193ba"
    },
    {
      "cell_type": "code",
      "source": [
        "# read in data from the file \"StudentsPerformance\" and store it in the DataFrame \"df\"\n",
        "\n",
        "df = pd.read_csv('StudentsPerformance.csv')\n",
        "\n",
        "# print the first 5 recordings in the DataFrame `df`\n",
        "\n",
        "df.head(5)  "
      ],
      "outputs": [],
      "execution_count": null,
      "metadata": {
        "jupyter": {
          "outputs_hidden": false,
          "source_hidden": false
        },
        "noteable": {
          "cell_type": "code"
        },
        "ExecuteTime": {
          "end_time": "2023-10-10T17:58:16.919629+00:00",
          "start_time": "2023-10-10T17:58:16.711472+00:00"
        },
        "datalink": {
          "4fd6172c-aec4-47a0-bf9e-fd48409b4c09": {
            "applied_filters": [],
            "dataframe_info": {
              "default_index_used": true,
              "orig_num_cols": 8,
              "orig_num_rows": 5,
              "orig_size_bytes": 360,
              "truncated_num_cols": 8,
              "truncated_num_rows": 5,
              "truncated_size_bytes": 360,
              "truncated_string_columns": []
            },
            "display_id": "4fd6172c-aec4-47a0-bf9e-fd48409b4c09",
            "dx_settings": {
              "ALLOW_NOTEABLE_ATTRS": true,
              "COLUMN_SAMPLING_METHOD": "outer",
              "DB_LOCATION": ":memory:",
              "DEV_MODE": false,
              "DISPLAY_MAX_COLUMNS": 100,
              "DISPLAY_MAX_ROWS": 50000,
              "DISPLAY_MODE": "simple",
              "ENABLE_ASSIGNMENT": true,
              "ENABLE_DATALINK": true,
              "FLATTEN_COLUMN_VALUES": true,
              "FLATTEN_INDEX_VALUES": false,
              "GENERATE_DEX_METADATA": false,
              "HTML_TABLE_SCHEMA": false,
              "LOG_LEVEL": 30,
              "MAX_RENDER_SIZE_BYTES": 104857600,
              "MAX_STRING_LENGTH": 250,
              "NUM_PAST_SAMPLES_TRACKED": 3,
              "RANDOM_STATE": 12648430,
              "RESET_INDEX_VALUES": false,
              "ROW_SAMPLING_METHOD": "random",
              "SAMPLING_FACTOR": 0.1,
              "SAMPLING_METHOD": "random",
              "STRINGIFY_COLUMN_VALUES": true,
              "STRINGIFY_INDEX_VALUES": false
            },
            "sample_history": [],
            "sampling_time": "2023-10-08T11:54:44.543219",
            "user_variable_name": null,
            "variable_name": "unk_dataframe_e4b121b0b0b549a794ad12e9216e2af9"
          },
          "1a5df589-7b72-4a10-b627-fae507e4dce2": {
            "applied_filters": [],
            "dataframe_info": {
              "default_index_used": true,
              "orig_num_cols": 8,
              "orig_num_rows": 5,
              "orig_size_bytes": 360,
              "truncated_num_cols": 8,
              "truncated_num_rows": 5,
              "truncated_size_bytes": 360,
              "truncated_string_columns": []
            },
            "display_id": "1a5df589-7b72-4a10-b627-fae507e4dce2",
            "dx_settings": {
              "ALLOW_NOTEABLE_ATTRS": true,
              "COLUMN_SAMPLING_METHOD": "outer",
              "DB_LOCATION": ":memory:",
              "DEV_MODE": false,
              "DISPLAY_MAX_COLUMNS": 100,
              "DISPLAY_MAX_ROWS": 50000,
              "DISPLAY_MODE": "simple",
              "ENABLE_ASSIGNMENT": true,
              "ENABLE_DATALINK": true,
              "FLATTEN_COLUMN_VALUES": true,
              "FLATTEN_INDEX_VALUES": false,
              "GENERATE_DEX_METADATA": false,
              "HTML_TABLE_SCHEMA": false,
              "LOG_LEVEL": 30,
              "MAX_RENDER_SIZE_BYTES": 104857600,
              "MAX_STRING_LENGTH": 250,
              "NUM_PAST_SAMPLES_TRACKED": 3,
              "RANDOM_STATE": 12648430,
              "RESET_INDEX_VALUES": false,
              "ROW_SAMPLING_METHOD": "random",
              "SAMPLING_FACTOR": 0.1,
              "SAMPLING_METHOD": "random",
              "STRINGIFY_COLUMN_VALUES": true,
              "STRINGIFY_INDEX_VALUES": false
            },
            "sample_history": [],
            "sampling_time": "2023-10-08T12:21:20.109089",
            "user_variable_name": null,
            "variable_name": "unk_dataframe_b2a164be00284e048f5f005ce05b3340"
          },
          "a86c5527-d82f-420c-8e5d-6eb042274fc8": {
            "applied_filters": [],
            "dataframe_info": {
              "default_index_used": true,
              "orig_num_cols": 8,
              "orig_num_rows": 5,
              "orig_size_bytes": 360,
              "truncated_num_cols": 8,
              "truncated_num_rows": 5,
              "truncated_size_bytes": 360,
              "truncated_string_columns": []
            },
            "display_id": "a86c5527-d82f-420c-8e5d-6eb042274fc8",
            "dx_settings": {
              "ALLOW_NOTEABLE_ATTRS": true,
              "COLUMN_SAMPLING_METHOD": "outer",
              "DB_LOCATION": ":memory:",
              "DEV_MODE": false,
              "DISPLAY_MAX_COLUMNS": 100,
              "DISPLAY_MAX_ROWS": 50000,
              "DISPLAY_MODE": "simple",
              "ENABLE_ASSIGNMENT": true,
              "ENABLE_DATALINK": true,
              "FLATTEN_COLUMN_VALUES": true,
              "FLATTEN_INDEX_VALUES": false,
              "GENERATE_DEX_METADATA": false,
              "HTML_TABLE_SCHEMA": false,
              "LOG_LEVEL": 30,
              "MAX_RENDER_SIZE_BYTES": 104857600,
              "MAX_STRING_LENGTH": 250,
              "NUM_PAST_SAMPLES_TRACKED": 3,
              "RANDOM_STATE": 12648430,
              "RESET_INDEX_VALUES": false,
              "ROW_SAMPLING_METHOD": "random",
              "SAMPLING_FACTOR": 0.1,
              "SAMPLING_METHOD": "random",
              "STRINGIFY_COLUMN_VALUES": true,
              "STRINGIFY_INDEX_VALUES": false
            },
            "sample_history": [],
            "sampling_time": "2023-10-08T13:02:42.999731",
            "user_variable_name": null,
            "variable_name": "unk_dataframe_7d3712f9614044929c49a979461879c4"
          },
          "50e3bc55-aced-4bda-b608-aea5b4ec0031": {
            "applied_filters": [],
            "dataframe_info": {
              "default_index_used": true,
              "orig_num_cols": 8,
              "orig_num_rows": 5,
              "orig_size_bytes": 360,
              "truncated_num_cols": 8,
              "truncated_num_rows": 5,
              "truncated_size_bytes": 360,
              "truncated_string_columns": []
            },
            "display_id": "50e3bc55-aced-4bda-b608-aea5b4ec0031",
            "dx_settings": {
              "ALLOW_NOTEABLE_ATTRS": true,
              "COLUMN_SAMPLING_METHOD": "outer",
              "DB_LOCATION": ":memory:",
              "DEV_MODE": false,
              "DISPLAY_MAX_COLUMNS": 100,
              "DISPLAY_MAX_ROWS": 50000,
              "DISPLAY_MODE": "simple",
              "ENABLE_ASSIGNMENT": true,
              "ENABLE_DATALINK": true,
              "FLATTEN_COLUMN_VALUES": true,
              "FLATTEN_INDEX_VALUES": false,
              "GENERATE_DEX_METADATA": false,
              "HTML_TABLE_SCHEMA": false,
              "LOG_LEVEL": 30,
              "MAX_RENDER_SIZE_BYTES": 104857600,
              "MAX_STRING_LENGTH": 250,
              "NUM_PAST_SAMPLES_TRACKED": 3,
              "RANDOM_STATE": 12648430,
              "RESET_INDEX_VALUES": false,
              "ROW_SAMPLING_METHOD": "random",
              "SAMPLING_FACTOR": 0.1,
              "SAMPLING_METHOD": "random",
              "STRINGIFY_COLUMN_VALUES": true,
              "STRINGIFY_INDEX_VALUES": false
            },
            "sample_history": [],
            "sampling_time": "2023-10-10T15:57:41.619490",
            "user_variable_name": null,
            "variable_name": "unk_dataframe_bcdb0442f495495ba2e5c9617592fce1"
          },
          "c9ff4934-5375-40a4-aef5-a4fd4d9335bc": {
            "applied_filters": [],
            "dataframe_info": {
              "default_index_used": true,
              "orig_num_cols": 8,
              "orig_num_rows": 5,
              "orig_size_bytes": 360,
              "truncated_num_cols": 8,
              "truncated_num_rows": 5,
              "truncated_size_bytes": 360,
              "truncated_string_columns": []
            },
            "display_id": "c9ff4934-5375-40a4-aef5-a4fd4d9335bc",
            "dx_settings": {
              "ALLOW_NOTEABLE_ATTRS": true,
              "COLUMN_SAMPLING_METHOD": "outer",
              "DB_LOCATION": ":memory:",
              "DEV_MODE": false,
              "DISPLAY_MAX_COLUMNS": 100,
              "DISPLAY_MAX_ROWS": 50000,
              "DISPLAY_MODE": "simple",
              "ENABLE_ASSIGNMENT": true,
              "ENABLE_DATALINK": true,
              "FLATTEN_COLUMN_VALUES": true,
              "FLATTEN_INDEX_VALUES": false,
              "GENERATE_DEX_METADATA": false,
              "HTML_TABLE_SCHEMA": false,
              "LOG_LEVEL": 30,
              "MAX_RENDER_SIZE_BYTES": 104857600,
              "MAX_STRING_LENGTH": 250,
              "NUM_PAST_SAMPLES_TRACKED": 3,
              "RANDOM_STATE": 12648430,
              "RESET_INDEX_VALUES": false,
              "ROW_SAMPLING_METHOD": "random",
              "SAMPLING_FACTOR": 0.1,
              "SAMPLING_METHOD": "random",
              "STRINGIFY_COLUMN_VALUES": true,
              "STRINGIFY_INDEX_VALUES": false
            },
            "sample_history": [],
            "sampling_time": "2023-10-10T16:03:00.454835",
            "user_variable_name": null,
            "variable_name": "unk_dataframe_1f2cfba6ed214b4ba383259e5c753ece"
          },
          "aa4ac4a8-213e-416f-92c0-cb0ee9bfe2b1": {
            "applied_filters": [],
            "dataframe_info": {
              "default_index_used": true,
              "orig_num_cols": 8,
              "orig_num_rows": 5,
              "orig_size_bytes": 360,
              "truncated_num_cols": 8,
              "truncated_num_rows": 5,
              "truncated_size_bytes": 360,
              "truncated_string_columns": []
            },
            "display_id": "aa4ac4a8-213e-416f-92c0-cb0ee9bfe2b1",
            "dx_settings": {
              "ALLOW_NOTEABLE_ATTRS": true,
              "COLUMN_SAMPLING_METHOD": "outer",
              "DB_LOCATION": ":memory:",
              "DEV_MODE": false,
              "DISPLAY_MAX_COLUMNS": 100,
              "DISPLAY_MAX_ROWS": 50000,
              "DISPLAY_MODE": "simple",
              "ENABLE_ASSIGNMENT": true,
              "ENABLE_DATALINK": true,
              "FLATTEN_COLUMN_VALUES": true,
              "FLATTEN_INDEX_VALUES": false,
              "GENERATE_DEX_METADATA": false,
              "HTML_TABLE_SCHEMA": false,
              "LOG_LEVEL": 30,
              "MAX_RENDER_SIZE_BYTES": 104857600,
              "MAX_STRING_LENGTH": 250,
              "NUM_PAST_SAMPLES_TRACKED": 3,
              "RANDOM_STATE": 12648430,
              "RESET_INDEX_VALUES": false,
              "ROW_SAMPLING_METHOD": "random",
              "SAMPLING_FACTOR": 0.1,
              "SAMPLING_METHOD": "random",
              "STRINGIFY_COLUMN_VALUES": true,
              "STRINGIFY_INDEX_VALUES": false
            },
            "sample_history": [],
            "sampling_time": "2023-10-10T16:04:11.668081",
            "user_variable_name": null,
            "variable_name": "unk_dataframe_83fd4c342f41489aa30dc7b6e153b7f4"
          },
          "e66da499-ceb4-4dbe-ac28-18be746c371a": {
            "applied_filters": [],
            "dataframe_info": {
              "default_index_used": true,
              "orig_num_cols": 8,
              "orig_num_rows": 5,
              "orig_size_bytes": 360,
              "truncated_num_cols": 8,
              "truncated_num_rows": 5,
              "truncated_size_bytes": 360,
              "truncated_string_columns": []
            },
            "display_id": "e66da499-ceb4-4dbe-ac28-18be746c371a",
            "dx_settings": {
              "ALLOW_NOTEABLE_ATTRS": true,
              "COLUMN_SAMPLING_METHOD": "outer",
              "DB_LOCATION": ":memory:",
              "DEV_MODE": false,
              "DISPLAY_MAX_COLUMNS": 100,
              "DISPLAY_MAX_ROWS": 50000,
              "DISPLAY_MODE": "simple",
              "ENABLE_ASSIGNMENT": true,
              "ENABLE_DATALINK": true,
              "FLATTEN_COLUMN_VALUES": true,
              "FLATTEN_INDEX_VALUES": false,
              "GENERATE_DEX_METADATA": false,
              "HTML_TABLE_SCHEMA": false,
              "LOG_LEVEL": 30,
              "MAX_RENDER_SIZE_BYTES": 104857600,
              "MAX_STRING_LENGTH": 250,
              "NUM_PAST_SAMPLES_TRACKED": 3,
              "RANDOM_STATE": 12648430,
              "RESET_INDEX_VALUES": false,
              "ROW_SAMPLING_METHOD": "random",
              "SAMPLING_FACTOR": 0.1,
              "SAMPLING_METHOD": "random",
              "STRINGIFY_COLUMN_VALUES": true,
              "STRINGIFY_INDEX_VALUES": false
            },
            "sample_history": [],
            "sampling_time": "2023-10-10T16:05:24.492698",
            "user_variable_name": null,
            "variable_name": "unk_dataframe_fdac9480b88f4ed58ea0328291bcdabb"
          },
          "6346b5ae-55f5-4cf6-8139-08c5be423bf6": {
            "applied_filters": [],
            "dataframe_info": {
              "default_index_used": true,
              "orig_num_cols": 8,
              "orig_num_rows": 5,
              "orig_size_bytes": 360,
              "truncated_num_cols": 8,
              "truncated_num_rows": 5,
              "truncated_size_bytes": 360,
              "truncated_string_columns": []
            },
            "display_id": "6346b5ae-55f5-4cf6-8139-08c5be423bf6",
            "dx_settings": {
              "ALLOW_NOTEABLE_ATTRS": true,
              "COLUMN_SAMPLING_METHOD": "outer",
              "DB_LOCATION": ":memory:",
              "DEV_MODE": false,
              "DISPLAY_MAX_COLUMNS": 100,
              "DISPLAY_MAX_ROWS": 50000,
              "DISPLAY_MODE": "simple",
              "ENABLE_ASSIGNMENT": true,
              "ENABLE_DATALINK": true,
              "FLATTEN_COLUMN_VALUES": true,
              "FLATTEN_INDEX_VALUES": false,
              "GENERATE_DEX_METADATA": false,
              "HTML_TABLE_SCHEMA": false,
              "LOG_LEVEL": 30,
              "MAX_RENDER_SIZE_BYTES": 104857600,
              "MAX_STRING_LENGTH": 250,
              "NUM_PAST_SAMPLES_TRACKED": 3,
              "RANDOM_STATE": 12648430,
              "RESET_INDEX_VALUES": false,
              "ROW_SAMPLING_METHOD": "random",
              "SAMPLING_FACTOR": 0.1,
              "SAMPLING_METHOD": "random",
              "STRINGIFY_COLUMN_VALUES": true,
              "STRINGIFY_INDEX_VALUES": false
            },
            "sample_history": [],
            "sampling_time": "2023-10-10T17:58:16.754622",
            "user_variable_name": null,
            "variable_name": "unk_dataframe_50f62acfd33644e4b72ed06ef55dc3c4"
          }
        },
        "dx": {
          "dashboard": {
            "multiViews": []
          },
          "fieldMetadata": {},
          "updated": 1696768168086,
          "views": [
            {
              "annotationRules": [],
              "chart": {},
              "chartMode": "grid",
              "confoRules": [],
              "decoration": {
                "footer": "",
                "subtitle": "",
                "title": "Table"
              },
              "facets": [],
              "filterSettings": {
                "SHOW_FILTER_PANEL": true,
                "filters": []
              },
              "id": "first-view",
              "isDefault": true,
              "type": "public",
              "userID": ""
            },
            {
              "annotationRules": [],
              "chart": {},
              "chartMode": "grid",
              "confoRules": [],
              "decoration": {
                "footer": "",
                "subtitle": "",
                "title": "Table"
              },
              "facets": [],
              "filterSettings": {
                "SHOW_FILTER_PANEL": true,
                "filters": [
                  {
                    "column": "writing score",
                    "predicate": "between",
                    "type": "METRIC_FILTER",
                    "value": [
                      44,
                      60
                    ]
                  },
                  {
                    "column": "math score",
                    "predicate": "between",
                    "type": "METRIC_FILTER",
                    "value": [
                      47,
                      86
                    ]
                  },
                  {
                    "column": "reading score",
                    "predicate": "between",
                    "type": "METRIC_FILTER",
                    "value": [
                      57,
                      71
                    ]
                  }
                ]
              },
              "id": "first-view",
              "isDefault": true,
              "isTransitory": true,
              "type": "public",
              "userID": ""
            }
          ]
        }
      },
      "id": "7b48187d-08e5-4170-a366-ca1a5218c85c"
    },
    {
      "cell_type": "markdown",
      "source": [
        "Preparing data"
      ],
      "metadata": {
        "noteable": {
          "cell_type": "markdown"
        }
      },
      "id": "6cc96d0a-0658-4f0b-b52b-b7e86255679b"
    },
    {
      "cell_type": "code",
      "source": [
        "import pandas as pd\n",
        "df = pd.read_csv('StudentsPerformance.csv')\n",
        "\n",
        "# Renaming columns\n",
        "df.rename(columns = {'math score': 'math_score', 'writing score':'writing_score', 'reading score':'reading_score', 'parental level of education':'parent_edu', 'race/ethnicity': 'race', 'test preparation course':'test_prep'}, inplace = True)\n",
        "\n",
        "\n",
        "df = pd.get_dummies(df, columns = ['gender'], drop_first = True)\n",
        "df['test_prep'] = df['test_prep'].map({'none': 0, 'completed': 1})\n",
        "race_map = {'group A': 1, 'group B': 2, 'group C': 3, 'group D': 4, 'group E': 5}\n",
        "df['race'] = df['race'].map(race_map)\n",
        "\n",
        "# 2. Aggregate into Total_mark\n",
        "df['total_score'] = df['reading_score'] + df['writing_score'] + df['math_score']\n",
        "\n",
        "# 3. Creating economic_status\n",
        "education_map = {'some high school': 1, 'high school': 2, 'some college': 3, 'associate\\'s degree': 4, 'bachelor\\'s degree': 5, 'master\\'s degree': 6}\n",
        "lunch_map = {'standard': 1, 'free/reduced': 0}\n",
        "\n",
        "df['parent_edu'] = df['parent_edu'].map(education_map)\n",
        "df['lunch'] = df['lunch'].map(lunch_map)\n",
        "df['economic_status'] = df['parent_edu'] + df['lunch']\n",
        "\n",
        "df"
      ],
      "outputs": [
        {
          "output_type": "display_data",
          "data": {
            "application/vnd.dataresource+json": {
              "schema": {
                "fields": [
                  {
                    "name": "index",
                    "type": "integer"
                  },
                  {
                    "name": "race",
                    "type": "integer"
                  },
                  {
                    "name": "parent_edu",
                    "type": "integer"
                  },
                  {
                    "name": "lunch",
                    "type": "integer"
                  },
                  {
                    "name": "test_prep",
                    "type": "integer"
                  },
                  {
                    "name": "math_score",
                    "type": "integer"
                  },
                  {
                    "name": "reading_score",
                    "type": "integer"
                  },
                  {
                    "name": "writing_score",
                    "type": "integer"
                  },
                  {
                    "name": "gender_male",
                    "type": "integer"
                  },
                  {
                    "name": "total_score",
                    "type": "integer"
                  },
                  {
                    "name": "economic_status",
                    "type": "integer"
                  }
                ],
                "primaryKey": [
                  "index"
                ],
                "pandas_version": "1.4.0"
              },
              "data": [
                {
                  "index": 0,
                  "race": 2,
                  "parent_edu": 5,
                  "lunch": 1,
                  "test_prep": 0,
                  "math_score": 72,
                  "reading_score": 72,
                  "writing_score": 74,
                  "gender_male": 0,
                  "total_score": 218,
                  "economic_status": 6
                },
                {
                  "index": 1,
                  "race": 3,
                  "parent_edu": 3,
                  "lunch": 1,
                  "test_prep": 1,
                  "math_score": 69,
                  "reading_score": 90,
                  "writing_score": 88,
                  "gender_male": 0,
                  "total_score": 247,
                  "economic_status": 4
                },
                {
                  "index": 2,
                  "race": 2,
                  "parent_edu": 6,
                  "lunch": 1,
                  "test_prep": 0,
                  "math_score": 90,
                  "reading_score": 95,
                  "writing_score": 93,
                  "gender_male": 0,
                  "total_score": 278,
                  "economic_status": 7
                },
                {
                  "index": 3,
                  "race": 1,
                  "parent_edu": 4,
                  "lunch": 0,
                  "test_prep": 0,
                  "math_score": 47,
                  "reading_score": 57,
                  "writing_score": 44,
                  "gender_male": 1,
                  "total_score": 148,
                  "economic_status": 4
                },
                {
                  "index": 4,
                  "race": 3,
                  "parent_edu": 3,
                  "lunch": 1,
                  "test_prep": 0,
                  "math_score": 76,
                  "reading_score": 78,
                  "writing_score": 75,
                  "gender_male": 1,
                  "total_score": 229,
                  "economic_status": 4
                },
                {
                  "index": 5,
                  "race": 2,
                  "parent_edu": 4,
                  "lunch": 1,
                  "test_prep": 0,
                  "math_score": 71,
                  "reading_score": 83,
                  "writing_score": 78,
                  "gender_male": 0,
                  "total_score": 232,
                  "economic_status": 5
                },
                {
                  "index": 6,
                  "race": 2,
                  "parent_edu": 3,
                  "lunch": 1,
                  "test_prep": 1,
                  "math_score": 88,
                  "reading_score": 95,
                  "writing_score": 92,
                  "gender_male": 0,
                  "total_score": 275,
                  "economic_status": 4
                },
                {
                  "index": 7,
                  "race": 2,
                  "parent_edu": 3,
                  "lunch": 0,
                  "test_prep": 0,
                  "math_score": 40,
                  "reading_score": 43,
                  "writing_score": 39,
                  "gender_male": 1,
                  "total_score": 122,
                  "economic_status": 3
                },
                {
                  "index": 8,
                  "race": 4,
                  "parent_edu": 2,
                  "lunch": 0,
                  "test_prep": 1,
                  "math_score": 64,
                  "reading_score": 64,
                  "writing_score": 67,
                  "gender_male": 1,
                  "total_score": 195,
                  "economic_status": 2
                },
                {
                  "index": 9,
                  "race": 2,
                  "parent_edu": 2,
                  "lunch": 0,
                  "test_prep": 0,
                  "math_score": 38,
                  "reading_score": 60,
                  "writing_score": 50,
                  "gender_male": 0,
                  "total_score": 148,
                  "economic_status": 2
                },
                {
                  "index": 10,
                  "race": 3,
                  "parent_edu": 4,
                  "lunch": 1,
                  "test_prep": 0,
                  "math_score": 58,
                  "reading_score": 54,
                  "writing_score": 52,
                  "gender_male": 1,
                  "total_score": 164,
                  "economic_status": 5
                },
                {
                  "index": 11,
                  "race": 4,
                  "parent_edu": 4,
                  "lunch": 1,
                  "test_prep": 0,
                  "math_score": 40,
                  "reading_score": 52,
                  "writing_score": 43,
                  "gender_male": 1,
                  "total_score": 135,
                  "economic_status": 5
                },
                {
                  "index": 12,
                  "race": 2,
                  "parent_edu": 2,
                  "lunch": 1,
                  "test_prep": 0,
                  "math_score": 65,
                  "reading_score": 81,
                  "writing_score": 73,
                  "gender_male": 0,
                  "total_score": 219,
                  "economic_status": 3
                },
                {
                  "index": 13,
                  "race": 1,
                  "parent_edu": 3,
                  "lunch": 1,
                  "test_prep": 1,
                  "math_score": 78,
                  "reading_score": 72,
                  "writing_score": 70,
                  "gender_male": 1,
                  "total_score": 220,
                  "economic_status": 4
                },
                {
                  "index": 14,
                  "race": 1,
                  "parent_edu": 6,
                  "lunch": 1,
                  "test_prep": 0,
                  "math_score": 50,
                  "reading_score": 53,
                  "writing_score": 58,
                  "gender_male": 0,
                  "total_score": 161,
                  "economic_status": 7
                },
                {
                  "index": 15,
                  "race": 3,
                  "parent_edu": 1,
                  "lunch": 1,
                  "test_prep": 0,
                  "math_score": 69,
                  "reading_score": 75,
                  "writing_score": 78,
                  "gender_male": 0,
                  "total_score": 222,
                  "economic_status": 2
                },
                {
                  "index": 16,
                  "race": 3,
                  "parent_edu": 2,
                  "lunch": 1,
                  "test_prep": 0,
                  "math_score": 88,
                  "reading_score": 89,
                  "writing_score": 86,
                  "gender_male": 1,
                  "total_score": 263,
                  "economic_status": 3
                },
                {
                  "index": 17,
                  "race": 2,
                  "parent_edu": 1,
                  "lunch": 0,
                  "test_prep": 0,
                  "math_score": 18,
                  "reading_score": 32,
                  "writing_score": 28,
                  "gender_male": 0,
                  "total_score": 78,
                  "economic_status": 1
                },
                {
                  "index": 18,
                  "race": 3,
                  "parent_edu": 6,
                  "lunch": 0,
                  "test_prep": 1,
                  "math_score": 46,
                  "reading_score": 42,
                  "writing_score": 46,
                  "gender_male": 1,
                  "total_score": 134,
                  "economic_status": 6
                },
                {
                  "index": 19,
                  "race": 3,
                  "parent_edu": 4,
                  "lunch": 0,
                  "test_prep": 0,
                  "math_score": 54,
                  "reading_score": 58,
                  "writing_score": 61,
                  "gender_male": 0,
                  "total_score": 173,
                  "economic_status": 4
                },
                {
                  "index": 20,
                  "race": 4,
                  "parent_edu": 2,
                  "lunch": 1,
                  "test_prep": 0,
                  "math_score": 66,
                  "reading_score": 69,
                  "writing_score": 63,
                  "gender_male": 1,
                  "total_score": 198,
                  "economic_status": 3
                },
                {
                  "index": 21,
                  "race": 2,
                  "parent_edu": 3,
                  "lunch": 0,
                  "test_prep": 1,
                  "math_score": 65,
                  "reading_score": 75,
                  "writing_score": 70,
                  "gender_male": 0,
                  "total_score": 210,
                  "economic_status": 3
                },
                {
                  "index": 22,
                  "race": 4,
                  "parent_edu": 3,
                  "lunch": 1,
                  "test_prep": 0,
                  "math_score": 44,
                  "reading_score": 54,
                  "writing_score": 53,
                  "gender_male": 1,
                  "total_score": 151,
                  "economic_status": 4
                },
                {
                  "index": 23,
                  "race": 3,
                  "parent_edu": 1,
                  "lunch": 1,
                  "test_prep": 0,
                  "math_score": 69,
                  "reading_score": 73,
                  "writing_score": 73,
                  "gender_male": 0,
                  "total_score": 215,
                  "economic_status": 2
                },
                {
                  "index": 24,
                  "race": 4,
                  "parent_edu": 5,
                  "lunch": 0,
                  "test_prep": 1,
                  "math_score": 74,
                  "reading_score": 71,
                  "writing_score": 80,
                  "gender_male": 1,
                  "total_score": 225,
                  "economic_status": 5
                },
                {
                  "index": 25,
                  "race": 1,
                  "parent_edu": 6,
                  "lunch": 0,
                  "test_prep": 0,
                  "math_score": 73,
                  "reading_score": 74,
                  "writing_score": 72,
                  "gender_male": 1,
                  "total_score": 219,
                  "economic_status": 6
                },
                {
                  "index": 26,
                  "race": 2,
                  "parent_edu": 3,
                  "lunch": 1,
                  "test_prep": 0,
                  "math_score": 69,
                  "reading_score": 54,
                  "writing_score": 55,
                  "gender_male": 1,
                  "total_score": 178,
                  "economic_status": 4
                },
                {
                  "index": 27,
                  "race": 3,
                  "parent_edu": 5,
                  "lunch": 1,
                  "test_prep": 0,
                  "math_score": 67,
                  "reading_score": 69,
                  "writing_score": 75,
                  "gender_male": 0,
                  "total_score": 211,
                  "economic_status": 6
                },
                {
                  "index": 28,
                  "race": 3,
                  "parent_edu": 2,
                  "lunch": 1,
                  "test_prep": 0,
                  "math_score": 70,
                  "reading_score": 70,
                  "writing_score": 65,
                  "gender_male": 1,
                  "total_score": 205,
                  "economic_status": 3
                },
                {
                  "index": 29,
                  "race": 4,
                  "parent_edu": 6,
                  "lunch": 1,
                  "test_prep": 0,
                  "math_score": 62,
                  "reading_score": 70,
                  "writing_score": 75,
                  "gender_male": 0,
                  "total_score": 207,
                  "economic_status": 7
                },
                {
                  "index": 30,
                  "race": 4,
                  "parent_edu": 3,
                  "lunch": 1,
                  "test_prep": 0,
                  "math_score": 69,
                  "reading_score": 74,
                  "writing_score": 74,
                  "gender_male": 0,
                  "total_score": 217,
                  "economic_status": 4
                },
                {
                  "index": 31,
                  "race": 2,
                  "parent_edu": 3,
                  "lunch": 1,
                  "test_prep": 0,
                  "math_score": 63,
                  "reading_score": 65,
                  "writing_score": 61,
                  "gender_male": 0,
                  "total_score": 189,
                  "economic_status": 4
                },
                {
                  "index": 32,
                  "race": 5,
                  "parent_edu": 6,
                  "lunch": 0,
                  "test_prep": 0,
                  "math_score": 56,
                  "reading_score": 72,
                  "writing_score": 65,
                  "gender_male": 0,
                  "total_score": 193,
                  "economic_status": 6
                },
                {
                  "index": 33,
                  "race": 4,
                  "parent_edu": 3,
                  "lunch": 1,
                  "test_prep": 0,
                  "math_score": 40,
                  "reading_score": 42,
                  "writing_score": 38,
                  "gender_male": 1,
                  "total_score": 120,
                  "economic_status": 4
                },
                {
                  "index": 34,
                  "race": 5,
                  "parent_edu": 3,
                  "lunch": 1,
                  "test_prep": 0,
                  "math_score": 97,
                  "reading_score": 87,
                  "writing_score": 82,
                  "gender_male": 1,
                  "total_score": 266,
                  "economic_status": 4
                },
                {
                  "index": 35,
                  "race": 5,
                  "parent_edu": 4,
                  "lunch": 1,
                  "test_prep": 1,
                  "math_score": 81,
                  "reading_score": 81,
                  "writing_score": 79,
                  "gender_male": 1,
                  "total_score": 241,
                  "economic_status": 5
                },
                {
                  "index": 36,
                  "race": 4,
                  "parent_edu": 4,
                  "lunch": 1,
                  "test_prep": 0,
                  "math_score": 74,
                  "reading_score": 81,
                  "writing_score": 83,
                  "gender_male": 0,
                  "total_score": 238,
                  "economic_status": 5
                },
                {
                  "index": 37,
                  "race": 4,
                  "parent_edu": 1,
                  "lunch": 0,
                  "test_prep": 0,
                  "math_score": 50,
                  "reading_score": 64,
                  "writing_score": 59,
                  "gender_male": 0,
                  "total_score": 173,
                  "economic_status": 1
                },
                {
                  "index": 38,
                  "race": 4,
                  "parent_edu": 4,
                  "lunch": 0,
                  "test_prep": 1,
                  "math_score": 75,
                  "reading_score": 90,
                  "writing_score": 88,
                  "gender_male": 0,
                  "total_score": 253,
                  "economic_status": 4
                },
                {
                  "index": 39,
                  "race": 2,
                  "parent_edu": 4,
                  "lunch": 0,
                  "test_prep": 0,
                  "math_score": 57,
                  "reading_score": 56,
                  "writing_score": 57,
                  "gender_male": 1,
                  "total_score": 170,
                  "economic_status": 4
                },
                {
                  "index": 40,
                  "race": 3,
                  "parent_edu": 4,
                  "lunch": 0,
                  "test_prep": 0,
                  "math_score": 55,
                  "reading_score": 61,
                  "writing_score": 54,
                  "gender_male": 1,
                  "total_score": 170,
                  "economic_status": 4
                },
                {
                  "index": 41,
                  "race": 3,
                  "parent_edu": 4,
                  "lunch": 1,
                  "test_prep": 0,
                  "math_score": 58,
                  "reading_score": 73,
                  "writing_score": 68,
                  "gender_male": 0,
                  "total_score": 199,
                  "economic_status": 5
                },
                {
                  "index": 42,
                  "race": 2,
                  "parent_edu": 4,
                  "lunch": 1,
                  "test_prep": 0,
                  "math_score": 53,
                  "reading_score": 58,
                  "writing_score": 65,
                  "gender_male": 0,
                  "total_score": 176,
                  "economic_status": 5
                },
                {
                  "index": 43,
                  "race": 2,
                  "parent_edu": 3,
                  "lunch": 0,
                  "test_prep": 1,
                  "math_score": 59,
                  "reading_score": 65,
                  "writing_score": 66,
                  "gender_male": 1,
                  "total_score": 190,
                  "economic_status": 3
                },
                {
                  "index": 44,
                  "race": 5,
                  "parent_edu": 4,
                  "lunch": 0,
                  "test_prep": 0,
                  "math_score": 50,
                  "reading_score": 56,
                  "writing_score": 54,
                  "gender_male": 0,
                  "total_score": 160,
                  "economic_status": 4
                },
                {
                  "index": 45,
                  "race": 2,
                  "parent_edu": 4,
                  "lunch": 1,
                  "test_prep": 0,
                  "math_score": 65,
                  "reading_score": 54,
                  "writing_score": 57,
                  "gender_male": 1,
                  "total_score": 176,
                  "economic_status": 5
                },
                {
                  "index": 46,
                  "race": 1,
                  "parent_edu": 4,
                  "lunch": 1,
                  "test_prep": 1,
                  "math_score": 55,
                  "reading_score": 65,
                  "writing_score": 62,
                  "gender_male": 0,
                  "total_score": 182,
                  "economic_status": 5
                },
                {
                  "index": 47,
                  "race": 3,
                  "parent_edu": 2,
                  "lunch": 1,
                  "test_prep": 0,
                  "math_score": 66,
                  "reading_score": 71,
                  "writing_score": 76,
                  "gender_male": 0,
                  "total_score": 213,
                  "economic_status": 3
                },
                {
                  "index": 48,
                  "race": 4,
                  "parent_edu": 4,
                  "lunch": 0,
                  "test_prep": 1,
                  "math_score": 57,
                  "reading_score": 74,
                  "writing_score": 76,
                  "gender_male": 0,
                  "total_score": 207,
                  "economic_status": 4
                },
                {
                  "index": 49,
                  "race": 3,
                  "parent_edu": 2,
                  "lunch": 1,
                  "test_prep": 1,
                  "math_score": 82,
                  "reading_score": 84,
                  "writing_score": 82,
                  "gender_male": 1,
                  "total_score": 248,
                  "economic_status": 3
                },
                {
                  "index": 50,
                  "race": 5,
                  "parent_edu": 3,
                  "lunch": 1,
                  "test_prep": 0,
                  "math_score": 53,
                  "reading_score": 55,
                  "writing_score": 48,
                  "gender_male": 1,
                  "total_score": 156,
                  "economic_status": 4
                },
                {
                  "index": 51,
                  "race": 5,
                  "parent_edu": 4,
                  "lunch": 0,
                  "test_prep": 1,
                  "math_score": 77,
                  "reading_score": 69,
                  "writing_score": 68,
                  "gender_male": 1,
                  "total_score": 214,
                  "economic_status": 4
                },
                {
                  "index": 52,
                  "race": 3,
                  "parent_edu": 3,
                  "lunch": 1,
                  "test_prep": 0,
                  "math_score": 53,
                  "reading_score": 44,
                  "writing_score": 42,
                  "gender_male": 1,
                  "total_score": 139,
                  "economic_status": 4
                },
                {
                  "index": 53,
                  "race": 4,
                  "parent_edu": 2,
                  "lunch": 1,
                  "test_prep": 0,
                  "math_score": 88,
                  "reading_score": 78,
                  "writing_score": 75,
                  "gender_male": 1,
                  "total_score": 241,
                  "economic_status": 3
                },
                {
                  "index": 54,
                  "race": 3,
                  "parent_edu": 1,
                  "lunch": 0,
                  "test_prep": 1,
                  "math_score": 71,
                  "reading_score": 84,
                  "writing_score": 87,
                  "gender_male": 0,
                  "total_score": 242,
                  "economic_status": 1
                },
                {
                  "index": 55,
                  "race": 3,
                  "parent_edu": 2,
                  "lunch": 0,
                  "test_prep": 0,
                  "math_score": 33,
                  "reading_score": 41,
                  "writing_score": 43,
                  "gender_male": 0,
                  "total_score": 117,
                  "economic_status": 2
                },
                {
                  "index": 56,
                  "race": 5,
                  "parent_edu": 4,
                  "lunch": 1,
                  "test_prep": 1,
                  "math_score": 82,
                  "reading_score": 85,
                  "writing_score": 86,
                  "gender_male": 0,
                  "total_score": 253,
                  "economic_status": 5
                },
                {
                  "index": 57,
                  "race": 4,
                  "parent_edu": 4,
                  "lunch": 1,
                  "test_prep": 0,
                  "math_score": 52,
                  "reading_score": 55,
                  "writing_score": 49,
                  "gender_male": 1,
                  "total_score": 156,
                  "economic_status": 5
                },
                {
                  "index": 58,
                  "race": 4,
                  "parent_edu": 3,
                  "lunch": 1,
                  "test_prep": 1,
                  "math_score": 58,
                  "reading_score": 59,
                  "writing_score": 58,
                  "gender_male": 1,
                  "total_score": 175,
                  "economic_status": 4
                },
                {
                  "index": 59,
                  "race": 3,
                  "parent_edu": 1,
                  "lunch": 0,
                  "test_prep": 0,
                  "math_score": 0,
                  "reading_score": 17,
                  "writing_score": 10,
                  "gender_male": 0,
                  "total_score": 27,
                  "economic_status": 1
                },
                {
                  "index": 60,
                  "race": 5,
                  "parent_edu": 5,
                  "lunch": 0,
                  "test_prep": 1,
                  "math_score": 79,
                  "reading_score": 74,
                  "writing_score": 72,
                  "gender_male": 1,
                  "total_score": 225,
                  "economic_status": 5
                },
                {
                  "index": 61,
                  "race": 1,
                  "parent_edu": 1,
                  "lunch": 0,
                  "test_prep": 0,
                  "math_score": 39,
                  "reading_score": 39,
                  "writing_score": 34,
                  "gender_male": 1,
                  "total_score": 112,
                  "economic_status": 1
                },
                {
                  "index": 62,
                  "race": 1,
                  "parent_edu": 4,
                  "lunch": 0,
                  "test_prep": 0,
                  "math_score": 62,
                  "reading_score": 61,
                  "writing_score": 55,
                  "gender_male": 1,
                  "total_score": 178,
                  "economic_status": 4
                },
                {
                  "index": 63,
                  "race": 3,
                  "parent_edu": 4,
                  "lunch": 1,
                  "test_prep": 0,
                  "math_score": 69,
                  "reading_score": 80,
                  "writing_score": 71,
                  "gender_male": 0,
                  "total_score": 220,
                  "economic_status": 5
                },
                {
                  "index": 64,
                  "race": 4,
                  "parent_edu": 1,
                  "lunch": 1,
                  "test_prep": 0,
                  "math_score": 59,
                  "reading_score": 58,
                  "writing_score": 59,
                  "gender_male": 0,
                  "total_score": 176,
                  "economic_status": 2
                },
                {
                  "index": 65,
                  "race": 2,
                  "parent_edu": 1,
                  "lunch": 1,
                  "test_prep": 0,
                  "math_score": 67,
                  "reading_score": 64,
                  "writing_score": 61,
                  "gender_male": 1,
                  "total_score": 192,
                  "economic_status": 2
                },
                {
                  "index": 66,
                  "race": 4,
                  "parent_edu": 1,
                  "lunch": 0,
                  "test_prep": 0,
                  "math_score": 45,
                  "reading_score": 37,
                  "writing_score": 37,
                  "gender_male": 1,
                  "total_score": 119,
                  "economic_status": 1
                },
                {
                  "index": 67,
                  "race": 3,
                  "parent_edu": 3,
                  "lunch": 1,
                  "test_prep": 0,
                  "math_score": 60,
                  "reading_score": 72,
                  "writing_score": 74,
                  "gender_male": 0,
                  "total_score": 206,
                  "economic_status": 4
                },
                {
                  "index": 68,
                  "race": 2,
                  "parent_edu": 4,
                  "lunch": 0,
                  "test_prep": 0,
                  "math_score": 61,
                  "reading_score": 58,
                  "writing_score": 56,
                  "gender_male": 1,
                  "total_score": 175,
                  "economic_status": 4
                },
                {
                  "index": 69,
                  "race": 3,
                  "parent_edu": 4,
                  "lunch": 1,
                  "test_prep": 0,
                  "math_score": 39,
                  "reading_score": 64,
                  "writing_score": 57,
                  "gender_male": 0,
                  "total_score": 160,
                  "economic_status": 5
                },
                {
                  "index": 70,
                  "race": 4,
                  "parent_edu": 3,
                  "lunch": 0,
                  "test_prep": 1,
                  "math_score": 58,
                  "reading_score": 63,
                  "writing_score": 73,
                  "gender_male": 0,
                  "total_score": 194,
                  "economic_status": 3
                },
                {
                  "index": 71,
                  "race": 4,
                  "parent_edu": 3,
                  "lunch": 1,
                  "test_prep": 1,
                  "math_score": 63,
                  "reading_score": 55,
                  "writing_score": 63,
                  "gender_male": 1,
                  "total_score": 181,
                  "economic_status": 4
                },
                {
                  "index": 72,
                  "race": 1,
                  "parent_edu": 4,
                  "lunch": 0,
                  "test_prep": 0,
                  "math_score": 41,
                  "reading_score": 51,
                  "writing_score": 48,
                  "gender_male": 0,
                  "total_score": 140,
                  "economic_status": 4
                },
                {
                  "index": 73,
                  "race": 3,
                  "parent_edu": 1,
                  "lunch": 0,
                  "test_prep": 0,
                  "math_score": 61,
                  "reading_score": 57,
                  "writing_score": 56,
                  "gender_male": 1,
                  "total_score": 174,
                  "economic_status": 1
                },
                {
                  "index": 74,
                  "race": 3,
                  "parent_edu": 1,
                  "lunch": 1,
                  "test_prep": 0,
                  "math_score": 49,
                  "reading_score": 49,
                  "writing_score": 41,
                  "gender_male": 1,
                  "total_score": 139,
                  "economic_status": 2
                },
                {
                  "index": 75,
                  "race": 2,
                  "parent_edu": 4,
                  "lunch": 0,
                  "test_prep": 0,
                  "math_score": 44,
                  "reading_score": 41,
                  "writing_score": 38,
                  "gender_male": 1,
                  "total_score": 123,
                  "economic_status": 4
                },
                {
                  "index": 76,
                  "race": 5,
                  "parent_edu": 1,
                  "lunch": 1,
                  "test_prep": 0,
                  "math_score": 30,
                  "reading_score": 26,
                  "writing_score": 22,
                  "gender_male": 1,
                  "total_score": 78,
                  "economic_status": 2
                },
                {
                  "index": 77,
                  "race": 1,
                  "parent_edu": 5,
                  "lunch": 1,
                  "test_prep": 1,
                  "math_score": 80,
                  "reading_score": 78,
                  "writing_score": 81,
                  "gender_male": 1,
                  "total_score": 239,
                  "economic_status": 6
                },
                {
                  "index": 78,
                  "race": 4,
                  "parent_edu": 1,
                  "lunch": 1,
                  "test_prep": 1,
                  "math_score": 61,
                  "reading_score": 74,
                  "writing_score": 72,
                  "gender_male": 0,
                  "total_score": 207,
                  "economic_status": 2
                },
                {
                  "index": 79,
                  "race": 5,
                  "parent_edu": 6,
                  "lunch": 1,
                  "test_prep": 0,
                  "math_score": 62,
                  "reading_score": 68,
                  "writing_score": 68,
                  "gender_male": 0,
                  "total_score": 198,
                  "economic_status": 7
                },
                {
                  "index": 80,
                  "race": 2,
                  "parent_edu": 4,
                  "lunch": 1,
                  "test_prep": 0,
                  "math_score": 47,
                  "reading_score": 49,
                  "writing_score": 50,
                  "gender_male": 0,
                  "total_score": 146,
                  "economic_status": 5
                },
                {
                  "index": 81,
                  "race": 2,
                  "parent_edu": 2,
                  "lunch": 0,
                  "test_prep": 0,
                  "math_score": 49,
                  "reading_score": 45,
                  "writing_score": 45,
                  "gender_male": 1,
                  "total_score": 139,
                  "economic_status": 2
                },
                {
                  "index": 82,
                  "race": 1,
                  "parent_edu": 3,
                  "lunch": 0,
                  "test_prep": 1,
                  "math_score": 50,
                  "reading_score": 47,
                  "writing_score": 54,
                  "gender_male": 1,
                  "total_score": 151,
                  "economic_status": 3
                },
                {
                  "index": 83,
                  "race": 5,
                  "parent_edu": 4,
                  "lunch": 1,
                  "test_prep": 0,
                  "math_score": 72,
                  "reading_score": 64,
                  "writing_score": 63,
                  "gender_male": 1,
                  "total_score": 199,
                  "economic_status": 5
                },
                {
                  "index": 84,
                  "race": 4,
                  "parent_edu": 2,
                  "lunch": 0,
                  "test_prep": 0,
                  "math_score": 42,
                  "reading_score": 39,
                  "writing_score": 34,
                  "gender_male": 1,
                  "total_score": 115,
                  "economic_status": 2
                },
                {
                  "index": 85,
                  "race": 3,
                  "parent_edu": 3,
                  "lunch": 1,
                  "test_prep": 0,
                  "math_score": 73,
                  "reading_score": 80,
                  "writing_score": 82,
                  "gender_male": 0,
                  "total_score": 235,
                  "economic_status": 4
                },
                {
                  "index": 86,
                  "race": 3,
                  "parent_edu": 3,
                  "lunch": 0,
                  "test_prep": 0,
                  "math_score": 76,
                  "reading_score": 83,
                  "writing_score": 88,
                  "gender_male": 0,
                  "total_score": 247,
                  "economic_status": 3
                },
                {
                  "index": 87,
                  "race": 4,
                  "parent_edu": 4,
                  "lunch": 1,
                  "test_prep": 0,
                  "math_score": 71,
                  "reading_score": 71,
                  "writing_score": 74,
                  "gender_male": 0,
                  "total_score": 216,
                  "economic_status": 5
                },
                {
                  "index": 88,
                  "race": 1,
                  "parent_edu": 3,
                  "lunch": 1,
                  "test_prep": 0,
                  "math_score": 58,
                  "reading_score": 70,
                  "writing_score": 67,
                  "gender_male": 0,
                  "total_score": 195,
                  "economic_status": 4
                },
                {
                  "index": 89,
                  "race": 4,
                  "parent_edu": 1,
                  "lunch": 1,
                  "test_prep": 0,
                  "math_score": 73,
                  "reading_score": 86,
                  "writing_score": 82,
                  "gender_male": 0,
                  "total_score": 241,
                  "economic_status": 2
                },
                {
                  "index": 90,
                  "race": 3,
                  "parent_edu": 5,
                  "lunch": 1,
                  "test_prep": 0,
                  "math_score": 65,
                  "reading_score": 72,
                  "writing_score": 74,
                  "gender_male": 0,
                  "total_score": 211,
                  "economic_status": 6
                },
                {
                  "index": 91,
                  "race": 3,
                  "parent_edu": 2,
                  "lunch": 0,
                  "test_prep": 0,
                  "math_score": 27,
                  "reading_score": 34,
                  "writing_score": 36,
                  "gender_male": 1,
                  "total_score": 97,
                  "economic_status": 2
                },
                {
                  "index": 92,
                  "race": 3,
                  "parent_edu": 2,
                  "lunch": 1,
                  "test_prep": 0,
                  "math_score": 71,
                  "reading_score": 79,
                  "writing_score": 71,
                  "gender_male": 1,
                  "total_score": 221,
                  "economic_status": 3
                },
                {
                  "index": 93,
                  "race": 3,
                  "parent_edu": 4,
                  "lunch": 0,
                  "test_prep": 1,
                  "math_score": 43,
                  "reading_score": 45,
                  "writing_score": 50,
                  "gender_male": 1,
                  "total_score": 138,
                  "economic_status": 4
                },
                {
                  "index": 94,
                  "race": 2,
                  "parent_edu": 3,
                  "lunch": 1,
                  "test_prep": 0,
                  "math_score": 79,
                  "reading_score": 86,
                  "writing_score": 92,
                  "gender_male": 0,
                  "total_score": 257,
                  "economic_status": 4
                },
                {
                  "index": 95,
                  "race": 3,
                  "parent_edu": 4,
                  "lunch": 0,
                  "test_prep": 1,
                  "math_score": 78,
                  "reading_score": 81,
                  "writing_score": 82,
                  "gender_male": 1,
                  "total_score": 241,
                  "economic_status": 4
                },
                {
                  "index": 96,
                  "race": 2,
                  "parent_edu": 1,
                  "lunch": 1,
                  "test_prep": 1,
                  "math_score": 65,
                  "reading_score": 66,
                  "writing_score": 62,
                  "gender_male": 1,
                  "total_score": 193,
                  "economic_status": 2
                },
                {
                  "index": 97,
                  "race": 5,
                  "parent_edu": 3,
                  "lunch": 1,
                  "test_prep": 1,
                  "math_score": 63,
                  "reading_score": 72,
                  "writing_score": 70,
                  "gender_male": 0,
                  "total_score": 205,
                  "economic_status": 4
                },
                {
                  "index": 98,
                  "race": 4,
                  "parent_edu": 3,
                  "lunch": 0,
                  "test_prep": 0,
                  "math_score": 58,
                  "reading_score": 67,
                  "writing_score": 62,
                  "gender_male": 0,
                  "total_score": 187,
                  "economic_status": 3
                },
                {
                  "index": 99,
                  "race": 4,
                  "parent_edu": 5,
                  "lunch": 1,
                  "test_prep": 0,
                  "math_score": 65,
                  "reading_score": 67,
                  "writing_score": 62,
                  "gender_male": 0,
                  "total_score": 194,
                  "economic_status": 6
                },
                {
                  "index": 100,
                  "race": 2,
                  "parent_edu": 3,
                  "lunch": 1,
                  "test_prep": 0,
                  "math_score": 79,
                  "reading_score": 67,
                  "writing_score": 67,
                  "gender_male": 1,
                  "total_score": 213,
                  "economic_status": 4
                },
                {
                  "index": 101,
                  "race": 4,
                  "parent_edu": 5,
                  "lunch": 1,
                  "test_prep": 1,
                  "math_score": 68,
                  "reading_score": 74,
                  "writing_score": 74,
                  "gender_male": 1,
                  "total_score": 216,
                  "economic_status": 6
                },
                {
                  "index": 102,
                  "race": 4,
                  "parent_edu": 4,
                  "lunch": 1,
                  "test_prep": 0,
                  "math_score": 85,
                  "reading_score": 91,
                  "writing_score": 89,
                  "gender_male": 0,
                  "total_score": 265,
                  "economic_status": 5
                },
                {
                  "index": 103,
                  "race": 2,
                  "parent_edu": 2,
                  "lunch": 1,
                  "test_prep": 1,
                  "math_score": 60,
                  "reading_score": 44,
                  "writing_score": 47,
                  "gender_male": 1,
                  "total_score": 151,
                  "economic_status": 3
                },
                {
                  "index": 104,
                  "race": 3,
                  "parent_edu": 3,
                  "lunch": 1,
                  "test_prep": 1,
                  "math_score": 98,
                  "reading_score": 86,
                  "writing_score": 90,
                  "gender_male": 1,
                  "total_score": 274,
                  "economic_status": 4
                },
                {
                  "index": 105,
                  "race": 3,
                  "parent_edu": 3,
                  "lunch": 1,
                  "test_prep": 0,
                  "math_score": 58,
                  "reading_score": 67,
                  "writing_score": 72,
                  "gender_male": 0,
                  "total_score": 197,
                  "economic_status": 4
                },
                {
                  "index": 106,
                  "race": 4,
                  "parent_edu": 6,
                  "lunch": 1,
                  "test_prep": 0,
                  "math_score": 87,
                  "reading_score": 100,
                  "writing_score": 100,
                  "gender_male": 0,
                  "total_score": 287,
                  "economic_status": 7
                },
                {
                  "index": 107,
                  "race": 5,
                  "parent_edu": 4,
                  "lunch": 1,
                  "test_prep": 1,
                  "math_score": 66,
                  "reading_score": 63,
                  "writing_score": 64,
                  "gender_male": 1,
                  "total_score": 193,
                  "economic_status": 5
                },
                {
                  "index": 108,
                  "race": 2,
                  "parent_edu": 4,
                  "lunch": 0,
                  "test_prep": 0,
                  "math_score": 52,
                  "reading_score": 76,
                  "writing_score": 70,
                  "gender_male": 0,
                  "total_score": 198,
                  "economic_status": 4
                },
                {
                  "index": 109,
                  "race": 2,
                  "parent_edu": 1,
                  "lunch": 1,
                  "test_prep": 0,
                  "math_score": 70,
                  "reading_score": 64,
                  "writing_score": 72,
                  "gender_male": 0,
                  "total_score": 206,
                  "economic_status": 2
                },
                {
                  "index": 110,
                  "race": 4,
                  "parent_edu": 4,
                  "lunch": 0,
                  "test_prep": 1,
                  "math_score": 77,
                  "reading_score": 89,
                  "writing_score": 98,
                  "gender_male": 0,
                  "total_score": 264,
                  "economic_status": 4
                },
                {
                  "index": 111,
                  "race": 3,
                  "parent_edu": 2,
                  "lunch": 1,
                  "test_prep": 0,
                  "math_score": 62,
                  "reading_score": 55,
                  "writing_score": 49,
                  "gender_male": 1,
                  "total_score": 166,
                  "economic_status": 3
                },
                {
                  "index": 112,
                  "race": 1,
                  "parent_edu": 4,
                  "lunch": 1,
                  "test_prep": 0,
                  "math_score": 54,
                  "reading_score": 53,
                  "writing_score": 47,
                  "gender_male": 1,
                  "total_score": 154,
                  "economic_status": 5
                },
                {
                  "index": 113,
                  "race": 4,
                  "parent_edu": 3,
                  "lunch": 1,
                  "test_prep": 0,
                  "math_score": 51,
                  "reading_score": 58,
                  "writing_score": 54,
                  "gender_male": 0,
                  "total_score": 163,
                  "economic_status": 4
                },
                {
                  "index": 114,
                  "race": 5,
                  "parent_edu": 5,
                  "lunch": 1,
                  "test_prep": 1,
                  "math_score": 99,
                  "reading_score": 100,
                  "writing_score": 100,
                  "gender_male": 0,
                  "total_score": 299,
                  "economic_status": 6
                },
                {
                  "index": 115,
                  "race": 3,
                  "parent_edu": 2,
                  "lunch": 1,
                  "test_prep": 0,
                  "math_score": 84,
                  "reading_score": 77,
                  "writing_score": 74,
                  "gender_male": 1,
                  "total_score": 235,
                  "economic_status": 3
                },
                {
                  "index": 116,
                  "race": 2,
                  "parent_edu": 5,
                  "lunch": 0,
                  "test_prep": 0,
                  "math_score": 75,
                  "reading_score": 85,
                  "writing_score": 82,
                  "gender_male": 0,
                  "total_score": 242,
                  "economic_status": 5
                },
                {
                  "index": 117,
                  "race": 4,
                  "parent_edu": 5,
                  "lunch": 1,
                  "test_prep": 0,
                  "math_score": 78,
                  "reading_score": 82,
                  "writing_score": 79,
                  "gender_male": 0,
                  "total_score": 239,
                  "economic_status": 6
                },
                {
                  "index": 118,
                  "race": 4,
                  "parent_edu": 1,
                  "lunch": 1,
                  "test_prep": 0,
                  "math_score": 51,
                  "reading_score": 63,
                  "writing_score": 61,
                  "gender_male": 0,
                  "total_score": 175,
                  "economic_status": 2
                },
                {
                  "index": 119,
                  "race": 3,
                  "parent_edu": 3,
                  "lunch": 1,
                  "test_prep": 0,
                  "math_score": 55,
                  "reading_score": 69,
                  "writing_score": 65,
                  "gender_male": 0,
                  "total_score": 189,
                  "economic_status": 4
                },
                {
                  "index": 120,
                  "race": 3,
                  "parent_edu": 5,
                  "lunch": 1,
                  "test_prep": 1,
                  "math_score": 79,
                  "reading_score": 92,
                  "writing_score": 89,
                  "gender_male": 0,
                  "total_score": 260,
                  "economic_status": 6
                },
                {
                  "index": 121,
                  "race": 2,
                  "parent_edu": 4,
                  "lunch": 1,
                  "test_prep": 1,
                  "math_score": 91,
                  "reading_score": 89,
                  "writing_score": 92,
                  "gender_male": 1,
                  "total_score": 272,
                  "economic_status": 5
                },
                {
                  "index": 122,
                  "race": 3,
                  "parent_edu": 3,
                  "lunch": 1,
                  "test_prep": 1,
                  "math_score": 88,
                  "reading_score": 93,
                  "writing_score": 93,
                  "gender_male": 0,
                  "total_score": 274,
                  "economic_status": 4
                },
                {
                  "index": 123,
                  "race": 4,
                  "parent_edu": 2,
                  "lunch": 0,
                  "test_prep": 0,
                  "math_score": 63,
                  "reading_score": 57,
                  "writing_score": 56,
                  "gender_male": 1,
                  "total_score": 176,
                  "economic_status": 2
                },
                {
                  "index": 124,
                  "race": 5,
                  "parent_edu": 3,
                  "lunch": 1,
                  "test_prep": 0,
                  "math_score": 83,
                  "reading_score": 80,
                  "writing_score": 73,
                  "gender_male": 1,
                  "total_score": 236,
                  "economic_status": 4
                },
                {
                  "index": 125,
                  "race": 2,
                  "parent_edu": 2,
                  "lunch": 1,
                  "test_prep": 0,
                  "math_score": 87,
                  "reading_score": 95,
                  "writing_score": 86,
                  "gender_male": 0,
                  "total_score": 268,
                  "economic_status": 3
                },
                {
                  "index": 126,
                  "race": 2,
                  "parent_edu": 1,
                  "lunch": 1,
                  "test_prep": 0,
                  "math_score": 72,
                  "reading_score": 68,
                  "writing_score": 67,
                  "gender_male": 1,
                  "total_score": 207,
                  "economic_status": 2
                },
                {
                  "index": 127,
                  "race": 4,
                  "parent_edu": 3,
                  "lunch": 1,
                  "test_prep": 1,
                  "math_score": 65,
                  "reading_score": 77,
                  "writing_score": 74,
                  "gender_male": 1,
                  "total_score": 216,
                  "economic_status": 4
                },
                {
                  "index": 128,
                  "race": 4,
                  "parent_edu": 6,
                  "lunch": 1,
                  "test_prep": 0,
                  "math_score": 82,
                  "reading_score": 82,
                  "writing_score": 74,
                  "gender_male": 1,
                  "total_score": 238,
                  "economic_status": 7
                },
                {
                  "index": 129,
                  "race": 1,
                  "parent_edu": 5,
                  "lunch": 1,
                  "test_prep": 0,
                  "math_score": 51,
                  "reading_score": 49,
                  "writing_score": 51,
                  "gender_male": 0,
                  "total_score": 151,
                  "economic_status": 6
                },
                {
                  "index": 130,
                  "race": 4,
                  "parent_edu": 6,
                  "lunch": 1,
                  "test_prep": 0,
                  "math_score": 89,
                  "reading_score": 84,
                  "writing_score": 82,
                  "gender_male": 1,
                  "total_score": 255,
                  "economic_status": 7
                },
                {
                  "index": 131,
                  "race": 3,
                  "parent_edu": 1,
                  "lunch": 0,
                  "test_prep": 1,
                  "math_score": 53,
                  "reading_score": 37,
                  "writing_score": 40,
                  "gender_male": 1,
                  "total_score": 130,
                  "economic_status": 1
                },
                {
                  "index": 132,
                  "race": 5,
                  "parent_edu": 3,
                  "lunch": 0,
                  "test_prep": 1,
                  "math_score": 87,
                  "reading_score": 74,
                  "writing_score": 70,
                  "gender_male": 1,
                  "total_score": 231,
                  "economic_status": 3
                },
                {
                  "index": 133,
                  "race": 3,
                  "parent_edu": 3,
                  "lunch": 1,
                  "test_prep": 1,
                  "math_score": 75,
                  "reading_score": 81,
                  "writing_score": 84,
                  "gender_male": 0,
                  "total_score": 240,
                  "economic_status": 4
                },
                {
                  "index": 134,
                  "race": 4,
                  "parent_edu": 5,
                  "lunch": 0,
                  "test_prep": 1,
                  "math_score": 74,
                  "reading_score": 79,
                  "writing_score": 75,
                  "gender_male": 1,
                  "total_score": 228,
                  "economic_status": 5
                },
                {
                  "index": 135,
                  "race": 3,
                  "parent_edu": 5,
                  "lunch": 1,
                  "test_prep": 0,
                  "math_score": 58,
                  "reading_score": 55,
                  "writing_score": 48,
                  "gender_male": 1,
                  "total_score": 161,
                  "economic_status": 6
                },
                {
                  "index": 136,
                  "race": 2,
                  "parent_edu": 1,
                  "lunch": 1,
                  "test_prep": 1,
                  "math_score": 51,
                  "reading_score": 54,
                  "writing_score": 41,
                  "gender_male": 1,
                  "total_score": 146,
                  "economic_status": 2
                },
                {
                  "index": 137,
                  "race": 5,
                  "parent_edu": 2,
                  "lunch": 1,
                  "test_prep": 0,
                  "math_score": 70,
                  "reading_score": 55,
                  "writing_score": 56,
                  "gender_male": 1,
                  "total_score": 181,
                  "economic_status": 3
                },
                {
                  "index": 138,
                  "race": 3,
                  "parent_edu": 4,
                  "lunch": 1,
                  "test_prep": 0,
                  "math_score": 59,
                  "reading_score": 66,
                  "writing_score": 67,
                  "gender_male": 0,
                  "total_score": 192,
                  "economic_status": 5
                },
                {
                  "index": 139,
                  "race": 4,
                  "parent_edu": 3,
                  "lunch": 1,
                  "test_prep": 1,
                  "math_score": 71,
                  "reading_score": 61,
                  "writing_score": 69,
                  "gender_male": 1,
                  "total_score": 201,
                  "economic_status": 4
                },
                {
                  "index": 140,
                  "race": 4,
                  "parent_edu": 1,
                  "lunch": 1,
                  "test_prep": 0,
                  "math_score": 76,
                  "reading_score": 72,
                  "writing_score": 71,
                  "gender_male": 0,
                  "total_score": 219,
                  "economic_status": 2
                },
                {
                  "index": 141,
                  "race": 3,
                  "parent_edu": 3,
                  "lunch": 0,
                  "test_prep": 0,
                  "math_score": 59,
                  "reading_score": 62,
                  "writing_score": 64,
                  "gender_male": 0,
                  "total_score": 185,
                  "economic_status": 3
                },
                {
                  "index": 142,
                  "race": 5,
                  "parent_edu": 3,
                  "lunch": 0,
                  "test_prep": 1,
                  "math_score": 42,
                  "reading_score": 55,
                  "writing_score": 54,
                  "gender_male": 0,
                  "total_score": 151,
                  "economic_status": 3
                },
                {
                  "index": 143,
                  "race": 1,
                  "parent_edu": 2,
                  "lunch": 1,
                  "test_prep": 0,
                  "math_score": 57,
                  "reading_score": 43,
                  "writing_score": 47,
                  "gender_male": 1,
                  "total_score": 147,
                  "economic_status": 3
                },
                {
                  "index": 144,
                  "race": 4,
                  "parent_edu": 3,
                  "lunch": 1,
                  "test_prep": 0,
                  "math_score": 88,
                  "reading_score": 73,
                  "writing_score": 78,
                  "gender_male": 1,
                  "total_score": 239,
                  "economic_status": 4
                },
                {
                  "index": 145,
                  "race": 3,
                  "parent_edu": 3,
                  "lunch": 0,
                  "test_prep": 0,
                  "math_score": 22,
                  "reading_score": 39,
                  "writing_score": 33,
                  "gender_male": 0,
                  "total_score": 94,
                  "economic_status": 3
                },
                {
                  "index": 146,
                  "race": 2,
                  "parent_edu": 1,
                  "lunch": 1,
                  "test_prep": 0,
                  "math_score": 88,
                  "reading_score": 84,
                  "writing_score": 75,
                  "gender_male": 1,
                  "total_score": 247,
                  "economic_status": 2
                },
                {
                  "index": 147,
                  "race": 3,
                  "parent_edu": 4,
                  "lunch": 0,
                  "test_prep": 0,
                  "math_score": 73,
                  "reading_score": 68,
                  "writing_score": 66,
                  "gender_male": 1,
                  "total_score": 207,
                  "economic_status": 4
                },
                {
                  "index": 148,
                  "race": 4,
                  "parent_edu": 5,
                  "lunch": 1,
                  "test_prep": 1,
                  "math_score": 68,
                  "reading_score": 75,
                  "writing_score": 81,
                  "gender_male": 0,
                  "total_score": 224,
                  "economic_status": 6
                },
                {
                  "index": 149,
                  "race": 5,
                  "parent_edu": 4,
                  "lunch": 0,
                  "test_prep": 1,
                  "math_score": 100,
                  "reading_score": 100,
                  "writing_score": 93,
                  "gender_male": 1,
                  "total_score": 293,
                  "economic_status": 4
                },
                {
                  "index": 150,
                  "race": 1,
                  "parent_edu": 1,
                  "lunch": 1,
                  "test_prep": 1,
                  "math_score": 62,
                  "reading_score": 67,
                  "writing_score": 69,
                  "gender_male": 1,
                  "total_score": 198,
                  "economic_status": 2
                },
                {
                  "index": 151,
                  "race": 1,
                  "parent_edu": 5,
                  "lunch": 1,
                  "test_prep": 0,
                  "math_score": 77,
                  "reading_score": 67,
                  "writing_score": 68,
                  "gender_male": 1,
                  "total_score": 212,
                  "economic_status": 6
                },
                {
                  "index": 152,
                  "race": 2,
                  "parent_edu": 4,
                  "lunch": 1,
                  "test_prep": 1,
                  "math_score": 59,
                  "reading_score": 70,
                  "writing_score": 66,
                  "gender_male": 0,
                  "total_score": 195,
                  "economic_status": 5
                },
                {
                  "index": 153,
                  "race": 4,
                  "parent_edu": 5,
                  "lunch": 1,
                  "test_prep": 0,
                  "math_score": 54,
                  "reading_score": 49,
                  "writing_score": 47,
                  "gender_male": 1,
                  "total_score": 150,
                  "economic_status": 6
                },
                {
                  "index": 154,
                  "race": 4,
                  "parent_edu": 1,
                  "lunch": 1,
                  "test_prep": 0,
                  "math_score": 62,
                  "reading_score": 67,
                  "writing_score": 61,
                  "gender_male": 1,
                  "total_score": 190,
                  "economic_status": 2
                },
                {
                  "index": 155,
                  "race": 3,
                  "parent_edu": 3,
                  "lunch": 1,
                  "test_prep": 1,
                  "math_score": 70,
                  "reading_score": 89,
                  "writing_score": 88,
                  "gender_male": 0,
                  "total_score": 247,
                  "economic_status": 4
                },
                {
                  "index": 156,
                  "race": 5,
                  "parent_edu": 2,
                  "lunch": 0,
                  "test_prep": 1,
                  "math_score": 66,
                  "reading_score": 74,
                  "writing_score": 78,
                  "gender_male": 0,
                  "total_score": 218,
                  "economic_status": 2
                },
                {
                  "index": 157,
                  "race": 2,
                  "parent_edu": 3,
                  "lunch": 0,
                  "test_prep": 0,
                  "math_score": 60,
                  "reading_score": 60,
                  "writing_score": 60,
                  "gender_male": 1,
                  "total_score": 180,
                  "economic_status": 3
                },
                {
                  "index": 158,
                  "race": 2,
                  "parent_edu": 4,
                  "lunch": 1,
                  "test_prep": 1,
                  "math_score": 61,
                  "reading_score": 86,
                  "writing_score": 87,
                  "gender_male": 0,
                  "total_score": 234,
                  "economic_status": 5
                },
                {
                  "index": 159,
                  "race": 4,
                  "parent_edu": 4,
                  "lunch": 0,
                  "test_prep": 0,
                  "math_score": 66,
                  "reading_score": 62,
                  "writing_score": 64,
                  "gender_male": 1,
                  "total_score": 192,
                  "economic_status": 4
                },
                {
                  "index": 160,
                  "race": 2,
                  "parent_edu": 4,
                  "lunch": 0,
                  "test_prep": 1,
                  "math_score": 82,
                  "reading_score": 78,
                  "writing_score": 74,
                  "gender_male": 1,
                  "total_score": 234,
                  "economic_status": 4
                },
                {
                  "index": 161,
                  "race": 5,
                  "parent_edu": 3,
                  "lunch": 0,
                  "test_prep": 1,
                  "math_score": 75,
                  "reading_score": 88,
                  "writing_score": 85,
                  "gender_male": 0,
                  "total_score": 248,
                  "economic_status": 3
                },
                {
                  "index": 162,
                  "race": 2,
                  "parent_edu": 6,
                  "lunch": 0,
                  "test_prep": 0,
                  "math_score": 49,
                  "reading_score": 53,
                  "writing_score": 52,
                  "gender_male": 1,
                  "total_score": 154,
                  "economic_status": 6
                },
                {
                  "index": 163,
                  "race": 3,
                  "parent_edu": 2,
                  "lunch": 1,
                  "test_prep": 0,
                  "math_score": 52,
                  "reading_score": 53,
                  "writing_score": 49,
                  "gender_male": 1,
                  "total_score": 154,
                  "economic_status": 3
                },
                {
                  "index": 164,
                  "race": 5,
                  "parent_edu": 6,
                  "lunch": 1,
                  "test_prep": 0,
                  "math_score": 81,
                  "reading_score": 92,
                  "writing_score": 91,
                  "gender_male": 0,
                  "total_score": 264,
                  "economic_status": 7
                },
                {
                  "index": 165,
                  "race": 3,
                  "parent_edu": 5,
                  "lunch": 1,
                  "test_prep": 1,
                  "math_score": 96,
                  "reading_score": 100,
                  "writing_score": 100,
                  "gender_male": 0,
                  "total_score": 296,
                  "economic_status": 6
                },
                {
                  "index": 166,
                  "race": 3,
                  "parent_edu": 2,
                  "lunch": 0,
                  "test_prep": 1,
                  "math_score": 53,
                  "reading_score": 51,
                  "writing_score": 51,
                  "gender_male": 1,
                  "total_score": 155,
                  "economic_status": 2
                },
                {
                  "index": 167,
                  "race": 2,
                  "parent_edu": 6,
                  "lunch": 0,
                  "test_prep": 1,
                  "math_score": 58,
                  "reading_score": 76,
                  "writing_score": 78,
                  "gender_male": 0,
                  "total_score": 212,
                  "economic_status": 6
                },
                {
                  "index": 168,
                  "race": 2,
                  "parent_edu": 2,
                  "lunch": 1,
                  "test_prep": 1,
                  "math_score": 68,
                  "reading_score": 83,
                  "writing_score": 78,
                  "gender_male": 0,
                  "total_score": 229,
                  "economic_status": 3
                },
                {
                  "index": 169,
                  "race": 3,
                  "parent_edu": 3,
                  "lunch": 0,
                  "test_prep": 1,
                  "math_score": 67,
                  "reading_score": 75,
                  "writing_score": 70,
                  "gender_male": 0,
                  "total_score": 212,
                  "economic_status": 3
                },
                {
                  "index": 170,
                  "race": 1,
                  "parent_edu": 2,
                  "lunch": 1,
                  "test_prep": 1,
                  "math_score": 72,
                  "reading_score": 73,
                  "writing_score": 74,
                  "gender_male": 1,
                  "total_score": 219,
                  "economic_status": 3
                },
                {
                  "index": 171,
                  "race": 5,
                  "parent_edu": 1,
                  "lunch": 1,
                  "test_prep": 0,
                  "math_score": 94,
                  "reading_score": 88,
                  "writing_score": 78,
                  "gender_male": 1,
                  "total_score": 260,
                  "economic_status": 2
                },
                {
                  "index": 172,
                  "race": 4,
                  "parent_edu": 3,
                  "lunch": 1,
                  "test_prep": 0,
                  "math_score": 79,
                  "reading_score": 86,
                  "writing_score": 81,
                  "gender_male": 0,
                  "total_score": 246,
                  "economic_status": 4
                },
                {
                  "index": 173,
                  "race": 3,
                  "parent_edu": 4,
                  "lunch": 1,
                  "test_prep": 0,
                  "math_score": 63,
                  "reading_score": 67,
                  "writing_score": 70,
                  "gender_male": 0,
                  "total_score": 200,
                  "economic_status": 5
                },
                {
                  "index": 174,
                  "race": 3,
                  "parent_edu": 5,
                  "lunch": 0,
                  "test_prep": 1,
                  "math_score": 43,
                  "reading_score": 51,
                  "writing_score": 54,
                  "gender_male": 0,
                  "total_score": 148,
                  "economic_status": 5
                },
                {
                  "index": 175,
                  "race": 3,
                  "parent_edu": 6,
                  "lunch": 1,
                  "test_prep": 1,
                  "math_score": 81,
                  "reading_score": 91,
                  "writing_score": 87,
                  "gender_male": 0,
                  "total_score": 259,
                  "economic_status": 7
                },
                {
                  "index": 176,
                  "race": 2,
                  "parent_edu": 2,
                  "lunch": 0,
                  "test_prep": 1,
                  "math_score": 46,
                  "reading_score": 54,
                  "writing_score": 58,
                  "gender_male": 0,
                  "total_score": 158,
                  "economic_status": 2
                },
                {
                  "index": 177,
                  "race": 3,
                  "parent_edu": 4,
                  "lunch": 1,
                  "test_prep": 1,
                  "math_score": 71,
                  "reading_score": 77,
                  "writing_score": 77,
                  "gender_male": 0,
                  "total_score": 225,
                  "economic_status": 5
                },
                {
                  "index": 178,
                  "race": 2,
                  "parent_edu": 6,
                  "lunch": 0,
                  "test_prep": 1,
                  "math_score": 52,
                  "reading_score": 70,
                  "writing_score": 62,
                  "gender_male": 0,
                  "total_score": 184,
                  "economic_status": 6
                },
                {
                  "index": 179,
                  "race": 4,
                  "parent_edu": 1,
                  "lunch": 1,
                  "test_prep": 1,
                  "math_score": 97,
                  "reading_score": 100,
                  "writing_score": 100,
                  "gender_male": 0,
                  "total_score": 297,
                  "economic_status": 2
                },
                {
                  "index": 180,
                  "race": 3,
                  "parent_edu": 6,
                  "lunch": 0,
                  "test_prep": 1,
                  "math_score": 62,
                  "reading_score": 68,
                  "writing_score": 75,
                  "gender_male": 1,
                  "total_score": 205,
                  "economic_status": 6
                },
                {
                  "index": 181,
                  "race": 3,
                  "parent_edu": 3,
                  "lunch": 0,
                  "test_prep": 0,
                  "math_score": 46,
                  "reading_score": 64,
                  "writing_score": 66,
                  "gender_male": 0,
                  "total_score": 176,
                  "economic_status": 3
                },
                {
                  "index": 182,
                  "race": 5,
                  "parent_edu": 2,
                  "lunch": 1,
                  "test_prep": 0,
                  "math_score": 50,
                  "reading_score": 50,
                  "writing_score": 47,
                  "gender_male": 0,
                  "total_score": 147,
                  "economic_status": 3
                },
                {
                  "index": 183,
                  "race": 4,
                  "parent_edu": 4,
                  "lunch": 1,
                  "test_prep": 0,
                  "math_score": 65,
                  "reading_score": 69,
                  "writing_score": 70,
                  "gender_male": 0,
                  "total_score": 204,
                  "economic_status": 5
                },
                {
                  "index": 184,
                  "race": 3,
                  "parent_edu": 1,
                  "lunch": 0,
                  "test_prep": 1,
                  "math_score": 45,
                  "reading_score": 52,
                  "writing_score": 49,
                  "gender_male": 1,
                  "total_score": 146,
                  "economic_status": 1
                },
                {
                  "index": 185,
                  "race": 3,
                  "parent_edu": 4,
                  "lunch": 0,
                  "test_prep": 1,
                  "math_score": 65,
                  "reading_score": 67,
                  "writing_score": 65,
                  "gender_male": 1,
                  "total_score": 197,
                  "economic_status": 4
                },
                {
                  "index": 186,
                  "race": 5,
                  "parent_edu": 2,
                  "lunch": 1,
                  "test_prep": 0,
                  "math_score": 80,
                  "reading_score": 76,
                  "writing_score": 65,
                  "gender_male": 1,
                  "total_score": 221,
                  "economic_status": 3
                },
                {
                  "index": 187,
                  "race": 4,
                  "parent_edu": 1,
                  "lunch": 1,
                  "test_prep": 1,
                  "math_score": 62,
                  "reading_score": 66,
                  "writing_score": 68,
                  "gender_male": 1,
                  "total_score": 196,
                  "economic_status": 2
                },
                {
                  "index": 188,
                  "race": 2,
                  "parent_edu": 1,
                  "lunch": 0,
                  "test_prep": 0,
                  "math_score": 48,
                  "reading_score": 52,
                  "writing_score": 45,
                  "gender_male": 1,
                  "total_score": 145,
                  "economic_status": 1
                },
                {
                  "index": 189,
                  "race": 3,
                  "parent_edu": 5,
                  "lunch": 1,
                  "test_prep": 0,
                  "math_score": 77,
                  "reading_score": 88,
                  "writing_score": 87,
                  "gender_male": 0,
                  "total_score": 252,
                  "economic_status": 6
                },
                {
                  "index": 190,
                  "race": 5,
                  "parent_edu": 4,
                  "lunch": 1,
                  "test_prep": 0,
                  "math_score": 66,
                  "reading_score": 65,
                  "writing_score": 69,
                  "gender_male": 0,
                  "total_score": 200,
                  "economic_status": 5
                },
                {
                  "index": 191,
                  "race": 4,
                  "parent_edu": 3,
                  "lunch": 1,
                  "test_prep": 1,
                  "math_score": 76,
                  "reading_score": 83,
                  "writing_score": 79,
                  "gender_male": 1,
                  "total_score": 238,
                  "economic_status": 4
                },
                {
                  "index": 192,
                  "race": 2,
                  "parent_edu": 1,
                  "lunch": 1,
                  "test_prep": 0,
                  "math_score": 62,
                  "reading_score": 64,
                  "writing_score": 66,
                  "gender_male": 0,
                  "total_score": 192,
                  "economic_status": 2
                },
                {
                  "index": 193,
                  "race": 4,
                  "parent_edu": 3,
                  "lunch": 1,
                  "test_prep": 1,
                  "math_score": 77,
                  "reading_score": 62,
                  "writing_score": 62,
                  "gender_male": 1,
                  "total_score": 201,
                  "economic_status": 4
                },
                {
                  "index": 194,
                  "race": 3,
                  "parent_edu": 6,
                  "lunch": 1,
                  "test_prep": 1,
                  "math_score": 69,
                  "reading_score": 84,
                  "writing_score": 85,
                  "gender_male": 0,
                  "total_score": 238,
                  "economic_status": 7
                },
                {
                  "index": 195,
                  "race": 4,
                  "parent_edu": 4,
                  "lunch": 1,
                  "test_prep": 0,
                  "math_score": 61,
                  "reading_score": 55,
                  "writing_score": 52,
                  "gender_male": 1,
                  "total_score": 168,
                  "economic_status": 5
                },
                {
                  "index": 196,
                  "race": 3,
                  "parent_edu": 1,
                  "lunch": 0,
                  "test_prep": 1,
                  "math_score": 59,
                  "reading_score": 69,
                  "writing_score": 65,
                  "gender_male": 1,
                  "total_score": 193,
                  "economic_status": 1
                },
                {
                  "index": 197,
                  "race": 5,
                  "parent_edu": 2,
                  "lunch": 0,
                  "test_prep": 0,
                  "math_score": 55,
                  "reading_score": 56,
                  "writing_score": 51,
                  "gender_male": 1,
                  "total_score": 162,
                  "economic_status": 2
                },
                {
                  "index": 198,
                  "race": 2,
                  "parent_edu": 3,
                  "lunch": 0,
                  "test_prep": 0,
                  "math_score": 45,
                  "reading_score": 53,
                  "writing_score": 55,
                  "gender_male": 0,
                  "total_score": 153,
                  "economic_status": 3
                },
                {
                  "index": 199,
                  "race": 2,
                  "parent_edu": 5,
                  "lunch": 0,
                  "test_prep": 0,
                  "math_score": 78,
                  "reading_score": 79,
                  "writing_score": 76,
                  "gender_male": 0,
                  "total_score": 233,
                  "economic_status": 5
                },
                {
                  "index": 200,
                  "race": 3,
                  "parent_edu": 4,
                  "lunch": 1,
                  "test_prep": 1,
                  "math_score": 67,
                  "reading_score": 84,
                  "writing_score": 86,
                  "gender_male": 0,
                  "total_score": 237,
                  "economic_status": 5
                },
                {
                  "index": 201,
                  "race": 4,
                  "parent_edu": 3,
                  "lunch": 0,
                  "test_prep": 0,
                  "math_score": 65,
                  "reading_score": 81,
                  "writing_score": 77,
                  "gender_male": 0,
                  "total_score": 223,
                  "economic_status": 3
                },
                {
                  "index": 202,
                  "race": 3,
                  "parent_edu": 4,
                  "lunch": 1,
                  "test_prep": 0,
                  "math_score": 69,
                  "reading_score": 77,
                  "writing_score": 69,
                  "gender_male": 1,
                  "total_score": 215,
                  "economic_status": 5
                },
                {
                  "index": 203,
                  "race": 2,
                  "parent_edu": 4,
                  "lunch": 1,
                  "test_prep": 0,
                  "math_score": 57,
                  "reading_score": 69,
                  "writing_score": 68,
                  "gender_male": 0,
                  "total_score": 194,
                  "economic_status": 5
                },
                {
                  "index": 204,
                  "race": 3,
                  "parent_edu": 3,
                  "lunch": 1,
                  "test_prep": 0,
                  "math_score": 59,
                  "reading_score": 41,
                  "writing_score": 42,
                  "gender_male": 1,
                  "total_score": 142,
                  "economic_status": 4
                },
                {
                  "index": 205,
                  "race": 4,
                  "parent_edu": 1,
                  "lunch": 1,
                  "test_prep": 1,
                  "math_score": 74,
                  "reading_score": 71,
                  "writing_score": 78,
                  "gender_male": 1,
                  "total_score": 223,
                  "economic_status": 2
                },
                {
                  "index": 206,
                  "race": 5,
                  "parent_edu": 5,
                  "lunch": 1,
                  "test_prep": 0,
                  "math_score": 82,
                  "reading_score": 62,
                  "writing_score": 62,
                  "gender_male": 1,
                  "total_score": 206,
                  "economic_status": 6
                },
                {
                  "index": 207,
                  "race": 5,
                  "parent_edu": 2,
                  "lunch": 1,
                  "test_prep": 1,
                  "math_score": 81,
                  "reading_score": 80,
                  "writing_score": 76,
                  "gender_male": 1,
                  "total_score": 237,
                  "economic_status": 3
                },
                {
                  "index": 208,
                  "race": 2,
                  "parent_edu": 3,
                  "lunch": 0,
                  "test_prep": 0,
                  "math_score": 74,
                  "reading_score": 81,
                  "writing_score": 76,
                  "gender_male": 0,
                  "total_score": 231,
                  "economic_status": 3
                },
                {
                  "index": 209,
                  "race": 2,
                  "parent_edu": 3,
                  "lunch": 0,
                  "test_prep": 0,
                  "math_score": 58,
                  "reading_score": 61,
                  "writing_score": 66,
                  "gender_male": 0,
                  "total_score": 185,
                  "economic_status": 3
                },
                {
                  "index": 210,
                  "race": 4,
                  "parent_edu": 1,
                  "lunch": 0,
                  "test_prep": 1,
                  "math_score": 80,
                  "reading_score": 79,
                  "writing_score": 79,
                  "gender_male": 1,
                  "total_score": 238,
                  "economic_status": 1
                },
                {
                  "index": 211,
                  "race": 3,
                  "parent_edu": 3,
                  "lunch": 0,
                  "test_prep": 0,
                  "math_score": 35,
                  "reading_score": 28,
                  "writing_score": 27,
                  "gender_male": 1,
                  "total_score": 90,
                  "economic_status": 3
                },
                {
                  "index": 212,
                  "race": 3,
                  "parent_edu": 2,
                  "lunch": 0,
                  "test_prep": 0,
                  "math_score": 42,
                  "reading_score": 62,
                  "writing_score": 60,
                  "gender_male": 0,
                  "total_score": 164,
                  "economic_status": 2
                },
                {
                  "index": 213,
                  "race": 3,
                  "parent_edu": 4,
                  "lunch": 0,
                  "test_prep": 1,
                  "math_score": 60,
                  "reading_score": 51,
                  "writing_score": 56,
                  "gender_male": 1,
                  "total_score": 167,
                  "economic_status": 4
                },
                {
                  "index": 214,
                  "race": 5,
                  "parent_edu": 2,
                  "lunch": 1,
                  "test_prep": 1,
                  "math_score": 87,
                  "reading_score": 91,
                  "writing_score": 81,
                  "gender_male": 1,
                  "total_score": 259,
                  "economic_status": 3
                },
                {
                  "index": 215,
                  "race": 2,
                  "parent_edu": 1,
                  "lunch": 1,
                  "test_prep": 1,
                  "math_score": 84,
                  "reading_score": 83,
                  "writing_score": 75,
                  "gender_male": 1,
                  "total_score": 242,
                  "economic_status": 2
                },
                {
                  "index": 216,
                  "race": 5,
                  "parent_edu": 4,
                  "lunch": 0,
                  "test_prep": 1,
                  "math_score": 83,
                  "reading_score": 86,
                  "writing_score": 88,
                  "gender_male": 0,
                  "total_score": 257,
                  "economic_status": 4
                },
                {
                  "index": 217,
                  "race": 3,
                  "parent_edu": 2,
                  "lunch": 0,
                  "test_prep": 0,
                  "math_score": 34,
                  "reading_score": 42,
                  "writing_score": 39,
                  "gender_male": 0,
                  "total_score": 115,
                  "economic_status": 2
                },
                {
                  "index": 218,
                  "race": 2,
                  "parent_edu": 2,
                  "lunch": 0,
                  "test_prep": 0,
                  "math_score": 66,
                  "reading_score": 77,
                  "writing_score": 70,
                  "gender_male": 1,
                  "total_score": 213,
                  "economic_status": 2
                },
                {
                  "index": 219,
                  "race": 2,
                  "parent_edu": 1,
                  "lunch": 1,
                  "test_prep": 1,
                  "math_score": 61,
                  "reading_score": 56,
                  "writing_score": 56,
                  "gender_male": 1,
                  "total_score": 173,
                  "economic_status": 2
                },
                {
                  "index": 220,
                  "race": 4,
                  "parent_edu": 2,
                  "lunch": 1,
                  "test_prep": 1,
                  "math_score": 56,
                  "reading_score": 68,
                  "writing_score": 74,
                  "gender_male": 0,
                  "total_score": 198,
                  "economic_status": 3
                },
                {
                  "index": 221,
                  "race": 2,
                  "parent_edu": 4,
                  "lunch": 1,
                  "test_prep": 0,
                  "math_score": 87,
                  "reading_score": 85,
                  "writing_score": 73,
                  "gender_male": 1,
                  "total_score": 245,
                  "economic_status": 5
                },
                {
                  "index": 222,
                  "race": 3,
                  "parent_edu": 1,
                  "lunch": 0,
                  "test_prep": 0,
                  "math_score": 55,
                  "reading_score": 65,
                  "writing_score": 62,
                  "gender_male": 0,
                  "total_score": 182,
                  "economic_status": 1
                },
                {
                  "index": 223,
                  "race": 4,
                  "parent_edu": 1,
                  "lunch": 1,
                  "test_prep": 0,
                  "math_score": 86,
                  "reading_score": 80,
                  "writing_score": 75,
                  "gender_male": 1,
                  "total_score": 241,
                  "economic_status": 2
                },
                {
                  "index": 224,
                  "race": 2,
                  "parent_edu": 4,
                  "lunch": 1,
                  "test_prep": 1,
                  "math_score": 52,
                  "reading_score": 66,
                  "writing_score": 73,
                  "gender_male": 0,
                  "total_score": 191,
                  "economic_status": 5
                },
                {
                  "index": 225,
                  "race": 5,
                  "parent_edu": 6,
                  "lunch": 0,
                  "test_prep": 0,
                  "math_score": 45,
                  "reading_score": 56,
                  "writing_score": 54,
                  "gender_male": 0,
                  "total_score": 155,
                  "economic_status": 6
                },
                {
                  "index": 226,
                  "race": 3,
                  "parent_edu": 3,
                  "lunch": 1,
                  "test_prep": 0,
                  "math_score": 72,
                  "reading_score": 72,
                  "writing_score": 71,
                  "gender_male": 0,
                  "total_score": 215,
                  "economic_status": 4
                },
                {
                  "index": 227,
                  "race": 4,
                  "parent_edu": 2,
                  "lunch": 1,
                  "test_prep": 0,
                  "math_score": 57,
                  "reading_score": 50,
                  "writing_score": 54,
                  "gender_male": 1,
                  "total_score": 161,
                  "economic_status": 3
                },
                {
                  "index": 228,
                  "race": 1,
                  "parent_edu": 1,
                  "lunch": 0,
                  "test_prep": 0,
                  "math_score": 68,
                  "reading_score": 72,
                  "writing_score": 64,
                  "gender_male": 1,
                  "total_score": 204,
                  "economic_status": 1
                },
                {
                  "index": 229,
                  "race": 3,
                  "parent_edu": 3,
                  "lunch": 1,
                  "test_prep": 1,
                  "math_score": 88,
                  "reading_score": 95,
                  "writing_score": 94,
                  "gender_male": 0,
                  "total_score": 277,
                  "economic_status": 4
                },
                {
                  "index": 230,
                  "race": 4,
                  "parent_edu": 3,
                  "lunch": 1,
                  "test_prep": 0,
                  "math_score": 76,
                  "reading_score": 64,
                  "writing_score": 66,
                  "gender_male": 1,
                  "total_score": 206,
                  "economic_status": 4
                },
                {
                  "index": 231,
                  "race": 3,
                  "parent_edu": 4,
                  "lunch": 1,
                  "test_prep": 0,
                  "math_score": 46,
                  "reading_score": 43,
                  "writing_score": 42,
                  "gender_male": 1,
                  "total_score": 131,
                  "economic_status": 5
                },
                {
                  "index": 232,
                  "race": 2,
                  "parent_edu": 5,
                  "lunch": 1,
                  "test_prep": 0,
                  "math_score": 67,
                  "reading_score": 86,
                  "writing_score": 83,
                  "gender_male": 0,
                  "total_score": 236,
                  "economic_status": 6
                },
                {
                  "index": 233,
                  "race": 5,
                  "parent_edu": 1,
                  "lunch": 1,
                  "test_prep": 0,
                  "math_score": 92,
                  "reading_score": 87,
                  "writing_score": 78,
                  "gender_male": 1,
                  "total_score": 257,
                  "economic_status": 2
                },
                {
                  "index": 234,
                  "race": 3,
                  "parent_edu": 5,
                  "lunch": 1,
                  "test_prep": 1,
                  "math_score": 83,
                  "reading_score": 82,
                  "writing_score": 84,
                  "gender_male": 1,
                  "total_score": 249,
                  "economic_status": 6
                },
                {
                  "index": 235,
                  "race": 4,
                  "parent_edu": 4,
                  "lunch": 1,
                  "test_prep": 0,
                  "math_score": 80,
                  "reading_score": 75,
                  "writing_score": 77,
                  "gender_male": 1,
                  "total_score": 232,
                  "economic_status": 5
                },
                {
                  "index": 236,
                  "race": 4,
                  "parent_edu": 5,
                  "lunch": 0,
                  "test_prep": 0,
                  "math_score": 63,
                  "reading_score": 66,
                  "writing_score": 67,
                  "gender_male": 1,
                  "total_score": 196,
                  "economic_status": 5
                },
                {
                  "index": 237,
                  "race": 4,
                  "parent_edu": 1,
                  "lunch": 1,
                  "test_prep": 1,
                  "math_score": 64,
                  "reading_score": 60,
                  "writing_score": 74,
                  "gender_male": 0,
                  "total_score": 198,
                  "economic_status": 2
                },
                {
                  "index": 238,
                  "race": 2,
                  "parent_edu": 3,
                  "lunch": 1,
                  "test_prep": 0,
                  "math_score": 54,
                  "reading_score": 52,
                  "writing_score": 51,
                  "gender_male": 1,
                  "total_score": 157,
                  "economic_status": 4
                },
                {
                  "index": 239,
                  "race": 3,
                  "parent_edu": 4,
                  "lunch": 1,
                  "test_prep": 0,
                  "math_score": 84,
                  "reading_score": 80,
                  "writing_score": 80,
                  "gender_male": 1,
                  "total_score": 244,
                  "economic_status": 5
                },
                {
                  "index": 240,
                  "race": 4,
                  "parent_edu": 2,
                  "lunch": 0,
                  "test_prep": 1,
                  "math_score": 73,
                  "reading_score": 68,
                  "writing_score": 66,
                  "gender_male": 1,
                  "total_score": 207,
                  "economic_status": 2
                },
                {
                  "index": 241,
                  "race": 5,
                  "parent_edu": 5,
                  "lunch": 1,
                  "test_prep": 0,
                  "math_score": 80,
                  "reading_score": 83,
                  "writing_score": 83,
                  "gender_male": 0,
                  "total_score": 246,
                  "economic_status": 6
                },
                {
                  "index": 242,
                  "race": 4,
                  "parent_edu": 2,
                  "lunch": 1,
                  "test_prep": 0,
                  "math_score": 56,
                  "reading_score": 52,
                  "writing_score": 55,
                  "gender_male": 0,
                  "total_score": 163,
                  "economic_status": 3
                },
                {
                  "index": 243,
                  "race": 5,
                  "parent_edu": 3,
                  "lunch": 1,
                  "test_prep": 0,
                  "math_score": 59,
                  "reading_score": 51,
                  "writing_score": 43,
                  "gender_male": 1,
                  "total_score": 153,
                  "economic_status": 4
                },
                {
                  "index": 244,
                  "race": 4,
                  "parent_edu": 1,
                  "lunch": 1,
                  "test_prep": 0,
                  "math_score": 75,
                  "reading_score": 74,
                  "writing_score": 69,
                  "gender_male": 1,
                  "total_score": 218,
                  "economic_status": 2
                },
                {
                  "index": 245,
                  "race": 3,
                  "parent_edu": 4,
                  "lunch": 1,
                  "test_prep": 0,
                  "math_score": 85,
                  "reading_score": 76,
                  "writing_score": 71,
                  "gender_male": 1,
                  "total_score": 232,
                  "economic_status": 5
                },
                {
                  "index": 246,
                  "race": 5,
                  "parent_edu": 4,
                  "lunch": 1,
                  "test_prep": 0,
                  "math_score": 89,
                  "reading_score": 76,
                  "writing_score": 74,
                  "gender_male": 1,
                  "total_score": 239,
                  "economic_status": 5
                },
                {
                  "index": 247,
                  "race": 2,
                  "parent_edu": 2,
                  "lunch": 1,
                  "test_prep": 1,
                  "math_score": 58,
                  "reading_score": 70,
                  "writing_score": 68,
                  "gender_male": 0,
                  "total_score": 196,
                  "economic_status": 3
                },
                {
                  "index": 248,
                  "race": 2,
                  "parent_edu": 2,
                  "lunch": 1,
                  "test_prep": 0,
                  "math_score": 65,
                  "reading_score": 64,
                  "writing_score": 62,
                  "gender_male": 0,
                  "total_score": 191,
                  "economic_status": 3
                },
                {
                  "index": 249,
                  "race": 3,
                  "parent_edu": 2,
                  "lunch": 1,
                  "test_prep": 0,
                  "math_score": 68,
                  "reading_score": 60,
                  "writing_score": 53,
                  "gender_male": 1,
                  "total_score": 181,
                  "economic_status": 3
                },
                {
                  "index": 250,
                  "race": 1,
                  "parent_edu": 1,
                  "lunch": 1,
                  "test_prep": 1,
                  "math_score": 47,
                  "reading_score": 49,
                  "writing_score": 49,
                  "gender_male": 1,
                  "total_score": 145,
                  "economic_status": 2
                },
                {
                  "index": 251,
                  "race": 4,
                  "parent_edu": 3,
                  "lunch": 0,
                  "test_prep": 0,
                  "math_score": 71,
                  "reading_score": 83,
                  "writing_score": 83,
                  "gender_male": 0,
                  "total_score": 237,
                  "economic_status": 3
                },
                {
                  "index": 252,
                  "race": 2,
                  "parent_edu": 1,
                  "lunch": 1,
                  "test_prep": 1,
                  "math_score": 60,
                  "reading_score": 70,
                  "writing_score": 70,
                  "gender_male": 0,
                  "total_score": 200,
                  "economic_status": 2
                },
                {
                  "index": 253,
                  "race": 4,
                  "parent_edu": 6,
                  "lunch": 1,
                  "test_prep": 0,
                  "math_score": 80,
                  "reading_score": 80,
                  "writing_score": 72,
                  "gender_male": 1,
                  "total_score": 232,
                  "economic_status": 7
                },
                {
                  "index": 254,
                  "race": 4,
                  "parent_edu": 2,
                  "lunch": 1,
                  "test_prep": 0,
                  "math_score": 54,
                  "reading_score": 52,
                  "writing_score": 52,
                  "gender_male": 1,
                  "total_score": 158,
                  "economic_status": 3
                },
                {
                  "index": 255,
                  "race": 5,
                  "parent_edu": 3,
                  "lunch": 1,
                  "test_prep": 0,
                  "math_score": 62,
                  "reading_score": 73,
                  "writing_score": 70,
                  "gender_male": 0,
                  "total_score": 205,
                  "economic_status": 4
                },
                {
                  "index": 256,
                  "race": 3,
                  "parent_edu": 4,
                  "lunch": 0,
                  "test_prep": 0,
                  "math_score": 64,
                  "reading_score": 73,
                  "writing_score": 68,
                  "gender_male": 0,
                  "total_score": 205,
                  "economic_status": 4
                },
                {
                  "index": 257,
                  "race": 3,
                  "parent_edu": 4,
                  "lunch": 1,
                  "test_prep": 1,
                  "math_score": 78,
                  "reading_score": 77,
                  "writing_score": 77,
                  "gender_male": 1,
                  "total_score": 232,
                  "economic_status": 5
                },
                {
                  "index": 258,
                  "race": 2,
                  "parent_edu": 3,
                  "lunch": 1,
                  "test_prep": 0,
                  "math_score": 70,
                  "reading_score": 75,
                  "writing_score": 78,
                  "gender_male": 0,
                  "total_score": 223,
                  "economic_status": 4
                },
                {
                  "index": 259,
                  "race": 3,
                  "parent_edu": 6,
                  "lunch": 0,
                  "test_prep": 1,
                  "math_score": 65,
                  "reading_score": 81,
                  "writing_score": 81,
                  "gender_male": 0,
                  "total_score": 227,
                  "economic_status": 6
                },
                {
                  "index": 260,
                  "race": 3,
                  "parent_edu": 1,
                  "lunch": 0,
                  "test_prep": 1,
                  "math_score": 64,
                  "reading_score": 79,
                  "writing_score": 77,
                  "gender_male": 0,
                  "total_score": 220,
                  "economic_status": 1
                },
                {
                  "index": 261,
                  "race": 3,
                  "parent_edu": 3,
                  "lunch": 1,
                  "test_prep": 1,
                  "math_score": 79,
                  "reading_score": 79,
                  "writing_score": 78,
                  "gender_male": 1,
                  "total_score": 236,
                  "economic_status": 4
                },
                {
                  "index": 262,
                  "race": 3,
                  "parent_edu": 1,
                  "lunch": 0,
                  "test_prep": 0,
                  "math_score": 44,
                  "reading_score": 50,
                  "writing_score": 51,
                  "gender_male": 0,
                  "total_score": 145,
                  "economic_status": 1
                },
                {
                  "index": 263,
                  "race": 5,
                  "parent_edu": 2,
                  "lunch": 1,
                  "test_prep": 0,
                  "math_score": 99,
                  "reading_score": 93,
                  "writing_score": 90,
                  "gender_male": 0,
                  "total_score": 282,
                  "economic_status": 3
                },
                {
                  "index": 264,
                  "race": 4,
                  "parent_edu": 2,
                  "lunch": 1,
                  "test_prep": 0,
                  "math_score": 76,
                  "reading_score": 73,
                  "writing_score": 68,
                  "gender_male": 1,
                  "total_score": 217,
                  "economic_status": 3
                },
                {
                  "index": 265,
                  "race": 4,
                  "parent_edu": 1,
                  "lunch": 0,
                  "test_prep": 0,
                  "math_score": 59,
                  "reading_score": 42,
                  "writing_score": 41,
                  "gender_male": 1,
                  "total_score": 142,
                  "economic_status": 1
                },
                {
                  "index": 266,
                  "race": 3,
                  "parent_edu": 5,
                  "lunch": 1,
                  "test_prep": 0,
                  "math_score": 63,
                  "reading_score": 75,
                  "writing_score": 81,
                  "gender_male": 0,
                  "total_score": 219,
                  "economic_status": 6
                },
                {
                  "index": 267,
                  "race": 4,
                  "parent_edu": 2,
                  "lunch": 1,
                  "test_prep": 0,
                  "math_score": 69,
                  "reading_score": 72,
                  "writing_score": 77,
                  "gender_male": 0,
                  "total_score": 218,
                  "economic_status": 3
                },
                {
                  "index": 268,
                  "race": 4,
                  "parent_edu": 4,
                  "lunch": 1,
                  "test_prep": 1,
                  "math_score": 88,
                  "reading_score": 92,
                  "writing_score": 95,
                  "gender_male": 0,
                  "total_score": 275,
                  "economic_status": 5
                },
                {
                  "index": 269,
                  "race": 5,
                  "parent_edu": 3,
                  "lunch": 0,
                  "test_prep": 0,
                  "math_score": 71,
                  "reading_score": 76,
                  "writing_score": 70,
                  "gender_male": 0,
                  "total_score": 217,
                  "economic_status": 3
                },
                {
                  "index": 270,
                  "race": 3,
                  "parent_edu": 5,
                  "lunch": 1,
                  "test_prep": 0,
                  "math_score": 69,
                  "reading_score": 63,
                  "writing_score": 61,
                  "gender_male": 1,
                  "total_score": 193,
                  "economic_status": 6
                },
                {
                  "index": 271,
                  "race": 3,
                  "parent_edu": 3,
                  "lunch": 1,
                  "test_prep": 0,
                  "math_score": 58,
                  "reading_score": 49,
                  "writing_score": 42,
                  "gender_male": 1,
                  "total_score": 149,
                  "economic_status": 4
                },
                {
                  "index": 272,
                  "race": 4,
                  "parent_edu": 4,
                  "lunch": 0,
                  "test_prep": 0,
                  "math_score": 47,
                  "reading_score": 53,
                  "writing_score": 58,
                  "gender_male": 0,
                  "total_score": 158,
                  "economic_status": 4
                },
                {
                  "index": 273,
                  "race": 4,
                  "parent_edu": 3,
                  "lunch": 1,
                  "test_prep": 0,
                  "math_score": 65,
                  "reading_score": 70,
                  "writing_score": 71,
                  "gender_male": 0,
                  "total_score": 206,
                  "economic_status": 4
                },
                {
                  "index": 274,
                  "race": 2,
                  "parent_edu": 3,
                  "lunch": 1,
                  "test_prep": 1,
                  "math_score": 88,
                  "reading_score": 85,
                  "writing_score": 76,
                  "gender_male": 1,
                  "total_score": 249,
                  "economic_status": 4
                },
                {
                  "index": 275,
                  "race": 3,
                  "parent_edu": 5,
                  "lunch": 1,
                  "test_prep": 0,
                  "math_score": 83,
                  "reading_score": 78,
                  "writing_score": 73,
                  "gender_male": 1,
                  "total_score": 234,
                  "economic_status": 6
                },
                {
                  "index": 276,
                  "race": 3,
                  "parent_edu": 1,
                  "lunch": 1,
                  "test_prep": 1,
                  "math_score": 85,
                  "reading_score": 92,
                  "writing_score": 93,
                  "gender_male": 0,
                  "total_score": 270,
                  "economic_status": 2
                },
                {
                  "index": 277,
                  "race": 5,
                  "parent_edu": 2,
                  "lunch": 1,
                  "test_prep": 1,
                  "math_score": 59,
                  "reading_score": 63,
                  "writing_score": 75,
                  "gender_male": 0,
                  "total_score": 197,
                  "economic_status": 3
                },
                {
                  "index": 278,
                  "race": 3,
                  "parent_edu": 1,
                  "lunch": 0,
                  "test_prep": 0,
                  "math_score": 65,
                  "reading_score": 86,
                  "writing_score": 80,
                  "gender_male": 0,
                  "total_score": 231,
                  "economic_status": 1
                },
                {
                  "index": 279,
                  "race": 2,
                  "parent_edu": 5,
                  "lunch": 0,
                  "test_prep": 0,
                  "math_score": 73,
                  "reading_score": 56,
                  "writing_score": 57,
                  "gender_male": 1,
                  "total_score": 186,
                  "economic_status": 5
                },
                {
                  "index": 280,
                  "race": 4,
                  "parent_edu": 2,
                  "lunch": 1,
                  "test_prep": 0,
                  "math_score": 53,
                  "reading_score": 52,
                  "writing_score": 42,
                  "gender_male": 1,
                  "total_score": 147,
                  "economic_status": 3
                },
                {
                  "index": 281,
                  "race": 4,
                  "parent_edu": 2,
                  "lunch": 1,
                  "test_prep": 0,
                  "math_score": 45,
                  "reading_score": 48,
                  "writing_score": 46,
                  "gender_male": 1,
                  "total_score": 139,
                  "economic_status": 3
                },
                {
                  "index": 282,
                  "race": 4,
                  "parent_edu": 5,
                  "lunch": 0,
                  "test_prep": 0,
                  "math_score": 73,
                  "reading_score": 79,
                  "writing_score": 84,
                  "gender_male": 0,
                  "total_score": 236,
                  "economic_status": 5
                },
                {
                  "index": 283,
                  "race": 4,
                  "parent_edu": 3,
                  "lunch": 0,
                  "test_prep": 1,
                  "math_score": 70,
                  "reading_score": 78,
                  "writing_score": 78,
                  "gender_male": 0,
                  "total_score": 226,
                  "economic_status": 3
                },
                {
                  "index": 284,
                  "race": 2,
                  "parent_edu": 1,
                  "lunch": 1,
                  "test_prep": 0,
                  "math_score": 37,
                  "reading_score": 46,
                  "writing_score": 46,
                  "gender_male": 0,
                  "total_score": 129,
                  "economic_status": 2
                },
                {
                  "index": 285,
                  "race": 2,
                  "parent_edu": 4,
                  "lunch": 1,
                  "test_prep": 1,
                  "math_score": 81,
                  "reading_score": 82,
                  "writing_score": 82,
                  "gender_male": 1,
                  "total_score": 245,
                  "economic_status": 5
                },
                {
                  "index": 286,
                  "race": 5,
                  "parent_edu": 4,
                  "lunch": 1,
                  "test_prep": 1,
                  "math_score": 97,
                  "reading_score": 82,
                  "writing_score": 88,
                  "gender_male": 1,
                  "total_score": 267,
                  "economic_status": 5
                },
                {
                  "index": 287,
                  "race": 2,
                  "parent_edu": 1,
                  "lunch": 1,
                  "test_prep": 0,
                  "math_score": 67,
                  "reading_score": 89,
                  "writing_score": 82,
                  "gender_male": 0,
                  "total_score": 238,
                  "economic_status": 2
                },
                {
                  "index": 288,
                  "race": 2,
                  "parent_edu": 5,
                  "lunch": 0,
                  "test_prep": 0,
                  "math_score": 88,
                  "reading_score": 75,
                  "writing_score": 76,
                  "gender_male": 1,
                  "total_score": 239,
                  "economic_status": 5
                },
                {
                  "index": 289,
                  "race": 5,
                  "parent_edu": 1,
                  "lunch": 1,
                  "test_prep": 1,
                  "math_score": 77,
                  "reading_score": 76,
                  "writing_score": 77,
                  "gender_male": 1,
                  "total_score": 230,
                  "economic_status": 2
                },
                {
                  "index": 290,
                  "race": 3,
                  "parent_edu": 4,
                  "lunch": 1,
                  "test_prep": 0,
                  "math_score": 76,
                  "reading_score": 70,
                  "writing_score": 68,
                  "gender_male": 1,
                  "total_score": 214,
                  "economic_status": 5
                },
                {
                  "index": 291,
                  "race": 4,
                  "parent_edu": 1,
                  "lunch": 1,
                  "test_prep": 0,
                  "math_score": 86,
                  "reading_score": 73,
                  "writing_score": 70,
                  "gender_male": 1,
                  "total_score": 229,
                  "economic_status": 2
                },
                {
                  "index": 292,
                  "race": 3,
                  "parent_edu": 1,
                  "lunch": 1,
                  "test_prep": 1,
                  "math_score": 63,
                  "reading_score": 60,
                  "writing_score": 57,
                  "gender_male": 1,
                  "total_score": 180,
                  "economic_status": 2
                },
                {
                  "index": 293,
                  "race": 5,
                  "parent_edu": 5,
                  "lunch": 1,
                  "test_prep": 0,
                  "math_score": 65,
                  "reading_score": 73,
                  "writing_score": 75,
                  "gender_male": 0,
                  "total_score": 213,
                  "economic_status": 6
                },
                {
                  "index": 294,
                  "race": 4,
                  "parent_edu": 2,
                  "lunch": 0,
                  "test_prep": 1,
                  "math_score": 78,
                  "reading_score": 77,
                  "writing_score": 80,
                  "gender_male": 1,
                  "total_score": 235,
                  "economic_status": 2
                },
                {
                  "index": 295,
                  "race": 2,
                  "parent_edu": 4,
                  "lunch": 0,
                  "test_prep": 0,
                  "math_score": 67,
                  "reading_score": 62,
                  "writing_score": 60,
                  "gender_male": 1,
                  "total_score": 189,
                  "economic_status": 4
                },
                {
                  "index": 296,
                  "race": 1,
                  "parent_edu": 1,
                  "lunch": 1,
                  "test_prep": 1,
                  "math_score": 46,
                  "reading_score": 41,
                  "writing_score": 43,
                  "gender_male": 1,
                  "total_score": 130,
                  "economic_status": 2
                },
                {
                  "index": 297,
                  "race": 5,
                  "parent_edu": 4,
                  "lunch": 1,
                  "test_prep": 1,
                  "math_score": 71,
                  "reading_score": 74,
                  "writing_score": 68,
                  "gender_male": 1,
                  "total_score": 213,
                  "economic_status": 5
                },
                {
                  "index": 298,
                  "race": 3,
                  "parent_edu": 2,
                  "lunch": 0,
                  "test_prep": 1,
                  "math_score": 40,
                  "reading_score": 46,
                  "writing_score": 50,
                  "gender_male": 1,
                  "total_score": 136,
                  "economic_status": 2
                },
                {
                  "index": 299,
                  "race": 4,
                  "parent_edu": 4,
                  "lunch": 0,
                  "test_prep": 0,
                  "math_score": 90,
                  "reading_score": 87,
                  "writing_score": 75,
                  "gender_male": 1,
                  "total_score": 252,
                  "economic_status": 4
                },
                {
                  "index": 300,
                  "race": 1,
                  "parent_edu": 3,
                  "lunch": 0,
                  "test_prep": 1,
                  "math_score": 81,
                  "reading_score": 78,
                  "writing_score": 81,
                  "gender_male": 1,
                  "total_score": 240,
                  "economic_status": 3
                },
                {
                  "index": 301,
                  "race": 4,
                  "parent_edu": 1,
                  "lunch": 0,
                  "test_prep": 0,
                  "math_score": 56,
                  "reading_score": 54,
                  "writing_score": 52,
                  "gender_male": 1,
                  "total_score": 162,
                  "economic_status": 1
                },
                {
                  "index": 302,
                  "race": 3,
                  "parent_edu": 4,
                  "lunch": 1,
                  "test_prep": 1,
                  "math_score": 67,
                  "reading_score": 84,
                  "writing_score": 81,
                  "gender_male": 0,
                  "total_score": 232,
                  "economic_status": 5
                },
                {
                  "index": 303,
                  "race": 2,
                  "parent_edu": 4,
                  "lunch": 1,
                  "test_prep": 0,
                  "math_score": 80,
                  "reading_score": 76,
                  "writing_score": 64,
                  "gender_male": 1,
                  "total_score": 220,
                  "economic_status": 5
                },
                {
                  "index": 304,
                  "race": 3,
                  "parent_edu": 4,
                  "lunch": 1,
                  "test_prep": 1,
                  "math_score": 74,
                  "reading_score": 75,
                  "writing_score": 83,
                  "gender_male": 0,
                  "total_score": 232,
                  "economic_status": 5
                },
                {
                  "index": 305,
                  "race": 1,
                  "parent_edu": 3,
                  "lunch": 1,
                  "test_prep": 0,
                  "math_score": 69,
                  "reading_score": 67,
                  "writing_score": 69,
                  "gender_male": 1,
                  "total_score": 205,
                  "economic_status": 4
                },
                {
                  "index": 306,
                  "race": 5,
                  "parent_edu": 3,
                  "lunch": 1,
                  "test_prep": 1,
                  "math_score": 99,
                  "reading_score": 87,
                  "writing_score": 81,
                  "gender_male": 1,
                  "total_score": 267,
                  "economic_status": 4
                },
                {
                  "index": 307,
                  "race": 3,
                  "parent_edu": 1,
                  "lunch": 1,
                  "test_prep": 0,
                  "math_score": 51,
                  "reading_score": 52,
                  "writing_score": 44,
                  "gender_male": 1,
                  "total_score": 147,
                  "economic_status": 2
                },
                {
                  "index": 308,
                  "race": 2,
                  "parent_edu": 4,
                  "lunch": 0,
                  "test_prep": 0,
                  "math_score": 53,
                  "reading_score": 71,
                  "writing_score": 67,
                  "gender_male": 0,
                  "total_score": 191,
                  "economic_status": 4
                },
                {
                  "index": 309,
                  "race": 4,
                  "parent_edu": 2,
                  "lunch": 0,
                  "test_prep": 0,
                  "math_score": 49,
                  "reading_score": 57,
                  "writing_score": 52,
                  "gender_male": 0,
                  "total_score": 158,
                  "economic_status": 2
                },
                {
                  "index": 310,
                  "race": 2,
                  "parent_edu": 4,
                  "lunch": 1,
                  "test_prep": 0,
                  "math_score": 73,
                  "reading_score": 76,
                  "writing_score": 80,
                  "gender_male": 0,
                  "total_score": 229,
                  "economic_status": 5
                },
                {
                  "index": 311,
                  "race": 2,
                  "parent_edu": 5,
                  "lunch": 1,
                  "test_prep": 0,
                  "math_score": 66,
                  "reading_score": 60,
                  "writing_score": 57,
                  "gender_male": 1,
                  "total_score": 183,
                  "economic_status": 6
                },
                {
                  "index": 312,
                  "race": 4,
                  "parent_edu": 5,
                  "lunch": 1,
                  "test_prep": 1,
                  "math_score": 67,
                  "reading_score": 61,
                  "writing_score": 68,
                  "gender_male": 1,
                  "total_score": 196,
                  "economic_status": 6
                },
                {
                  "index": 313,
                  "race": 3,
                  "parent_edu": 4,
                  "lunch": 0,
                  "test_prep": 1,
                  "math_score": 68,
                  "reading_score": 67,
                  "writing_score": 69,
                  "gender_male": 0,
                  "total_score": 204,
                  "economic_status": 4
                },
                {
                  "index": 314,
                  "race": 3,
                  "parent_edu": 5,
                  "lunch": 1,
                  "test_prep": 1,
                  "math_score": 59,
                  "reading_score": 64,
                  "writing_score": 75,
                  "gender_male": 0,
                  "total_score": 198,
                  "economic_status": 6
                },
                {
                  "index": 315,
                  "race": 3,
                  "parent_edu": 2,
                  "lunch": 1,
                  "test_prep": 0,
                  "math_score": 71,
                  "reading_score": 66,
                  "writing_score": 65,
                  "gender_male": 1,
                  "total_score": 202,
                  "economic_status": 3
                },
                {
                  "index": 316,
                  "race": 4,
                  "parent_edu": 6,
                  "lunch": 1,
                  "test_prep": 1,
                  "math_score": 77,
                  "reading_score": 82,
                  "writing_score": 91,
                  "gender_male": 0,
                  "total_score": 250,
                  "economic_status": 7
                },
                {
                  "index": 317,
                  "race": 3,
                  "parent_edu": 4,
                  "lunch": 1,
                  "test_prep": 0,
                  "math_score": 83,
                  "reading_score": 72,
                  "writing_score": 78,
                  "gender_male": 1,
                  "total_score": 233,
                  "economic_status": 5
                },
                {
                  "index": 318,
                  "race": 2,
                  "parent_edu": 5,
                  "lunch": 1,
                  "test_prep": 0,
                  "math_score": 63,
                  "reading_score": 71,
                  "writing_score": 69,
                  "gender_male": 1,
                  "total_score": 203,
                  "economic_status": 6
                },
                {
                  "index": 319,
                  "race": 4,
                  "parent_edu": 4,
                  "lunch": 0,
                  "test_prep": 0,
                  "math_score": 56,
                  "reading_score": 65,
                  "writing_score": 63,
                  "gender_male": 0,
                  "total_score": 184,
                  "economic_status": 4
                },
                {
                  "index": 320,
                  "race": 3,
                  "parent_edu": 2,
                  "lunch": 0,
                  "test_prep": 1,
                  "math_score": 67,
                  "reading_score": 79,
                  "writing_score": 84,
                  "gender_male": 0,
                  "total_score": 230,
                  "economic_status": 2
                },
                {
                  "index": 321,
                  "race": 5,
                  "parent_edu": 2,
                  "lunch": 1,
                  "test_prep": 0,
                  "math_score": 75,
                  "reading_score": 86,
                  "writing_score": 79,
                  "gender_male": 0,
                  "total_score": 240,
                  "economic_status": 3
                },
                {
                  "index": 322,
                  "race": 3,
                  "parent_edu": 3,
                  "lunch": 1,
                  "test_prep": 0,
                  "math_score": 71,
                  "reading_score": 81,
                  "writing_score": 80,
                  "gender_male": 0,
                  "total_score": 232,
                  "economic_status": 4
                },
                {
                  "index": 323,
                  "race": 3,
                  "parent_edu": 1,
                  "lunch": 0,
                  "test_prep": 0,
                  "math_score": 43,
                  "reading_score": 53,
                  "writing_score": 53,
                  "gender_male": 0,
                  "total_score": 149,
                  "economic_status": 1
                },
                {
                  "index": 324,
                  "race": 3,
                  "parent_edu": 2,
                  "lunch": 0,
                  "test_prep": 0,
                  "math_score": 41,
                  "reading_score": 46,
                  "writing_score": 43,
                  "gender_male": 0,
                  "total_score": 130,
                  "economic_status": 2
                },
                {
                  "index": 325,
                  "race": 3,
                  "parent_edu": 3,
                  "lunch": 1,
                  "test_prep": 0,
                  "math_score": 82,
                  "reading_score": 90,
                  "writing_score": 94,
                  "gender_male": 0,
                  "total_score": 266,
                  "economic_status": 4
                },
                {
                  "index": 326,
                  "race": 3,
                  "parent_edu": 3,
                  "lunch": 1,
                  "test_prep": 0,
                  "math_score": 61,
                  "reading_score": 61,
                  "writing_score": 62,
                  "gender_male": 1,
                  "total_score": 184,
                  "economic_status": 4
                },
                {
                  "index": 327,
                  "race": 1,
                  "parent_edu": 3,
                  "lunch": 0,
                  "test_prep": 0,
                  "math_score": 28,
                  "reading_score": 23,
                  "writing_score": 19,
                  "gender_male": 1,
                  "total_score": 70,
                  "economic_status": 3
                },
                {
                  "index": 328,
                  "race": 3,
                  "parent_edu": 4,
                  "lunch": 1,
                  "test_prep": 1,
                  "math_score": 82,
                  "reading_score": 75,
                  "writing_score": 77,
                  "gender_male": 1,
                  "total_score": 234,
                  "economic_status": 5
                },
                {
                  "index": 329,
                  "race": 2,
                  "parent_edu": 1,
                  "lunch": 1,
                  "test_prep": 0,
                  "math_score": 41,
                  "reading_score": 55,
                  "writing_score": 51,
                  "gender_male": 0,
                  "total_score": 147,
                  "economic_status": 2
                },
                {
                  "index": 330,
                  "race": 3,
                  "parent_edu": 2,
                  "lunch": 1,
                  "test_prep": 0,
                  "math_score": 71,
                  "reading_score": 60,
                  "writing_score": 61,
                  "gender_male": 1,
                  "total_score": 192,
                  "economic_status": 3
                },
                {
                  "index": 331,
                  "race": 3,
                  "parent_edu": 4,
                  "lunch": 1,
                  "test_prep": 0,
                  "math_score": 47,
                  "reading_score": 37,
                  "writing_score": 35,
                  "gender_male": 1,
                  "total_score": 119,
                  "economic_status": 5
                },
                {
                  "index": 332,
                  "race": 5,
                  "parent_edu": 4,
                  "lunch": 1,
                  "test_prep": 1,
                  "math_score": 62,
                  "reading_score": 56,
                  "writing_score": 53,
                  "gender_male": 1,
                  "total_score": 171,
                  "economic_status": 5
                },
                {
                  "index": 333,
                  "race": 2,
                  "parent_edu": 4,
                  "lunch": 1,
                  "test_prep": 0,
                  "math_score": 90,
                  "reading_score": 78,
                  "writing_score": 81,
                  "gender_male": 1,
                  "total_score": 249,
                  "economic_status": 5
                },
                {
                  "index": 334,
                  "race": 3,
                  "parent_edu": 5,
                  "lunch": 1,
                  "test_prep": 0,
                  "math_score": 83,
                  "reading_score": 93,
                  "writing_score": 95,
                  "gender_male": 0,
                  "total_score": 271,
                  "economic_status": 6
                },
                {
                  "index": 335,
                  "race": 2,
                  "parent_edu": 3,
                  "lunch": 0,
                  "test_prep": 0,
                  "math_score": 61,
                  "reading_score": 68,
                  "writing_score": 66,
                  "gender_male": 0,
                  "total_score": 195,
                  "economic_status": 3
                },
                {
                  "index": 336,
                  "race": 4,
                  "parent_edu": 1,
                  "lunch": 1,
                  "test_prep": 1,
                  "math_score": 76,
                  "reading_score": 70,
                  "writing_score": 69,
                  "gender_male": 1,
                  "total_score": 215,
                  "economic_status": 2
                },
                {
                  "index": 337,
                  "race": 3,
                  "parent_edu": 4,
                  "lunch": 1,
                  "test_prep": 0,
                  "math_score": 49,
                  "reading_score": 51,
                  "writing_score": 43,
                  "gender_male": 1,
                  "total_score": 143,
                  "economic_status": 5
                },
                {
                  "index": 338,
                  "race": 2,
                  "parent_edu": 1,
                  "lunch": 0,
                  "test_prep": 0,
                  "math_score": 24,
                  "reading_score": 38,
                  "writing_score": 27,
                  "gender_male": 0,
                  "total_score": 89,
                  "economic_status": 1
                },
                {
                  "index": 339,
                  "race": 4,
                  "parent_edu": 1,
                  "lunch": 0,
                  "test_prep": 1,
                  "math_score": 35,
                  "reading_score": 55,
                  "writing_score": 60,
                  "gender_male": 0,
                  "total_score": 150,
                  "economic_status": 1
                },
                {
                  "index": 340,
                  "race": 3,
                  "parent_edu": 2,
                  "lunch": 0,
                  "test_prep": 0,
                  "math_score": 58,
                  "reading_score": 61,
                  "writing_score": 52,
                  "gender_male": 1,
                  "total_score": 171,
                  "economic_status": 2
                },
                {
                  "index": 341,
                  "race": 3,
                  "parent_edu": 2,
                  "lunch": 1,
                  "test_prep": 0,
                  "math_score": 61,
                  "reading_score": 73,
                  "writing_score": 63,
                  "gender_male": 0,
                  "total_score": 197,
                  "economic_status": 3
                },
                {
                  "index": 342,
                  "race": 2,
                  "parent_edu": 2,
                  "lunch": 1,
                  "test_prep": 1,
                  "math_score": 69,
                  "reading_score": 76,
                  "writing_score": 74,
                  "gender_male": 0,
                  "total_score": 219,
                  "economic_status": 3
                },
                {
                  "index": 343,
                  "race": 4,
                  "parent_edu": 4,
                  "lunch": 1,
                  "test_prep": 1,
                  "math_score": 67,
                  "reading_score": 72,
                  "writing_score": 67,
                  "gender_male": 1,
                  "total_score": 206,
                  "economic_status": 5
                },
                {
                  "index": 344,
                  "race": 4,
                  "parent_edu": 3,
                  "lunch": 1,
                  "test_prep": 0,
                  "math_score": 79,
                  "reading_score": 73,
                  "writing_score": 67,
                  "gender_male": 1,
                  "total_score": 219,
                  "economic_status": 4
                },
                {
                  "index": 345,
                  "race": 3,
                  "parent_edu": 2,
                  "lunch": 1,
                  "test_prep": 0,
                  "math_score": 72,
                  "reading_score": 80,
                  "writing_score": 75,
                  "gender_male": 0,
                  "total_score": 227,
                  "economic_status": 3
                },
                {
                  "index": 346,
                  "race": 2,
                  "parent_edu": 3,
                  "lunch": 1,
                  "test_prep": 0,
                  "math_score": 62,
                  "reading_score": 61,
                  "writing_score": 57,
                  "gender_male": 1,
                  "total_score": 180,
                  "economic_status": 4
                },
                {
                  "index": 347,
                  "race": 3,
                  "parent_edu": 5,
                  "lunch": 1,
                  "test_prep": 1,
                  "math_score": 77,
                  "reading_score": 94,
                  "writing_score": 95,
                  "gender_male": 0,
                  "total_score": 266,
                  "economic_status": 6
                },
                {
                  "index": 348,
                  "race": 4,
                  "parent_edu": 2,
                  "lunch": 0,
                  "test_prep": 0,
                  "math_score": 75,
                  "reading_score": 74,
                  "writing_score": 66,
                  "gender_male": 1,
                  "total_score": 215,
                  "economic_status": 2
                },
                {
                  "index": 349,
                  "race": 5,
                  "parent_edu": 4,
                  "lunch": 1,
                  "test_prep": 0,
                  "math_score": 87,
                  "reading_score": 74,
                  "writing_score": 76,
                  "gender_male": 1,
                  "total_score": 237,
                  "economic_status": 5
                },
                {
                  "index": 350,
                  "race": 2,
                  "parent_edu": 5,
                  "lunch": 1,
                  "test_prep": 0,
                  "math_score": 52,
                  "reading_score": 65,
                  "writing_score": 69,
                  "gender_male": 0,
                  "total_score": 186,
                  "economic_status": 6
                },
                {
                  "index": 351,
                  "race": 5,
                  "parent_edu": 3,
                  "lunch": 1,
                  "test_prep": 0,
                  "math_score": 66,
                  "reading_score": 57,
                  "writing_score": 52,
                  "gender_male": 1,
                  "total_score": 175,
                  "economic_status": 4
                },
                {
                  "index": 352,
                  "race": 3,
                  "parent_edu": 3,
                  "lunch": 1,
                  "test_prep": 1,
                  "math_score": 63,
                  "reading_score": 78,
                  "writing_score": 80,
                  "gender_male": 0,
                  "total_score": 221,
                  "economic_status": 4
                },
                {
                  "index": 353,
                  "race": 3,
                  "parent_edu": 4,
                  "lunch": 1,
                  "test_prep": 0,
                  "math_score": 46,
                  "reading_score": 58,
                  "writing_score": 57,
                  "gender_male": 0,
                  "total_score": 161,
                  "economic_status": 5
                },
                {
                  "index": 354,
                  "race": 3,
                  "parent_edu": 3,
                  "lunch": 1,
                  "test_prep": 0,
                  "math_score": 59,
                  "reading_score": 71,
                  "writing_score": 70,
                  "gender_male": 0,
                  "total_score": 200,
                  "economic_status": 4
                },
                {
                  "index": 355,
                  "race": 2,
                  "parent_edu": 5,
                  "lunch": 1,
                  "test_prep": 0,
                  "math_score": 61,
                  "reading_score": 72,
                  "writing_score": 70,
                  "gender_male": 0,
                  "total_score": 203,
                  "economic_status": 6
                },
                {
                  "index": 356,
                  "race": 1,
                  "parent_edu": 4,
                  "lunch": 1,
                  "test_prep": 0,
                  "math_score": 63,
                  "reading_score": 61,
                  "writing_score": 61,
                  "gender_male": 1,
                  "total_score": 185,
                  "economic_status": 5
                },
                {
                  "index": 357,
                  "race": 3,
                  "parent_edu": 3,
                  "lunch": 0,
                  "test_prep": 1,
                  "math_score": 42,
                  "reading_score": 66,
                  "writing_score": 69,
                  "gender_male": 0,
                  "total_score": 177,
                  "economic_status": 3
                },
                {
                  "index": 358,
                  "race": 4,
                  "parent_edu": 3,
                  "lunch": 0,
                  "test_prep": 0,
                  "math_score": 59,
                  "reading_score": 62,
                  "writing_score": 61,
                  "gender_male": 1,
                  "total_score": 182,
                  "economic_status": 3
                },
                {
                  "index": 359,
                  "race": 4,
                  "parent_edu": 3,
                  "lunch": 1,
                  "test_prep": 0,
                  "math_score": 80,
                  "reading_score": 90,
                  "writing_score": 89,
                  "gender_male": 0,
                  "total_score": 259,
                  "economic_status": 4
                },
                {
                  "index": 360,
                  "race": 2,
                  "parent_edu": 2,
                  "lunch": 1,
                  "test_prep": 0,
                  "math_score": 58,
                  "reading_score": 62,
                  "writing_score": 59,
                  "gender_male": 0,
                  "total_score": 179,
                  "economic_status": 3
                },
                {
                  "index": 361,
                  "race": 2,
                  "parent_edu": 1,
                  "lunch": 1,
                  "test_prep": 1,
                  "math_score": 85,
                  "reading_score": 84,
                  "writing_score": 78,
                  "gender_male": 1,
                  "total_score": 247,
                  "economic_status": 2
                },
                {
                  "index": 362,
                  "race": 3,
                  "parent_edu": 3,
                  "lunch": 1,
                  "test_prep": 0,
                  "math_score": 52,
                  "reading_score": 58,
                  "writing_score": 58,
                  "gender_male": 0,
                  "total_score": 168,
                  "economic_status": 4
                },
                {
                  "index": 363,
                  "race": 4,
                  "parent_edu": 1,
                  "lunch": 0,
                  "test_prep": 0,
                  "math_score": 27,
                  "reading_score": 34,
                  "writing_score": 32,
                  "gender_male": 0,
                  "total_score": 93,
                  "economic_status": 1
                },
                {
                  "index": 364,
                  "race": 3,
                  "parent_edu": 3,
                  "lunch": 1,
                  "test_prep": 0,
                  "math_score": 59,
                  "reading_score": 60,
                  "writing_score": 58,
                  "gender_male": 1,
                  "total_score": 177,
                  "economic_status": 4
                },
                {
                  "index": 365,
                  "race": 1,
                  "parent_edu": 5,
                  "lunch": 0,
                  "test_prep": 1,
                  "math_score": 49,
                  "reading_score": 58,
                  "writing_score": 60,
                  "gender_male": 1,
                  "total_score": 167,
                  "economic_status": 5
                },
                {
                  "index": 366,
                  "race": 3,
                  "parent_edu": 2,
                  "lunch": 1,
                  "test_prep": 1,
                  "math_score": 69,
                  "reading_score": 58,
                  "writing_score": 53,
                  "gender_male": 1,
                  "total_score": 180,
                  "economic_status": 3
                },
                {
                  "index": 367,
                  "race": 3,
                  "parent_edu": 5,
                  "lunch": 0,
                  "test_prep": 0,
                  "math_score": 61,
                  "reading_score": 66,
                  "writing_score": 61,
                  "gender_male": 1,
                  "total_score": 188,
                  "economic_status": 5
                },
                {
                  "index": 368,
                  "race": 1,
                  "parent_edu": 1,
                  "lunch": 0,
                  "test_prep": 0,
                  "math_score": 44,
                  "reading_score": 64,
                  "writing_score": 58,
                  "gender_male": 0,
                  "total_score": 166,
                  "economic_status": 1
                },
                {
                  "index": 369,
                  "race": 4,
                  "parent_edu": 1,
                  "lunch": 1,
                  "test_prep": 0,
                  "math_score": 73,
                  "reading_score": 84,
                  "writing_score": 85,
                  "gender_male": 0,
                  "total_score": 242,
                  "economic_status": 2
                },
                {
                  "index": 370,
                  "race": 5,
                  "parent_edu": 3,
                  "lunch": 1,
                  "test_prep": 0,
                  "math_score": 84,
                  "reading_score": 77,
                  "writing_score": 71,
                  "gender_male": 1,
                  "total_score": 232,
                  "economic_status": 4
                },
                {
                  "index": 371,
                  "race": 3,
                  "parent_edu": 3,
                  "lunch": 0,
                  "test_prep": 1,
                  "math_score": 45,
                  "reading_score": 73,
                  "writing_score": 70,
                  "gender_male": 0,
                  "total_score": 188,
                  "economic_status": 3
                },
                {
                  "index": 372,
                  "race": 4,
                  "parent_edu": 1,
                  "lunch": 1,
                  "test_prep": 0,
                  "math_score": 74,
                  "reading_score": 74,
                  "writing_score": 72,
                  "gender_male": 1,
                  "total_score": 220,
                  "economic_status": 2
                },
                {
                  "index": 373,
                  "race": 4,
                  "parent_edu": 3,
                  "lunch": 1,
                  "test_prep": 1,
                  "math_score": 82,
                  "reading_score": 97,
                  "writing_score": 96,
                  "gender_male": 0,
                  "total_score": 275,
                  "economic_status": 4
                },
                {
                  "index": 374,
                  "race": 4,
                  "parent_edu": 5,
                  "lunch": 1,
                  "test_prep": 0,
                  "math_score": 59,
                  "reading_score": 70,
                  "writing_score": 73,
                  "gender_male": 0,
                  "total_score": 202,
                  "economic_status": 6
                },
                {
                  "index": 375,
                  "race": 5,
                  "parent_edu": 4,
                  "lunch": 0,
                  "test_prep": 0,
                  "math_score": 46,
                  "reading_score": 43,
                  "writing_score": 41,
                  "gender_male": 1,
                  "total_score": 130,
                  "economic_status": 4
                },
                {
                  "index": 376,
                  "race": 4,
                  "parent_edu": 1,
                  "lunch": 1,
                  "test_prep": 0,
                  "math_score": 80,
                  "reading_score": 90,
                  "writing_score": 82,
                  "gender_male": 0,
                  "total_score": 252,
                  "economic_status": 2
                },
                {
                  "index": 377,
                  "race": 4,
                  "parent_edu": 6,
                  "lunch": 0,
                  "test_prep": 1,
                  "math_score": 85,
                  "reading_score": 95,
                  "writing_score": 100,
                  "gender_male": 0,
                  "total_score": 280,
                  "economic_status": 6
                },
                {
                  "index": 378,
                  "race": 1,
                  "parent_edu": 1,
                  "lunch": 1,
                  "test_prep": 0,
                  "math_score": 71,
                  "reading_score": 83,
                  "writing_score": 77,
                  "gender_male": 0,
                  "total_score": 231,
                  "economic_status": 2
                },
                {
                  "index": 379,
                  "race": 1,
                  "parent_edu": 5,
                  "lunch": 1,
                  "test_prep": 0,
                  "math_score": 66,
                  "reading_score": 64,
                  "writing_score": 62,
                  "gender_male": 1,
                  "total_score": 192,
                  "economic_status": 6
                },
                {
                  "index": 380,
                  "race": 2,
                  "parent_edu": 4,
                  "lunch": 1,
                  "test_prep": 0,
                  "math_score": 80,
                  "reading_score": 86,
                  "writing_score": 83,
                  "gender_male": 0,
                  "total_score": 249,
                  "economic_status": 5
                },
                {
                  "index": 381,
                  "race": 3,
                  "parent_edu": 4,
                  "lunch": 1,
                  "test_prep": 1,
                  "math_score": 87,
                  "reading_score": 100,
                  "writing_score": 95,
                  "gender_male": 1,
                  "total_score": 282,
                  "economic_status": 5
                },
                {
                  "index": 382,
                  "race": 3,
                  "parent_edu": 6,
                  "lunch": 0,
                  "test_prep": 0,
                  "math_score": 79,
                  "reading_score": 81,
                  "writing_score": 71,
                  "gender_male": 1,
                  "total_score": 231,
                  "economic_status": 6
                },
                {
                  "index": 383,
                  "race": 5,
                  "parent_edu": 1,
                  "lunch": 0,
                  "test_prep": 0,
                  "math_score": 38,
                  "reading_score": 49,
                  "writing_score": 45,
                  "gender_male": 0,
                  "total_score": 132,
                  "economic_status": 1
                },
                {
                  "index": 384,
                  "race": 1,
                  "parent_edu": 1,
                  "lunch": 0,
                  "test_prep": 0,
                  "math_score": 38,
                  "reading_score": 43,
                  "writing_score": 43,
                  "gender_male": 0,
                  "total_score": 124,
                  "economic_status": 1
                },
                {
                  "index": 385,
                  "race": 5,
                  "parent_edu": 3,
                  "lunch": 1,
                  "test_prep": 0,
                  "math_score": 67,
                  "reading_score": 76,
                  "writing_score": 75,
                  "gender_male": 0,
                  "total_score": 218,
                  "economic_status": 4
                },
                {
                  "index": 386,
                  "race": 5,
                  "parent_edu": 5,
                  "lunch": 1,
                  "test_prep": 0,
                  "math_score": 64,
                  "reading_score": 73,
                  "writing_score": 70,
                  "gender_male": 0,
                  "total_score": 207,
                  "economic_status": 6
                },
                {
                  "index": 387,
                  "race": 3,
                  "parent_edu": 4,
                  "lunch": 0,
                  "test_prep": 0,
                  "math_score": 57,
                  "reading_score": 78,
                  "writing_score": 67,
                  "gender_male": 0,
                  "total_score": 202,
                  "economic_status": 4
                },
                {
                  "index": 388,
                  "race": 4,
                  "parent_edu": 2,
                  "lunch": 1,
                  "test_prep": 0,
                  "math_score": 62,
                  "reading_score": 64,
                  "writing_score": 64,
                  "gender_male": 0,
                  "total_score": 190,
                  "economic_status": 3
                },
                {
                  "index": 389,
                  "race": 4,
                  "parent_edu": 6,
                  "lunch": 1,
                  "test_prep": 0,
                  "math_score": 73,
                  "reading_score": 70,
                  "writing_score": 75,
                  "gender_male": 1,
                  "total_score": 218,
                  "economic_status": 7
                },
                {
                  "index": 390,
                  "race": 5,
                  "parent_edu": 1,
                  "lunch": 0,
                  "test_prep": 1,
                  "math_score": 73,
                  "reading_score": 67,
                  "writing_score": 59,
                  "gender_male": 1,
                  "total_score": 199,
                  "economic_status": 1
                },
                {
                  "index": 391,
                  "race": 4,
                  "parent_edu": 3,
                  "lunch": 1,
                  "test_prep": 0,
                  "math_score": 77,
                  "reading_score": 68,
                  "writing_score": 77,
                  "gender_male": 0,
                  "total_score": 222,
                  "economic_status": 4
                },
                {
                  "index": 392,
                  "race": 5,
                  "parent_edu": 3,
                  "lunch": 1,
                  "test_prep": 0,
                  "math_score": 76,
                  "reading_score": 67,
                  "writing_score": 67,
                  "gender_male": 1,
                  "total_score": 210,
                  "economic_status": 4
                },
                {
                  "index": 393,
                  "race": 3,
                  "parent_edu": 4,
                  "lunch": 1,
                  "test_prep": 1,
                  "math_score": 57,
                  "reading_score": 54,
                  "writing_score": 56,
                  "gender_male": 1,
                  "total_score": 167,
                  "economic_status": 5
                },
                {
                  "index": 394,
                  "race": 3,
                  "parent_edu": 1,
                  "lunch": 1,
                  "test_prep": 1,
                  "math_score": 65,
                  "reading_score": 74,
                  "writing_score": 77,
                  "gender_male": 0,
                  "total_score": 216,
                  "economic_status": 2
                },
                {
                  "index": 395,
                  "race": 1,
                  "parent_edu": 2,
                  "lunch": 0,
                  "test_prep": 0,
                  "math_score": 48,
                  "reading_score": 45,
                  "writing_score": 41,
                  "gender_male": 1,
                  "total_score": 134,
                  "economic_status": 2
                },
                {
                  "index": 396,
                  "race": 2,
                  "parent_edu": 2,
                  "lunch": 0,
                  "test_prep": 0,
                  "math_score": 50,
                  "reading_score": 67,
                  "writing_score": 63,
                  "gender_male": 0,
                  "total_score": 180,
                  "economic_status": 2
                },
                {
                  "index": 397,
                  "race": 3,
                  "parent_edu": 4,
                  "lunch": 1,
                  "test_prep": 0,
                  "math_score": 85,
                  "reading_score": 89,
                  "writing_score": 95,
                  "gender_male": 0,
                  "total_score": 269,
                  "economic_status": 5
                },
                {
                  "index": 398,
                  "race": 2,
                  "parent_edu": 1,
                  "lunch": 1,
                  "test_prep": 0,
                  "math_score": 74,
                  "reading_score": 63,
                  "writing_score": 57,
                  "gender_male": 1,
                  "total_score": 194,
                  "economic_status": 2
                },
                {
                  "index": 399,
                  "race": 4,
                  "parent_edu": 1,
                  "lunch": 1,
                  "test_prep": 0,
                  "math_score": 60,
                  "reading_score": 59,
                  "writing_score": 54,
                  "gender_male": 1,
                  "total_score": 173,
                  "economic_status": 2
                },
                {
                  "index": 400,
                  "race": 3,
                  "parent_edu": 1,
                  "lunch": 1,
                  "test_prep": 1,
                  "math_score": 59,
                  "reading_score": 54,
                  "writing_score": 67,
                  "gender_male": 0,
                  "total_score": 180,
                  "economic_status": 2
                },
                {
                  "index": 401,
                  "race": 1,
                  "parent_edu": 3,
                  "lunch": 1,
                  "test_prep": 0,
                  "math_score": 53,
                  "reading_score": 43,
                  "writing_score": 43,
                  "gender_male": 1,
                  "total_score": 139,
                  "economic_status": 4
                },
                {
                  "index": 402,
                  "race": 1,
                  "parent_edu": 3,
                  "lunch": 0,
                  "test_prep": 0,
                  "math_score": 49,
                  "reading_score": 65,
                  "writing_score": 55,
                  "gender_male": 0,
                  "total_score": 169,
                  "economic_status": 3
                },
                {
                  "index": 403,
                  "race": 4,
                  "parent_edu": 2,
                  "lunch": 1,
                  "test_prep": 1,
                  "math_score": 88,
                  "reading_score": 99,
                  "writing_score": 100,
                  "gender_male": 0,
                  "total_score": 287,
                  "economic_status": 3
                },
                {
                  "index": 404,
                  "race": 3,
                  "parent_edu": 2,
                  "lunch": 1,
                  "test_prep": 0,
                  "math_score": 54,
                  "reading_score": 59,
                  "writing_score": 62,
                  "gender_male": 0,
                  "total_score": 175,
                  "economic_status": 3
                },
                {
                  "index": 405,
                  "race": 3,
                  "parent_edu": 1,
                  "lunch": 1,
                  "test_prep": 0,
                  "math_score": 63,
                  "reading_score": 73,
                  "writing_score": 68,
                  "gender_male": 0,
                  "total_score": 204,
                  "economic_status": 2
                },
                {
                  "index": 406,
                  "race": 2,
                  "parent_edu": 4,
                  "lunch": 1,
                  "test_prep": 1,
                  "math_score": 65,
                  "reading_score": 65,
                  "writing_score": 63,
                  "gender_male": 1,
                  "total_score": 193,
                  "economic_status": 5
                },
                {
                  "index": 407,
                  "race": 2,
                  "parent_edu": 4,
                  "lunch": 1,
                  "test_prep": 0,
                  "math_score": 82,
                  "reading_score": 80,
                  "writing_score": 77,
                  "gender_male": 0,
                  "total_score": 239,
                  "economic_status": 5
                },
                {
                  "index": 408,
                  "race": 4,
                  "parent_edu": 2,
                  "lunch": 0,
                  "test_prep": 1,
                  "math_score": 52,
                  "reading_score": 57,
                  "writing_score": 56,
                  "gender_male": 0,
                  "total_score": 165,
                  "economic_status": 2
                },
                {
                  "index": 409,
                  "race": 4,
                  "parent_edu": 4,
                  "lunch": 1,
                  "test_prep": 1,
                  "math_score": 87,
                  "reading_score": 84,
                  "writing_score": 85,
                  "gender_male": 1,
                  "total_score": 256,
                  "economic_status": 5
                },
                {
                  "index": 410,
                  "race": 4,
                  "parent_edu": 6,
                  "lunch": 1,
                  "test_prep": 1,
                  "math_score": 70,
                  "reading_score": 71,
                  "writing_score": 74,
                  "gender_male": 0,
                  "total_score": 215,
                  "economic_status": 7
                },
                {
                  "index": 411,
                  "race": 5,
                  "parent_edu": 3,
                  "lunch": 1,
                  "test_prep": 1,
                  "math_score": 84,
                  "reading_score": 83,
                  "writing_score": 78,
                  "gender_male": 1,
                  "total_score": 245,
                  "economic_status": 4
                },
                {
                  "index": 412,
                  "race": 4,
                  "parent_edu": 4,
                  "lunch": 1,
                  "test_prep": 0,
                  "math_score": 71,
                  "reading_score": 66,
                  "writing_score": 60,
                  "gender_male": 1,
                  "total_score": 197,
                  "economic_status": 5
                },
                {
                  "index": 413,
                  "race": 2,
                  "parent_edu": 1,
                  "lunch": 1,
                  "test_prep": 1,
                  "math_score": 63,
                  "reading_score": 67,
                  "writing_score": 67,
                  "gender_male": 1,
                  "total_score": 197,
                  "economic_status": 2
                },
                {
                  "index": 414,
                  "race": 3,
                  "parent_edu": 5,
                  "lunch": 0,
                  "test_prep": 1,
                  "math_score": 51,
                  "reading_score": 72,
                  "writing_score": 79,
                  "gender_male": 0,
                  "total_score": 202,
                  "economic_status": 5
                },
                {
                  "index": 415,
                  "race": 5,
                  "parent_edu": 2,
                  "lunch": 1,
                  "test_prep": 0,
                  "math_score": 84,
                  "reading_score": 73,
                  "writing_score": 69,
                  "gender_male": 1,
                  "total_score": 226,
                  "economic_status": 3
                },
                {
                  "index": 416,
                  "race": 3,
                  "parent_edu": 5,
                  "lunch": 1,
                  "test_prep": 1,
                  "math_score": 71,
                  "reading_score": 74,
                  "writing_score": 68,
                  "gender_male": 1,
                  "total_score": 213,
                  "economic_status": 6
                },
                {
                  "index": 417,
                  "race": 3,
                  "parent_edu": 4,
                  "lunch": 1,
                  "test_prep": 0,
                  "math_score": 74,
                  "reading_score": 73,
                  "writing_score": 67,
                  "gender_male": 1,
                  "total_score": 214,
                  "economic_status": 5
                },
                {
                  "index": 418,
                  "race": 4,
                  "parent_edu": 3,
                  "lunch": 1,
                  "test_prep": 0,
                  "math_score": 68,
                  "reading_score": 59,
                  "writing_score": 62,
                  "gender_male": 1,
                  "total_score": 189,
                  "economic_status": 4
                },
                {
                  "index": 419,
                  "race": 5,
                  "parent_edu": 2,
                  "lunch": 0,
                  "test_prep": 1,
                  "math_score": 57,
                  "reading_score": 56,
                  "writing_score": 54,
                  "gender_male": 1,
                  "total_score": 167,
                  "economic_status": 2
                },
                {
                  "index": 420,
                  "race": 3,
                  "parent_edu": 4,
                  "lunch": 0,
                  "test_prep": 1,
                  "math_score": 82,
                  "reading_score": 93,
                  "writing_score": 93,
                  "gender_male": 0,
                  "total_score": 268,
                  "economic_status": 4
                },
                {
                  "index": 421,
                  "race": 4,
                  "parent_edu": 2,
                  "lunch": 1,
                  "test_prep": 1,
                  "math_score": 57,
                  "reading_score": 58,
                  "writing_score": 64,
                  "gender_male": 0,
                  "total_score": 179,
                  "economic_status": 3
                },
                {
                  "index": 422,
                  "race": 4,
                  "parent_edu": 6,
                  "lunch": 0,
                  "test_prep": 1,
                  "math_score": 47,
                  "reading_score": 58,
                  "writing_score": 67,
                  "gender_male": 0,
                  "total_score": 172,
                  "economic_status": 6
                },
                {
                  "index": 423,
                  "race": 1,
                  "parent_edu": 1,
                  "lunch": 1,
                  "test_prep": 1,
                  "math_score": 59,
                  "reading_score": 85,
                  "writing_score": 80,
                  "gender_male": 0,
                  "total_score": 224,
                  "economic_status": 2
                },
                {
                  "index": 424,
                  "race": 2,
                  "parent_edu": 3,
                  "lunch": 0,
                  "test_prep": 0,
                  "math_score": 41,
                  "reading_score": 39,
                  "writing_score": 34,
                  "gender_male": 1,
                  "total_score": 114,
                  "economic_status": 3
                },
                {
                  "index": 425,
                  "race": 3,
                  "parent_edu": 3,
                  "lunch": 0,
                  "test_prep": 0,
                  "math_score": 62,
                  "reading_score": 67,
                  "writing_score": 62,
                  "gender_male": 0,
                  "total_score": 191,
                  "economic_status": 3
                },
                {
                  "index": 426,
                  "race": 3,
                  "parent_edu": 5,
                  "lunch": 1,
                  "test_prep": 0,
                  "math_score": 86,
                  "reading_score": 83,
                  "writing_score": 86,
                  "gender_male": 1,
                  "total_score": 255,
                  "economic_status": 6
                },
                {
                  "index": 427,
                  "race": 3,
                  "parent_edu": 1,
                  "lunch": 0,
                  "test_prep": 0,
                  "math_score": 69,
                  "reading_score": 71,
                  "writing_score": 65,
                  "gender_male": 1,
                  "total_score": 205,
                  "economic_status": 1
                },
                {
                  "index": 428,
                  "race": 1,
                  "parent_edu": 1,
                  "lunch": 0,
                  "test_prep": 0,
                  "math_score": 65,
                  "reading_score": 59,
                  "writing_score": 53,
                  "gender_male": 1,
                  "total_score": 177,
                  "economic_status": 1
                },
                {
                  "index": 429,
                  "race": 3,
                  "parent_edu": 1,
                  "lunch": 0,
                  "test_prep": 0,
                  "math_score": 68,
                  "reading_score": 63,
                  "writing_score": 54,
                  "gender_male": 1,
                  "total_score": 185,
                  "economic_status": 1
                },
                {
                  "index": 430,
                  "race": 3,
                  "parent_edu": 4,
                  "lunch": 0,
                  "test_prep": 0,
                  "math_score": 64,
                  "reading_score": 66,
                  "writing_score": 59,
                  "gender_male": 1,
                  "total_score": 189,
                  "economic_status": 4
                },
                {
                  "index": 431,
                  "race": 3,
                  "parent_edu": 2,
                  "lunch": 1,
                  "test_prep": 0,
                  "math_score": 61,
                  "reading_score": 72,
                  "writing_score": 70,
                  "gender_male": 0,
                  "total_score": 203,
                  "economic_status": 3
                },
                {
                  "index": 432,
                  "race": 3,
                  "parent_edu": 2,
                  "lunch": 1,
                  "test_prep": 0,
                  "math_score": 61,
                  "reading_score": 56,
                  "writing_score": 55,
                  "gender_male": 1,
                  "total_score": 172,
                  "economic_status": 3
                },
                {
                  "index": 433,
                  "race": 1,
                  "parent_edu": 1,
                  "lunch": 0,
                  "test_prep": 0,
                  "math_score": 47,
                  "reading_score": 59,
                  "writing_score": 50,
                  "gender_male": 0,
                  "total_score": 156,
                  "economic_status": 1
                },
                {
                  "index": 434,
                  "race": 3,
                  "parent_edu": 1,
                  "lunch": 1,
                  "test_prep": 0,
                  "math_score": 73,
                  "reading_score": 66,
                  "writing_score": 66,
                  "gender_male": 1,
                  "total_score": 205,
                  "economic_status": 2
                },
                {
                  "index": 435,
                  "race": 3,
                  "parent_edu": 3,
                  "lunch": 0,
                  "test_prep": 1,
                  "math_score": 50,
                  "reading_score": 48,
                  "writing_score": 53,
                  "gender_male": 1,
                  "total_score": 151,
                  "economic_status": 3
                },
                {
                  "index": 436,
                  "race": 4,
                  "parent_edu": 4,
                  "lunch": 1,
                  "test_prep": 0,
                  "math_score": 75,
                  "reading_score": 68,
                  "writing_score": 64,
                  "gender_male": 1,
                  "total_score": 207,
                  "economic_status": 5
                },
                {
                  "index": 437,
                  "race": 4,
                  "parent_edu": 4,
                  "lunch": 0,
                  "test_prep": 0,
                  "math_score": 75,
                  "reading_score": 66,
                  "writing_score": 73,
                  "gender_male": 1,
                  "total_score": 214,
                  "economic_status": 4
                },
                {
                  "index": 438,
                  "race": 3,
                  "parent_edu": 2,
                  "lunch": 1,
                  "test_prep": 0,
                  "math_score": 70,
                  "reading_score": 56,
                  "writing_score": 51,
                  "gender_male": 1,
                  "total_score": 177,
                  "economic_status": 3
                },
                {
                  "index": 439,
                  "race": 4,
                  "parent_edu": 1,
                  "lunch": 1,
                  "test_prep": 1,
                  "math_score": 89,
                  "reading_score": 88,
                  "writing_score": 82,
                  "gender_male": 1,
                  "total_score": 259,
                  "economic_status": 2
                },
                {
                  "index": 440,
                  "race": 3,
                  "parent_edu": 3,
                  "lunch": 1,
                  "test_prep": 1,
                  "math_score": 67,
                  "reading_score": 81,
                  "writing_score": 79,
                  "gender_male": 0,
                  "total_score": 227,
                  "economic_status": 4
                },
                {
                  "index": 441,
                  "race": 4,
                  "parent_edu": 2,
                  "lunch": 1,
                  "test_prep": 0,
                  "math_score": 78,
                  "reading_score": 81,
                  "writing_score": 80,
                  "gender_male": 0,
                  "total_score": 239,
                  "economic_status": 3
                },
                {
                  "index": 442,
                  "race": 1,
                  "parent_edu": 1,
                  "lunch": 0,
                  "test_prep": 0,
                  "math_score": 59,
                  "reading_score": 73,
                  "writing_score": 69,
                  "gender_male": 0,
                  "total_score": 201,
                  "economic_status": 1
                },
                {
                  "index": 443,
                  "race": 2,
                  "parent_edu": 4,
                  "lunch": 1,
                  "test_prep": 0,
                  "math_score": 73,
                  "reading_score": 83,
                  "writing_score": 76,
                  "gender_male": 0,
                  "total_score": 232,
                  "economic_status": 5
                },
                {
                  "index": 444,
                  "race": 1,
                  "parent_edu": 1,
                  "lunch": 0,
                  "test_prep": 0,
                  "math_score": 79,
                  "reading_score": 82,
                  "writing_score": 73,
                  "gender_male": 1,
                  "total_score": 234,
                  "economic_status": 1
                },
                {
                  "index": 445,
                  "race": 3,
                  "parent_edu": 1,
                  "lunch": 1,
                  "test_prep": 1,
                  "math_score": 67,
                  "reading_score": 74,
                  "writing_score": 77,
                  "gender_male": 0,
                  "total_score": 218,
                  "economic_status": 2
                },
                {
                  "index": 446,
                  "race": 4,
                  "parent_edu": 3,
                  "lunch": 0,
                  "test_prep": 0,
                  "math_score": 69,
                  "reading_score": 66,
                  "writing_score": 60,
                  "gender_male": 1,
                  "total_score": 195,
                  "economic_status": 3
                },
                {
                  "index": 447,
                  "race": 3,
                  "parent_edu": 2,
                  "lunch": 1,
                  "test_prep": 1,
                  "math_score": 86,
                  "reading_score": 81,
                  "writing_score": 80,
                  "gender_male": 1,
                  "total_score": 247,
                  "economic_status": 3
                },
                {
                  "index": 448,
                  "race": 2,
                  "parent_edu": 2,
                  "lunch": 1,
                  "test_prep": 0,
                  "math_score": 47,
                  "reading_score": 46,
                  "writing_score": 42,
                  "gender_male": 1,
                  "total_score": 135,
                  "economic_status": 3
                },
                {
                  "index": 449,
                  "race": 2,
                  "parent_edu": 4,
                  "lunch": 1,
                  "test_prep": 0,
                  "math_score": 81,
                  "reading_score": 73,
                  "writing_score": 72,
                  "gender_male": 1,
                  "total_score": 226,
                  "economic_status": 5
                },
                {
                  "index": 450,
                  "race": 3,
                  "parent_edu": 3,
                  "lunch": 0,
                  "test_prep": 1,
                  "math_score": 64,
                  "reading_score": 85,
                  "writing_score": 85,
                  "gender_male": 0,
                  "total_score": 234,
                  "economic_status": 3
                },
                {
                  "index": 451,
                  "race": 5,
                  "parent_edu": 3,
                  "lunch": 1,
                  "test_prep": 0,
                  "math_score": 100,
                  "reading_score": 92,
                  "writing_score": 97,
                  "gender_male": 0,
                  "total_score": 289,
                  "economic_status": 4
                },
                {
                  "index": 452,
                  "race": 3,
                  "parent_edu": 4,
                  "lunch": 0,
                  "test_prep": 0,
                  "math_score": 65,
                  "reading_score": 77,
                  "writing_score": 74,
                  "gender_male": 0,
                  "total_score": 216,
                  "economic_status": 4
                },
                {
                  "index": 453,
                  "race": 3,
                  "parent_edu": 3,
                  "lunch": 0,
                  "test_prep": 0,
                  "math_score": 65,
                  "reading_score": 58,
                  "writing_score": 49,
                  "gender_male": 1,
                  "total_score": 172,
                  "economic_status": 3
                },
                {
                  "index": 454,
                  "race": 3,
                  "parent_edu": 4,
                  "lunch": 0,
                  "test_prep": 0,
                  "math_score": 53,
                  "reading_score": 61,
                  "writing_score": 62,
                  "gender_male": 0,
                  "total_score": 176,
                  "economic_status": 4
                },
                {
                  "index": 455,
                  "race": 3,
                  "parent_edu": 5,
                  "lunch": 0,
                  "test_prep": 0,
                  "math_score": 37,
                  "reading_score": 56,
                  "writing_score": 47,
                  "gender_male": 1,
                  "total_score": 140,
                  "economic_status": 5
                },
                {
                  "index": 456,
                  "race": 4,
                  "parent_edu": 5,
                  "lunch": 1,
                  "test_prep": 0,
                  "math_score": 79,
                  "reading_score": 89,
                  "writing_score": 89,
                  "gender_male": 0,
                  "total_score": 257,
                  "economic_status": 6
                },
                {
                  "index": 457,
                  "race": 4,
                  "parent_edu": 4,
                  "lunch": 0,
                  "test_prep": 0,
                  "math_score": 53,
                  "reading_score": 54,
                  "writing_score": 48,
                  "gender_male": 1,
                  "total_score": 155,
                  "economic_status": 4
                },
                {
                  "index": 458,
                  "race": 5,
                  "parent_edu": 5,
                  "lunch": 1,
                  "test_prep": 0,
                  "math_score": 100,
                  "reading_score": 100,
                  "writing_score": 100,
                  "gender_male": 0,
                  "total_score": 300,
                  "economic_status": 6
                },
                {
                  "index": 459,
                  "race": 2,
                  "parent_edu": 2,
                  "lunch": 1,
                  "test_prep": 1,
                  "math_score": 72,
                  "reading_score": 65,
                  "writing_score": 68,
                  "gender_male": 1,
                  "total_score": 205,
                  "economic_status": 3
                },
                {
                  "index": 460,
                  "race": 3,
                  "parent_edu": 5,
                  "lunch": 0,
                  "test_prep": 0,
                  "math_score": 53,
                  "reading_score": 58,
                  "writing_score": 55,
                  "gender_male": 1,
                  "total_score": 166,
                  "economic_status": 5
                },
                {
                  "index": 461,
                  "race": 2,
                  "parent_edu": 3,
                  "lunch": 0,
                  "test_prep": 0,
                  "math_score": 54,
                  "reading_score": 54,
                  "writing_score": 45,
                  "gender_male": 1,
                  "total_score": 153,
                  "economic_status": 3
                },
                {
                  "index": 462,
                  "race": 5,
                  "parent_edu": 3,
                  "lunch": 1,
                  "test_prep": 0,
                  "math_score": 71,
                  "reading_score": 70,
                  "writing_score": 76,
                  "gender_male": 0,
                  "total_score": 217,
                  "economic_status": 4
                },
                {
                  "index": 463,
                  "race": 3,
                  "parent_edu": 3,
                  "lunch": 0,
                  "test_prep": 0,
                  "math_score": 77,
                  "reading_score": 90,
                  "writing_score": 91,
                  "gender_male": 0,
                  "total_score": 258,
                  "economic_status": 3
                },
                {
                  "index": 464,
                  "race": 1,
                  "parent_edu": 5,
                  "lunch": 1,
                  "test_prep": 1,
                  "math_score": 75,
                  "reading_score": 58,
                  "writing_score": 62,
                  "gender_male": 1,
                  "total_score": 195,
                  "economic_status": 6
                },
                {
                  "index": 465,
                  "race": 3,
                  "parent_edu": 3,
                  "lunch": 1,
                  "test_prep": 0,
                  "math_score": 84,
                  "reading_score": 87,
                  "writing_score": 91,
                  "gender_male": 0,
                  "total_score": 262,
                  "economic_status": 4
                },
                {
                  "index": 466,
                  "race": 4,
                  "parent_edu": 4,
                  "lunch": 0,
                  "test_prep": 0,
                  "math_score": 26,
                  "reading_score": 31,
                  "writing_score": 38,
                  "gender_male": 0,
                  "total_score": 95,
                  "economic_status": 4
                },
                {
                  "index": 467,
                  "race": 1,
                  "parent_edu": 2,
                  "lunch": 0,
                  "test_prep": 1,
                  "math_score": 72,
                  "reading_score": 67,
                  "writing_score": 65,
                  "gender_male": 1,
                  "total_score": 204,
                  "economic_status": 2
                },
                {
                  "index": 468,
                  "race": 1,
                  "parent_edu": 2,
                  "lunch": 0,
                  "test_prep": 1,
                  "math_score": 77,
                  "reading_score": 88,
                  "writing_score": 85,
                  "gender_male": 0,
                  "total_score": 250,
                  "economic_status": 2
                },
                {
                  "index": 469,
                  "race": 3,
                  "parent_edu": 3,
                  "lunch": 1,
                  "test_prep": 0,
                  "math_score": 91,
                  "reading_score": 74,
                  "writing_score": 76,
                  "gender_male": 1,
                  "total_score": 241,
                  "economic_status": 4
                },
                {
                  "index": 470,
                  "race": 3,
                  "parent_edu": 4,
                  "lunch": 1,
                  "test_prep": 1,
                  "math_score": 83,
                  "reading_score": 85,
                  "writing_score": 90,
                  "gender_male": 0,
                  "total_score": 258,
                  "economic_status": 5
                },
                {
                  "index": 471,
                  "race": 3,
                  "parent_edu": 2,
                  "lunch": 1,
                  "test_prep": 0,
                  "math_score": 63,
                  "reading_score": 69,
                  "writing_score": 74,
                  "gender_male": 0,
                  "total_score": 206,
                  "economic_status": 3
                },
                {
                  "index": 472,
                  "race": 3,
                  "parent_edu": 4,
                  "lunch": 1,
                  "test_prep": 1,
                  "math_score": 68,
                  "reading_score": 86,
                  "writing_score": 84,
                  "gender_male": 0,
                  "total_score": 238,
                  "economic_status": 5
                },
                {
                  "index": 473,
                  "race": 4,
                  "parent_edu": 1,
                  "lunch": 1,
                  "test_prep": 0,
                  "math_score": 59,
                  "reading_score": 67,
                  "writing_score": 61,
                  "gender_male": 0,
                  "total_score": 187,
                  "economic_status": 2
                },
                {
                  "index": 474,
                  "race": 2,
                  "parent_edu": 4,
                  "lunch": 1,
                  "test_prep": 1,
                  "math_score": 90,
                  "reading_score": 90,
                  "writing_score": 91,
                  "gender_male": 0,
                  "total_score": 271,
                  "economic_status": 5
                },
                {
                  "index": 475,
                  "race": 4,
                  "parent_edu": 5,
                  "lunch": 1,
                  "test_prep": 1,
                  "math_score": 71,
                  "reading_score": 76,
                  "writing_score": 83,
                  "gender_male": 0,
                  "total_score": 230,
                  "economic_status": 6
                },
                {
                  "index": 476,
                  "race": 5,
                  "parent_edu": 5,
                  "lunch": 1,
                  "test_prep": 1,
                  "math_score": 76,
                  "reading_score": 62,
                  "writing_score": 66,
                  "gender_male": 1,
                  "total_score": 204,
                  "economic_status": 6
                },
                {
                  "index": 477,
                  "race": 4,
                  "parent_edu": 4,
                  "lunch": 1,
                  "test_prep": 0,
                  "math_score": 80,
                  "reading_score": 68,
                  "writing_score": 72,
                  "gender_male": 1,
                  "total_score": 220,
                  "economic_status": 5
                },
                {
                  "index": 478,
                  "race": 4,
                  "parent_edu": 6,
                  "lunch": 1,
                  "test_prep": 0,
                  "math_score": 55,
                  "reading_score": 64,
                  "writing_score": 70,
                  "gender_male": 0,
                  "total_score": 189,
                  "economic_status": 7
                },
                {
                  "index": 479,
                  "race": 5,
                  "parent_edu": 4,
                  "lunch": 1,
                  "test_prep": 0,
                  "math_score": 76,
                  "reading_score": 71,
                  "writing_score": 67,
                  "gender_male": 1,
                  "total_score": 214,
                  "economic_status": 5
                },
                {
                  "index": 480,
                  "race": 2,
                  "parent_edu": 2,
                  "lunch": 1,
                  "test_prep": 1,
                  "math_score": 73,
                  "reading_score": 71,
                  "writing_score": 68,
                  "gender_male": 1,
                  "total_score": 212,
                  "economic_status": 3
                },
                {
                  "index": 481,
                  "race": 4,
                  "parent_edu": 4,
                  "lunch": 0,
                  "test_prep": 0,
                  "math_score": 52,
                  "reading_score": 59,
                  "writing_score": 56,
                  "gender_male": 0,
                  "total_score": 167,
                  "economic_status": 4
                },
                {
                  "index": 482,
                  "race": 3,
                  "parent_edu": 3,
                  "lunch": 0,
                  "test_prep": 0,
                  "math_score": 68,
                  "reading_score": 68,
                  "writing_score": 61,
                  "gender_male": 1,
                  "total_score": 197,
                  "economic_status": 3
                },
                {
                  "index": 483,
                  "race": 1,
                  "parent_edu": 2,
                  "lunch": 1,
                  "test_prep": 0,
                  "math_score": 59,
                  "reading_score": 52,
                  "writing_score": 46,
                  "gender_male": 1,
                  "total_score": 157,
                  "economic_status": 3
                },
                {
                  "index": 484,
                  "race": 2,
                  "parent_edu": 4,
                  "lunch": 1,
                  "test_prep": 0,
                  "math_score": 49,
                  "reading_score": 52,
                  "writing_score": 54,
                  "gender_male": 0,
                  "total_score": 155,
                  "economic_status": 5
                },
                {
                  "index": 485,
                  "race": 3,
                  "parent_edu": 2,
                  "lunch": 1,
                  "test_prep": 0,
                  "math_score": 70,
                  "reading_score": 74,
                  "writing_score": 71,
                  "gender_male": 1,
                  "total_score": 215,
                  "economic_status": 3
                },
                {
                  "index": 486,
                  "race": 4,
                  "parent_edu": 3,
                  "lunch": 0,
                  "test_prep": 0,
                  "math_score": 61,
                  "reading_score": 47,
                  "writing_score": 56,
                  "gender_male": 1,
                  "total_score": 164,
                  "economic_status": 3
                },
                {
                  "index": 487,
                  "race": 3,
                  "parent_edu": 4,
                  "lunch": 0,
                  "test_prep": 0,
                  "math_score": 60,
                  "reading_score": 75,
                  "writing_score": 74,
                  "gender_male": 0,
                  "total_score": 209,
                  "economic_status": 4
                },
                {
                  "index": 488,
                  "race": 2,
                  "parent_edu": 1,
                  "lunch": 1,
                  "test_prep": 1,
                  "math_score": 64,
                  "reading_score": 53,
                  "writing_score": 57,
                  "gender_male": 1,
                  "total_score": 174,
                  "economic_status": 2
                },
                {
                  "index": 489,
                  "race": 1,
                  "parent_edu": 4,
                  "lunch": 0,
                  "test_prep": 1,
                  "math_score": 79,
                  "reading_score": 82,
                  "writing_score": 82,
                  "gender_male": 1,
                  "total_score": 243,
                  "economic_status": 4
                },
                {
                  "index": 490,
                  "race": 1,
                  "parent_edu": 4,
                  "lunch": 0,
                  "test_prep": 0,
                  "math_score": 65,
                  "reading_score": 85,
                  "writing_score": 76,
                  "gender_male": 0,
                  "total_score": 226,
                  "economic_status": 4
                },
                {
                  "index": 491,
                  "race": 3,
                  "parent_edu": 4,
                  "lunch": 1,
                  "test_prep": 0,
                  "math_score": 64,
                  "reading_score": 64,
                  "writing_score": 70,
                  "gender_male": 0,
                  "total_score": 198,
                  "economic_status": 5
                },
                {
                  "index": 492,
                  "race": 3,
                  "parent_edu": 3,
                  "lunch": 1,
                  "test_prep": 0,
                  "math_score": 83,
                  "reading_score": 83,
                  "writing_score": 90,
                  "gender_male": 0,
                  "total_score": 256,
                  "economic_status": 4
                },
                {
                  "index": 493,
                  "race": 3,
                  "parent_edu": 5,
                  "lunch": 1,
                  "test_prep": 0,
                  "math_score": 81,
                  "reading_score": 88,
                  "writing_score": 90,
                  "gender_male": 0,
                  "total_score": 259,
                  "economic_status": 6
                },
                {
                  "index": 494,
                  "race": 2,
                  "parent_edu": 2,
                  "lunch": 1,
                  "test_prep": 0,
                  "math_score": 54,
                  "reading_score": 64,
                  "writing_score": 68,
                  "gender_male": 0,
                  "total_score": 186,
                  "economic_status": 3
                },
                {
                  "index": 495,
                  "race": 4,
                  "parent_edu": 2,
                  "lunch": 1,
                  "test_prep": 1,
                  "math_score": 68,
                  "reading_score": 64,
                  "writing_score": 66,
                  "gender_male": 1,
                  "total_score": 198,
                  "economic_status": 3
                },
                {
                  "index": 496,
                  "race": 3,
                  "parent_edu": 3,
                  "lunch": 1,
                  "test_prep": 0,
                  "math_score": 54,
                  "reading_score": 48,
                  "writing_score": 52,
                  "gender_male": 0,
                  "total_score": 154,
                  "economic_status": 4
                },
                {
                  "index": 497,
                  "race": 4,
                  "parent_edu": 3,
                  "lunch": 0,
                  "test_prep": 1,
                  "math_score": 59,
                  "reading_score": 78,
                  "writing_score": 76,
                  "gender_male": 0,
                  "total_score": 213,
                  "economic_status": 3
                },
                {
                  "index": 498,
                  "race": 2,
                  "parent_edu": 1,
                  "lunch": 1,
                  "test_prep": 0,
                  "math_score": 66,
                  "reading_score": 69,
                  "writing_score": 68,
                  "gender_male": 0,
                  "total_score": 203,
                  "economic_status": 2
                },
                {
                  "index": 499,
                  "race": 5,
                  "parent_edu": 3,
                  "lunch": 1,
                  "test_prep": 0,
                  "math_score": 76,
                  "reading_score": 71,
                  "writing_score": 72,
                  "gender_male": 1,
                  "total_score": 219,
                  "economic_status": 4
                },
                {
                  "index": 500,
                  "race": 4,
                  "parent_edu": 6,
                  "lunch": 1,
                  "test_prep": 0,
                  "math_score": 74,
                  "reading_score": 79,
                  "writing_score": 82,
                  "gender_male": 0,
                  "total_score": 235,
                  "economic_status": 7
                },
                {
                  "index": 501,
                  "race": 2,
                  "parent_edu": 4,
                  "lunch": 1,
                  "test_prep": 1,
                  "math_score": 94,
                  "reading_score": 87,
                  "writing_score": 92,
                  "gender_male": 0,
                  "total_score": 273,
                  "economic_status": 5
                },
                {
                  "index": 502,
                  "race": 3,
                  "parent_edu": 3,
                  "lunch": 0,
                  "test_prep": 0,
                  "math_score": 63,
                  "reading_score": 61,
                  "writing_score": 54,
                  "gender_male": 1,
                  "total_score": 178,
                  "economic_status": 3
                },
                {
                  "index": 503,
                  "race": 5,
                  "parent_edu": 4,
                  "lunch": 1,
                  "test_prep": 1,
                  "math_score": 95,
                  "reading_score": 89,
                  "writing_score": 92,
                  "gender_male": 0,
                  "total_score": 276,
                  "economic_status": 5
                },
                {
                  "index": 504,
                  "race": 4,
                  "parent_edu": 6,
                  "lunch": 0,
                  "test_prep": 0,
                  "math_score": 40,
                  "reading_score": 59,
                  "writing_score": 54,
                  "gender_male": 0,
                  "total_score": 153,
                  "economic_status": 6
                },
                {
                  "index": 505,
                  "race": 2,
                  "parent_edu": 1,
                  "lunch": 1,
                  "test_prep": 0,
                  "math_score": 82,
                  "reading_score": 82,
                  "writing_score": 80,
                  "gender_male": 0,
                  "total_score": 244,
                  "economic_status": 2
                },
                {
                  "index": 506,
                  "race": 1,
                  "parent_edu": 2,
                  "lunch": 1,
                  "test_prep": 0,
                  "math_score": 68,
                  "reading_score": 70,
                  "writing_score": 66,
                  "gender_male": 1,
                  "total_score": 204,
                  "economic_status": 3
                },
                {
                  "index": 507,
                  "race": 2,
                  "parent_edu": 5,
                  "lunch": 0,
                  "test_prep": 0,
                  "math_score": 55,
                  "reading_score": 59,
                  "writing_score": 54,
                  "gender_male": 1,
                  "total_score": 168,
                  "economic_status": 5
                },
                {
                  "index": 508,
                  "race": 3,
                  "parent_edu": 6,
                  "lunch": 1,
                  "test_prep": 0,
                  "math_score": 79,
                  "reading_score": 78,
                  "writing_score": 77,
                  "gender_male": 1,
                  "total_score": 234,
                  "economic_status": 7
                },
                {
                  "index": 509,
                  "race": 3,
                  "parent_edu": 5,
                  "lunch": 1,
                  "test_prep": 0,
                  "math_score": 86,
                  "reading_score": 92,
                  "writing_score": 87,
                  "gender_male": 0,
                  "total_score": 265,
                  "economic_status": 6
                },
                {
                  "index": 510,
                  "race": 4,
                  "parent_edu": 3,
                  "lunch": 1,
                  "test_prep": 0,
                  "math_score": 76,
                  "reading_score": 71,
                  "writing_score": 73,
                  "gender_male": 1,
                  "total_score": 220,
                  "economic_status": 4
                },
                {
                  "index": 511,
                  "race": 1,
                  "parent_edu": 1,
                  "lunch": 1,
                  "test_prep": 0,
                  "math_score": 64,
                  "reading_score": 50,
                  "writing_score": 43,
                  "gender_male": 1,
                  "total_score": 157,
                  "economic_status": 2
                },
                {
                  "index": 512,
                  "race": 4,
                  "parent_edu": 1,
                  "lunch": 0,
                  "test_prep": 0,
                  "math_score": 62,
                  "reading_score": 49,
                  "writing_score": 52,
                  "gender_male": 1,
                  "total_score": 163,
                  "economic_status": 1
                },
                {
                  "index": 513,
                  "race": 2,
                  "parent_edu": 1,
                  "lunch": 1,
                  "test_prep": 1,
                  "math_score": 54,
                  "reading_score": 61,
                  "writing_score": 62,
                  "gender_male": 0,
                  "total_score": 177,
                  "economic_status": 2
                },
                {
                  "index": 514,
                  "race": 2,
                  "parent_edu": 6,
                  "lunch": 0,
                  "test_prep": 1,
                  "math_score": 77,
                  "reading_score": 97,
                  "writing_score": 94,
                  "gender_male": 0,
                  "total_score": 268,
                  "economic_status": 6
                },
                {
                  "index": 515,
                  "race": 3,
                  "parent_edu": 1,
                  "lunch": 1,
                  "test_prep": 1,
                  "math_score": 76,
                  "reading_score": 87,
                  "writing_score": 85,
                  "gender_male": 0,
                  "total_score": 248,
                  "economic_status": 2
                },
                {
                  "index": 516,
                  "race": 4,
                  "parent_edu": 3,
                  "lunch": 1,
                  "test_prep": 0,
                  "math_score": 74,
                  "reading_score": 89,
                  "writing_score": 84,
                  "gender_male": 0,
                  "total_score": 247,
                  "economic_status": 4
                },
                {
                  "index": 517,
                  "race": 5,
                  "parent_edu": 3,
                  "lunch": 1,
                  "test_prep": 1,
                  "math_score": 66,
                  "reading_score": 74,
                  "writing_score": 73,
                  "gender_male": 0,
                  "total_score": 213,
                  "economic_status": 4
                },
                {
                  "index": 518,
                  "race": 4,
                  "parent_edu": 1,
                  "lunch": 1,
                  "test_prep": 1,
                  "math_score": 66,
                  "reading_score": 78,
                  "writing_score": 78,
                  "gender_male": 0,
                  "total_score": 222,
                  "economic_status": 2
                },
                {
                  "index": 519,
                  "race": 2,
                  "parent_edu": 2,
                  "lunch": 0,
                  "test_prep": 1,
                  "math_score": 67,
                  "reading_score": 78,
                  "writing_score": 79,
                  "gender_male": 0,
                  "total_score": 224,
                  "economic_status": 2
                },
                {
                  "index": 520,
                  "race": 4,
                  "parent_edu": 3,
                  "lunch": 1,
                  "test_prep": 0,
                  "math_score": 71,
                  "reading_score": 49,
                  "writing_score": 52,
                  "gender_male": 1,
                  "total_score": 172,
                  "economic_status": 4
                },
                {
                  "index": 521,
                  "race": 3,
                  "parent_edu": 4,
                  "lunch": 1,
                  "test_prep": 0,
                  "math_score": 91,
                  "reading_score": 86,
                  "writing_score": 84,
                  "gender_male": 0,
                  "total_score": 261,
                  "economic_status": 5
                },
                {
                  "index": 522,
                  "race": 4,
                  "parent_edu": 5,
                  "lunch": 1,
                  "test_prep": 0,
                  "math_score": 69,
                  "reading_score": 58,
                  "writing_score": 57,
                  "gender_male": 1,
                  "total_score": 184,
                  "economic_status": 6
                },
                {
                  "index": 523,
                  "race": 3,
                  "parent_edu": 6,
                  "lunch": 0,
                  "test_prep": 0,
                  "math_score": 54,
                  "reading_score": 59,
                  "writing_score": 50,
                  "gender_male": 1,
                  "total_score": 163,
                  "economic_status": 6
                },
                {
                  "index": 524,
                  "race": 3,
                  "parent_edu": 2,
                  "lunch": 1,
                  "test_prep": 1,
                  "math_score": 53,
                  "reading_score": 52,
                  "writing_score": 49,
                  "gender_male": 1,
                  "total_score": 154,
                  "economic_status": 3
                },
                {
                  "index": 525,
                  "race": 5,
                  "parent_edu": 3,
                  "lunch": 1,
                  "test_prep": 0,
                  "math_score": 68,
                  "reading_score": 60,
                  "writing_score": 59,
                  "gender_male": 1,
                  "total_score": 187,
                  "economic_status": 4
                },
                {
                  "index": 526,
                  "race": 3,
                  "parent_edu": 1,
                  "lunch": 0,
                  "test_prep": 1,
                  "math_score": 56,
                  "reading_score": 61,
                  "writing_score": 60,
                  "gender_male": 1,
                  "total_score": 177,
                  "economic_status": 1
                },
                {
                  "index": 527,
                  "race": 3,
                  "parent_edu": 2,
                  "lunch": 0,
                  "test_prep": 0,
                  "math_score": 36,
                  "reading_score": 53,
                  "writing_score": 43,
                  "gender_male": 0,
                  "total_score": 132,
                  "economic_status": 2
                },
                {
                  "index": 528,
                  "race": 4,
                  "parent_edu": 5,
                  "lunch": 0,
                  "test_prep": 0,
                  "math_score": 29,
                  "reading_score": 41,
                  "writing_score": 47,
                  "gender_male": 0,
                  "total_score": 117,
                  "economic_status": 5
                },
                {
                  "index": 529,
                  "race": 3,
                  "parent_edu": 4,
                  "lunch": 1,
                  "test_prep": 0,
                  "math_score": 62,
                  "reading_score": 74,
                  "writing_score": 70,
                  "gender_male": 0,
                  "total_score": 206,
                  "economic_status": 5
                },
                {
                  "index": 530,
                  "race": 3,
                  "parent_edu": 4,
                  "lunch": 1,
                  "test_prep": 1,
                  "math_score": 68,
                  "reading_score": 67,
                  "writing_score": 73,
                  "gender_male": 0,
                  "total_score": 208,
                  "economic_status": 5
                },
                {
                  "index": 531,
                  "race": 3,
                  "parent_edu": 1,
                  "lunch": 1,
                  "test_prep": 0,
                  "math_score": 47,
                  "reading_score": 54,
                  "writing_score": 53,
                  "gender_male": 0,
                  "total_score": 154,
                  "economic_status": 2
                },
                {
                  "index": 532,
                  "race": 5,
                  "parent_edu": 4,
                  "lunch": 1,
                  "test_prep": 1,
                  "math_score": 62,
                  "reading_score": 61,
                  "writing_score": 58,
                  "gender_male": 1,
                  "total_score": 181,
                  "economic_status": 5
                },
                {
                  "index": 533,
                  "race": 5,
                  "parent_edu": 4,
                  "lunch": 1,
                  "test_prep": 1,
                  "math_score": 79,
                  "reading_score": 88,
                  "writing_score": 94,
                  "gender_male": 0,
                  "total_score": 261,
                  "economic_status": 5
                },
                {
                  "index": 534,
                  "race": 2,
                  "parent_edu": 2,
                  "lunch": 1,
                  "test_prep": 1,
                  "math_score": 73,
                  "reading_score": 69,
                  "writing_score": 68,
                  "gender_male": 1,
                  "total_score": 210,
                  "economic_status": 3
                },
                {
                  "index": 535,
                  "race": 3,
                  "parent_edu": 5,
                  "lunch": 0,
                  "test_prep": 1,
                  "math_score": 66,
                  "reading_score": 83,
                  "writing_score": 83,
                  "gender_male": 0,
                  "total_score": 232,
                  "economic_status": 5
                },
                {
                  "index": 536,
                  "race": 3,
                  "parent_edu": 4,
                  "lunch": 1,
                  "test_prep": 1,
                  "math_score": 51,
                  "reading_score": 60,
                  "writing_score": 58,
                  "gender_male": 1,
                  "total_score": 169,
                  "economic_status": 5
                },
                {
                  "index": 537,
                  "race": 4,
                  "parent_edu": 2,
                  "lunch": 1,
                  "test_prep": 0,
                  "math_score": 51,
                  "reading_score": 66,
                  "writing_score": 62,
                  "gender_male": 0,
                  "total_score": 179,
                  "economic_status": 3
                },
                {
                  "index": 538,
                  "race": 5,
                  "parent_edu": 5,
                  "lunch": 1,
                  "test_prep": 1,
                  "math_score": 85,
                  "reading_score": 66,
                  "writing_score": 71,
                  "gender_male": 1,
                  "total_score": 222,
                  "economic_status": 6
                },
                {
                  "index": 539,
                  "race": 1,
                  "parent_edu": 4,
                  "lunch": 1,
                  "test_prep": 1,
                  "math_score": 97,
                  "reading_score": 92,
                  "writing_score": 86,
                  "gender_male": 1,
                  "total_score": 275,
                  "economic_status": 5
                },
                {
                  "index": 540,
                  "race": 3,
                  "parent_edu": 2,
                  "lunch": 1,
                  "test_prep": 1,
                  "math_score": 75,
                  "reading_score": 69,
                  "writing_score": 68,
                  "gender_male": 1,
                  "total_score": 212,
                  "economic_status": 3
                },
                {
                  "index": 541,
                  "race": 4,
                  "parent_edu": 4,
                  "lunch": 0,
                  "test_prep": 1,
                  "math_score": 79,
                  "reading_score": 82,
                  "writing_score": 80,
                  "gender_male": 1,
                  "total_score": 241,
                  "economic_status": 4
                },
                {
                  "index": 542,
                  "race": 3,
                  "parent_edu": 4,
                  "lunch": 1,
                  "test_prep": 0,
                  "math_score": 81,
                  "reading_score": 77,
                  "writing_score": 79,
                  "gender_male": 0,
                  "total_score": 237,
                  "economic_status": 5
                },
                {
                  "index": 543,
                  "race": 4,
                  "parent_edu": 4,
                  "lunch": 1,
                  "test_prep": 0,
                  "math_score": 82,
                  "reading_score": 95,
                  "writing_score": 89,
                  "gender_male": 0,
                  "total_score": 266,
                  "economic_status": 5
                },
                {
                  "index": 544,
                  "race": 4,
                  "parent_edu": 6,
                  "lunch": 1,
                  "test_prep": 0,
                  "math_score": 64,
                  "reading_score": 63,
                  "writing_score": 66,
                  "gender_male": 0,
                  "total_score": 193,
                  "economic_status": 7
                },
                {
                  "index": 545,
                  "race": 5,
                  "parent_edu": 1,
                  "lunch": 0,
                  "test_prep": 1,
                  "math_score": 78,
                  "reading_score": 83,
                  "writing_score": 80,
                  "gender_male": 1,
                  "total_score": 241,
                  "economic_status": 1
                },
                {
                  "index": 546,
                  "race": 1,
                  "parent_edu": 1,
                  "lunch": 1,
                  "test_prep": 1,
                  "math_score": 92,
                  "reading_score": 100,
                  "writing_score": 97,
                  "gender_male": 0,
                  "total_score": 289,
                  "economic_status": 2
                },
                {
                  "index": 547,
                  "race": 3,
                  "parent_edu": 2,
                  "lunch": 1,
                  "test_prep": 1,
                  "math_score": 72,
                  "reading_score": 67,
                  "writing_score": 64,
                  "gender_male": 1,
                  "total_score": 203,
                  "economic_status": 3
                },
                {
                  "index": 548,
                  "race": 3,
                  "parent_edu": 2,
                  "lunch": 0,
                  "test_prep": 0,
                  "math_score": 62,
                  "reading_score": 67,
                  "writing_score": 64,
                  "gender_male": 0,
                  "total_score": 193,
                  "economic_status": 2
                },
                {
                  "index": 549,
                  "race": 3,
                  "parent_edu": 6,
                  "lunch": 1,
                  "test_prep": 0,
                  "math_score": 79,
                  "reading_score": 72,
                  "writing_score": 69,
                  "gender_male": 1,
                  "total_score": 220,
                  "economic_status": 7
                },
                {
                  "index": 550,
                  "race": 3,
                  "parent_edu": 1,
                  "lunch": 0,
                  "test_prep": 0,
                  "math_score": 79,
                  "reading_score": 76,
                  "writing_score": 65,
                  "gender_male": 1,
                  "total_score": 220,
                  "economic_status": 1
                },
                {
                  "index": 551,
                  "race": 2,
                  "parent_edu": 5,
                  "lunch": 0,
                  "test_prep": 1,
                  "math_score": 87,
                  "reading_score": 90,
                  "writing_score": 88,
                  "gender_male": 1,
                  "total_score": 265,
                  "economic_status": 5
                },
                {
                  "index": 552,
                  "race": 2,
                  "parent_edu": 4,
                  "lunch": 1,
                  "test_prep": 0,
                  "math_score": 40,
                  "reading_score": 48,
                  "writing_score": 50,
                  "gender_male": 0,
                  "total_score": 138,
                  "economic_status": 5
                },
                {
                  "index": 553,
                  "race": 4,
                  "parent_edu": 3,
                  "lunch": 0,
                  "test_prep": 0,
                  "math_score": 77,
                  "reading_score": 62,
                  "writing_score": 64,
                  "gender_male": 1,
                  "total_score": 203,
                  "economic_status": 3
                },
                {
                  "index": 554,
                  "race": 5,
                  "parent_edu": 4,
                  "lunch": 1,
                  "test_prep": 0,
                  "math_score": 53,
                  "reading_score": 45,
                  "writing_score": 40,
                  "gender_male": 1,
                  "total_score": 138,
                  "economic_status": 5
                },
                {
                  "index": 555,
                  "race": 3,
                  "parent_edu": 3,
                  "lunch": 0,
                  "test_prep": 0,
                  "math_score": 32,
                  "reading_score": 39,
                  "writing_score": 33,
                  "gender_male": 0,
                  "total_score": 104,
                  "economic_status": 3
                },
                {
                  "index": 556,
                  "race": 3,
                  "parent_edu": 4,
                  "lunch": 1,
                  "test_prep": 1,
                  "math_score": 55,
                  "reading_score": 72,
                  "writing_score": 79,
                  "gender_male": 0,
                  "total_score": 206,
                  "economic_status": 5
                },
                {
                  "index": 557,
                  "race": 3,
                  "parent_edu": 6,
                  "lunch": 0,
                  "test_prep": 0,
                  "math_score": 61,
                  "reading_score": 67,
                  "writing_score": 66,
                  "gender_male": 1,
                  "total_score": 194,
                  "economic_status": 6
                },
                {
                  "index": 558,
                  "race": 2,
                  "parent_edu": 4,
                  "lunch": 0,
                  "test_prep": 0,
                  "math_score": 53,
                  "reading_score": 70,
                  "writing_score": 70,
                  "gender_male": 0,
                  "total_score": 193,
                  "economic_status": 4
                },
                {
                  "index": 559,
                  "race": 4,
                  "parent_edu": 1,
                  "lunch": 1,
                  "test_prep": 0,
                  "math_score": 73,
                  "reading_score": 66,
                  "writing_score": 62,
                  "gender_male": 1,
                  "total_score": 201,
                  "economic_status": 2
                },
                {
                  "index": 560,
                  "race": 4,
                  "parent_edu": 3,
                  "lunch": 1,
                  "test_prep": 1,
                  "math_score": 74,
                  "reading_score": 75,
                  "writing_score": 79,
                  "gender_male": 0,
                  "total_score": 228,
                  "economic_status": 4
                },
                {
                  "index": 561,
                  "race": 3,
                  "parent_edu": 3,
                  "lunch": 1,
                  "test_prep": 0,
                  "math_score": 63,
                  "reading_score": 74,
                  "writing_score": 74,
                  "gender_male": 0,
                  "total_score": 211,
                  "economic_status": 4
                },
                {
                  "index": 562,
                  "race": 3,
                  "parent_edu": 5,
                  "lunch": 1,
                  "test_prep": 1,
                  "math_score": 96,
                  "reading_score": 90,
                  "writing_score": 92,
                  "gender_male": 1,
                  "total_score": 278,
                  "economic_status": 6
                },
                {
                  "index": 563,
                  "race": 4,
                  "parent_edu": 3,
                  "lunch": 0,
                  "test_prep": 1,
                  "math_score": 63,
                  "reading_score": 80,
                  "writing_score": 80,
                  "gender_male": 0,
                  "total_score": 223,
                  "economic_status": 3
                },
                {
                  "index": 564,
                  "race": 2,
                  "parent_edu": 5,
                  "lunch": 0,
                  "test_prep": 0,
                  "math_score": 48,
                  "reading_score": 51,
                  "writing_score": 46,
                  "gender_male": 1,
                  "total_score": 145,
                  "economic_status": 5
                },
                {
                  "index": 565,
                  "race": 2,
                  "parent_edu": 4,
                  "lunch": 1,
                  "test_prep": 0,
                  "math_score": 48,
                  "reading_score": 43,
                  "writing_score": 45,
                  "gender_male": 1,
                  "total_score": 136,
                  "economic_status": 5
                },
                {
                  "index": 566,
                  "race": 5,
                  "parent_edu": 5,
                  "lunch": 0,
                  "test_prep": 1,
                  "math_score": 92,
                  "reading_score": 100,
                  "writing_score": 100,
                  "gender_male": 0,
                  "total_score": 292,
                  "economic_status": 5
                },
                {
                  "index": 567,
                  "race": 4,
                  "parent_edu": 6,
                  "lunch": 0,
                  "test_prep": 1,
                  "math_score": 61,
                  "reading_score": 71,
                  "writing_score": 78,
                  "gender_male": 0,
                  "total_score": 210,
                  "economic_status": 6
                },
                {
                  "index": 568,
                  "race": 2,
                  "parent_edu": 2,
                  "lunch": 0,
                  "test_prep": 0,
                  "math_score": 63,
                  "reading_score": 48,
                  "writing_score": 47,
                  "gender_male": 1,
                  "total_score": 158,
                  "economic_status": 2
                },
                {
                  "index": 569,
                  "race": 4,
                  "parent_edu": 5,
                  "lunch": 0,
                  "test_prep": 0,
                  "math_score": 68,
                  "reading_score": 68,
                  "writing_score": 67,
                  "gender_male": 1,
                  "total_score": 203,
                  "economic_status": 5
                },
                {
                  "index": 570,
                  "race": 2,
                  "parent_edu": 3,
                  "lunch": 1,
                  "test_prep": 1,
                  "math_score": 71,
                  "reading_score": 75,
                  "writing_score": 70,
                  "gender_male": 1,
                  "total_score": 216,
                  "economic_status": 4
                },
                {
                  "index": 571,
                  "race": 1,
                  "parent_edu": 5,
                  "lunch": 1,
                  "test_prep": 0,
                  "math_score": 91,
                  "reading_score": 96,
                  "writing_score": 92,
                  "gender_male": 1,
                  "total_score": 279,
                  "economic_status": 6
                },
                {
                  "index": 572,
                  "race": 3,
                  "parent_edu": 3,
                  "lunch": 1,
                  "test_prep": 0,
                  "math_score": 53,
                  "reading_score": 62,
                  "writing_score": 56,
                  "gender_male": 0,
                  "total_score": 171,
                  "economic_status": 4
                },
                {
                  "index": 573,
                  "race": 3,
                  "parent_edu": 2,
                  "lunch": 0,
                  "test_prep": 1,
                  "math_score": 50,
                  "reading_score": 66,
                  "writing_score": 64,
                  "gender_male": 0,
                  "total_score": 180,
                  "economic_status": 2
                },
                {
                  "index": 574,
                  "race": 5,
                  "parent_edu": 2,
                  "lunch": 1,
                  "test_prep": 0,
                  "math_score": 74,
                  "reading_score": 81,
                  "writing_score": 71,
                  "gender_male": 0,
                  "total_score": 226,
                  "economic_status": 3
                },
                {
                  "index": 575,
                  "race": 1,
                  "parent_edu": 4,
                  "lunch": 0,
                  "test_prep": 1,
                  "math_score": 40,
                  "reading_score": 55,
                  "writing_score": 53,
                  "gender_male": 1,
                  "total_score": 148,
                  "economic_status": 4
                },
                {
                  "index": 576,
                  "race": 1,
                  "parent_edu": 3,
                  "lunch": 1,
                  "test_prep": 1,
                  "math_score": 61,
                  "reading_score": 51,
                  "writing_score": 52,
                  "gender_male": 1,
                  "total_score": 164,
                  "economic_status": 4
                },
                {
                  "index": 577,
                  "race": 2,
                  "parent_edu": 2,
                  "lunch": 1,
                  "test_prep": 0,
                  "math_score": 81,
                  "reading_score": 91,
                  "writing_score": 89,
                  "gender_male": 0,
                  "total_score": 261,
                  "economic_status": 3
                },
                {
                  "index": 578,
                  "race": 2,
                  "parent_edu": 3,
                  "lunch": 0,
                  "test_prep": 1,
                  "math_score": 48,
                  "reading_score": 56,
                  "writing_score": 58,
                  "gender_male": 0,
                  "total_score": 162,
                  "economic_status": 3
                },
                {
                  "index": 579,
                  "race": 4,
                  "parent_edu": 6,
                  "lunch": 1,
                  "test_prep": 0,
                  "math_score": 53,
                  "reading_score": 61,
                  "writing_score": 68,
                  "gender_male": 0,
                  "total_score": 182,
                  "economic_status": 7
                },
                {
                  "index": 580,
                  "race": 4,
                  "parent_edu": 1,
                  "lunch": 1,
                  "test_prep": 0,
                  "math_score": 81,
                  "reading_score": 97,
                  "writing_score": 96,
                  "gender_male": 0,
                  "total_score": 274,
                  "economic_status": 2
                },
                {
                  "index": 581,
                  "race": 5,
                  "parent_edu": 1,
                  "lunch": 1,
                  "test_prep": 0,
                  "math_score": 77,
                  "reading_score": 79,
                  "writing_score": 80,
                  "gender_male": 0,
                  "total_score": 236,
                  "economic_status": 2
                },
                {
                  "index": 582,
                  "race": 4,
                  "parent_edu": 5,
                  "lunch": 0,
                  "test_prep": 0,
                  "math_score": 63,
                  "reading_score": 73,
                  "writing_score": 78,
                  "gender_male": 0,
                  "total_score": 214,
                  "economic_status": 5
                },
                {
                  "index": 583,
                  "race": 4,
                  "parent_edu": 4,
                  "lunch": 1,
                  "test_prep": 1,
                  "math_score": 73,
                  "reading_score": 75,
                  "writing_score": 80,
                  "gender_male": 0,
                  "total_score": 228,
                  "economic_status": 5
                },
                {
                  "index": 584,
                  "race": 4,
                  "parent_edu": 3,
                  "lunch": 1,
                  "test_prep": 0,
                  "math_score": 69,
                  "reading_score": 77,
                  "writing_score": 77,
                  "gender_male": 0,
                  "total_score": 223,
                  "economic_status": 4
                },
                {
                  "index": 585,
                  "race": 3,
                  "parent_edu": 4,
                  "lunch": 1,
                  "test_prep": 0,
                  "math_score": 65,
                  "reading_score": 76,
                  "writing_score": 76,
                  "gender_male": 0,
                  "total_score": 217,
                  "economic_status": 5
                },
                {
                  "index": 586,
                  "race": 1,
                  "parent_edu": 2,
                  "lunch": 1,
                  "test_prep": 0,
                  "math_score": 55,
                  "reading_score": 73,
                  "writing_score": 73,
                  "gender_male": 0,
                  "total_score": 201,
                  "economic_status": 3
                },
                {
                  "index": 587,
                  "race": 3,
                  "parent_edu": 5,
                  "lunch": 0,
                  "test_prep": 0,
                  "math_score": 44,
                  "reading_score": 63,
                  "writing_score": 62,
                  "gender_male": 0,
                  "total_score": 169,
                  "economic_status": 5
                },
                {
                  "index": 588,
                  "race": 3,
                  "parent_edu": 3,
                  "lunch": 1,
                  "test_prep": 0,
                  "math_score": 54,
                  "reading_score": 64,
                  "writing_score": 65,
                  "gender_male": 0,
                  "total_score": 183,
                  "economic_status": 4
                },
                {
                  "index": 589,
                  "race": 1,
                  "parent_edu": 1,
                  "lunch": 1,
                  "test_prep": 0,
                  "math_score": 48,
                  "reading_score": 66,
                  "writing_score": 65,
                  "gender_male": 0,
                  "total_score": 179,
                  "economic_status": 2
                },
                {
                  "index": 590,
                  "race": 3,
                  "parent_edu": 3,
                  "lunch": 0,
                  "test_prep": 0,
                  "math_score": 58,
                  "reading_score": 57,
                  "writing_score": 54,
                  "gender_male": 1,
                  "total_score": 169,
                  "economic_status": 3
                },
                {
                  "index": 591,
                  "race": 1,
                  "parent_edu": 1,
                  "lunch": 1,
                  "test_prep": 0,
                  "math_score": 71,
                  "reading_score": 62,
                  "writing_score": 50,
                  "gender_male": 1,
                  "total_score": 183,
                  "economic_status": 2
                },
                {
                  "index": 592,
                  "race": 5,
                  "parent_edu": 5,
                  "lunch": 1,
                  "test_prep": 0,
                  "math_score": 68,
                  "reading_score": 68,
                  "writing_score": 64,
                  "gender_male": 1,
                  "total_score": 200,
                  "economic_status": 6
                },
                {
                  "index": 593,
                  "race": 5,
                  "parent_edu": 2,
                  "lunch": 1,
                  "test_prep": 0,
                  "math_score": 74,
                  "reading_score": 76,
                  "writing_score": 73,
                  "gender_male": 0,
                  "total_score": 223,
                  "economic_status": 3
                },
                {
                  "index": 594,
                  "race": 3,
                  "parent_edu": 5,
                  "lunch": 1,
                  "test_prep": 1,
                  "math_score": 92,
                  "reading_score": 100,
                  "writing_score": 99,
                  "gender_male": 0,
                  "total_score": 291,
                  "economic_status": 6
                },
                {
                  "index": 595,
                  "race": 3,
                  "parent_edu": 5,
                  "lunch": 1,
                  "test_prep": 1,
                  "math_score": 56,
                  "reading_score": 79,
                  "writing_score": 72,
                  "gender_male": 0,
                  "total_score": 207,
                  "economic_status": 6
                },
                {
                  "index": 596,
                  "race": 2,
                  "parent_edu": 2,
                  "lunch": 0,
                  "test_prep": 0,
                  "math_score": 30,
                  "reading_score": 24,
                  "writing_score": 15,
                  "gender_male": 1,
                  "total_score": 69,
                  "economic_status": 2
                },
                {
                  "index": 597,
                  "race": 1,
                  "parent_edu": 1,
                  "lunch": 1,
                  "test_prep": 0,
                  "math_score": 53,
                  "reading_score": 54,
                  "writing_score": 48,
                  "gender_male": 1,
                  "total_score": 155,
                  "economic_status": 2
                },
                {
                  "index": 598,
                  "race": 4,
                  "parent_edu": 2,
                  "lunch": 1,
                  "test_prep": 0,
                  "math_score": 69,
                  "reading_score": 77,
                  "writing_score": 73,
                  "gender_male": 0,
                  "total_score": 219,
                  "economic_status": 3
                },
                {
                  "index": 599,
                  "race": 4,
                  "parent_edu": 1,
                  "lunch": 1,
                  "test_prep": 0,
                  "math_score": 65,
                  "reading_score": 82,
                  "writing_score": 81,
                  "gender_male": 0,
                  "total_score": 228,
                  "economic_status": 2
                },
                {
                  "index": 600,
                  "race": 4,
                  "parent_edu": 6,
                  "lunch": 1,
                  "test_prep": 0,
                  "math_score": 54,
                  "reading_score": 60,
                  "writing_score": 63,
                  "gender_male": 0,
                  "total_score": 177,
                  "economic_status": 7
                },
                {
                  "index": 601,
                  "race": 3,
                  "parent_edu": 2,
                  "lunch": 1,
                  "test_prep": 0,
                  "math_score": 29,
                  "reading_score": 29,
                  "writing_score": 30,
                  "gender_male": 0,
                  "total_score": 88,
                  "economic_status": 3
                },
                {
                  "index": 602,
                  "race": 5,
                  "parent_edu": 3,
                  "lunch": 1,
                  "test_prep": 0,
                  "math_score": 76,
                  "reading_score": 78,
                  "writing_score": 80,
                  "gender_male": 0,
                  "total_score": 234,
                  "economic_status": 4
                },
                {
                  "index": 603,
                  "race": 4,
                  "parent_edu": 2,
                  "lunch": 0,
                  "test_prep": 0,
                  "math_score": 60,
                  "reading_score": 57,
                  "writing_score": 51,
                  "gender_male": 1,
                  "total_score": 168,
                  "economic_status": 2
                },
                {
                  "index": 604,
                  "race": 4,
                  "parent_edu": 6,
                  "lunch": 0,
                  "test_prep": 1,
                  "math_score": 84,
                  "reading_score": 89,
                  "writing_score": 90,
                  "gender_male": 1,
                  "total_score": 263,
                  "economic_status": 6
                },
                {
                  "index": 605,
                  "race": 3,
                  "parent_edu": 1,
                  "lunch": 1,
                  "test_prep": 0,
                  "math_score": 75,
                  "reading_score": 72,
                  "writing_score": 62,
                  "gender_male": 1,
                  "total_score": 209,
                  "economic_status": 2
                },
                {
                  "index": 606,
                  "race": 3,
                  "parent_edu": 4,
                  "lunch": 1,
                  "test_prep": 0,
                  "math_score": 85,
                  "reading_score": 84,
                  "writing_score": 82,
                  "gender_male": 0,
                  "total_score": 251,
                  "economic_status": 5
                },
                {
                  "index": 607,
                  "race": 3,
                  "parent_edu": 6,
                  "lunch": 0,
                  "test_prep": 0,
                  "math_score": 40,
                  "reading_score": 58,
                  "writing_score": 54,
                  "gender_male": 0,
                  "total_score": 152,
                  "economic_status": 6
                },
                {
                  "index": 608,
                  "race": 5,
                  "parent_edu": 3,
                  "lunch": 1,
                  "test_prep": 0,
                  "math_score": 61,
                  "reading_score": 64,
                  "writing_score": 62,
                  "gender_male": 0,
                  "total_score": 187,
                  "economic_status": 4
                },
                {
                  "index": 609,
                  "race": 2,
                  "parent_edu": 4,
                  "lunch": 1,
                  "test_prep": 0,
                  "math_score": 58,
                  "reading_score": 63,
                  "writing_score": 65,
                  "gender_male": 0,
                  "total_score": 186,
                  "economic_status": 5
                },
                {
                  "index": 610,
                  "race": 4,
                  "parent_edu": 3,
                  "lunch": 0,
                  "test_prep": 1,
                  "math_score": 69,
                  "reading_score": 60,
                  "writing_score": 63,
                  "gender_male": 1,
                  "total_score": 192,
                  "economic_status": 3
                },
                {
                  "index": 611,
                  "race": 3,
                  "parent_edu": 3,
                  "lunch": 1,
                  "test_prep": 0,
                  "math_score": 58,
                  "reading_score": 59,
                  "writing_score": 66,
                  "gender_male": 0,
                  "total_score": 183,
                  "economic_status": 4
                },
                {
                  "index": 612,
                  "race": 3,
                  "parent_edu": 5,
                  "lunch": 1,
                  "test_prep": 1,
                  "math_score": 94,
                  "reading_score": 90,
                  "writing_score": 91,
                  "gender_male": 1,
                  "total_score": 275,
                  "economic_status": 6
                },
                {
                  "index": 613,
                  "race": 3,
                  "parent_edu": 4,
                  "lunch": 1,
                  "test_prep": 0,
                  "math_score": 65,
                  "reading_score": 77,
                  "writing_score": 74,
                  "gender_male": 0,
                  "total_score": 216,
                  "economic_status": 5
                },
                {
                  "index": 614,
                  "race": 1,
                  "parent_edu": 4,
                  "lunch": 1,
                  "test_prep": 0,
                  "math_score": 82,
                  "reading_score": 93,
                  "writing_score": 93,
                  "gender_male": 0,
                  "total_score": 268,
                  "economic_status": 5
                },
                {
                  "index": 615,
                  "race": 3,
                  "parent_edu": 2,
                  "lunch": 1,
                  "test_prep": 0,
                  "math_score": 60,
                  "reading_score": 68,
                  "writing_score": 72,
                  "gender_male": 0,
                  "total_score": 200,
                  "economic_status": 3
                },
                {
                  "index": 616,
                  "race": 5,
                  "parent_edu": 5,
                  "lunch": 1,
                  "test_prep": 0,
                  "math_score": 37,
                  "reading_score": 45,
                  "writing_score": 38,
                  "gender_male": 0,
                  "total_score": 120,
                  "economic_status": 6
                },
                {
                  "index": 617,
                  "race": 4,
                  "parent_edu": 5,
                  "lunch": 1,
                  "test_prep": 0,
                  "math_score": 88,
                  "reading_score": 78,
                  "writing_score": 83,
                  "gender_male": 1,
                  "total_score": 249,
                  "economic_status": 6
                },
                {
                  "index": 618,
                  "race": 4,
                  "parent_edu": 6,
                  "lunch": 1,
                  "test_prep": 0,
                  "math_score": 95,
                  "reading_score": 81,
                  "writing_score": 84,
                  "gender_male": 1,
                  "total_score": 260,
                  "economic_status": 7
                },
                {
                  "index": 619,
                  "race": 3,
                  "parent_edu": 4,
                  "lunch": 0,
                  "test_prep": 1,
                  "math_score": 65,
                  "reading_score": 73,
                  "writing_score": 68,
                  "gender_male": 1,
                  "total_score": 206,
                  "economic_status": 4
                },
                {
                  "index": 620,
                  "race": 3,
                  "parent_edu": 2,
                  "lunch": 0,
                  "test_prep": 0,
                  "math_score": 35,
                  "reading_score": 61,
                  "writing_score": 54,
                  "gender_male": 0,
                  "total_score": 150,
                  "economic_status": 2
                },
                {
                  "index": 621,
                  "race": 2,
                  "parent_edu": 5,
                  "lunch": 0,
                  "test_prep": 0,
                  "math_score": 62,
                  "reading_score": 63,
                  "writing_score": 56,
                  "gender_male": 1,
                  "total_score": 181,
                  "economic_status": 5
                },
                {
                  "index": 622,
                  "race": 3,
                  "parent_edu": 2,
                  "lunch": 0,
                  "test_prep": 1,
                  "math_score": 58,
                  "reading_score": 51,
                  "writing_score": 52,
                  "gender_male": 1,
                  "total_score": 161,
                  "economic_status": 2
                },
                {
                  "index": 623,
                  "race": 1,
                  "parent_edu": 3,
                  "lunch": 1,
                  "test_prep": 1,
                  "math_score": 100,
                  "reading_score": 96,
                  "writing_score": 86,
                  "gender_male": 1,
                  "total_score": 282,
                  "economic_status": 4
                },
                {
                  "index": 624,
                  "race": 5,
                  "parent_edu": 5,
                  "lunch": 0,
                  "test_prep": 0,
                  "math_score": 61,
                  "reading_score": 58,
                  "writing_score": 62,
                  "gender_male": 0,
                  "total_score": 181,
                  "economic_status": 5
                },
                {
                  "index": 625,
                  "race": 4,
                  "parent_edu": 3,
                  "lunch": 1,
                  "test_prep": 1,
                  "math_score": 100,
                  "reading_score": 97,
                  "writing_score": 99,
                  "gender_male": 1,
                  "total_score": 296,
                  "economic_status": 4
                },
                {
                  "index": 626,
                  "race": 2,
                  "parent_edu": 4,
                  "lunch": 0,
                  "test_prep": 1,
                  "math_score": 69,
                  "reading_score": 70,
                  "writing_score": 63,
                  "gender_male": 1,
                  "total_score": 202,
                  "economic_status": 4
                },
                {
                  "index": 627,
                  "race": 4,
                  "parent_edu": 4,
                  "lunch": 1,
                  "test_prep": 0,
                  "math_score": 61,
                  "reading_score": 48,
                  "writing_score": 46,
                  "gender_male": 1,
                  "total_score": 155,
                  "economic_status": 5
                },
                {
                  "index": 628,
                  "race": 4,
                  "parent_edu": 3,
                  "lunch": 0,
                  "test_prep": 0,
                  "math_score": 49,
                  "reading_score": 57,
                  "writing_score": 46,
                  "gender_male": 1,
                  "total_score": 152,
                  "economic_status": 3
                },
                {
                  "index": 629,
                  "race": 3,
                  "parent_edu": 1,
                  "lunch": 1,
                  "test_prep": 1,
                  "math_score": 44,
                  "reading_score": 51,
                  "writing_score": 55,
                  "gender_male": 0,
                  "total_score": 150,
                  "economic_status": 2
                },
                {
                  "index": 630,
                  "race": 4,
                  "parent_edu": 3,
                  "lunch": 1,
                  "test_prep": 0,
                  "math_score": 67,
                  "reading_score": 64,
                  "writing_score": 70,
                  "gender_male": 1,
                  "total_score": 201,
                  "economic_status": 4
                },
                {
                  "index": 631,
                  "race": 2,
                  "parent_edu": 2,
                  "lunch": 1,
                  "test_prep": 0,
                  "math_score": 79,
                  "reading_score": 60,
                  "writing_score": 65,
                  "gender_male": 1,
                  "total_score": 204,
                  "economic_status": 3
                },
                {
                  "index": 632,
                  "race": 2,
                  "parent_edu": 5,
                  "lunch": 1,
                  "test_prep": 1,
                  "math_score": 66,
                  "reading_score": 74,
                  "writing_score": 81,
                  "gender_male": 0,
                  "total_score": 221,
                  "economic_status": 6
                },
                {
                  "index": 633,
                  "race": 3,
                  "parent_edu": 2,
                  "lunch": 1,
                  "test_prep": 0,
                  "math_score": 75,
                  "reading_score": 88,
                  "writing_score": 85,
                  "gender_male": 0,
                  "total_score": 248,
                  "economic_status": 3
                },
                {
                  "index": 634,
                  "race": 4,
                  "parent_edu": 1,
                  "lunch": 1,
                  "test_prep": 0,
                  "math_score": 84,
                  "reading_score": 84,
                  "writing_score": 80,
                  "gender_male": 1,
                  "total_score": 248,
                  "economic_status": 2
                },
                {
                  "index": 635,
                  "race": 1,
                  "parent_edu": 2,
                  "lunch": 1,
                  "test_prep": 0,
                  "math_score": 71,
                  "reading_score": 74,
                  "writing_score": 64,
                  "gender_male": 1,
                  "total_score": 209,
                  "economic_status": 3
                },
                {
                  "index": 636,
                  "race": 2,
                  "parent_edu": 2,
                  "lunch": 0,
                  "test_prep": 1,
                  "math_score": 67,
                  "reading_score": 80,
                  "writing_score": 81,
                  "gender_male": 0,
                  "total_score": 228,
                  "economic_status": 2
                },
                {
                  "index": 637,
                  "race": 4,
                  "parent_edu": 1,
                  "lunch": 1,
                  "test_prep": 1,
                  "math_score": 80,
                  "reading_score": 92,
                  "writing_score": 88,
                  "gender_male": 0,
                  "total_score": 260,
                  "economic_status": 2
                },
                {
                  "index": 638,
                  "race": 5,
                  "parent_edu": 3,
                  "lunch": 1,
                  "test_prep": 0,
                  "math_score": 86,
                  "reading_score": 76,
                  "writing_score": 74,
                  "gender_male": 1,
                  "total_score": 236,
                  "economic_status": 4
                },
                {
                  "index": 639,
                  "race": 4,
                  "parent_edu": 4,
                  "lunch": 1,
                  "test_prep": 0,
                  "math_score": 76,
                  "reading_score": 74,
                  "writing_score": 73,
                  "gender_male": 0,
                  "total_score": 223,
                  "economic_status": 5
                },
                {
                  "index": 640,
                  "race": 4,
                  "parent_edu": 2,
                  "lunch": 1,
                  "test_prep": 0,
                  "math_score": 41,
                  "reading_score": 52,
                  "writing_score": 51,
                  "gender_male": 1,
                  "total_score": 144,
                  "economic_status": 3
                },
                {
                  "index": 641,
                  "race": 4,
                  "parent_edu": 4,
                  "lunch": 0,
                  "test_prep": 1,
                  "math_score": 74,
                  "reading_score": 88,
                  "writing_score": 90,
                  "gender_male": 0,
                  "total_score": 252,
                  "economic_status": 4
                },
                {
                  "index": 642,
                  "race": 2,
                  "parent_edu": 1,
                  "lunch": 0,
                  "test_prep": 0,
                  "math_score": 72,
                  "reading_score": 81,
                  "writing_score": 79,
                  "gender_male": 0,
                  "total_score": 232,
                  "economic_status": 1
                },
                {
                  "index": 643,
                  "race": 5,
                  "parent_edu": 2,
                  "lunch": 1,
                  "test_prep": 1,
                  "math_score": 74,
                  "reading_score": 79,
                  "writing_score": 80,
                  "gender_male": 0,
                  "total_score": 233,
                  "economic_status": 3
                },
                {
                  "index": 644,
                  "race": 2,
                  "parent_edu": 2,
                  "lunch": 1,
                  "test_prep": 0,
                  "math_score": 70,
                  "reading_score": 65,
                  "writing_score": 60,
                  "gender_male": 1,
                  "total_score": 195,
                  "economic_status": 3
                },
                {
                  "index": 645,
                  "race": 2,
                  "parent_edu": 5,
                  "lunch": 1,
                  "test_prep": 1,
                  "math_score": 65,
                  "reading_score": 81,
                  "writing_score": 81,
                  "gender_male": 0,
                  "total_score": 227,
                  "economic_status": 6
                },
                {
                  "index": 646,
                  "race": 4,
                  "parent_edu": 4,
                  "lunch": 1,
                  "test_prep": 0,
                  "math_score": 59,
                  "reading_score": 70,
                  "writing_score": 65,
                  "gender_male": 0,
                  "total_score": 194,
                  "economic_status": 5
                },
                {
                  "index": 647,
                  "race": 5,
                  "parent_edu": 2,
                  "lunch": 0,
                  "test_prep": 0,
                  "math_score": 64,
                  "reading_score": 62,
                  "writing_score": 68,
                  "gender_male": 0,
                  "total_score": 194,
                  "economic_status": 2
                },
                {
                  "index": 648,
                  "race": 2,
                  "parent_edu": 2,
                  "lunch": 1,
                  "test_prep": 0,
                  "math_score": 50,
                  "reading_score": 53,
                  "writing_score": 55,
                  "gender_male": 0,
                  "total_score": 158,
                  "economic_status": 3
                },
                {
                  "index": 649,
                  "race": 4,
                  "parent_edu": 3,
                  "lunch": 1,
                  "test_prep": 1,
                  "math_score": 69,
                  "reading_score": 79,
                  "writing_score": 81,
                  "gender_male": 0,
                  "total_score": 229,
                  "economic_status": 4
                },
                {
                  "index": 650,
                  "race": 3,
                  "parent_edu": 1,
                  "lunch": 0,
                  "test_prep": 1,
                  "math_score": 51,
                  "reading_score": 56,
                  "writing_score": 53,
                  "gender_male": 1,
                  "total_score": 160,
                  "economic_status": 1
                },
                {
                  "index": 651,
                  "race": 1,
                  "parent_edu": 2,
                  "lunch": 1,
                  "test_prep": 1,
                  "math_score": 68,
                  "reading_score": 80,
                  "writing_score": 76,
                  "gender_male": 0,
                  "total_score": 224,
                  "economic_status": 3
                },
                {
                  "index": 652,
                  "race": 4,
                  "parent_edu": 3,
                  "lunch": 1,
                  "test_prep": 1,
                  "math_score": 85,
                  "reading_score": 86,
                  "writing_score": 98,
                  "gender_male": 0,
                  "total_score": 269,
                  "economic_status": 4
                },
                {
                  "index": 653,
                  "race": 1,
                  "parent_edu": 4,
                  "lunch": 1,
                  "test_prep": 1,
                  "math_score": 65,
                  "reading_score": 70,
                  "writing_score": 74,
                  "gender_male": 0,
                  "total_score": 209,
                  "economic_status": 5
                },
                {
                  "index": 654,
                  "race": 2,
                  "parent_edu": 1,
                  "lunch": 1,
                  "test_prep": 0,
                  "math_score": 73,
                  "reading_score": 79,
                  "writing_score": 79,
                  "gender_male": 0,
                  "total_score": 231,
                  "economic_status": 2
                },
                {
                  "index": 655,
                  "race": 2,
                  "parent_edu": 3,
                  "lunch": 1,
                  "test_prep": 0,
                  "math_score": 62,
                  "reading_score": 67,
                  "writing_score": 67,
                  "gender_male": 0,
                  "total_score": 196,
                  "economic_status": 4
                },
                {
                  "index": 656,
                  "race": 3,
                  "parent_edu": 4,
                  "lunch": 0,
                  "test_prep": 0,
                  "math_score": 77,
                  "reading_score": 67,
                  "writing_score": 64,
                  "gender_male": 1,
                  "total_score": 208,
                  "economic_status": 4
                },
                {
                  "index": 657,
                  "race": 4,
                  "parent_edu": 1,
                  "lunch": 1,
                  "test_prep": 0,
                  "math_score": 69,
                  "reading_score": 66,
                  "writing_score": 61,
                  "gender_male": 1,
                  "total_score": 196,
                  "economic_status": 2
                },
                {
                  "index": 658,
                  "race": 4,
                  "parent_edu": 4,
                  "lunch": 0,
                  "test_prep": 0,
                  "math_score": 43,
                  "reading_score": 60,
                  "writing_score": 58,
                  "gender_male": 0,
                  "total_score": 161,
                  "economic_status": 4
                },
                {
                  "index": 659,
                  "race": 4,
                  "parent_edu": 4,
                  "lunch": 1,
                  "test_prep": 0,
                  "math_score": 90,
                  "reading_score": 87,
                  "writing_score": 85,
                  "gender_male": 1,
                  "total_score": 262,
                  "economic_status": 5
                },
                {
                  "index": 660,
                  "race": 3,
                  "parent_edu": 3,
                  "lunch": 0,
                  "test_prep": 0,
                  "math_score": 74,
                  "reading_score": 77,
                  "writing_score": 73,
                  "gender_male": 1,
                  "total_score": 224,
                  "economic_status": 3
                },
                {
                  "index": 661,
                  "race": 3,
                  "parent_edu": 1,
                  "lunch": 1,
                  "test_prep": 0,
                  "math_score": 73,
                  "reading_score": 66,
                  "writing_score": 63,
                  "gender_male": 1,
                  "total_score": 202,
                  "economic_status": 2
                },
                {
                  "index": 662,
                  "race": 4,
                  "parent_edu": 3,
                  "lunch": 0,
                  "test_prep": 0,
                  "math_score": 55,
                  "reading_score": 71,
                  "writing_score": 69,
                  "gender_male": 0,
                  "total_score": 195,
                  "economic_status": 3
                },
                {
                  "index": 663,
                  "race": 3,
                  "parent_edu": 2,
                  "lunch": 1,
                  "test_prep": 0,
                  "math_score": 65,
                  "reading_score": 69,
                  "writing_score": 67,
                  "gender_male": 0,
                  "total_score": 201,
                  "economic_status": 3
                },
                {
                  "index": 664,
                  "race": 4,
                  "parent_edu": 4,
                  "lunch": 1,
                  "test_prep": 0,
                  "math_score": 80,
                  "reading_score": 63,
                  "writing_score": 63,
                  "gender_male": 1,
                  "total_score": 206,
                  "economic_status": 5
                },
                {
                  "index": 665,
                  "race": 3,
                  "parent_edu": 1,
                  "lunch": 0,
                  "test_prep": 1,
                  "math_score": 50,
                  "reading_score": 60,
                  "writing_score": 60,
                  "gender_male": 0,
                  "total_score": 170,
                  "economic_status": 1
                },
                {
                  "index": 666,
                  "race": 3,
                  "parent_edu": 3,
                  "lunch": 0,
                  "test_prep": 1,
                  "math_score": 63,
                  "reading_score": 73,
                  "writing_score": 71,
                  "gender_male": 0,
                  "total_score": 207,
                  "economic_status": 3
                },
                {
                  "index": 667,
                  "race": 2,
                  "parent_edu": 5,
                  "lunch": 0,
                  "test_prep": 0,
                  "math_score": 77,
                  "reading_score": 85,
                  "writing_score": 87,
                  "gender_male": 0,
                  "total_score": 249,
                  "economic_status": 5
                },
                {
                  "index": 668,
                  "race": 3,
                  "parent_edu": 3,
                  "lunch": 1,
                  "test_prep": 0,
                  "math_score": 73,
                  "reading_score": 74,
                  "writing_score": 61,
                  "gender_male": 1,
                  "total_score": 208,
                  "economic_status": 4
                },
                {
                  "index": 669,
                  "race": 4,
                  "parent_edu": 4,
                  "lunch": 1,
                  "test_prep": 1,
                  "math_score": 81,
                  "reading_score": 72,
                  "writing_score": 77,
                  "gender_male": 1,
                  "total_score": 230,
                  "economic_status": 5
                },
                {
                  "index": 670,
                  "race": 3,
                  "parent_edu": 2,
                  "lunch": 0,
                  "test_prep": 0,
                  "math_score": 66,
                  "reading_score": 76,
                  "writing_score": 68,
                  "gender_male": 0,
                  "total_score": 210,
                  "economic_status": 2
                },
                {
                  "index": 671,
                  "race": 4,
                  "parent_edu": 4,
                  "lunch": 0,
                  "test_prep": 0,
                  "math_score": 52,
                  "reading_score": 57,
                  "writing_score": 50,
                  "gender_male": 1,
                  "total_score": 159,
                  "economic_status": 4
                },
                {
                  "index": 672,
                  "race": 3,
                  "parent_edu": 3,
                  "lunch": 1,
                  "test_prep": 0,
                  "math_score": 69,
                  "reading_score": 78,
                  "writing_score": 76,
                  "gender_male": 0,
                  "total_score": 223,
                  "economic_status": 4
                },
                {
                  "index": 673,
                  "race": 3,
                  "parent_edu": 4,
                  "lunch": 1,
                  "test_prep": 1,
                  "math_score": 65,
                  "reading_score": 84,
                  "writing_score": 84,
                  "gender_male": 0,
                  "total_score": 233,
                  "economic_status": 5
                },
                {
                  "index": 674,
                  "race": 4,
                  "parent_edu": 2,
                  "lunch": 1,
                  "test_prep": 1,
                  "math_score": 69,
                  "reading_score": 77,
                  "writing_score": 78,
                  "gender_male": 0,
                  "total_score": 224,
                  "economic_status": 3
                },
                {
                  "index": 675,
                  "race": 2,
                  "parent_edu": 3,
                  "lunch": 1,
                  "test_prep": 1,
                  "math_score": 50,
                  "reading_score": 64,
                  "writing_score": 66,
                  "gender_male": 0,
                  "total_score": 180,
                  "economic_status": 4
                },
                {
                  "index": 676,
                  "race": 5,
                  "parent_edu": 3,
                  "lunch": 1,
                  "test_prep": 1,
                  "math_score": 73,
                  "reading_score": 78,
                  "writing_score": 76,
                  "gender_male": 0,
                  "total_score": 227,
                  "economic_status": 4
                },
                {
                  "index": 677,
                  "race": 3,
                  "parent_edu": 1,
                  "lunch": 1,
                  "test_prep": 1,
                  "math_score": 70,
                  "reading_score": 82,
                  "writing_score": 76,
                  "gender_male": 0,
                  "total_score": 228,
                  "economic_status": 2
                },
                {
                  "index": 678,
                  "race": 4,
                  "parent_edu": 4,
                  "lunch": 0,
                  "test_prep": 0,
                  "math_score": 81,
                  "reading_score": 75,
                  "writing_score": 78,
                  "gender_male": 1,
                  "total_score": 234,
                  "economic_status": 4
                },
                {
                  "index": 679,
                  "race": 4,
                  "parent_edu": 3,
                  "lunch": 0,
                  "test_prep": 0,
                  "math_score": 63,
                  "reading_score": 61,
                  "writing_score": 60,
                  "gender_male": 1,
                  "total_score": 184,
                  "economic_status": 3
                },
                {
                  "index": 680,
                  "race": 4,
                  "parent_edu": 2,
                  "lunch": 1,
                  "test_prep": 0,
                  "math_score": 67,
                  "reading_score": 72,
                  "writing_score": 74,
                  "gender_male": 0,
                  "total_score": 213,
                  "economic_status": 3
                },
                {
                  "index": 681,
                  "race": 2,
                  "parent_edu": 2,
                  "lunch": 1,
                  "test_prep": 0,
                  "math_score": 60,
                  "reading_score": 68,
                  "writing_score": 60,
                  "gender_male": 1,
                  "total_score": 188,
                  "economic_status": 3
                },
                {
                  "index": 682,
                  "race": 2,
                  "parent_edu": 2,
                  "lunch": 1,
                  "test_prep": 0,
                  "math_score": 62,
                  "reading_score": 55,
                  "writing_score": 54,
                  "gender_male": 1,
                  "total_score": 171,
                  "economic_status": 3
                },
                {
                  "index": 683,
                  "race": 3,
                  "parent_edu": 1,
                  "lunch": 0,
                  "test_prep": 1,
                  "math_score": 29,
                  "reading_score": 40,
                  "writing_score": 44,
                  "gender_male": 0,
                  "total_score": 113,
                  "economic_status": 1
                },
                {
                  "index": 684,
                  "race": 2,
                  "parent_edu": 3,
                  "lunch": 1,
                  "test_prep": 1,
                  "math_score": 62,
                  "reading_score": 66,
                  "writing_score": 68,
                  "gender_male": 1,
                  "total_score": 196,
                  "economic_status": 4
                },
                {
                  "index": 685,
                  "race": 5,
                  "parent_edu": 6,
                  "lunch": 1,
                  "test_prep": 1,
                  "math_score": 94,
                  "reading_score": 99,
                  "writing_score": 100,
                  "gender_male": 0,
                  "total_score": 293,
                  "economic_status": 7
                },
                {
                  "index": 686,
                  "race": 5,
                  "parent_edu": 3,
                  "lunch": 1,
                  "test_prep": 1,
                  "math_score": 85,
                  "reading_score": 75,
                  "writing_score": 68,
                  "gender_male": 1,
                  "total_score": 228,
                  "economic_status": 4
                },
                {
                  "index": 687,
                  "race": 4,
                  "parent_edu": 4,
                  "lunch": 0,
                  "test_prep": 0,
                  "math_score": 77,
                  "reading_score": 78,
                  "writing_score": 73,
                  "gender_male": 1,
                  "total_score": 228,
                  "economic_status": 4
                },
                {
                  "index": 688,
                  "race": 1,
                  "parent_edu": 2,
                  "lunch": 0,
                  "test_prep": 0,
                  "math_score": 53,
                  "reading_score": 58,
                  "writing_score": 44,
                  "gender_male": 1,
                  "total_score": 155,
                  "economic_status": 2
                },
                {
                  "index": 689,
                  "race": 5,
                  "parent_edu": 3,
                  "lunch": 0,
                  "test_prep": 0,
                  "math_score": 93,
                  "reading_score": 90,
                  "writing_score": 83,
                  "gender_male": 1,
                  "total_score": 266,
                  "economic_status": 3
                },
                {
                  "index": 690,
                  "race": 3,
                  "parent_edu": 4,
                  "lunch": 1,
                  "test_prep": 0,
                  "math_score": 49,
                  "reading_score": 53,
                  "writing_score": 53,
                  "gender_male": 0,
                  "total_score": 155,
                  "economic_status": 5
                },
                {
                  "index": 691,
                  "race": 5,
                  "parent_edu": 4,
                  "lunch": 0,
                  "test_prep": 0,
                  "math_score": 73,
                  "reading_score": 76,
                  "writing_score": 78,
                  "gender_male": 0,
                  "total_score": 227,
                  "economic_status": 4
                },
                {
                  "index": 692,
                  "race": 3,
                  "parent_edu": 5,
                  "lunch": 0,
                  "test_prep": 1,
                  "math_score": 66,
                  "reading_score": 74,
                  "writing_score": 81,
                  "gender_male": 0,
                  "total_score": 221,
                  "economic_status": 5
                },
                {
                  "index": 693,
                  "race": 4,
                  "parent_edu": 4,
                  "lunch": 1,
                  "test_prep": 0,
                  "math_score": 77,
                  "reading_score": 77,
                  "writing_score": 73,
                  "gender_male": 0,
                  "total_score": 227,
                  "economic_status": 5
                },
                {
                  "index": 694,
                  "race": 3,
                  "parent_edu": 1,
                  "lunch": 1,
                  "test_prep": 0,
                  "math_score": 49,
                  "reading_score": 63,
                  "writing_score": 56,
                  "gender_male": 0,
                  "total_score": 168,
                  "economic_status": 2
                },
                {
                  "index": 695,
                  "race": 4,
                  "parent_edu": 3,
                  "lunch": 0,
                  "test_prep": 0,
                  "math_score": 79,
                  "reading_score": 89,
                  "writing_score": 86,
                  "gender_male": 0,
                  "total_score": 254,
                  "economic_status": 3
                },
                {
                  "index": 696,
                  "race": 3,
                  "parent_edu": 4,
                  "lunch": 1,
                  "test_prep": 1,
                  "math_score": 75,
                  "reading_score": 82,
                  "writing_score": 90,
                  "gender_male": 0,
                  "total_score": 247,
                  "economic_status": 5
                },
                {
                  "index": 697,
                  "race": 1,
                  "parent_edu": 5,
                  "lunch": 1,
                  "test_prep": 0,
                  "math_score": 59,
                  "reading_score": 72,
                  "writing_score": 70,
                  "gender_male": 0,
                  "total_score": 201,
                  "economic_status": 6
                },
                {
                  "index": 698,
                  "race": 4,
                  "parent_edu": 4,
                  "lunch": 1,
                  "test_prep": 1,
                  "math_score": 57,
                  "reading_score": 78,
                  "writing_score": 79,
                  "gender_male": 0,
                  "total_score": 214,
                  "economic_status": 5
                },
                {
                  "index": 699,
                  "race": 3,
                  "parent_edu": 2,
                  "lunch": 0,
                  "test_prep": 0,
                  "math_score": 66,
                  "reading_score": 66,
                  "writing_score": 59,
                  "gender_male": 1,
                  "total_score": 191,
                  "economic_status": 2
                },
                {
                  "index": 700,
                  "race": 5,
                  "parent_edu": 5,
                  "lunch": 1,
                  "test_prep": 1,
                  "math_score": 79,
                  "reading_score": 81,
                  "writing_score": 82,
                  "gender_male": 0,
                  "total_score": 242,
                  "economic_status": 6
                },
                {
                  "index": 701,
                  "race": 2,
                  "parent_edu": 1,
                  "lunch": 1,
                  "test_prep": 0,
                  "math_score": 57,
                  "reading_score": 67,
                  "writing_score": 72,
                  "gender_male": 0,
                  "total_score": 196,
                  "economic_status": 2
                },
                {
                  "index": 702,
                  "race": 1,
                  "parent_edu": 5,
                  "lunch": 1,
                  "test_prep": 1,
                  "math_score": 87,
                  "reading_score": 84,
                  "writing_score": 87,
                  "gender_male": 1,
                  "total_score": 258,
                  "economic_status": 6
                },
                {
                  "index": 703,
                  "race": 4,
                  "parent_edu": 3,
                  "lunch": 1,
                  "test_prep": 0,
                  "math_score": 63,
                  "reading_score": 64,
                  "writing_score": 67,
                  "gender_male": 0,
                  "total_score": 194,
                  "economic_status": 4
                },
                {
                  "index": 704,
                  "race": 2,
                  "parent_edu": 1,
                  "lunch": 0,
                  "test_prep": 1,
                  "math_score": 59,
                  "reading_score": 63,
                  "writing_score": 64,
                  "gender_male": 0,
                  "total_score": 186,
                  "economic_status": 1
                },
                {
                  "index": 705,
                  "race": 1,
                  "parent_edu": 5,
                  "lunch": 0,
                  "test_prep": 0,
                  "math_score": 62,
                  "reading_score": 72,
                  "writing_score": 65,
                  "gender_male": 1,
                  "total_score": 199,
                  "economic_status": 5
                },
                {
                  "index": 706,
                  "race": 4,
                  "parent_edu": 2,
                  "lunch": 1,
                  "test_prep": 0,
                  "math_score": 46,
                  "reading_score": 34,
                  "writing_score": 36,
                  "gender_male": 1,
                  "total_score": 116,
                  "economic_status": 3
                },
                {
                  "index": 707,
                  "race": 3,
                  "parent_edu": 3,
                  "lunch": 1,
                  "test_prep": 0,
                  "math_score": 66,
                  "reading_score": 59,
                  "writing_score": 52,
                  "gender_male": 1,
                  "total_score": 177,
                  "economic_status": 4
                },
                {
                  "index": 708,
                  "race": 4,
                  "parent_edu": 2,
                  "lunch": 1,
                  "test_prep": 0,
                  "math_score": 89,
                  "reading_score": 87,
                  "writing_score": 79,
                  "gender_male": 1,
                  "total_score": 255,
                  "economic_status": 3
                },
                {
                  "index": 709,
                  "race": 4,
                  "parent_edu": 4,
                  "lunch": 0,
                  "test_prep": 1,
                  "math_score": 42,
                  "reading_score": 61,
                  "writing_score": 58,
                  "gender_male": 0,
                  "total_score": 161,
                  "economic_status": 4
                },
                {
                  "index": 710,
                  "race": 3,
                  "parent_edu": 3,
                  "lunch": 1,
                  "test_prep": 1,
                  "math_score": 93,
                  "reading_score": 84,
                  "writing_score": 90,
                  "gender_male": 1,
                  "total_score": 267,
                  "economic_status": 4
                },
                {
                  "index": 711,
                  "race": 5,
                  "parent_edu": 1,
                  "lunch": 1,
                  "test_prep": 1,
                  "math_score": 80,
                  "reading_score": 85,
                  "writing_score": 85,
                  "gender_male": 0,
                  "total_score": 250,
                  "economic_status": 2
                },
                {
                  "index": 712,
                  "race": 4,
                  "parent_edu": 3,
                  "lunch": 1,
                  "test_prep": 0,
                  "math_score": 98,
                  "reading_score": 100,
                  "writing_score": 99,
                  "gender_male": 0,
                  "total_score": 297,
                  "economic_status": 4
                },
                {
                  "index": 713,
                  "race": 4,
                  "parent_edu": 6,
                  "lunch": 1,
                  "test_prep": 0,
                  "math_score": 81,
                  "reading_score": 81,
                  "writing_score": 84,
                  "gender_male": 1,
                  "total_score": 246,
                  "economic_status": 7
                },
                {
                  "index": 714,
                  "race": 2,
                  "parent_edu": 1,
                  "lunch": 1,
                  "test_prep": 1,
                  "math_score": 60,
                  "reading_score": 70,
                  "writing_score": 74,
                  "gender_male": 0,
                  "total_score": 204,
                  "economic_status": 2
                },
                {
                  "index": 715,
                  "race": 2,
                  "parent_edu": 4,
                  "lunch": 0,
                  "test_prep": 1,
                  "math_score": 76,
                  "reading_score": 94,
                  "writing_score": 87,
                  "gender_male": 0,
                  "total_score": 257,
                  "economic_status": 4
                },
                {
                  "index": 716,
                  "race": 3,
                  "parent_edu": 4,
                  "lunch": 1,
                  "test_prep": 1,
                  "math_score": 73,
                  "reading_score": 78,
                  "writing_score": 72,
                  "gender_male": 1,
                  "total_score": 223,
                  "economic_status": 5
                },
                {
                  "index": 717,
                  "race": 3,
                  "parent_edu": 4,
                  "lunch": 1,
                  "test_prep": 1,
                  "math_score": 96,
                  "reading_score": 96,
                  "writing_score": 99,
                  "gender_male": 0,
                  "total_score": 291,
                  "economic_status": 5
                },
                {
                  "index": 718,
                  "race": 3,
                  "parent_edu": 2,
                  "lunch": 1,
                  "test_prep": 0,
                  "math_score": 76,
                  "reading_score": 76,
                  "writing_score": 74,
                  "gender_male": 0,
                  "total_score": 226,
                  "economic_status": 3
                },
                {
                  "index": 719,
                  "race": 5,
                  "parent_edu": 4,
                  "lunch": 0,
                  "test_prep": 1,
                  "math_score": 91,
                  "reading_score": 73,
                  "writing_score": 80,
                  "gender_male": 1,
                  "total_score": 244,
                  "economic_status": 4
                },
                {
                  "index": 720,
                  "race": 3,
                  "parent_edu": 3,
                  "lunch": 0,
                  "test_prep": 0,
                  "math_score": 62,
                  "reading_score": 72,
                  "writing_score": 70,
                  "gender_male": 0,
                  "total_score": 204,
                  "economic_status": 3
                },
                {
                  "index": 721,
                  "race": 4,
                  "parent_edu": 1,
                  "lunch": 0,
                  "test_prep": 1,
                  "math_score": 55,
                  "reading_score": 59,
                  "writing_score": 59,
                  "gender_male": 1,
                  "total_score": 173,
                  "economic_status": 1
                },
                {
                  "index": 722,
                  "race": 2,
                  "parent_edu": 1,
                  "lunch": 0,
                  "test_prep": 1,
                  "math_score": 74,
                  "reading_score": 90,
                  "writing_score": 88,
                  "gender_male": 0,
                  "total_score": 252,
                  "economic_status": 1
                },
                {
                  "index": 723,
                  "race": 3,
                  "parent_edu": 2,
                  "lunch": 1,
                  "test_prep": 0,
                  "math_score": 50,
                  "reading_score": 48,
                  "writing_score": 42,
                  "gender_male": 1,
                  "total_score": 140,
                  "economic_status": 3
                },
                {
                  "index": 724,
                  "race": 2,
                  "parent_edu": 3,
                  "lunch": 1,
                  "test_prep": 0,
                  "math_score": 47,
                  "reading_score": 43,
                  "writing_score": 41,
                  "gender_male": 1,
                  "total_score": 131,
                  "economic_status": 4
                },
                {
                  "index": 725,
                  "race": 5,
                  "parent_edu": 3,
                  "lunch": 1,
                  "test_prep": 1,
                  "math_score": 81,
                  "reading_score": 74,
                  "writing_score": 71,
                  "gender_male": 1,
                  "total_score": 226,
                  "economic_status": 4
                },
                {
                  "index": 726,
                  "race": 5,
                  "parent_edu": 4,
                  "lunch": 1,
                  "test_prep": 1,
                  "math_score": 65,
                  "reading_score": 75,
                  "writing_score": 77,
                  "gender_male": 0,
                  "total_score": 217,
                  "economic_status": 5
                },
                {
                  "index": 727,
                  "race": 5,
                  "parent_edu": 1,
                  "lunch": 1,
                  "test_prep": 1,
                  "math_score": 68,
                  "reading_score": 51,
                  "writing_score": 57,
                  "gender_male": 1,
                  "total_score": 176,
                  "economic_status": 2
                },
                {
                  "index": 728,
                  "race": 4,
                  "parent_edu": 2,
                  "lunch": 0,
                  "test_prep": 0,
                  "math_score": 73,
                  "reading_score": 92,
                  "writing_score": 84,
                  "gender_male": 0,
                  "total_score": 249,
                  "economic_status": 2
                },
                {
                  "index": 729,
                  "race": 3,
                  "parent_edu": 3,
                  "lunch": 1,
                  "test_prep": 0,
                  "math_score": 53,
                  "reading_score": 39,
                  "writing_score": 37,
                  "gender_male": 1,
                  "total_score": 129,
                  "economic_status": 4
                },
                {
                  "index": 730,
                  "race": 2,
                  "parent_edu": 4,
                  "lunch": 0,
                  "test_prep": 1,
                  "math_score": 68,
                  "reading_score": 77,
                  "writing_score": 80,
                  "gender_male": 0,
                  "total_score": 225,
                  "economic_status": 4
                },
                {
                  "index": 731,
                  "race": 1,
                  "parent_edu": 1,
                  "lunch": 0,
                  "test_prep": 0,
                  "math_score": 55,
                  "reading_score": 46,
                  "writing_score": 43,
                  "gender_male": 1,
                  "total_score": 144,
                  "economic_status": 1
                },
                {
                  "index": 732,
                  "race": 3,
                  "parent_edu": 3,
                  "lunch": 1,
                  "test_prep": 1,
                  "math_score": 87,
                  "reading_score": 89,
                  "writing_score": 94,
                  "gender_male": 0,
                  "total_score": 270,
                  "economic_status": 4
                },
                {
                  "index": 733,
                  "race": 4,
                  "parent_edu": 1,
                  "lunch": 1,
                  "test_prep": 0,
                  "math_score": 55,
                  "reading_score": 47,
                  "writing_score": 44,
                  "gender_male": 1,
                  "total_score": 146,
                  "economic_status": 2
                },
                {
                  "index": 734,
                  "race": 5,
                  "parent_edu": 3,
                  "lunch": 0,
                  "test_prep": 0,
                  "math_score": 53,
                  "reading_score": 58,
                  "writing_score": 57,
                  "gender_male": 0,
                  "total_score": 168,
                  "economic_status": 3
                },
                {
                  "index": 735,
                  "race": 3,
                  "parent_edu": 6,
                  "lunch": 1,
                  "test_prep": 0,
                  "math_score": 67,
                  "reading_score": 57,
                  "writing_score": 59,
                  "gender_male": 1,
                  "total_score": 183,
                  "economic_status": 7
                },
                {
                  "index": 736,
                  "race": 3,
                  "parent_edu": 4,
                  "lunch": 1,
                  "test_prep": 0,
                  "math_score": 92,
                  "reading_score": 79,
                  "writing_score": 84,
                  "gender_male": 1,
                  "total_score": 255,
                  "economic_status": 5
                },
                {
                  "index": 737,
                  "race": 2,
                  "parent_edu": 3,
                  "lunch": 0,
                  "test_prep": 1,
                  "math_score": 53,
                  "reading_score": 66,
                  "writing_score": 73,
                  "gender_male": 0,
                  "total_score": 192,
                  "economic_status": 3
                },
                {
                  "index": 738,
                  "race": 4,
                  "parent_edu": 4,
                  "lunch": 1,
                  "test_prep": 0,
                  "math_score": 81,
                  "reading_score": 71,
                  "writing_score": 73,
                  "gender_male": 1,
                  "total_score": 225,
                  "economic_status": 5
                },
                {
                  "index": 739,
                  "race": 3,
                  "parent_edu": 2,
                  "lunch": 0,
                  "test_prep": 0,
                  "math_score": 61,
                  "reading_score": 60,
                  "writing_score": 55,
                  "gender_male": 1,
                  "total_score": 176,
                  "economic_status": 2
                },
                {
                  "index": 740,
                  "race": 4,
                  "parent_edu": 5,
                  "lunch": 1,
                  "test_prep": 0,
                  "math_score": 80,
                  "reading_score": 73,
                  "writing_score": 72,
                  "gender_male": 1,
                  "total_score": 225,
                  "economic_status": 6
                },
                {
                  "index": 741,
                  "race": 1,
                  "parent_edu": 4,
                  "lunch": 0,
                  "test_prep": 0,
                  "math_score": 37,
                  "reading_score": 57,
                  "writing_score": 56,
                  "gender_male": 0,
                  "total_score": 150,
                  "economic_status": 4
                },
                {
                  "index": 742,
                  "race": 3,
                  "parent_edu": 2,
                  "lunch": 1,
                  "test_prep": 0,
                  "math_score": 81,
                  "reading_score": 84,
                  "writing_score": 82,
                  "gender_male": 0,
                  "total_score": 247,
                  "economic_status": 3
                },
                {
                  "index": 743,
                  "race": 3,
                  "parent_edu": 4,
                  "lunch": 1,
                  "test_prep": 1,
                  "math_score": 59,
                  "reading_score": 73,
                  "writing_score": 72,
                  "gender_male": 0,
                  "total_score": 204,
                  "economic_status": 5
                },
                {
                  "index": 744,
                  "race": 2,
                  "parent_edu": 3,
                  "lunch": 0,
                  "test_prep": 0,
                  "math_score": 55,
                  "reading_score": 55,
                  "writing_score": 47,
                  "gender_male": 1,
                  "total_score": 157,
                  "economic_status": 3
                },
                {
                  "index": 745,
                  "race": 4,
                  "parent_edu": 4,
                  "lunch": 1,
                  "test_prep": 0,
                  "math_score": 72,
                  "reading_score": 79,
                  "writing_score": 74,
                  "gender_male": 1,
                  "total_score": 225,
                  "economic_status": 5
                },
                {
                  "index": 746,
                  "race": 4,
                  "parent_edu": 2,
                  "lunch": 1,
                  "test_prep": 0,
                  "math_score": 69,
                  "reading_score": 75,
                  "writing_score": 71,
                  "gender_male": 1,
                  "total_score": 215,
                  "economic_status": 3
                },
                {
                  "index": 747,
                  "race": 3,
                  "parent_edu": 3,
                  "lunch": 1,
                  "test_prep": 0,
                  "math_score": 69,
                  "reading_score": 64,
                  "writing_score": 68,
                  "gender_male": 1,
                  "total_score": 201,
                  "economic_status": 4
                },
                {
                  "index": 748,
                  "race": 3,
                  "parent_edu": 5,
                  "lunch": 0,
                  "test_prep": 0,
                  "math_score": 50,
                  "reading_score": 60,
                  "writing_score": 59,
                  "gender_male": 0,
                  "total_score": 169,
                  "economic_status": 5
                },
                {
                  "index": 749,
                  "race": 2,
                  "parent_edu": 3,
                  "lunch": 1,
                  "test_prep": 1,
                  "math_score": 87,
                  "reading_score": 84,
                  "writing_score": 86,
                  "gender_male": 1,
                  "total_score": 257,
                  "economic_status": 4
                },
                {
                  "index": 750,
                  "race": 4,
                  "parent_edu": 1,
                  "lunch": 1,
                  "test_prep": 1,
                  "math_score": 71,
                  "reading_score": 69,
                  "writing_score": 68,
                  "gender_male": 1,
                  "total_score": 208,
                  "economic_status": 2
                },
                {
                  "index": 751,
                  "race": 5,
                  "parent_edu": 3,
                  "lunch": 1,
                  "test_prep": 0,
                  "math_score": 68,
                  "reading_score": 72,
                  "writing_score": 65,
                  "gender_male": 1,
                  "total_score": 205,
                  "economic_status": 4
                },
                {
                  "index": 752,
                  "race": 3,
                  "parent_edu": 6,
                  "lunch": 0,
                  "test_prep": 1,
                  "math_score": 79,
                  "reading_score": 77,
                  "writing_score": 75,
                  "gender_male": 1,
                  "total_score": 231,
                  "economic_status": 6
                },
                {
                  "index": 753,
                  "race": 3,
                  "parent_edu": 1,
                  "lunch": 1,
                  "test_prep": 1,
                  "math_score": 77,
                  "reading_score": 90,
                  "writing_score": 85,
                  "gender_male": 0,
                  "total_score": 252,
                  "economic_status": 2
                },
                {
                  "index": 754,
                  "race": 3,
                  "parent_edu": 4,
                  "lunch": 0,
                  "test_prep": 0,
                  "math_score": 58,
                  "reading_score": 55,
                  "writing_score": 53,
                  "gender_male": 1,
                  "total_score": 166,
                  "economic_status": 4
                },
                {
                  "index": 755,
                  "race": 5,
                  "parent_edu": 4,
                  "lunch": 1,
                  "test_prep": 0,
                  "math_score": 84,
                  "reading_score": 95,
                  "writing_score": 92,
                  "gender_male": 0,
                  "total_score": 271,
                  "economic_status": 5
                },
                {
                  "index": 756,
                  "race": 4,
                  "parent_edu": 3,
                  "lunch": 1,
                  "test_prep": 0,
                  "math_score": 55,
                  "reading_score": 58,
                  "writing_score": 52,
                  "gender_male": 1,
                  "total_score": 165,
                  "economic_status": 4
                },
                {
                  "index": 757,
                  "race": 5,
                  "parent_edu": 5,
                  "lunch": 0,
                  "test_prep": 1,
                  "math_score": 70,
                  "reading_score": 68,
                  "writing_score": 72,
                  "gender_male": 1,
                  "total_score": 210,
                  "economic_status": 5
                },
                {
                  "index": 758,
                  "race": 4,
                  "parent_edu": 3,
                  "lunch": 0,
                  "test_prep": 1,
                  "math_score": 52,
                  "reading_score": 59,
                  "writing_score": 65,
                  "gender_male": 0,
                  "total_score": 176,
                  "economic_status": 3
                },
                {
                  "index": 759,
                  "race": 2,
                  "parent_edu": 3,
                  "lunch": 1,
                  "test_prep": 1,
                  "math_score": 69,
                  "reading_score": 77,
                  "writing_score": 77,
                  "gender_male": 1,
                  "total_score": 223,
                  "economic_status": 4
                },
                {
                  "index": 760,
                  "race": 3,
                  "parent_edu": 2,
                  "lunch": 0,
                  "test_prep": 0,
                  "math_score": 53,
                  "reading_score": 72,
                  "writing_score": 64,
                  "gender_male": 0,
                  "total_score": 189,
                  "economic_status": 2
                },
                {
                  "index": 761,
                  "race": 4,
                  "parent_edu": 1,
                  "lunch": 1,
                  "test_prep": 0,
                  "math_score": 48,
                  "reading_score": 58,
                  "writing_score": 54,
                  "gender_male": 0,
                  "total_score": 160,
                  "economic_status": 2
                },
                {
                  "index": 762,
                  "race": 4,
                  "parent_edu": 1,
                  "lunch": 1,
                  "test_prep": 1,
                  "math_score": 78,
                  "reading_score": 81,
                  "writing_score": 86,
                  "gender_male": 1,
                  "total_score": 245,
                  "economic_status": 2
                },
                {
                  "index": 763,
                  "race": 2,
                  "parent_edu": 2,
                  "lunch": 1,
                  "test_prep": 0,
                  "math_score": 62,
                  "reading_score": 62,
                  "writing_score": 63,
                  "gender_male": 0,
                  "total_score": 187,
                  "economic_status": 3
                },
                {
                  "index": 764,
                  "race": 4,
                  "parent_edu": 3,
                  "lunch": 1,
                  "test_prep": 0,
                  "math_score": 60,
                  "reading_score": 63,
                  "writing_score": 59,
                  "gender_male": 1,
                  "total_score": 182,
                  "economic_status": 4
                },
                {
                  "index": 765,
                  "race": 2,
                  "parent_edu": 2,
                  "lunch": 1,
                  "test_prep": 0,
                  "math_score": 74,
                  "reading_score": 72,
                  "writing_score": 72,
                  "gender_male": 0,
                  "total_score": 218,
                  "economic_status": 3
                },
                {
                  "index": 766,
                  "race": 3,
                  "parent_edu": 2,
                  "lunch": 1,
                  "test_prep": 1,
                  "math_score": 58,
                  "reading_score": 75,
                  "writing_score": 77,
                  "gender_male": 0,
                  "total_score": 210,
                  "economic_status": 3
                },
                {
                  "index": 767,
                  "race": 2,
                  "parent_edu": 2,
                  "lunch": 1,
                  "test_prep": 1,
                  "math_score": 76,
                  "reading_score": 62,
                  "writing_score": 60,
                  "gender_male": 1,
                  "total_score": 198,
                  "economic_status": 3
                },
                {
                  "index": 768,
                  "race": 4,
                  "parent_edu": 1,
                  "lunch": 1,
                  "test_prep": 0,
                  "math_score": 68,
                  "reading_score": 71,
                  "writing_score": 75,
                  "gender_male": 0,
                  "total_score": 214,
                  "economic_status": 2
                },
                {
                  "index": 769,
                  "race": 1,
                  "parent_edu": 3,
                  "lunch": 0,
                  "test_prep": 0,
                  "math_score": 58,
                  "reading_score": 60,
                  "writing_score": 57,
                  "gender_male": 1,
                  "total_score": 175,
                  "economic_status": 3
                },
                {
                  "index": 770,
                  "race": 2,
                  "parent_edu": 2,
                  "lunch": 1,
                  "test_prep": 0,
                  "math_score": 52,
                  "reading_score": 48,
                  "writing_score": 49,
                  "gender_male": 1,
                  "total_score": 149,
                  "economic_status": 3
                },
                {
                  "index": 771,
                  "race": 4,
                  "parent_edu": 5,
                  "lunch": 1,
                  "test_prep": 0,
                  "math_score": 75,
                  "reading_score": 73,
                  "writing_score": 74,
                  "gender_male": 1,
                  "total_score": 222,
                  "economic_status": 6
                },
                {
                  "index": 772,
                  "race": 2,
                  "parent_edu": 1,
                  "lunch": 0,
                  "test_prep": 1,
                  "math_score": 52,
                  "reading_score": 67,
                  "writing_score": 72,
                  "gender_male": 0,
                  "total_score": 191,
                  "economic_status": 1
                },
                {
                  "index": 773,
                  "race": 3,
                  "parent_edu": 5,
                  "lunch": 0,
                  "test_prep": 0,
                  "math_score": 62,
                  "reading_score": 78,
                  "writing_score": 79,
                  "gender_male": 0,
                  "total_score": 219,
                  "economic_status": 5
                },
                {
                  "index": 774,
                  "race": 2,
                  "parent_edu": 3,
                  "lunch": 1,
                  "test_prep": 0,
                  "math_score": 66,
                  "reading_score": 65,
                  "writing_score": 60,
                  "gender_male": 1,
                  "total_score": 191,
                  "economic_status": 4
                },
                {
                  "index": 775,
                  "race": 2,
                  "parent_edu": 1,
                  "lunch": 0,
                  "test_prep": 0,
                  "math_score": 49,
                  "reading_score": 58,
                  "writing_score": 55,
                  "gender_male": 0,
                  "total_score": 162,
                  "economic_status": 1
                },
                {
                  "index": 776,
                  "race": 2,
                  "parent_edu": 2,
                  "lunch": 1,
                  "test_prep": 0,
                  "math_score": 66,
                  "reading_score": 72,
                  "writing_score": 70,
                  "gender_male": 0,
                  "total_score": 208,
                  "economic_status": 3
                },
                {
                  "index": 777,
                  "race": 3,
                  "parent_edu": 3,
                  "lunch": 0,
                  "test_prep": 0,
                  "math_score": 35,
                  "reading_score": 44,
                  "writing_score": 43,
                  "gender_male": 0,
                  "total_score": 122,
                  "economic_status": 3
                },
                {
                  "index": 778,
                  "race": 1,
                  "parent_edu": 3,
                  "lunch": 1,
                  "test_prep": 1,
                  "math_score": 72,
                  "reading_score": 79,
                  "writing_score": 82,
                  "gender_male": 0,
                  "total_score": 233,
                  "economic_status": 4
                },
                {
                  "index": 779,
                  "race": 5,
                  "parent_edu": 4,
                  "lunch": 1,
                  "test_prep": 1,
                  "math_score": 94,
                  "reading_score": 85,
                  "writing_score": 82,
                  "gender_male": 1,
                  "total_score": 261,
                  "economic_status": 5
                },
                {
                  "index": 780,
                  "race": 4,
                  "parent_edu": 4,
                  "lunch": 0,
                  "test_prep": 0,
                  "math_score": 46,
                  "reading_score": 56,
                  "writing_score": 57,
                  "gender_male": 0,
                  "total_score": 159,
                  "economic_status": 4
                },
                {
                  "index": 781,
                  "race": 2,
                  "parent_edu": 6,
                  "lunch": 1,
                  "test_prep": 0,
                  "math_score": 77,
                  "reading_score": 90,
                  "writing_score": 84,
                  "gender_male": 0,
                  "total_score": 251,
                  "economic_status": 7
                },
                {
                  "index": 782,
                  "race": 2,
                  "parent_edu": 2,
                  "lunch": 0,
                  "test_prep": 1,
                  "math_score": 76,
                  "reading_score": 85,
                  "writing_score": 82,
                  "gender_male": 0,
                  "total_score": 243,
                  "economic_status": 2
                },
                {
                  "index": 783,
                  "race": 3,
                  "parent_edu": 4,
                  "lunch": 1,
                  "test_prep": 1,
                  "math_score": 52,
                  "reading_score": 59,
                  "writing_score": 62,
                  "gender_male": 0,
                  "total_score": 173,
                  "economic_status": 5
                },
                {
                  "index": 784,
                  "race": 3,
                  "parent_edu": 5,
                  "lunch": 1,
                  "test_prep": 1,
                  "math_score": 91,
                  "reading_score": 81,
                  "writing_score": 79,
                  "gender_male": 1,
                  "total_score": 251,
                  "economic_status": 6
                },
                {
                  "index": 785,
                  "race": 2,
                  "parent_edu": 1,
                  "lunch": 1,
                  "test_prep": 1,
                  "math_score": 32,
                  "reading_score": 51,
                  "writing_score": 44,
                  "gender_male": 0,
                  "total_score": 127,
                  "economic_status": 2
                },
                {
                  "index": 786,
                  "race": 5,
                  "parent_edu": 1,
                  "lunch": 0,
                  "test_prep": 0,
                  "math_score": 72,
                  "reading_score": 79,
                  "writing_score": 77,
                  "gender_male": 0,
                  "total_score": 228,
                  "economic_status": 1
                },
                {
                  "index": 787,
                  "race": 2,
                  "parent_edu": 3,
                  "lunch": 1,
                  "test_prep": 0,
                  "math_score": 19,
                  "reading_score": 38,
                  "writing_score": 32,
                  "gender_male": 0,
                  "total_score": 89,
                  "economic_status": 4
                },
                {
                  "index": 788,
                  "race": 3,
                  "parent_edu": 4,
                  "lunch": 0,
                  "test_prep": 0,
                  "math_score": 68,
                  "reading_score": 65,
                  "writing_score": 61,
                  "gender_male": 1,
                  "total_score": 194,
                  "economic_status": 4
                },
                {
                  "index": 789,
                  "race": 3,
                  "parent_edu": 6,
                  "lunch": 0,
                  "test_prep": 0,
                  "math_score": 52,
                  "reading_score": 65,
                  "writing_score": 61,
                  "gender_male": 0,
                  "total_score": 178,
                  "economic_status": 6
                },
                {
                  "index": 790,
                  "race": 2,
                  "parent_edu": 2,
                  "lunch": 1,
                  "test_prep": 0,
                  "math_score": 48,
                  "reading_score": 62,
                  "writing_score": 60,
                  "gender_male": 0,
                  "total_score": 170,
                  "economic_status": 3
                },
                {
                  "index": 791,
                  "race": 4,
                  "parent_edu": 3,
                  "lunch": 0,
                  "test_prep": 0,
                  "math_score": 60,
                  "reading_score": 66,
                  "writing_score": 70,
                  "gender_male": 0,
                  "total_score": 196,
                  "economic_status": 3
                },
                {
                  "index": 792,
                  "race": 4,
                  "parent_edu": 2,
                  "lunch": 0,
                  "test_prep": 0,
                  "math_score": 66,
                  "reading_score": 74,
                  "writing_score": 69,
                  "gender_male": 1,
                  "total_score": 209,
                  "economic_status": 2
                },
                {
                  "index": 793,
                  "race": 5,
                  "parent_edu": 1,
                  "lunch": 1,
                  "test_prep": 1,
                  "math_score": 89,
                  "reading_score": 84,
                  "writing_score": 77,
                  "gender_male": 1,
                  "total_score": 250,
                  "economic_status": 2
                },
                {
                  "index": 794,
                  "race": 2,
                  "parent_edu": 2,
                  "lunch": 1,
                  "test_prep": 0,
                  "math_score": 42,
                  "reading_score": 52,
                  "writing_score": 51,
                  "gender_male": 0,
                  "total_score": 145,
                  "economic_status": 3
                },
                {
                  "index": 795,
                  "race": 5,
                  "parent_edu": 4,
                  "lunch": 0,
                  "test_prep": 1,
                  "math_score": 57,
                  "reading_score": 68,
                  "writing_score": 73,
                  "gender_male": 0,
                  "total_score": 198,
                  "economic_status": 4
                },
                {
                  "index": 796,
                  "race": 4,
                  "parent_edu": 2,
                  "lunch": 1,
                  "test_prep": 0,
                  "math_score": 70,
                  "reading_score": 70,
                  "writing_score": 70,
                  "gender_male": 1,
                  "total_score": 210,
                  "economic_status": 3
                },
                {
                  "index": 797,
                  "race": 5,
                  "parent_edu": 4,
                  "lunch": 0,
                  "test_prep": 0,
                  "math_score": 70,
                  "reading_score": 84,
                  "writing_score": 81,
                  "gender_male": 0,
                  "total_score": 235,
                  "economic_status": 4
                },
                {
                  "index": 798,
                  "race": 5,
                  "parent_edu": 3,
                  "lunch": 1,
                  "test_prep": 0,
                  "math_score": 69,
                  "reading_score": 60,
                  "writing_score": 54,
                  "gender_male": 1,
                  "total_score": 183,
                  "economic_status": 4
                },
                {
                  "index": 799,
                  "race": 3,
                  "parent_edu": 4,
                  "lunch": 1,
                  "test_prep": 0,
                  "math_score": 52,
                  "reading_score": 55,
                  "writing_score": 57,
                  "gender_male": 0,
                  "total_score": 164,
                  "economic_status": 5
                },
                {
                  "index": 800,
                  "race": 3,
                  "parent_edu": 1,
                  "lunch": 1,
                  "test_prep": 1,
                  "math_score": 67,
                  "reading_score": 73,
                  "writing_score": 68,
                  "gender_male": 1,
                  "total_score": 208,
                  "economic_status": 2
                },
                {
                  "index": 801,
                  "race": 3,
                  "parent_edu": 1,
                  "lunch": 1,
                  "test_prep": 1,
                  "math_score": 76,
                  "reading_score": 80,
                  "writing_score": 73,
                  "gender_male": 1,
                  "total_score": 229,
                  "economic_status": 2
                },
                {
                  "index": 802,
                  "race": 5,
                  "parent_edu": 4,
                  "lunch": 1,
                  "test_prep": 0,
                  "math_score": 87,
                  "reading_score": 94,
                  "writing_score": 95,
                  "gender_male": 0,
                  "total_score": 276,
                  "economic_status": 5
                },
                {
                  "index": 803,
                  "race": 2,
                  "parent_edu": 3,
                  "lunch": 1,
                  "test_prep": 0,
                  "math_score": 82,
                  "reading_score": 85,
                  "writing_score": 87,
                  "gender_male": 0,
                  "total_score": 254,
                  "economic_status": 4
                },
                {
                  "index": 804,
                  "race": 3,
                  "parent_edu": 3,
                  "lunch": 1,
                  "test_prep": 0,
                  "math_score": 73,
                  "reading_score": 76,
                  "writing_score": 78,
                  "gender_male": 0,
                  "total_score": 227,
                  "economic_status": 4
                },
                {
                  "index": 805,
                  "race": 1,
                  "parent_edu": 3,
                  "lunch": 0,
                  "test_prep": 0,
                  "math_score": 75,
                  "reading_score": 81,
                  "writing_score": 74,
                  "gender_male": 1,
                  "total_score": 230,
                  "economic_status": 3
                },
                {
                  "index": 806,
                  "race": 4,
                  "parent_edu": 3,
                  "lunch": 0,
                  "test_prep": 0,
                  "math_score": 64,
                  "reading_score": 74,
                  "writing_score": 75,
                  "gender_male": 0,
                  "total_score": 213,
                  "economic_status": 3
                },
                {
                  "index": 807,
                  "race": 5,
                  "parent_edu": 2,
                  "lunch": 0,
                  "test_prep": 0,
                  "math_score": 41,
                  "reading_score": 45,
                  "writing_score": 40,
                  "gender_male": 0,
                  "total_score": 126,
                  "economic_status": 2
                },
                {
                  "index": 808,
                  "race": 3,
                  "parent_edu": 2,
                  "lunch": 1,
                  "test_prep": 0,
                  "math_score": 90,
                  "reading_score": 75,
                  "writing_score": 69,
                  "gender_male": 1,
                  "total_score": 234,
                  "economic_status": 3
                },
                {
                  "index": 809,
                  "race": 2,
                  "parent_edu": 5,
                  "lunch": 1,
                  "test_prep": 0,
                  "math_score": 59,
                  "reading_score": 54,
                  "writing_score": 51,
                  "gender_male": 1,
                  "total_score": 164,
                  "economic_status": 6
                },
                {
                  "index": 810,
                  "race": 1,
                  "parent_edu": 1,
                  "lunch": 1,
                  "test_prep": 0,
                  "math_score": 51,
                  "reading_score": 31,
                  "writing_score": 36,
                  "gender_male": 1,
                  "total_score": 118,
                  "economic_status": 2
                },
                {
                  "index": 811,
                  "race": 1,
                  "parent_edu": 2,
                  "lunch": 0,
                  "test_prep": 0,
                  "math_score": 45,
                  "reading_score": 47,
                  "writing_score": 49,
                  "gender_male": 1,
                  "total_score": 141,
                  "economic_status": 2
                },
                {
                  "index": 812,
                  "race": 3,
                  "parent_edu": 6,
                  "lunch": 1,
                  "test_prep": 1,
                  "math_score": 54,
                  "reading_score": 64,
                  "writing_score": 67,
                  "gender_male": 0,
                  "total_score": 185,
                  "economic_status": 7
                },
                {
                  "index": 813,
                  "race": 5,
                  "parent_edu": 1,
                  "lunch": 1,
                  "test_prep": 1,
                  "math_score": 87,
                  "reading_score": 84,
                  "writing_score": 76,
                  "gender_male": 1,
                  "total_score": 247,
                  "economic_status": 2
                },
                {
                  "index": 814,
                  "race": 3,
                  "parent_edu": 2,
                  "lunch": 1,
                  "test_prep": 0,
                  "math_score": 72,
                  "reading_score": 80,
                  "writing_score": 83,
                  "gender_male": 0,
                  "total_score": 235,
                  "economic_status": 3
                },
                {
                  "index": 815,
                  "race": 2,
                  "parent_edu": 1,
                  "lunch": 1,
                  "test_prep": 1,
                  "math_score": 94,
                  "reading_score": 86,
                  "writing_score": 87,
                  "gender_male": 1,
                  "total_score": 267,
                  "economic_status": 2
                },
                {
                  "index": 816,
                  "race": 1,
                  "parent_edu": 5,
                  "lunch": 1,
                  "test_prep": 0,
                  "math_score": 45,
                  "reading_score": 59,
                  "writing_score": 64,
                  "gender_male": 0,
                  "total_score": 168,
                  "economic_status": 6
                },
                {
                  "index": 817,
                  "race": 4,
                  "parent_edu": 5,
                  "lunch": 0,
                  "test_prep": 1,
                  "math_score": 61,
                  "reading_score": 70,
                  "writing_score": 76,
                  "gender_male": 1,
                  "total_score": 207,
                  "economic_status": 5
                },
                {
                  "index": 818,
                  "race": 2,
                  "parent_edu": 2,
                  "lunch": 0,
                  "test_prep": 0,
                  "math_score": 60,
                  "reading_score": 72,
                  "writing_score": 68,
                  "gender_male": 0,
                  "total_score": 200,
                  "economic_status": 2
                },
                {
                  "index": 819,
                  "race": 3,
                  "parent_edu": 1,
                  "lunch": 1,
                  "test_prep": 0,
                  "math_score": 77,
                  "reading_score": 91,
                  "writing_score": 88,
                  "gender_male": 0,
                  "total_score": 256,
                  "economic_status": 2
                },
                {
                  "index": 820,
                  "race": 1,
                  "parent_edu": 1,
                  "lunch": 1,
                  "test_prep": 1,
                  "math_score": 85,
                  "reading_score": 90,
                  "writing_score": 92,
                  "gender_male": 0,
                  "total_score": 267,
                  "economic_status": 2
                },
                {
                  "index": 821,
                  "race": 4,
                  "parent_edu": 5,
                  "lunch": 0,
                  "test_prep": 0,
                  "math_score": 78,
                  "reading_score": 90,
                  "writing_score": 93,
                  "gender_male": 0,
                  "total_score": 261,
                  "economic_status": 5
                },
                {
                  "index": 822,
                  "race": 5,
                  "parent_edu": 3,
                  "lunch": 0,
                  "test_prep": 1,
                  "math_score": 49,
                  "reading_score": 52,
                  "writing_score": 51,
                  "gender_male": 1,
                  "total_score": 152,
                  "economic_status": 3
                },
                {
                  "index": 823,
                  "race": 2,
                  "parent_edu": 2,
                  "lunch": 0,
                  "test_prep": 0,
                  "math_score": 71,
                  "reading_score": 87,
                  "writing_score": 82,
                  "gender_male": 0,
                  "total_score": 240,
                  "economic_status": 2
                },
                {
                  "index": 824,
                  "race": 3,
                  "parent_edu": 1,
                  "lunch": 0,
                  "test_prep": 0,
                  "math_score": 48,
                  "reading_score": 58,
                  "writing_score": 52,
                  "gender_male": 0,
                  "total_score": 158,
                  "economic_status": 1
                },
                {
                  "index": 825,
                  "race": 3,
                  "parent_edu": 2,
                  "lunch": 1,
                  "test_prep": 0,
                  "math_score": 62,
                  "reading_score": 67,
                  "writing_score": 58,
                  "gender_male": 1,
                  "total_score": 187,
                  "economic_status": 3
                },
                {
                  "index": 826,
                  "race": 3,
                  "parent_edu": 4,
                  "lunch": 0,
                  "test_prep": 1,
                  "math_score": 56,
                  "reading_score": 68,
                  "writing_score": 70,
                  "gender_male": 0,
                  "total_score": 194,
                  "economic_status": 4
                },
                {
                  "index": 827,
                  "race": 3,
                  "parent_edu": 1,
                  "lunch": 1,
                  "test_prep": 0,
                  "math_score": 65,
                  "reading_score": 69,
                  "writing_score": 76,
                  "gender_male": 0,
                  "total_score": 210,
                  "economic_status": 2
                },
                {
                  "index": 828,
                  "race": 4,
                  "parent_edu": 1,
                  "lunch": 0,
                  "test_prep": 1,
                  "math_score": 69,
                  "reading_score": 86,
                  "writing_score": 81,
                  "gender_male": 0,
                  "total_score": 236,
                  "economic_status": 1
                },
                {
                  "index": 829,
                  "race": 2,
                  "parent_edu": 1,
                  "lunch": 1,
                  "test_prep": 0,
                  "math_score": 68,
                  "reading_score": 54,
                  "writing_score": 53,
                  "gender_male": 1,
                  "total_score": 175,
                  "economic_status": 2
                },
                {
                  "index": 830,
                  "race": 1,
                  "parent_edu": 3,
                  "lunch": 0,
                  "test_prep": 0,
                  "math_score": 61,
                  "reading_score": 60,
                  "writing_score": 57,
                  "gender_male": 0,
                  "total_score": 178,
                  "economic_status": 3
                },
                {
                  "index": 831,
                  "race": 3,
                  "parent_edu": 5,
                  "lunch": 0,
                  "test_prep": 1,
                  "math_score": 74,
                  "reading_score": 86,
                  "writing_score": 89,
                  "gender_male": 0,
                  "total_score": 249,
                  "economic_status": 5
                },
                {
                  "index": 832,
                  "race": 1,
                  "parent_edu": 5,
                  "lunch": 1,
                  "test_prep": 0,
                  "math_score": 64,
                  "reading_score": 60,
                  "writing_score": 58,
                  "gender_male": 1,
                  "total_score": 182,
                  "economic_status": 6
                },
                {
                  "index": 833,
                  "race": 2,
                  "parent_edu": 2,
                  "lunch": 1,
                  "test_prep": 1,
                  "math_score": 77,
                  "reading_score": 82,
                  "writing_score": 89,
                  "gender_male": 0,
                  "total_score": 248,
                  "economic_status": 3
                },
                {
                  "index": 834,
                  "race": 2,
                  "parent_edu": 3,
                  "lunch": 1,
                  "test_prep": 0,
                  "math_score": 58,
                  "reading_score": 50,
                  "writing_score": 45,
                  "gender_male": 1,
                  "total_score": 153,
                  "economic_status": 4
                },
                {
                  "index": 835,
                  "race": 3,
                  "parent_edu": 2,
                  "lunch": 1,
                  "test_prep": 1,
                  "math_score": 60,
                  "reading_score": 64,
                  "writing_score": 74,
                  "gender_male": 0,
                  "total_score": 198,
                  "economic_status": 3
                },
                {
                  "index": 836,
                  "race": 5,
                  "parent_edu": 2,
                  "lunch": 1,
                  "test_prep": 0,
                  "math_score": 73,
                  "reading_score": 64,
                  "writing_score": 57,
                  "gender_male": 1,
                  "total_score": 194,
                  "economic_status": 3
                },
                {
                  "index": 837,
                  "race": 1,
                  "parent_edu": 2,
                  "lunch": 1,
                  "test_prep": 1,
                  "math_score": 75,
                  "reading_score": 82,
                  "writing_score": 79,
                  "gender_male": 0,
                  "total_score": 236,
                  "economic_status": 3
                },
                {
                  "index": 838,
                  "race": 2,
                  "parent_edu": 4,
                  "lunch": 0,
                  "test_prep": 1,
                  "math_score": 58,
                  "reading_score": 57,
                  "writing_score": 53,
                  "gender_male": 1,
                  "total_score": 168,
                  "economic_status": 4
                },
                {
                  "index": 839,
                  "race": 3,
                  "parent_edu": 4,
                  "lunch": 1,
                  "test_prep": 0,
                  "math_score": 66,
                  "reading_score": 77,
                  "writing_score": 73,
                  "gender_male": 0,
                  "total_score": 216,
                  "economic_status": 5
                },
                {
                  "index": 840,
                  "race": 4,
                  "parent_edu": 2,
                  "lunch": 0,
                  "test_prep": 0,
                  "math_score": 39,
                  "reading_score": 52,
                  "writing_score": 46,
                  "gender_male": 0,
                  "total_score": 137,
                  "economic_status": 2
                },
                {
                  "index": 841,
                  "race": 3,
                  "parent_edu": 1,
                  "lunch": 1,
                  "test_prep": 0,
                  "math_score": 64,
                  "reading_score": 58,
                  "writing_score": 51,
                  "gender_male": 1,
                  "total_score": 173,
                  "economic_status": 2
                },
                {
                  "index": 842,
                  "race": 2,
                  "parent_edu": 2,
                  "lunch": 0,
                  "test_prep": 1,
                  "math_score": 23,
                  "reading_score": 44,
                  "writing_score": 36,
                  "gender_male": 0,
                  "total_score": 103,
                  "economic_status": 2
                },
                {
                  "index": 843,
                  "race": 2,
                  "parent_edu": 3,
                  "lunch": 0,
                  "test_prep": 1,
                  "math_score": 74,
                  "reading_score": 77,
                  "writing_score": 76,
                  "gender_male": 1,
                  "total_score": 227,
                  "economic_status": 3
                },
                {
                  "index": 844,
                  "race": 4,
                  "parent_edu": 1,
                  "lunch": 0,
                  "test_prep": 1,
                  "math_score": 40,
                  "reading_score": 65,
                  "writing_score": 64,
                  "gender_male": 0,
                  "total_score": 169,
                  "economic_status": 1
                },
                {
                  "index": 845,
                  "race": 5,
                  "parent_edu": 6,
                  "lunch": 1,
                  "test_prep": 0,
                  "math_score": 90,
                  "reading_score": 85,
                  "writing_score": 84,
                  "gender_male": 1,
                  "total_score": 259,
                  "economic_status": 7
                },
                {
                  "index": 846,
                  "race": 3,
                  "parent_edu": 6,
                  "lunch": 1,
                  "test_prep": 1,
                  "math_score": 91,
                  "reading_score": 85,
                  "writing_score": 85,
                  "gender_male": 1,
                  "total_score": 261,
                  "economic_status": 7
                },
                {
                  "index": 847,
                  "race": 4,
                  "parent_edu": 2,
                  "lunch": 1,
                  "test_prep": 0,
                  "math_score": 64,
                  "reading_score": 54,
                  "writing_score": 50,
                  "gender_male": 1,
                  "total_score": 168,
                  "economic_status": 3
                },
                {
                  "index": 848,
                  "race": 3,
                  "parent_edu": 2,
                  "lunch": 1,
                  "test_prep": 0,
                  "math_score": 59,
                  "reading_score": 72,
                  "writing_score": 68,
                  "gender_male": 0,
                  "total_score": 199,
                  "economic_status": 3
                },
                {
                  "index": 849,
                  "race": 4,
                  "parent_edu": 4,
                  "lunch": 1,
                  "test_prep": 0,
                  "math_score": 80,
                  "reading_score": 75,
                  "writing_score": 69,
                  "gender_male": 1,
                  "total_score": 224,
                  "economic_status": 5
                },
                {
                  "index": 850,
                  "race": 3,
                  "parent_edu": 6,
                  "lunch": 1,
                  "test_prep": 0,
                  "math_score": 71,
                  "reading_score": 67,
                  "writing_score": 67,
                  "gender_male": 1,
                  "total_score": 205,
                  "economic_status": 7
                },
                {
                  "index": 851,
                  "race": 1,
                  "parent_edu": 2,
                  "lunch": 1,
                  "test_prep": 0,
                  "math_score": 61,
                  "reading_score": 68,
                  "writing_score": 63,
                  "gender_male": 0,
                  "total_score": 192,
                  "economic_status": 3
                },
                {
                  "index": 852,
                  "race": 5,
                  "parent_edu": 3,
                  "lunch": 1,
                  "test_prep": 0,
                  "math_score": 87,
                  "reading_score": 85,
                  "writing_score": 93,
                  "gender_male": 0,
                  "total_score": 265,
                  "economic_status": 4
                },
                {
                  "index": 853,
                  "race": 5,
                  "parent_edu": 1,
                  "lunch": 1,
                  "test_prep": 0,
                  "math_score": 82,
                  "reading_score": 67,
                  "writing_score": 61,
                  "gender_male": 1,
                  "total_score": 210,
                  "economic_status": 2
                },
                {
                  "index": 854,
                  "race": 3,
                  "parent_edu": 1,
                  "lunch": 1,
                  "test_prep": 0,
                  "math_score": 62,
                  "reading_score": 64,
                  "writing_score": 55,
                  "gender_male": 1,
                  "total_score": 181,
                  "economic_status": 2
                },
                {
                  "index": 855,
                  "race": 2,
                  "parent_edu": 5,
                  "lunch": 1,
                  "test_prep": 0,
                  "math_score": 97,
                  "reading_score": 97,
                  "writing_score": 96,
                  "gender_male": 0,
                  "total_score": 290,
                  "economic_status": 6
                },
                {
                  "index": 856,
                  "race": 2,
                  "parent_edu": 3,
                  "lunch": 0,
                  "test_prep": 0,
                  "math_score": 75,
                  "reading_score": 68,
                  "writing_score": 65,
                  "gender_male": 1,
                  "total_score": 208,
                  "economic_status": 3
                },
                {
                  "index": 857,
                  "race": 3,
                  "parent_edu": 5,
                  "lunch": 1,
                  "test_prep": 0,
                  "math_score": 65,
                  "reading_score": 79,
                  "writing_score": 81,
                  "gender_male": 0,
                  "total_score": 225,
                  "economic_status": 6
                },
                {
                  "index": 858,
                  "race": 2,
                  "parent_edu": 2,
                  "lunch": 1,
                  "test_prep": 1,
                  "math_score": 52,
                  "reading_score": 49,
                  "writing_score": 46,
                  "gender_male": 1,
                  "total_score": 147,
                  "economic_status": 3
                },
                {
                  "index": 859,
                  "race": 3,
                  "parent_edu": 4,
                  "lunch": 0,
                  "test_prep": 0,
                  "math_score": 87,
                  "reading_score": 73,
                  "writing_score": 72,
                  "gender_male": 1,
                  "total_score": 232,
                  "economic_status": 4
                },
                {
                  "index": 860,
                  "race": 3,
                  "parent_edu": 4,
                  "lunch": 1,
                  "test_prep": 0,
                  "math_score": 53,
                  "reading_score": 62,
                  "writing_score": 53,
                  "gender_male": 0,
                  "total_score": 168,
                  "economic_status": 5
                },
                {
                  "index": 861,
                  "race": 5,
                  "parent_edu": 6,
                  "lunch": 0,
                  "test_prep": 0,
                  "math_score": 81,
                  "reading_score": 86,
                  "writing_score": 87,
                  "gender_male": 0,
                  "total_score": 254,
                  "economic_status": 6
                },
                {
                  "index": 862,
                  "race": 4,
                  "parent_edu": 5,
                  "lunch": 0,
                  "test_prep": 1,
                  "math_score": 39,
                  "reading_score": 42,
                  "writing_score": 38,
                  "gender_male": 1,
                  "total_score": 119,
                  "economic_status": 5
                },
                {
                  "index": 863,
                  "race": 3,
                  "parent_edu": 3,
                  "lunch": 1,
                  "test_prep": 1,
                  "math_score": 71,
                  "reading_score": 71,
                  "writing_score": 80,
                  "gender_male": 0,
                  "total_score": 222,
                  "economic_status": 4
                },
                {
                  "index": 864,
                  "race": 3,
                  "parent_edu": 4,
                  "lunch": 1,
                  "test_prep": 0,
                  "math_score": 97,
                  "reading_score": 93,
                  "writing_score": 91,
                  "gender_male": 1,
                  "total_score": 281,
                  "economic_status": 5
                },
                {
                  "index": 865,
                  "race": 4,
                  "parent_edu": 3,
                  "lunch": 1,
                  "test_prep": 1,
                  "math_score": 82,
                  "reading_score": 82,
                  "writing_score": 88,
                  "gender_male": 1,
                  "total_score": 252,
                  "economic_status": 4
                },
                {
                  "index": 866,
                  "race": 3,
                  "parent_edu": 2,
                  "lunch": 0,
                  "test_prep": 0,
                  "math_score": 59,
                  "reading_score": 53,
                  "writing_score": 52,
                  "gender_male": 1,
                  "total_score": 164,
                  "economic_status": 2
                },
                {
                  "index": 867,
                  "race": 2,
                  "parent_edu": 4,
                  "lunch": 1,
                  "test_prep": 0,
                  "math_score": 61,
                  "reading_score": 42,
                  "writing_score": 41,
                  "gender_male": 1,
                  "total_score": 144,
                  "economic_status": 5
                },
                {
                  "index": 868,
                  "race": 5,
                  "parent_edu": 4,
                  "lunch": 0,
                  "test_prep": 1,
                  "math_score": 78,
                  "reading_score": 74,
                  "writing_score": 72,
                  "gender_male": 1,
                  "total_score": 224,
                  "economic_status": 4
                },
                {
                  "index": 869,
                  "race": 3,
                  "parent_edu": 4,
                  "lunch": 0,
                  "test_prep": 0,
                  "math_score": 49,
                  "reading_score": 51,
                  "writing_score": 51,
                  "gender_male": 1,
                  "total_score": 151,
                  "economic_status": 4
                },
                {
                  "index": 870,
                  "race": 2,
                  "parent_edu": 2,
                  "lunch": 1,
                  "test_prep": 0,
                  "math_score": 59,
                  "reading_score": 58,
                  "writing_score": 47,
                  "gender_male": 1,
                  "total_score": 164,
                  "economic_status": 3
                },
                {
                  "index": 871,
                  "race": 3,
                  "parent_edu": 3,
                  "lunch": 1,
                  "test_prep": 1,
                  "math_score": 70,
                  "reading_score": 72,
                  "writing_score": 76,
                  "gender_male": 0,
                  "total_score": 218,
                  "economic_status": 4
                },
                {
                  "index": 872,
                  "race": 2,
                  "parent_edu": 4,
                  "lunch": 1,
                  "test_prep": 1,
                  "math_score": 82,
                  "reading_score": 84,
                  "writing_score": 78,
                  "gender_male": 1,
                  "total_score": 244,
                  "economic_status": 5
                },
                {
                  "index": 873,
                  "race": 5,
                  "parent_edu": 4,
                  "lunch": 0,
                  "test_prep": 0,
                  "math_score": 90,
                  "reading_score": 90,
                  "writing_score": 82,
                  "gender_male": 1,
                  "total_score": 262,
                  "economic_status": 4
                },
                {
                  "index": 874,
                  "race": 3,
                  "parent_edu": 5,
                  "lunch": 0,
                  "test_prep": 0,
                  "math_score": 43,
                  "reading_score": 62,
                  "writing_score": 61,
                  "gender_male": 0,
                  "total_score": 166,
                  "economic_status": 5
                },
                {
                  "index": 875,
                  "race": 3,
                  "parent_edu": 3,
                  "lunch": 0,
                  "test_prep": 0,
                  "math_score": 80,
                  "reading_score": 64,
                  "writing_score": 66,
                  "gender_male": 1,
                  "total_score": 210,
                  "economic_status": 3
                },
                {
                  "index": 876,
                  "race": 4,
                  "parent_edu": 3,
                  "lunch": 1,
                  "test_prep": 0,
                  "math_score": 81,
                  "reading_score": 82,
                  "writing_score": 84,
                  "gender_male": 1,
                  "total_score": 247,
                  "economic_status": 4
                },
                {
                  "index": 877,
                  "race": 3,
                  "parent_edu": 1,
                  "lunch": 1,
                  "test_prep": 0,
                  "math_score": 57,
                  "reading_score": 61,
                  "writing_score": 54,
                  "gender_male": 1,
                  "total_score": 172,
                  "economic_status": 2
                },
                {
                  "index": 878,
                  "race": 4,
                  "parent_edu": 1,
                  "lunch": 1,
                  "test_prep": 0,
                  "math_score": 59,
                  "reading_score": 72,
                  "writing_score": 80,
                  "gender_male": 0,
                  "total_score": 211,
                  "economic_status": 2
                },
                {
                  "index": 879,
                  "race": 4,
                  "parent_edu": 4,
                  "lunch": 1,
                  "test_prep": 0,
                  "math_score": 64,
                  "reading_score": 76,
                  "writing_score": 74,
                  "gender_male": 0,
                  "total_score": 214,
                  "economic_status": 5
                },
                {
                  "index": 880,
                  "race": 3,
                  "parent_edu": 5,
                  "lunch": 1,
                  "test_prep": 1,
                  "math_score": 63,
                  "reading_score": 64,
                  "writing_score": 66,
                  "gender_male": 1,
                  "total_score": 193,
                  "economic_status": 6
                },
                {
                  "index": 881,
                  "race": 5,
                  "parent_edu": 5,
                  "lunch": 1,
                  "test_prep": 1,
                  "math_score": 71,
                  "reading_score": 70,
                  "writing_score": 70,
                  "gender_male": 0,
                  "total_score": 211,
                  "economic_status": 6
                },
                {
                  "index": 882,
                  "race": 2,
                  "parent_edu": 2,
                  "lunch": 0,
                  "test_prep": 0,
                  "math_score": 64,
                  "reading_score": 73,
                  "writing_score": 71,
                  "gender_male": 0,
                  "total_score": 208,
                  "economic_status": 2
                },
                {
                  "index": 883,
                  "race": 4,
                  "parent_edu": 5,
                  "lunch": 0,
                  "test_prep": 0,
                  "math_score": 55,
                  "reading_score": 46,
                  "writing_score": 44,
                  "gender_male": 1,
                  "total_score": 145,
                  "economic_status": 5
                },
                {
                  "index": 884,
                  "race": 5,
                  "parent_edu": 4,
                  "lunch": 1,
                  "test_prep": 0,
                  "math_score": 51,
                  "reading_score": 51,
                  "writing_score": 54,
                  "gender_male": 0,
                  "total_score": 156,
                  "economic_status": 5
                },
                {
                  "index": 885,
                  "race": 3,
                  "parent_edu": 4,
                  "lunch": 1,
                  "test_prep": 1,
                  "math_score": 62,
                  "reading_score": 76,
                  "writing_score": 80,
                  "gender_male": 0,
                  "total_score": 218,
                  "economic_status": 5
                },
                {
                  "index": 886,
                  "race": 5,
                  "parent_edu": 4,
                  "lunch": 1,
                  "test_prep": 1,
                  "math_score": 93,
                  "reading_score": 100,
                  "writing_score": 95,
                  "gender_male": 0,
                  "total_score": 288,
                  "economic_status": 5
                },
                {
                  "index": 887,
                  "race": 3,
                  "parent_edu": 2,
                  "lunch": 0,
                  "test_prep": 0,
                  "math_score": 54,
                  "reading_score": 72,
                  "writing_score": 59,
                  "gender_male": 1,
                  "total_score": 185,
                  "economic_status": 2
                },
                {
                  "index": 888,
                  "race": 4,
                  "parent_edu": 3,
                  "lunch": 0,
                  "test_prep": 0,
                  "math_score": 69,
                  "reading_score": 65,
                  "writing_score": 74,
                  "gender_male": 0,
                  "total_score": 208,
                  "economic_status": 3
                },
                {
                  "index": 889,
                  "race": 4,
                  "parent_edu": 2,
                  "lunch": 0,
                  "test_prep": 0,
                  "math_score": 44,
                  "reading_score": 51,
                  "writing_score": 48,
                  "gender_male": 1,
                  "total_score": 143,
                  "economic_status": 2
                },
                {
                  "index": 890,
                  "race": 5,
                  "parent_edu": 3,
                  "lunch": 1,
                  "test_prep": 1,
                  "math_score": 86,
                  "reading_score": 85,
                  "writing_score": 91,
                  "gender_male": 0,
                  "total_score": 262,
                  "economic_status": 4
                },
                {
                  "index": 891,
                  "race": 5,
                  "parent_edu": 4,
                  "lunch": 1,
                  "test_prep": 0,
                  "math_score": 85,
                  "reading_score": 92,
                  "writing_score": 85,
                  "gender_male": 0,
                  "total_score": 262,
                  "economic_status": 5
                },
                {
                  "index": 892,
                  "race": 1,
                  "parent_edu": 6,
                  "lunch": 0,
                  "test_prep": 0,
                  "math_score": 50,
                  "reading_score": 67,
                  "writing_score": 73,
                  "gender_male": 0,
                  "total_score": 190,
                  "economic_status": 6
                },
                {
                  "index": 893,
                  "race": 4,
                  "parent_edu": 1,
                  "lunch": 1,
                  "test_prep": 1,
                  "math_score": 88,
                  "reading_score": 74,
                  "writing_score": 75,
                  "gender_male": 1,
                  "total_score": 237,
                  "economic_status": 2
                },
                {
                  "index": 894,
                  "race": 5,
                  "parent_edu": 4,
                  "lunch": 1,
                  "test_prep": 0,
                  "math_score": 59,
                  "reading_score": 62,
                  "writing_score": 69,
                  "gender_male": 0,
                  "total_score": 190,
                  "economic_status": 5
                },
                {
                  "index": 895,
                  "race": 5,
                  "parent_edu": 1,
                  "lunch": 0,
                  "test_prep": 0,
                  "math_score": 32,
                  "reading_score": 34,
                  "writing_score": 38,
                  "gender_male": 0,
                  "total_score": 104,
                  "economic_status": 1
                },
                {
                  "index": 896,
                  "race": 2,
                  "parent_edu": 2,
                  "lunch": 0,
                  "test_prep": 0,
                  "math_score": 36,
                  "reading_score": 29,
                  "writing_score": 27,
                  "gender_male": 1,
                  "total_score": 92,
                  "economic_status": 2
                },
                {
                  "index": 897,
                  "race": 2,
                  "parent_edu": 1,
                  "lunch": 0,
                  "test_prep": 1,
                  "math_score": 63,
                  "reading_score": 78,
                  "writing_score": 79,
                  "gender_male": 0,
                  "total_score": 220,
                  "economic_status": 1
                },
                {
                  "index": 898,
                  "race": 4,
                  "parent_edu": 4,
                  "lunch": 1,
                  "test_prep": 1,
                  "math_score": 67,
                  "reading_score": 54,
                  "writing_score": 63,
                  "gender_male": 1,
                  "total_score": 184,
                  "economic_status": 5
                },
                {
                  "index": 899,
                  "race": 4,
                  "parent_edu": 1,
                  "lunch": 1,
                  "test_prep": 1,
                  "math_score": 65,
                  "reading_score": 78,
                  "writing_score": 82,
                  "gender_male": 0,
                  "total_score": 225,
                  "economic_status": 2
                },
                {
                  "index": 900,
                  "race": 4,
                  "parent_edu": 6,
                  "lunch": 1,
                  "test_prep": 0,
                  "math_score": 85,
                  "reading_score": 84,
                  "writing_score": 89,
                  "gender_male": 1,
                  "total_score": 258,
                  "economic_status": 7
                },
                {
                  "index": 901,
                  "race": 3,
                  "parent_edu": 6,
                  "lunch": 1,
                  "test_prep": 0,
                  "math_score": 73,
                  "reading_score": 78,
                  "writing_score": 74,
                  "gender_male": 0,
                  "total_score": 225,
                  "economic_status": 7
                },
                {
                  "index": 902,
                  "race": 1,
                  "parent_edu": 2,
                  "lunch": 0,
                  "test_prep": 1,
                  "math_score": 34,
                  "reading_score": 48,
                  "writing_score": 41,
                  "gender_male": 0,
                  "total_score": 123,
                  "economic_status": 2
                },
                {
                  "index": 903,
                  "race": 4,
                  "parent_edu": 5,
                  "lunch": 0,
                  "test_prep": 1,
                  "math_score": 93,
                  "reading_score": 100,
                  "writing_score": 100,
                  "gender_male": 0,
                  "total_score": 293,
                  "economic_status": 5
                },
                {
                  "index": 904,
                  "race": 4,
                  "parent_edu": 1,
                  "lunch": 0,
                  "test_prep": 0,
                  "math_score": 67,
                  "reading_score": 84,
                  "writing_score": 84,
                  "gender_male": 0,
                  "total_score": 235,
                  "economic_status": 1
                },
                {
                  "index": 905,
                  "race": 4,
                  "parent_edu": 3,
                  "lunch": 1,
                  "test_prep": 0,
                  "math_score": 88,
                  "reading_score": 77,
                  "writing_score": 77,
                  "gender_male": 1,
                  "total_score": 242,
                  "economic_status": 4
                },
                {
                  "index": 906,
                  "race": 2,
                  "parent_edu": 2,
                  "lunch": 1,
                  "test_prep": 0,
                  "math_score": 57,
                  "reading_score": 48,
                  "writing_score": 51,
                  "gender_male": 1,
                  "total_score": 156,
                  "economic_status": 3
                },
                {
                  "index": 907,
                  "race": 4,
                  "parent_edu": 3,
                  "lunch": 1,
                  "test_prep": 1,
                  "math_score": 79,
                  "reading_score": 84,
                  "writing_score": 91,
                  "gender_male": 0,
                  "total_score": 254,
                  "economic_status": 4
                },
                {
                  "index": 908,
                  "race": 3,
                  "parent_edu": 5,
                  "lunch": 0,
                  "test_prep": 0,
                  "math_score": 67,
                  "reading_score": 75,
                  "writing_score": 72,
                  "gender_male": 0,
                  "total_score": 214,
                  "economic_status": 5
                },
                {
                  "index": 909,
                  "race": 5,
                  "parent_edu": 5,
                  "lunch": 1,
                  "test_prep": 1,
                  "math_score": 70,
                  "reading_score": 64,
                  "writing_score": 70,
                  "gender_male": 1,
                  "total_score": 204,
                  "economic_status": 6
                },
                {
                  "index": 910,
                  "race": 4,
                  "parent_edu": 5,
                  "lunch": 0,
                  "test_prep": 0,
                  "math_score": 50,
                  "reading_score": 42,
                  "writing_score": 48,
                  "gender_male": 1,
                  "total_score": 140,
                  "economic_status": 5
                },
                {
                  "index": 911,
                  "race": 1,
                  "parent_edu": 3,
                  "lunch": 1,
                  "test_prep": 0,
                  "math_score": 69,
                  "reading_score": 84,
                  "writing_score": 82,
                  "gender_male": 0,
                  "total_score": 235,
                  "economic_status": 4
                },
                {
                  "index": 912,
                  "race": 3,
                  "parent_edu": 5,
                  "lunch": 1,
                  "test_prep": 1,
                  "math_score": 52,
                  "reading_score": 61,
                  "writing_score": 66,
                  "gender_male": 0,
                  "total_score": 179,
                  "economic_status": 6
                },
                {
                  "index": 913,
                  "race": 3,
                  "parent_edu": 5,
                  "lunch": 0,
                  "test_prep": 1,
                  "math_score": 47,
                  "reading_score": 62,
                  "writing_score": 66,
                  "gender_male": 0,
                  "total_score": 175,
                  "economic_status": 5
                },
                {
                  "index": 914,
                  "race": 2,
                  "parent_edu": 4,
                  "lunch": 0,
                  "test_prep": 0,
                  "math_score": 46,
                  "reading_score": 61,
                  "writing_score": 55,
                  "gender_male": 0,
                  "total_score": 162,
                  "economic_status": 4
                },
                {
                  "index": 915,
                  "race": 5,
                  "parent_edu": 3,
                  "lunch": 1,
                  "test_prep": 0,
                  "math_score": 68,
                  "reading_score": 70,
                  "writing_score": 66,
                  "gender_male": 0,
                  "total_score": 204,
                  "economic_status": 4
                },
                {
                  "index": 916,
                  "race": 5,
                  "parent_edu": 5,
                  "lunch": 1,
                  "test_prep": 1,
                  "math_score": 100,
                  "reading_score": 100,
                  "writing_score": 100,
                  "gender_male": 1,
                  "total_score": 300,
                  "economic_status": 6
                },
                {
                  "index": 917,
                  "race": 3,
                  "parent_edu": 2,
                  "lunch": 1,
                  "test_prep": 0,
                  "math_score": 44,
                  "reading_score": 61,
                  "writing_score": 52,
                  "gender_male": 0,
                  "total_score": 157,
                  "economic_status": 3
                },
                {
                  "index": 918,
                  "race": 3,
                  "parent_edu": 4,
                  "lunch": 1,
                  "test_prep": 1,
                  "math_score": 57,
                  "reading_score": 77,
                  "writing_score": 80,
                  "gender_male": 0,
                  "total_score": 214,
                  "economic_status": 5
                },
                {
                  "index": 919,
                  "race": 2,
                  "parent_edu": 3,
                  "lunch": 1,
                  "test_prep": 1,
                  "math_score": 91,
                  "reading_score": 96,
                  "writing_score": 91,
                  "gender_male": 1,
                  "total_score": 278,
                  "economic_status": 4
                },
                {
                  "index": 920,
                  "race": 4,
                  "parent_edu": 2,
                  "lunch": 0,
                  "test_prep": 0,
                  "math_score": 69,
                  "reading_score": 70,
                  "writing_score": 67,
                  "gender_male": 1,
                  "total_score": 206,
                  "economic_status": 2
                },
                {
                  "index": 921,
                  "race": 3,
                  "parent_edu": 2,
                  "lunch": 0,
                  "test_prep": 0,
                  "math_score": 35,
                  "reading_score": 53,
                  "writing_score": 46,
                  "gender_male": 0,
                  "total_score": 134,
                  "economic_status": 2
                },
                {
                  "index": 922,
                  "race": 4,
                  "parent_edu": 2,
                  "lunch": 1,
                  "test_prep": 0,
                  "math_score": 72,
                  "reading_score": 66,
                  "writing_score": 66,
                  "gender_male": 1,
                  "total_score": 204,
                  "economic_status": 3
                },
                {
                  "index": 923,
                  "race": 2,
                  "parent_edu": 4,
                  "lunch": 0,
                  "test_prep": 0,
                  "math_score": 54,
                  "reading_score": 65,
                  "writing_score": 65,
                  "gender_male": 0,
                  "total_score": 184,
                  "economic_status": 4
                },
                {
                  "index": 924,
                  "race": 4,
                  "parent_edu": 2,
                  "lunch": 0,
                  "test_prep": 0,
                  "math_score": 74,
                  "reading_score": 70,
                  "writing_score": 69,
                  "gender_male": 1,
                  "total_score": 213,
                  "economic_status": 2
                },
                {
                  "index": 925,
                  "race": 5,
                  "parent_edu": 1,
                  "lunch": 1,
                  "test_prep": 1,
                  "math_score": 74,
                  "reading_score": 64,
                  "writing_score": 60,
                  "gender_male": 1,
                  "total_score": 198,
                  "economic_status": 2
                },
                {
                  "index": 926,
                  "race": 5,
                  "parent_edu": 4,
                  "lunch": 0,
                  "test_prep": 0,
                  "math_score": 64,
                  "reading_score": 56,
                  "writing_score": 52,
                  "gender_male": 1,
                  "total_score": 172,
                  "economic_status": 4
                },
                {
                  "index": 927,
                  "race": 4,
                  "parent_edu": 2,
                  "lunch": 0,
                  "test_prep": 1,
                  "math_score": 65,
                  "reading_score": 61,
                  "writing_score": 71,
                  "gender_male": 0,
                  "total_score": 197,
                  "economic_status": 2
                },
                {
                  "index": 928,
                  "race": 5,
                  "parent_edu": 4,
                  "lunch": 0,
                  "test_prep": 1,
                  "math_score": 46,
                  "reading_score": 43,
                  "writing_score": 44,
                  "gender_male": 1,
                  "total_score": 133,
                  "economic_status": 4
                },
                {
                  "index": 929,
                  "race": 3,
                  "parent_edu": 1,
                  "lunch": 0,
                  "test_prep": 0,
                  "math_score": 48,
                  "reading_score": 56,
                  "writing_score": 51,
                  "gender_male": 0,
                  "total_score": 155,
                  "economic_status": 1
                },
                {
                  "index": 930,
                  "race": 3,
                  "parent_edu": 3,
                  "lunch": 0,
                  "test_prep": 1,
                  "math_score": 67,
                  "reading_score": 74,
                  "writing_score": 70,
                  "gender_male": 1,
                  "total_score": 211,
                  "economic_status": 3
                },
                {
                  "index": 931,
                  "race": 4,
                  "parent_edu": 3,
                  "lunch": 0,
                  "test_prep": 0,
                  "math_score": 62,
                  "reading_score": 57,
                  "writing_score": 62,
                  "gender_male": 1,
                  "total_score": 181,
                  "economic_status": 3
                },
                {
                  "index": 932,
                  "race": 4,
                  "parent_edu": 4,
                  "lunch": 0,
                  "test_prep": 1,
                  "math_score": 61,
                  "reading_score": 71,
                  "writing_score": 73,
                  "gender_male": 1,
                  "total_score": 205,
                  "economic_status": 4
                },
                {
                  "index": 933,
                  "race": 3,
                  "parent_edu": 5,
                  "lunch": 0,
                  "test_prep": 1,
                  "math_score": 70,
                  "reading_score": 75,
                  "writing_score": 74,
                  "gender_male": 1,
                  "total_score": 219,
                  "economic_status": 5
                },
                {
                  "index": 934,
                  "race": 3,
                  "parent_edu": 4,
                  "lunch": 1,
                  "test_prep": 1,
                  "math_score": 98,
                  "reading_score": 87,
                  "writing_score": 90,
                  "gender_male": 1,
                  "total_score": 275,
                  "economic_status": 5
                },
                {
                  "index": 935,
                  "race": 4,
                  "parent_edu": 3,
                  "lunch": 0,
                  "test_prep": 0,
                  "math_score": 70,
                  "reading_score": 63,
                  "writing_score": 58,
                  "gender_male": 1,
                  "total_score": 191,
                  "economic_status": 3
                },
                {
                  "index": 936,
                  "race": 1,
                  "parent_edu": 4,
                  "lunch": 1,
                  "test_prep": 0,
                  "math_score": 67,
                  "reading_score": 57,
                  "writing_score": 53,
                  "gender_male": 1,
                  "total_score": 177,
                  "economic_status": 5
                },
                {
                  "index": 937,
                  "race": 5,
                  "parent_edu": 2,
                  "lunch": 0,
                  "test_prep": 0,
                  "math_score": 57,
                  "reading_score": 58,
                  "writing_score": 57,
                  "gender_male": 0,
                  "total_score": 172,
                  "economic_status": 2
                },
                {
                  "index": 938,
                  "race": 4,
                  "parent_edu": 3,
                  "lunch": 1,
                  "test_prep": 1,
                  "math_score": 85,
                  "reading_score": 81,
                  "writing_score": 85,
                  "gender_male": 1,
                  "total_score": 251,
                  "economic_status": 4
                },
                {
                  "index": 939,
                  "race": 4,
                  "parent_edu": 1,
                  "lunch": 1,
                  "test_prep": 1,
                  "math_score": 77,
                  "reading_score": 68,
                  "writing_score": 69,
                  "gender_male": 1,
                  "total_score": 214,
                  "economic_status": 2
                },
                {
                  "index": 940,
                  "race": 3,
                  "parent_edu": 6,
                  "lunch": 0,
                  "test_prep": 1,
                  "math_score": 72,
                  "reading_score": 66,
                  "writing_score": 72,
                  "gender_male": 1,
                  "total_score": 210,
                  "economic_status": 6
                },
                {
                  "index": 941,
                  "race": 4,
                  "parent_edu": 6,
                  "lunch": 1,
                  "test_prep": 0,
                  "math_score": 78,
                  "reading_score": 91,
                  "writing_score": 96,
                  "gender_male": 0,
                  "total_score": 265,
                  "economic_status": 7
                },
                {
                  "index": 942,
                  "race": 3,
                  "parent_edu": 2,
                  "lunch": 1,
                  "test_prep": 0,
                  "math_score": 81,
                  "reading_score": 66,
                  "writing_score": 64,
                  "gender_male": 1,
                  "total_score": 211,
                  "economic_status": 3
                },
                {
                  "index": 943,
                  "race": 1,
                  "parent_edu": 1,
                  "lunch": 0,
                  "test_prep": 1,
                  "math_score": 61,
                  "reading_score": 62,
                  "writing_score": 61,
                  "gender_male": 1,
                  "total_score": 184,
                  "economic_status": 1
                },
                {
                  "index": 944,
                  "race": 2,
                  "parent_edu": 2,
                  "lunch": 1,
                  "test_prep": 0,
                  "math_score": 58,
                  "reading_score": 68,
                  "writing_score": 61,
                  "gender_male": 0,
                  "total_score": 187,
                  "economic_status": 3
                },
                {
                  "index": 945,
                  "race": 3,
                  "parent_edu": 4,
                  "lunch": 1,
                  "test_prep": 0,
                  "math_score": 54,
                  "reading_score": 61,
                  "writing_score": 58,
                  "gender_male": 0,
                  "total_score": 173,
                  "economic_status": 5
                },
                {
                  "index": 946,
                  "race": 2,
                  "parent_edu": 2,
                  "lunch": 1,
                  "test_prep": 0,
                  "math_score": 82,
                  "reading_score": 82,
                  "writing_score": 80,
                  "gender_male": 1,
                  "total_score": 244,
                  "economic_status": 3
                },
                {
                  "index": 947,
                  "race": 4,
                  "parent_edu": 3,
                  "lunch": 0,
                  "test_prep": 0,
                  "math_score": 49,
                  "reading_score": 58,
                  "writing_score": 60,
                  "gender_male": 0,
                  "total_score": 167,
                  "economic_status": 3
                },
                {
                  "index": 948,
                  "race": 2,
                  "parent_edu": 1,
                  "lunch": 0,
                  "test_prep": 1,
                  "math_score": 49,
                  "reading_score": 50,
                  "writing_score": 52,
                  "gender_male": 1,
                  "total_score": 151,
                  "economic_status": 1
                },
                {
                  "index": 949,
                  "race": 5,
                  "parent_edu": 2,
                  "lunch": 0,
                  "test_prep": 1,
                  "math_score": 57,
                  "reading_score": 75,
                  "writing_score": 73,
                  "gender_male": 0,
                  "total_score": 205,
                  "economic_status": 2
                },
                {
                  "index": 950,
                  "race": 5,
                  "parent_edu": 2,
                  "lunch": 1,
                  "test_prep": 0,
                  "math_score": 94,
                  "reading_score": 73,
                  "writing_score": 71,
                  "gender_male": 1,
                  "total_score": 238,
                  "economic_status": 3
                },
                {
                  "index": 951,
                  "race": 4,
                  "parent_edu": 3,
                  "lunch": 1,
                  "test_prep": 1,
                  "math_score": 75,
                  "reading_score": 77,
                  "writing_score": 83,
                  "gender_male": 0,
                  "total_score": 235,
                  "economic_status": 4
                },
                {
                  "index": 952,
                  "race": 5,
                  "parent_edu": 1,
                  "lunch": 0,
                  "test_prep": 0,
                  "math_score": 74,
                  "reading_score": 74,
                  "writing_score": 72,
                  "gender_male": 0,
                  "total_score": 220,
                  "economic_status": 1
                },
                {
                  "index": 953,
                  "race": 3,
                  "parent_edu": 2,
                  "lunch": 1,
                  "test_prep": 1,
                  "math_score": 58,
                  "reading_score": 52,
                  "writing_score": 54,
                  "gender_male": 1,
                  "total_score": 164,
                  "economic_status": 3
                },
                {
                  "index": 954,
                  "race": 3,
                  "parent_edu": 3,
                  "lunch": 1,
                  "test_prep": 0,
                  "math_score": 62,
                  "reading_score": 69,
                  "writing_score": 69,
                  "gender_male": 0,
                  "total_score": 200,
                  "economic_status": 4
                },
                {
                  "index": 955,
                  "race": 5,
                  "parent_edu": 4,
                  "lunch": 1,
                  "test_prep": 0,
                  "math_score": 72,
                  "reading_score": 57,
                  "writing_score": 62,
                  "gender_male": 1,
                  "total_score": 191,
                  "economic_status": 5
                },
                {
                  "index": 956,
                  "race": 3,
                  "parent_edu": 3,
                  "lunch": 1,
                  "test_prep": 0,
                  "math_score": 84,
                  "reading_score": 87,
                  "writing_score": 81,
                  "gender_male": 1,
                  "total_score": 252,
                  "economic_status": 4
                },
                {
                  "index": 957,
                  "race": 4,
                  "parent_edu": 6,
                  "lunch": 1,
                  "test_prep": 0,
                  "math_score": 92,
                  "reading_score": 100,
                  "writing_score": 100,
                  "gender_male": 0,
                  "total_score": 292,
                  "economic_status": 7
                },
                {
                  "index": 958,
                  "race": 4,
                  "parent_edu": 2,
                  "lunch": 1,
                  "test_prep": 0,
                  "math_score": 45,
                  "reading_score": 63,
                  "writing_score": 59,
                  "gender_male": 0,
                  "total_score": 167,
                  "economic_status": 3
                },
                {
                  "index": 959,
                  "race": 3,
                  "parent_edu": 2,
                  "lunch": 1,
                  "test_prep": 0,
                  "math_score": 75,
                  "reading_score": 81,
                  "writing_score": 71,
                  "gender_male": 1,
                  "total_score": 227,
                  "economic_status": 3
                },
                {
                  "index": 960,
                  "race": 1,
                  "parent_edu": 3,
                  "lunch": 1,
                  "test_prep": 0,
                  "math_score": 56,
                  "reading_score": 58,
                  "writing_score": 64,
                  "gender_male": 0,
                  "total_score": 178,
                  "economic_status": 4
                },
                {
                  "index": 961,
                  "race": 4,
                  "parent_edu": 1,
                  "lunch": 0,
                  "test_prep": 0,
                  "math_score": 48,
                  "reading_score": 54,
                  "writing_score": 53,
                  "gender_male": 0,
                  "total_score": 155,
                  "economic_status": 1
                },
                {
                  "index": 962,
                  "race": 5,
                  "parent_edu": 4,
                  "lunch": 1,
                  "test_prep": 0,
                  "math_score": 100,
                  "reading_score": 100,
                  "writing_score": 100,
                  "gender_male": 0,
                  "total_score": 300,
                  "economic_status": 5
                },
                {
                  "index": 963,
                  "race": 3,
                  "parent_edu": 1,
                  "lunch": 0,
                  "test_prep": 1,
                  "math_score": 65,
                  "reading_score": 76,
                  "writing_score": 75,
                  "gender_male": 0,
                  "total_score": 216,
                  "economic_status": 1
                },
                {
                  "index": 964,
                  "race": 4,
                  "parent_edu": 3,
                  "lunch": 1,
                  "test_prep": 0,
                  "math_score": 72,
                  "reading_score": 57,
                  "writing_score": 58,
                  "gender_male": 1,
                  "total_score": 187,
                  "economic_status": 4
                },
                {
                  "index": 965,
                  "race": 4,
                  "parent_edu": 3,
                  "lunch": 1,
                  "test_prep": 0,
                  "math_score": 62,
                  "reading_score": 70,
                  "writing_score": 72,
                  "gender_male": 0,
                  "total_score": 204,
                  "economic_status": 4
                },
                {
                  "index": 966,
                  "race": 1,
                  "parent_edu": 1,
                  "lunch": 1,
                  "test_prep": 1,
                  "math_score": 66,
                  "reading_score": 68,
                  "writing_score": 64,
                  "gender_male": 1,
                  "total_score": 198,
                  "economic_status": 2
                },
                {
                  "index": 967,
                  "race": 3,
                  "parent_edu": 3,
                  "lunch": 1,
                  "test_prep": 0,
                  "math_score": 63,
                  "reading_score": 63,
                  "writing_score": 60,
                  "gender_male": 1,
                  "total_score": 186,
                  "economic_status": 4
                },
                {
                  "index": 968,
                  "race": 5,
                  "parent_edu": 4,
                  "lunch": 1,
                  "test_prep": 0,
                  "math_score": 68,
                  "reading_score": 76,
                  "writing_score": 67,
                  "gender_male": 0,
                  "total_score": 211,
                  "economic_status": 5
                },
                {
                  "index": 969,
                  "race": 2,
                  "parent_edu": 5,
                  "lunch": 1,
                  "test_prep": 0,
                  "math_score": 75,
                  "reading_score": 84,
                  "writing_score": 80,
                  "gender_male": 0,
                  "total_score": 239,
                  "economic_status": 6
                },
                {
                  "index": 970,
                  "race": 4,
                  "parent_edu": 5,
                  "lunch": 1,
                  "test_prep": 0,
                  "math_score": 89,
                  "reading_score": 100,
                  "writing_score": 100,
                  "gender_male": 0,
                  "total_score": 289,
                  "economic_status": 6
                },
                {
                  "index": 971,
                  "race": 3,
                  "parent_edu": 1,
                  "lunch": 1,
                  "test_prep": 1,
                  "math_score": 78,
                  "reading_score": 72,
                  "writing_score": 69,
                  "gender_male": 1,
                  "total_score": 219,
                  "economic_status": 2
                },
                {
                  "index": 972,
                  "race": 1,
                  "parent_edu": 2,
                  "lunch": 0,
                  "test_prep": 1,
                  "math_score": 53,
                  "reading_score": 50,
                  "writing_score": 60,
                  "gender_male": 0,
                  "total_score": 163,
                  "economic_status": 2
                },
                {
                  "index": 973,
                  "race": 4,
                  "parent_edu": 3,
                  "lunch": 0,
                  "test_prep": 0,
                  "math_score": 49,
                  "reading_score": 65,
                  "writing_score": 61,
                  "gender_male": 0,
                  "total_score": 175,
                  "economic_status": 3
                },
                {
                  "index": 974,
                  "race": 1,
                  "parent_edu": 3,
                  "lunch": 1,
                  "test_prep": 0,
                  "math_score": 54,
                  "reading_score": 63,
                  "writing_score": 67,
                  "gender_male": 0,
                  "total_score": 184,
                  "economic_status": 4
                },
                {
                  "index": 975,
                  "race": 3,
                  "parent_edu": 3,
                  "lunch": 1,
                  "test_prep": 1,
                  "math_score": 64,
                  "reading_score": 82,
                  "writing_score": 77,
                  "gender_male": 0,
                  "total_score": 223,
                  "economic_status": 4
                },
                {
                  "index": 976,
                  "race": 2,
                  "parent_edu": 3,
                  "lunch": 0,
                  "test_prep": 1,
                  "math_score": 60,
                  "reading_score": 62,
                  "writing_score": 60,
                  "gender_male": 1,
                  "total_score": 182,
                  "economic_status": 3
                },
                {
                  "index": 977,
                  "race": 3,
                  "parent_edu": 4,
                  "lunch": 1,
                  "test_prep": 0,
                  "math_score": 62,
                  "reading_score": 65,
                  "writing_score": 58,
                  "gender_male": 1,
                  "total_score": 185,
                  "economic_status": 5
                },
                {
                  "index": 978,
                  "race": 4,
                  "parent_edu": 2,
                  "lunch": 1,
                  "test_prep": 1,
                  "math_score": 55,
                  "reading_score": 41,
                  "writing_score": 48,
                  "gender_male": 1,
                  "total_score": 144,
                  "economic_status": 3
                },
                {
                  "index": 979,
                  "race": 3,
                  "parent_edu": 4,
                  "lunch": 1,
                  "test_prep": 0,
                  "math_score": 91,
                  "reading_score": 95,
                  "writing_score": 94,
                  "gender_male": 0,
                  "total_score": 280,
                  "economic_status": 5
                },
                {
                  "index": 980,
                  "race": 2,
                  "parent_edu": 2,
                  "lunch": 0,
                  "test_prep": 0,
                  "math_score": 8,
                  "reading_score": 24,
                  "writing_score": 23,
                  "gender_male": 0,
                  "total_score": 55,
                  "economic_status": 2
                },
                {
                  "index": 981,
                  "race": 4,
                  "parent_edu": 1,
                  "lunch": 1,
                  "test_prep": 0,
                  "math_score": 81,
                  "reading_score": 78,
                  "writing_score": 78,
                  "gender_male": 1,
                  "total_score": 237,
                  "economic_status": 2
                },
                {
                  "index": 982,
                  "race": 2,
                  "parent_edu": 1,
                  "lunch": 1,
                  "test_prep": 1,
                  "math_score": 79,
                  "reading_score": 85,
                  "writing_score": 86,
                  "gender_male": 1,
                  "total_score": 250,
                  "economic_status": 2
                },
                {
                  "index": 983,
                  "race": 1,
                  "parent_edu": 3,
                  "lunch": 1,
                  "test_prep": 1,
                  "math_score": 78,
                  "reading_score": 87,
                  "writing_score": 91,
                  "gender_male": 0,
                  "total_score": 256,
                  "economic_status": 4
                },
                {
                  "index": 984,
                  "race": 3,
                  "parent_edu": 1,
                  "lunch": 1,
                  "test_prep": 0,
                  "math_score": 74,
                  "reading_score": 75,
                  "writing_score": 82,
                  "gender_male": 0,
                  "total_score": 231,
                  "economic_status": 2
                },
                {
                  "index": 985,
                  "race": 1,
                  "parent_edu": 2,
                  "lunch": 1,
                  "test_prep": 0,
                  "math_score": 57,
                  "reading_score": 51,
                  "writing_score": 54,
                  "gender_male": 1,
                  "total_score": 162,
                  "economic_status": 3
                },
                {
                  "index": 986,
                  "race": 3,
                  "parent_edu": 4,
                  "lunch": 1,
                  "test_prep": 0,
                  "math_score": 40,
                  "reading_score": 59,
                  "writing_score": 51,
                  "gender_male": 0,
                  "total_score": 150,
                  "economic_status": 5
                },
                {
                  "index": 987,
                  "race": 5,
                  "parent_edu": 1,
                  "lunch": 1,
                  "test_prep": 1,
                  "math_score": 81,
                  "reading_score": 75,
                  "writing_score": 76,
                  "gender_male": 1,
                  "total_score": 232,
                  "economic_status": 2
                },
                {
                  "index": 988,
                  "race": 1,
                  "parent_edu": 1,
                  "lunch": 0,
                  "test_prep": 0,
                  "math_score": 44,
                  "reading_score": 45,
                  "writing_score": 45,
                  "gender_male": 0,
                  "total_score": 134,
                  "economic_status": 1
                },
                {
                  "index": 989,
                  "race": 4,
                  "parent_edu": 3,
                  "lunch": 0,
                  "test_prep": 1,
                  "math_score": 67,
                  "reading_score": 86,
                  "writing_score": 83,
                  "gender_male": 0,
                  "total_score": 236,
                  "economic_status": 3
                },
                {
                  "index": 990,
                  "race": 5,
                  "parent_edu": 2,
                  "lunch": 0,
                  "test_prep": 1,
                  "math_score": 86,
                  "reading_score": 81,
                  "writing_score": 75,
                  "gender_male": 1,
                  "total_score": 242,
                  "economic_status": 2
                },
                {
                  "index": 991,
                  "race": 2,
                  "parent_edu": 1,
                  "lunch": 1,
                  "test_prep": 1,
                  "math_score": 65,
                  "reading_score": 82,
                  "writing_score": 78,
                  "gender_male": 0,
                  "total_score": 225,
                  "economic_status": 2
                },
                {
                  "index": 992,
                  "race": 4,
                  "parent_edu": 4,
                  "lunch": 0,
                  "test_prep": 0,
                  "math_score": 55,
                  "reading_score": 76,
                  "writing_score": 76,
                  "gender_male": 0,
                  "total_score": 207,
                  "economic_status": 4
                },
                {
                  "index": 993,
                  "race": 4,
                  "parent_edu": 5,
                  "lunch": 0,
                  "test_prep": 0,
                  "math_score": 62,
                  "reading_score": 72,
                  "writing_score": 74,
                  "gender_male": 0,
                  "total_score": 208,
                  "economic_status": 5
                },
                {
                  "index": 994,
                  "race": 1,
                  "parent_edu": 2,
                  "lunch": 1,
                  "test_prep": 0,
                  "math_score": 63,
                  "reading_score": 63,
                  "writing_score": 62,
                  "gender_male": 1,
                  "total_score": 188,
                  "economic_status": 3
                },
                {
                  "index": 995,
                  "race": 5,
                  "parent_edu": 6,
                  "lunch": 1,
                  "test_prep": 1,
                  "math_score": 88,
                  "reading_score": 99,
                  "writing_score": 95,
                  "gender_male": 0,
                  "total_score": 282,
                  "economic_status": 7
                },
                {
                  "index": 996,
                  "race": 3,
                  "parent_edu": 2,
                  "lunch": 0,
                  "test_prep": 0,
                  "math_score": 62,
                  "reading_score": 55,
                  "writing_score": 55,
                  "gender_male": 1,
                  "total_score": 172,
                  "economic_status": 2
                },
                {
                  "index": 997,
                  "race": 3,
                  "parent_edu": 2,
                  "lunch": 0,
                  "test_prep": 1,
                  "math_score": 59,
                  "reading_score": 71,
                  "writing_score": 65,
                  "gender_male": 0,
                  "total_score": 195,
                  "economic_status": 2
                },
                {
                  "index": 998,
                  "race": 4,
                  "parent_edu": 3,
                  "lunch": 1,
                  "test_prep": 1,
                  "math_score": 68,
                  "reading_score": 78,
                  "writing_score": 77,
                  "gender_male": 0,
                  "total_score": 223,
                  "economic_status": 4
                },
                {
                  "index": 999,
                  "race": 4,
                  "parent_edu": 3,
                  "lunch": 0,
                  "test_prep": 0,
                  "math_score": 77,
                  "reading_score": 86,
                  "writing_score": 86,
                  "gender_male": 0,
                  "total_score": 249,
                  "economic_status": 3
                }
              ],
              "datalink": {
                "display_id": "07f4f067-f307-4334-b285-b71c4318150e"
              }
            }
          },
          "metadata": {
            "application/vnd.dataresource+json": {
              "datalink": {
                "dataframe_info": {
                  "default_index_used": true,
                  "orig_size_bytes": 81000,
                  "orig_num_rows": 1000,
                  "orig_num_cols": 10,
                  "truncated_string_columns": [],
                  "truncated_size_bytes": 81000,
                  "truncated_num_rows": 1000,
                  "truncated_num_cols": 10
                },
                "dx_settings": {
                  "NUM_PAST_SAMPLES_TRACKED": 3,
                  "ENABLE_DATALINK": true,
                  "DISPLAY_MODE": "simple",
                  "GENERATE_DEX_METADATA": false,
                  "STRINGIFY_INDEX_VALUES": false,
                  "ALLOW_NOTEABLE_ATTRS": true,
                  "DISPLAY_MAX_COLUMNS": 100,
                  "HTML_TABLE_SCHEMA": false,
                  "SAMPLING_FACTOR": 0.1,
                  "LOG_LEVEL": 30,
                  "ENABLE_ASSIGNMENT": true,
                  "FLATTEN_INDEX_VALUES": false,
                  "DEV_MODE": false,
                  "COLUMN_SAMPLING_METHOD": "outer",
                  "FLATTEN_COLUMN_VALUES": true,
                  "DISPLAY_MAX_ROWS": 50000,
                  "ROW_SAMPLING_METHOD": "random",
                  "RANDOM_STATE": 12648430,
                  "DB_LOCATION": ":memory:",
                  "STRINGIFY_COLUMN_VALUES": true,
                  "SAMPLING_METHOD": "random",
                  "MAX_STRING_LENGTH": 250,
                  "MAX_RENDER_SIZE_BYTES": 104857600,
                  "RESET_INDEX_VALUES": false
                },
                "display_id": "07f4f067-f307-4334-b285-b71c4318150e",
                "applied_filters": [],
                "sample_history": [],
                "sampling_time": "2023-10-10T17:58:22.611334",
                "variable_name": "df",
                "user_variable_name": "df"
              },
              "display_id": "07f4f067-f307-4334-b285-b71c4318150e"
            }
          }
        }
      ],
      "execution_count": null,
      "metadata": {
        "noteable": {
          "cell_type": "python"
        },
        "ExecuteTime": {
          "end_time": "2023-10-10T17:58:22.779790+00:00",
          "start_time": "2023-10-10T17:58:22.548984+00:00"
        },
        "datalink": {
          "8909c104-dc74-4c48-a236-10ecd0ef9dad": {
            "applied_filters": [],
            "dataframe_info": {
              "default_index_used": true,
              "orig_num_cols": 10,
              "orig_num_rows": 1000,
              "orig_size_bytes": 81000,
              "truncated_num_cols": 10,
              "truncated_num_rows": 1000,
              "truncated_size_bytes": 81000,
              "truncated_string_columns": []
            },
            "display_id": "8909c104-dc74-4c48-a236-10ecd0ef9dad",
            "dx_settings": {
              "ALLOW_NOTEABLE_ATTRS": true,
              "COLUMN_SAMPLING_METHOD": "outer",
              "DB_LOCATION": ":memory:",
              "DEV_MODE": false,
              "DISPLAY_MAX_COLUMNS": 100,
              "DISPLAY_MAX_ROWS": 50000,
              "DISPLAY_MODE": "simple",
              "ENABLE_ASSIGNMENT": true,
              "ENABLE_DATALINK": true,
              "FLATTEN_COLUMN_VALUES": true,
              "FLATTEN_INDEX_VALUES": false,
              "GENERATE_DEX_METADATA": false,
              "HTML_TABLE_SCHEMA": false,
              "LOG_LEVEL": 30,
              "MAX_RENDER_SIZE_BYTES": 104857600,
              "MAX_STRING_LENGTH": 250,
              "NUM_PAST_SAMPLES_TRACKED": 3,
              "RANDOM_STATE": 12648430,
              "RESET_INDEX_VALUES": false,
              "ROW_SAMPLING_METHOD": "random",
              "SAMPLING_FACTOR": 0.1,
              "SAMPLING_METHOD": "random",
              "STRINGIFY_COLUMN_VALUES": true,
              "STRINGIFY_INDEX_VALUES": false
            },
            "sample_history": [],
            "sampling_time": "2023-10-08T13:12:52.663814",
            "user_variable_name": "df",
            "variable_name": "df"
          },
          "faecd878-6ce5-455f-b2eb-d9104c0765d8": {
            "applied_filters": [],
            "dataframe_info": {
              "default_index_used": true,
              "orig_num_cols": 10,
              "orig_num_rows": 1000,
              "orig_size_bytes": 81000,
              "truncated_num_cols": 10,
              "truncated_num_rows": 1000,
              "truncated_size_bytes": 81000,
              "truncated_string_columns": []
            },
            "display_id": "faecd878-6ce5-455f-b2eb-d9104c0765d8",
            "dx_settings": {
              "ALLOW_NOTEABLE_ATTRS": true,
              "COLUMN_SAMPLING_METHOD": "outer",
              "DB_LOCATION": ":memory:",
              "DEV_MODE": false,
              "DISPLAY_MAX_COLUMNS": 100,
              "DISPLAY_MAX_ROWS": 50000,
              "DISPLAY_MODE": "simple",
              "ENABLE_ASSIGNMENT": true,
              "ENABLE_DATALINK": true,
              "FLATTEN_COLUMN_VALUES": true,
              "FLATTEN_INDEX_VALUES": false,
              "GENERATE_DEX_METADATA": false,
              "HTML_TABLE_SCHEMA": false,
              "LOG_LEVEL": 30,
              "MAX_RENDER_SIZE_BYTES": 104857600,
              "MAX_STRING_LENGTH": 250,
              "NUM_PAST_SAMPLES_TRACKED": 3,
              "RANDOM_STATE": 12648430,
              "RESET_INDEX_VALUES": false,
              "ROW_SAMPLING_METHOD": "random",
              "SAMPLING_FACTOR": 0.1,
              "SAMPLING_METHOD": "random",
              "STRINGIFY_COLUMN_VALUES": true,
              "STRINGIFY_INDEX_VALUES": false
            },
            "sample_history": [],
            "sampling_time": "2023-10-08T13:15:56.211106",
            "user_variable_name": "df",
            "variable_name": "df"
          },
          "324cc04a-5152-4f7b-84de-edcf2aea0b8a": {
            "applied_filters": [],
            "dataframe_info": {
              "default_index_used": true,
              "orig_num_cols": 10,
              "orig_num_rows": 1000,
              "orig_size_bytes": 81000,
              "truncated_num_cols": 10,
              "truncated_num_rows": 1000,
              "truncated_size_bytes": 81000,
              "truncated_string_columns": []
            },
            "display_id": "324cc04a-5152-4f7b-84de-edcf2aea0b8a",
            "dx_settings": {
              "ALLOW_NOTEABLE_ATTRS": true,
              "COLUMN_SAMPLING_METHOD": "outer",
              "DB_LOCATION": ":memory:",
              "DEV_MODE": false,
              "DISPLAY_MAX_COLUMNS": 100,
              "DISPLAY_MAX_ROWS": 50000,
              "DISPLAY_MODE": "simple",
              "ENABLE_ASSIGNMENT": true,
              "ENABLE_DATALINK": true,
              "FLATTEN_COLUMN_VALUES": true,
              "FLATTEN_INDEX_VALUES": false,
              "GENERATE_DEX_METADATA": false,
              "HTML_TABLE_SCHEMA": false,
              "LOG_LEVEL": 30,
              "MAX_RENDER_SIZE_BYTES": 104857600,
              "MAX_STRING_LENGTH": 250,
              "NUM_PAST_SAMPLES_TRACKED": 3,
              "RANDOM_STATE": 12648430,
              "RESET_INDEX_VALUES": false,
              "ROW_SAMPLING_METHOD": "random",
              "SAMPLING_FACTOR": 0.1,
              "SAMPLING_METHOD": "random",
              "STRINGIFY_COLUMN_VALUES": true,
              "STRINGIFY_INDEX_VALUES": false
            },
            "sample_history": [],
            "sampling_time": "2023-10-08T13:17:23.983422",
            "user_variable_name": "df",
            "variable_name": "df"
          },
          "375cab29-fc38-4fbb-a640-f9923a78c2ff": {
            "applied_filters": [],
            "dataframe_info": {
              "default_index_used": true,
              "orig_num_cols": 10,
              "orig_num_rows": 1000,
              "orig_size_bytes": 81000,
              "truncated_num_cols": 10,
              "truncated_num_rows": 1000,
              "truncated_size_bytes": 81000,
              "truncated_string_columns": []
            },
            "display_id": "375cab29-fc38-4fbb-a640-f9923a78c2ff",
            "dx_settings": {
              "ALLOW_NOTEABLE_ATTRS": true,
              "COLUMN_SAMPLING_METHOD": "outer",
              "DB_LOCATION": ":memory:",
              "DEV_MODE": false,
              "DISPLAY_MAX_COLUMNS": 100,
              "DISPLAY_MAX_ROWS": 50000,
              "DISPLAY_MODE": "simple",
              "ENABLE_ASSIGNMENT": true,
              "ENABLE_DATALINK": true,
              "FLATTEN_COLUMN_VALUES": true,
              "FLATTEN_INDEX_VALUES": false,
              "GENERATE_DEX_METADATA": false,
              "HTML_TABLE_SCHEMA": false,
              "LOG_LEVEL": 30,
              "MAX_RENDER_SIZE_BYTES": 104857600,
              "MAX_STRING_LENGTH": 250,
              "NUM_PAST_SAMPLES_TRACKED": 3,
              "RANDOM_STATE": 12648430,
              "RESET_INDEX_VALUES": false,
              "ROW_SAMPLING_METHOD": "random",
              "SAMPLING_FACTOR": 0.1,
              "SAMPLING_METHOD": "random",
              "STRINGIFY_COLUMN_VALUES": true,
              "STRINGIFY_INDEX_VALUES": false
            },
            "sample_history": [],
            "sampling_time": "2023-10-10T15:57:51.956330",
            "user_variable_name": "df",
            "variable_name": "df"
          },
          "ab202047-7d74-4a14-829b-6b03a3d044f0": {
            "applied_filters": [],
            "dataframe_info": {
              "default_index_used": true,
              "orig_num_cols": 10,
              "orig_num_rows": 1000,
              "orig_size_bytes": 81000,
              "truncated_num_cols": 10,
              "truncated_num_rows": 1000,
              "truncated_size_bytes": 81000,
              "truncated_string_columns": []
            },
            "display_id": "ab202047-7d74-4a14-829b-6b03a3d044f0",
            "dx_settings": {
              "ALLOW_NOTEABLE_ATTRS": true,
              "COLUMN_SAMPLING_METHOD": "outer",
              "DB_LOCATION": ":memory:",
              "DEV_MODE": false,
              "DISPLAY_MAX_COLUMNS": 100,
              "DISPLAY_MAX_ROWS": 50000,
              "DISPLAY_MODE": "simple",
              "ENABLE_ASSIGNMENT": true,
              "ENABLE_DATALINK": true,
              "FLATTEN_COLUMN_VALUES": true,
              "FLATTEN_INDEX_VALUES": false,
              "GENERATE_DEX_METADATA": false,
              "HTML_TABLE_SCHEMA": false,
              "LOG_LEVEL": 30,
              "MAX_RENDER_SIZE_BYTES": 104857600,
              "MAX_STRING_LENGTH": 250,
              "NUM_PAST_SAMPLES_TRACKED": 3,
              "RANDOM_STATE": 12648430,
              "RESET_INDEX_VALUES": false,
              "ROW_SAMPLING_METHOD": "random",
              "SAMPLING_FACTOR": 0.1,
              "SAMPLING_METHOD": "random",
              "STRINGIFY_COLUMN_VALUES": true,
              "STRINGIFY_INDEX_VALUES": false
            },
            "sample_history": [],
            "sampling_time": "2023-10-10T16:01:14.948351",
            "user_variable_name": "df",
            "variable_name": "df"
          },
          "964f0330-82fd-4c0b-b6fa-37e8a7c25f69": {
            "applied_filters": [],
            "dataframe_info": {
              "default_index_used": true,
              "orig_num_cols": 10,
              "orig_num_rows": 1000,
              "orig_size_bytes": 81000,
              "truncated_num_cols": 10,
              "truncated_num_rows": 1000,
              "truncated_size_bytes": 81000,
              "truncated_string_columns": []
            },
            "display_id": "964f0330-82fd-4c0b-b6fa-37e8a7c25f69",
            "dx_settings": {
              "ALLOW_NOTEABLE_ATTRS": true,
              "COLUMN_SAMPLING_METHOD": "outer",
              "DB_LOCATION": ":memory:",
              "DEV_MODE": false,
              "DISPLAY_MAX_COLUMNS": 100,
              "DISPLAY_MAX_ROWS": 50000,
              "DISPLAY_MODE": "simple",
              "ENABLE_ASSIGNMENT": true,
              "ENABLE_DATALINK": true,
              "FLATTEN_COLUMN_VALUES": true,
              "FLATTEN_INDEX_VALUES": false,
              "GENERATE_DEX_METADATA": false,
              "HTML_TABLE_SCHEMA": false,
              "LOG_LEVEL": 30,
              "MAX_RENDER_SIZE_BYTES": 104857600,
              "MAX_STRING_LENGTH": 250,
              "NUM_PAST_SAMPLES_TRACKED": 3,
              "RANDOM_STATE": 12648430,
              "RESET_INDEX_VALUES": false,
              "ROW_SAMPLING_METHOD": "random",
              "SAMPLING_FACTOR": 0.1,
              "SAMPLING_METHOD": "random",
              "STRINGIFY_COLUMN_VALUES": true,
              "STRINGIFY_INDEX_VALUES": false
            },
            "sample_history": [],
            "sampling_time": "2023-10-10T16:03:13.843161",
            "user_variable_name": "df",
            "variable_name": "df"
          },
          "b48e541e-2caf-4ed5-9d22-fc43eed2778b": {
            "applied_filters": [],
            "dataframe_info": {
              "default_index_used": true,
              "orig_num_cols": 10,
              "orig_num_rows": 1000,
              "orig_size_bytes": 81000,
              "truncated_num_cols": 10,
              "truncated_num_rows": 1000,
              "truncated_size_bytes": 81000,
              "truncated_string_columns": []
            },
            "display_id": "b48e541e-2caf-4ed5-9d22-fc43eed2778b",
            "dx_settings": {
              "ALLOW_NOTEABLE_ATTRS": true,
              "COLUMN_SAMPLING_METHOD": "outer",
              "DB_LOCATION": ":memory:",
              "DEV_MODE": false,
              "DISPLAY_MAX_COLUMNS": 100,
              "DISPLAY_MAX_ROWS": 50000,
              "DISPLAY_MODE": "simple",
              "ENABLE_ASSIGNMENT": true,
              "ENABLE_DATALINK": true,
              "FLATTEN_COLUMN_VALUES": true,
              "FLATTEN_INDEX_VALUES": false,
              "GENERATE_DEX_METADATA": false,
              "HTML_TABLE_SCHEMA": false,
              "LOG_LEVEL": 30,
              "MAX_RENDER_SIZE_BYTES": 104857600,
              "MAX_STRING_LENGTH": 250,
              "NUM_PAST_SAMPLES_TRACKED": 3,
              "RANDOM_STATE": 12648430,
              "RESET_INDEX_VALUES": false,
              "ROW_SAMPLING_METHOD": "random",
              "SAMPLING_FACTOR": 0.1,
              "SAMPLING_METHOD": "random",
              "STRINGIFY_COLUMN_VALUES": true,
              "STRINGIFY_INDEX_VALUES": false
            },
            "sample_history": [],
            "sampling_time": "2023-10-10T16:04:19.299347",
            "user_variable_name": "df",
            "variable_name": "df"
          },
          "1e5527bd-a702-4e1d-9af5-3c10a5cd393a": {
            "applied_filters": [],
            "dataframe_info": {
              "default_index_used": true,
              "orig_num_cols": 10,
              "orig_num_rows": 1000,
              "orig_size_bytes": 81000,
              "truncated_num_cols": 10,
              "truncated_num_rows": 1000,
              "truncated_size_bytes": 81000,
              "truncated_string_columns": []
            },
            "display_id": "1e5527bd-a702-4e1d-9af5-3c10a5cd393a",
            "dx_settings": {
              "ALLOW_NOTEABLE_ATTRS": true,
              "COLUMN_SAMPLING_METHOD": "outer",
              "DB_LOCATION": ":memory:",
              "DEV_MODE": false,
              "DISPLAY_MAX_COLUMNS": 100,
              "DISPLAY_MAX_ROWS": 50000,
              "DISPLAY_MODE": "simple",
              "ENABLE_ASSIGNMENT": true,
              "ENABLE_DATALINK": true,
              "FLATTEN_COLUMN_VALUES": true,
              "FLATTEN_INDEX_VALUES": false,
              "GENERATE_DEX_METADATA": false,
              "HTML_TABLE_SCHEMA": false,
              "LOG_LEVEL": 30,
              "MAX_RENDER_SIZE_BYTES": 104857600,
              "MAX_STRING_LENGTH": 250,
              "NUM_PAST_SAMPLES_TRACKED": 3,
              "RANDOM_STATE": 12648430,
              "RESET_INDEX_VALUES": false,
              "ROW_SAMPLING_METHOD": "random",
              "SAMPLING_FACTOR": 0.1,
              "SAMPLING_METHOD": "random",
              "STRINGIFY_COLUMN_VALUES": true,
              "STRINGIFY_INDEX_VALUES": false
            },
            "sample_history": [],
            "sampling_time": "2023-10-10T16:05:15.534936",
            "user_variable_name": "df",
            "variable_name": "df"
          },
          "695f898e-c70f-4c17-9fd2-f9817efad728": {
            "applied_filters": [],
            "dataframe_info": {
              "default_index_used": true,
              "orig_num_cols": 10,
              "orig_num_rows": 1000,
              "orig_size_bytes": 81000,
              "truncated_num_cols": 10,
              "truncated_num_rows": 1000,
              "truncated_size_bytes": 81000,
              "truncated_string_columns": []
            },
            "display_id": "695f898e-c70f-4c17-9fd2-f9817efad728",
            "dx_settings": {
              "ALLOW_NOTEABLE_ATTRS": true,
              "COLUMN_SAMPLING_METHOD": "outer",
              "DB_LOCATION": ":memory:",
              "DEV_MODE": false,
              "DISPLAY_MAX_COLUMNS": 100,
              "DISPLAY_MAX_ROWS": 50000,
              "DISPLAY_MODE": "simple",
              "ENABLE_ASSIGNMENT": true,
              "ENABLE_DATALINK": true,
              "FLATTEN_COLUMN_VALUES": true,
              "FLATTEN_INDEX_VALUES": false,
              "GENERATE_DEX_METADATA": false,
              "HTML_TABLE_SCHEMA": false,
              "LOG_LEVEL": 30,
              "MAX_RENDER_SIZE_BYTES": 104857600,
              "MAX_STRING_LENGTH": 250,
              "NUM_PAST_SAMPLES_TRACKED": 3,
              "RANDOM_STATE": 12648430,
              "RESET_INDEX_VALUES": false,
              "ROW_SAMPLING_METHOD": "random",
              "SAMPLING_FACTOR": 0.1,
              "SAMPLING_METHOD": "random",
              "STRINGIFY_COLUMN_VALUES": true,
              "STRINGIFY_INDEX_VALUES": false
            },
            "sample_history": [],
            "sampling_time": "2023-10-10T16:05:29.236787",
            "user_variable_name": "df",
            "variable_name": "df"
          },
          "07f4f067-f307-4334-b285-b71c4318150e": {
            "applied_filters": [],
            "dataframe_info": {
              "default_index_used": true,
              "orig_num_cols": 10,
              "orig_num_rows": 1000,
              "orig_size_bytes": 81000,
              "truncated_num_cols": 10,
              "truncated_num_rows": 1000,
              "truncated_size_bytes": 81000,
              "truncated_string_columns": []
            },
            "display_id": "07f4f067-f307-4334-b285-b71c4318150e",
            "dx_settings": {
              "ALLOW_NOTEABLE_ATTRS": true,
              "COLUMN_SAMPLING_METHOD": "outer",
              "DB_LOCATION": ":memory:",
              "DEV_MODE": false,
              "DISPLAY_MAX_COLUMNS": 100,
              "DISPLAY_MAX_ROWS": 50000,
              "DISPLAY_MODE": "simple",
              "ENABLE_ASSIGNMENT": true,
              "ENABLE_DATALINK": true,
              "FLATTEN_COLUMN_VALUES": true,
              "FLATTEN_INDEX_VALUES": false,
              "GENERATE_DEX_METADATA": false,
              "HTML_TABLE_SCHEMA": false,
              "LOG_LEVEL": 30,
              "MAX_RENDER_SIZE_BYTES": 104857600,
              "MAX_STRING_LENGTH": 250,
              "NUM_PAST_SAMPLES_TRACKED": 3,
              "RANDOM_STATE": 12648430,
              "RESET_INDEX_VALUES": false,
              "ROW_SAMPLING_METHOD": "random",
              "SAMPLING_FACTOR": 0.1,
              "SAMPLING_METHOD": "random",
              "STRINGIFY_COLUMN_VALUES": true,
              "STRINGIFY_INDEX_VALUES": false
            },
            "sample_history": [],
            "sampling_time": "2023-10-10T17:58:22.611334",
            "user_variable_name": "df",
            "variable_name": "df"
          }
        },
        "dx": {
          "dashboard": {
            "multiViews": []
          },
          "fieldMetadata": {
            "economic_status": {
              "columnPosition": 11
            },
            "gender_male": {
              "columnPosition": 9
            },
            "index": {
              "columnPosition": 1
            },
            "lunch": {
              "columnPosition": 4
            },
            "math_score": {
              "columnPosition": 6
            },
            "parent_edu": {
              "columnPosition": 3
            },
            "race": {
              "columnPosition": 2
            },
            "reading_score": {
              "columnPosition": 7
            },
            "test_prep": {
              "columnPosition": 5
            },
            "total_score": {
              "columnPosition": 10
            },
            "writing_score": {
              "columnPosition": 8
            }
          },
          "updated": 1696960295679,
          "views": [
            {
              "annotationRules": [],
              "chart": {},
              "chartMode": "grid",
              "confoRules": [],
              "decoration": {
                "footer": "",
                "subtitle": "",
                "title": "Table"
              },
              "facets": [],
              "filterSettings": {
                "SHOW_FILTER_PANEL": true,
                "filters": []
              },
              "id": "first-view",
              "isDefault": true,
              "type": "public",
              "userID": ""
            },
            {
              "annotationRules": [],
              "chart": {},
              "chartMode": "grid",
              "confoRules": [],
              "decoration": {
                "footer": "",
                "subtitle": "",
                "title": "Table"
              },
              "facets": [],
              "filterSettings": {
                "SHOW_FILTER_PANEL": true,
                "filters": []
              },
              "id": "first-view",
              "isDefault": true,
              "isTransitory": true,
              "type": "public",
              "userID": ""
            }
          ]
        }
      },
      "id": "f939578c-6b70-45ab-9cd1-0b6443b2e28a"
    },
    {
      "cell_type": "code",
      "source": [
        "# automatically populated; add a variable name below\n",
        "_ = df"
      ],
      "outputs": [],
      "execution_count": null,
      "metadata": {
        "jupyter": {
          "outputs_hidden": false,
          "source_hidden": false
        },
        "noteable": {
          "cell_type": "code"
        },
        "ExecuteTime": {
          "end_time": "2023-10-10T16:04:23.787724+00:00",
          "start_time": "2023-10-10T16:04:23.633846+00:00"
        }
      },
      "id": "36e67378-b9f1-40b2-90a3-c116c7f75242"
    },
    {
      "cell_type": "code",
      "source": [
        "df = df.drop(['parent_edu','lunch','math_score','reading_score', 'writing_score'],axis = 1)"
      ],
      "outputs": [],
      "execution_count": null,
      "metadata": {
        "jupyter": {
          "outputs_hidden": false,
          "source_hidden": false
        },
        "noteable": {
          "cell_type": "code"
        },
        "ExecuteTime": {
          "end_time": "2023-10-10T16:05:34.290275+00:00",
          "start_time": "2023-10-10T16:05:34.134499+00:00"
        },
        "datalink": {
          "cbba8eec-dfe0-4520-a9fa-854f5484f95b": {
            "applied_filters": [],
            "dataframe_info": {
              "default_index_used": true,
              "orig_num_cols": 5,
              "orig_num_rows": 1000,
              "orig_size_bytes": 41000,
              "truncated_num_cols": 5,
              "truncated_num_rows": 1000,
              "truncated_size_bytes": 41000,
              "truncated_string_columns": []
            },
            "display_id": "cbba8eec-dfe0-4520-a9fa-854f5484f95b",
            "dx_settings": {
              "ALLOW_NOTEABLE_ATTRS": true,
              "COLUMN_SAMPLING_METHOD": "outer",
              "DB_LOCATION": ":memory:",
              "DEV_MODE": false,
              "DISPLAY_MAX_COLUMNS": 100,
              "DISPLAY_MAX_ROWS": 50000,
              "DISPLAY_MODE": "simple",
              "ENABLE_ASSIGNMENT": true,
              "ENABLE_DATALINK": true,
              "FLATTEN_COLUMN_VALUES": true,
              "FLATTEN_INDEX_VALUES": false,
              "GENERATE_DEX_METADATA": false,
              "HTML_TABLE_SCHEMA": false,
              "LOG_LEVEL": 30,
              "MAX_RENDER_SIZE_BYTES": 104857600,
              "MAX_STRING_LENGTH": 250,
              "NUM_PAST_SAMPLES_TRACKED": 3,
              "RANDOM_STATE": 12648430,
              "RESET_INDEX_VALUES": false,
              "ROW_SAMPLING_METHOD": "random",
              "SAMPLING_FACTOR": 0.1,
              "SAMPLING_METHOD": "random",
              "STRINGIFY_COLUMN_VALUES": true,
              "STRINGIFY_INDEX_VALUES": false
            },
            "sample_history": [],
            "sampling_time": "2023-10-08T13:19:05.493516",
            "user_variable_name": "df",
            "variable_name": "df"
          },
          "2c8d00d7-5f82-434e-a637-5fc5eda3fffe": {
            "applied_filters": [],
            "dataframe_info": {
              "default_index_used": true,
              "orig_num_cols": 5,
              "orig_num_rows": 1000,
              "orig_size_bytes": 41000,
              "truncated_num_cols": 5,
              "truncated_num_rows": 1000,
              "truncated_size_bytes": 41000,
              "truncated_string_columns": []
            },
            "display_id": "2c8d00d7-5f82-434e-a637-5fc5eda3fffe",
            "dx_settings": {
              "ALLOW_NOTEABLE_ATTRS": true,
              "COLUMN_SAMPLING_METHOD": "outer",
              "DB_LOCATION": ":memory:",
              "DEV_MODE": false,
              "DISPLAY_MAX_COLUMNS": 100,
              "DISPLAY_MAX_ROWS": 50000,
              "DISPLAY_MODE": "simple",
              "ENABLE_ASSIGNMENT": true,
              "ENABLE_DATALINK": true,
              "FLATTEN_COLUMN_VALUES": true,
              "FLATTEN_INDEX_VALUES": false,
              "GENERATE_DEX_METADATA": false,
              "HTML_TABLE_SCHEMA": false,
              "LOG_LEVEL": 30,
              "MAX_RENDER_SIZE_BYTES": 104857600,
              "MAX_STRING_LENGTH": 250,
              "NUM_PAST_SAMPLES_TRACKED": 3,
              "RANDOM_STATE": 12648430,
              "RESET_INDEX_VALUES": false,
              "ROW_SAMPLING_METHOD": "random",
              "SAMPLING_FACTOR": 0.1,
              "SAMPLING_METHOD": "random",
              "STRINGIFY_COLUMN_VALUES": true,
              "STRINGIFY_INDEX_VALUES": false
            },
            "sample_history": [],
            "sampling_time": "2023-10-10T16:02:18.308135",
            "user_variable_name": "df",
            "variable_name": "df"
          },
          "0a5a8802-5720-4973-a931-f74b0735aa49": {
            "applied_filters": [],
            "dataframe_info": {
              "default_index_used": true,
              "orig_num_cols": 5,
              "orig_num_rows": 1000,
              "orig_size_bytes": 41000,
              "truncated_num_cols": 5,
              "truncated_num_rows": 1000,
              "truncated_size_bytes": 41000,
              "truncated_string_columns": []
            },
            "display_id": "0a5a8802-5720-4973-a931-f74b0735aa49",
            "dx_settings": {
              "ALLOW_NOTEABLE_ATTRS": true,
              "COLUMN_SAMPLING_METHOD": "outer",
              "DB_LOCATION": ":memory:",
              "DEV_MODE": false,
              "DISPLAY_MAX_COLUMNS": 100,
              "DISPLAY_MAX_ROWS": 50000,
              "DISPLAY_MODE": "simple",
              "ENABLE_ASSIGNMENT": true,
              "ENABLE_DATALINK": true,
              "FLATTEN_COLUMN_VALUES": true,
              "FLATTEN_INDEX_VALUES": false,
              "GENERATE_DEX_METADATA": false,
              "HTML_TABLE_SCHEMA": false,
              "LOG_LEVEL": 30,
              "MAX_RENDER_SIZE_BYTES": 104857600,
              "MAX_STRING_LENGTH": 250,
              "NUM_PAST_SAMPLES_TRACKED": 3,
              "RANDOM_STATE": 12648430,
              "RESET_INDEX_VALUES": false,
              "ROW_SAMPLING_METHOD": "random",
              "SAMPLING_FACTOR": 0.1,
              "SAMPLING_METHOD": "random",
              "STRINGIFY_COLUMN_VALUES": true,
              "STRINGIFY_INDEX_VALUES": false
            },
            "sample_history": [],
            "sampling_time": "2023-10-10T16:03:40.995173",
            "user_variable_name": "df",
            "variable_name": "df"
          },
          "94058cb3-ed7e-4b30-bd87-c22e510304ab": {
            "applied_filters": [],
            "dataframe_info": {
              "default_index_used": true,
              "orig_num_cols": 5,
              "orig_num_rows": 1000,
              "orig_size_bytes": 41000,
              "truncated_num_cols": 5,
              "truncated_num_rows": 1000,
              "truncated_size_bytes": 41000,
              "truncated_string_columns": []
            },
            "display_id": "94058cb3-ed7e-4b30-bd87-c22e510304ab",
            "dx_settings": {
              "ALLOW_NOTEABLE_ATTRS": true,
              "COLUMN_SAMPLING_METHOD": "outer",
              "DB_LOCATION": ":memory:",
              "DEV_MODE": false,
              "DISPLAY_MAX_COLUMNS": 100,
              "DISPLAY_MAX_ROWS": 50000,
              "DISPLAY_MODE": "simple",
              "ENABLE_ASSIGNMENT": true,
              "ENABLE_DATALINK": true,
              "FLATTEN_COLUMN_VALUES": true,
              "FLATTEN_INDEX_VALUES": false,
              "GENERATE_DEX_METADATA": false,
              "HTML_TABLE_SCHEMA": false,
              "LOG_LEVEL": 30,
              "MAX_RENDER_SIZE_BYTES": 104857600,
              "MAX_STRING_LENGTH": 250,
              "NUM_PAST_SAMPLES_TRACKED": 3,
              "RANDOM_STATE": 12648430,
              "RESET_INDEX_VALUES": false,
              "ROW_SAMPLING_METHOD": "random",
              "SAMPLING_FACTOR": 0.1,
              "SAMPLING_METHOD": "random",
              "STRINGIFY_COLUMN_VALUES": true,
              "STRINGIFY_INDEX_VALUES": false
            },
            "sample_history": [],
            "sampling_time": "2023-10-10T16:04:26.153512",
            "user_variable_name": "df",
            "variable_name": "df"
          }
        },
        "scrolled": false,
        "dx": {
          "dashboard": {
            "multiViews": []
          },
          "fieldMetadata": {},
          "simpleTable": true,
          "simpleTableExpanded": false,
          "updated": 1696951801999,
          "views": [
            {
              "annotationRules": [],
              "chart": {},
              "chartMode": "grid",
              "confoRules": [],
              "decoration": {
                "footer": "",
                "subtitle": "",
                "title": "Table"
              },
              "facets": [],
              "filterSettings": {
                "SHOW_FILTER_PANEL": true,
                "filters": []
              },
              "id": "first-view",
              "isDefault": true,
              "type": "public",
              "userID": ""
            },
            {
              "annotationRules": [],
              "chart": {
                "bigNumberComparison": "raw",
                "bigNumberSecondMetric": "economic_status",
                "confoColor": "none",
                "dim1": "none",
                "facets": [],
                "metric1": "total_score",
                "metric2": "economic_status",
                "scatterplotSize": "none"
              },
              "chartMode": "scatter",
              "confoRules": [],
              "decoration": {
                "footer": "",
                "subtitle": "",
                "title": "Table"
              },
              "facets": [],
              "filterSettings": {
                "SHOW_FILTER_PANEL": true,
                "filters": []
              },
              "id": "first-view",
              "isDefault": true,
              "isTransitory": true,
              "type": "public",
              "userID": ""
            }
          ]
        }
      },
      "id": "b50c98ae-8659-4d45-b41b-6e7d7662a8e1"
    },
    {
      "cell_type": "code",
      "source": [
        "df"
      ],
      "outputs": [
        {
          "output_type": "display_data",
          "data": {
            "application/vnd.dataresource+json": {
              "schema": {
                "fields": [
                  {
                    "name": "index",
                    "type": "integer"
                  },
                  {
                    "name": "race",
                    "type": "integer"
                  },
                  {
                    "name": "test_prep",
                    "type": "integer"
                  },
                  {
                    "name": "gender_male",
                    "type": "integer"
                  },
                  {
                    "name": "total_score",
                    "type": "integer"
                  },
                  {
                    "name": "economic_status",
                    "type": "integer"
                  }
                ],
                "primaryKey": [
                  "index"
                ],
                "pandas_version": "1.4.0"
              },
              "data": [
                {
                  "index": 0,
                  "race": 2,
                  "test_prep": 0,
                  "gender_male": 0,
                  "total_score": 218,
                  "economic_status": 6
                },
                {
                  "index": 1,
                  "race": 3,
                  "test_prep": 1,
                  "gender_male": 0,
                  "total_score": 247,
                  "economic_status": 4
                },
                {
                  "index": 2,
                  "race": 2,
                  "test_prep": 0,
                  "gender_male": 0,
                  "total_score": 278,
                  "economic_status": 7
                },
                {
                  "index": 3,
                  "race": 1,
                  "test_prep": 0,
                  "gender_male": 1,
                  "total_score": 148,
                  "economic_status": 4
                },
                {
                  "index": 4,
                  "race": 3,
                  "test_prep": 0,
                  "gender_male": 1,
                  "total_score": 229,
                  "economic_status": 4
                },
                {
                  "index": 5,
                  "race": 2,
                  "test_prep": 0,
                  "gender_male": 0,
                  "total_score": 232,
                  "economic_status": 5
                },
                {
                  "index": 6,
                  "race": 2,
                  "test_prep": 1,
                  "gender_male": 0,
                  "total_score": 275,
                  "economic_status": 4
                },
                {
                  "index": 7,
                  "race": 2,
                  "test_prep": 0,
                  "gender_male": 1,
                  "total_score": 122,
                  "economic_status": 3
                },
                {
                  "index": 8,
                  "race": 4,
                  "test_prep": 1,
                  "gender_male": 1,
                  "total_score": 195,
                  "economic_status": 2
                },
                {
                  "index": 9,
                  "race": 2,
                  "test_prep": 0,
                  "gender_male": 0,
                  "total_score": 148,
                  "economic_status": 2
                },
                {
                  "index": 10,
                  "race": 3,
                  "test_prep": 0,
                  "gender_male": 1,
                  "total_score": 164,
                  "economic_status": 5
                },
                {
                  "index": 11,
                  "race": 4,
                  "test_prep": 0,
                  "gender_male": 1,
                  "total_score": 135,
                  "economic_status": 5
                },
                {
                  "index": 12,
                  "race": 2,
                  "test_prep": 0,
                  "gender_male": 0,
                  "total_score": 219,
                  "economic_status": 3
                },
                {
                  "index": 13,
                  "race": 1,
                  "test_prep": 1,
                  "gender_male": 1,
                  "total_score": 220,
                  "economic_status": 4
                },
                {
                  "index": 14,
                  "race": 1,
                  "test_prep": 0,
                  "gender_male": 0,
                  "total_score": 161,
                  "economic_status": 7
                },
                {
                  "index": 15,
                  "race": 3,
                  "test_prep": 0,
                  "gender_male": 0,
                  "total_score": 222,
                  "economic_status": 2
                },
                {
                  "index": 16,
                  "race": 3,
                  "test_prep": 0,
                  "gender_male": 1,
                  "total_score": 263,
                  "economic_status": 3
                },
                {
                  "index": 17,
                  "race": 2,
                  "test_prep": 0,
                  "gender_male": 0,
                  "total_score": 78,
                  "economic_status": 1
                },
                {
                  "index": 18,
                  "race": 3,
                  "test_prep": 1,
                  "gender_male": 1,
                  "total_score": 134,
                  "economic_status": 6
                },
                {
                  "index": 19,
                  "race": 3,
                  "test_prep": 0,
                  "gender_male": 0,
                  "total_score": 173,
                  "economic_status": 4
                },
                {
                  "index": 20,
                  "race": 4,
                  "test_prep": 0,
                  "gender_male": 1,
                  "total_score": 198,
                  "economic_status": 3
                },
                {
                  "index": 21,
                  "race": 2,
                  "test_prep": 1,
                  "gender_male": 0,
                  "total_score": 210,
                  "economic_status": 3
                },
                {
                  "index": 22,
                  "race": 4,
                  "test_prep": 0,
                  "gender_male": 1,
                  "total_score": 151,
                  "economic_status": 4
                },
                {
                  "index": 23,
                  "race": 3,
                  "test_prep": 0,
                  "gender_male": 0,
                  "total_score": 215,
                  "economic_status": 2
                },
                {
                  "index": 24,
                  "race": 4,
                  "test_prep": 1,
                  "gender_male": 1,
                  "total_score": 225,
                  "economic_status": 5
                },
                {
                  "index": 25,
                  "race": 1,
                  "test_prep": 0,
                  "gender_male": 1,
                  "total_score": 219,
                  "economic_status": 6
                },
                {
                  "index": 26,
                  "race": 2,
                  "test_prep": 0,
                  "gender_male": 1,
                  "total_score": 178,
                  "economic_status": 4
                },
                {
                  "index": 27,
                  "race": 3,
                  "test_prep": 0,
                  "gender_male": 0,
                  "total_score": 211,
                  "economic_status": 6
                },
                {
                  "index": 28,
                  "race": 3,
                  "test_prep": 0,
                  "gender_male": 1,
                  "total_score": 205,
                  "economic_status": 3
                },
                {
                  "index": 29,
                  "race": 4,
                  "test_prep": 0,
                  "gender_male": 0,
                  "total_score": 207,
                  "economic_status": 7
                },
                {
                  "index": 30,
                  "race": 4,
                  "test_prep": 0,
                  "gender_male": 0,
                  "total_score": 217,
                  "economic_status": 4
                },
                {
                  "index": 31,
                  "race": 2,
                  "test_prep": 0,
                  "gender_male": 0,
                  "total_score": 189,
                  "economic_status": 4
                },
                {
                  "index": 32,
                  "race": 5,
                  "test_prep": 0,
                  "gender_male": 0,
                  "total_score": 193,
                  "economic_status": 6
                },
                {
                  "index": 33,
                  "race": 4,
                  "test_prep": 0,
                  "gender_male": 1,
                  "total_score": 120,
                  "economic_status": 4
                },
                {
                  "index": 34,
                  "race": 5,
                  "test_prep": 0,
                  "gender_male": 1,
                  "total_score": 266,
                  "economic_status": 4
                },
                {
                  "index": 35,
                  "race": 5,
                  "test_prep": 1,
                  "gender_male": 1,
                  "total_score": 241,
                  "economic_status": 5
                },
                {
                  "index": 36,
                  "race": 4,
                  "test_prep": 0,
                  "gender_male": 0,
                  "total_score": 238,
                  "economic_status": 5
                },
                {
                  "index": 37,
                  "race": 4,
                  "test_prep": 0,
                  "gender_male": 0,
                  "total_score": 173,
                  "economic_status": 1
                },
                {
                  "index": 38,
                  "race": 4,
                  "test_prep": 1,
                  "gender_male": 0,
                  "total_score": 253,
                  "economic_status": 4
                },
                {
                  "index": 39,
                  "race": 2,
                  "test_prep": 0,
                  "gender_male": 1,
                  "total_score": 170,
                  "economic_status": 4
                },
                {
                  "index": 40,
                  "race": 3,
                  "test_prep": 0,
                  "gender_male": 1,
                  "total_score": 170,
                  "economic_status": 4
                },
                {
                  "index": 41,
                  "race": 3,
                  "test_prep": 0,
                  "gender_male": 0,
                  "total_score": 199,
                  "economic_status": 5
                },
                {
                  "index": 42,
                  "race": 2,
                  "test_prep": 0,
                  "gender_male": 0,
                  "total_score": 176,
                  "economic_status": 5
                },
                {
                  "index": 43,
                  "race": 2,
                  "test_prep": 1,
                  "gender_male": 1,
                  "total_score": 190,
                  "economic_status": 3
                },
                {
                  "index": 44,
                  "race": 5,
                  "test_prep": 0,
                  "gender_male": 0,
                  "total_score": 160,
                  "economic_status": 4
                },
                {
                  "index": 45,
                  "race": 2,
                  "test_prep": 0,
                  "gender_male": 1,
                  "total_score": 176,
                  "economic_status": 5
                },
                {
                  "index": 46,
                  "race": 1,
                  "test_prep": 1,
                  "gender_male": 0,
                  "total_score": 182,
                  "economic_status": 5
                },
                {
                  "index": 47,
                  "race": 3,
                  "test_prep": 0,
                  "gender_male": 0,
                  "total_score": 213,
                  "economic_status": 3
                },
                {
                  "index": 48,
                  "race": 4,
                  "test_prep": 1,
                  "gender_male": 0,
                  "total_score": 207,
                  "economic_status": 4
                },
                {
                  "index": 49,
                  "race": 3,
                  "test_prep": 1,
                  "gender_male": 1,
                  "total_score": 248,
                  "economic_status": 3
                },
                {
                  "index": 50,
                  "race": 5,
                  "test_prep": 0,
                  "gender_male": 1,
                  "total_score": 156,
                  "economic_status": 4
                },
                {
                  "index": 51,
                  "race": 5,
                  "test_prep": 1,
                  "gender_male": 1,
                  "total_score": 214,
                  "economic_status": 4
                },
                {
                  "index": 52,
                  "race": 3,
                  "test_prep": 0,
                  "gender_male": 1,
                  "total_score": 139,
                  "economic_status": 4
                },
                {
                  "index": 53,
                  "race": 4,
                  "test_prep": 0,
                  "gender_male": 1,
                  "total_score": 241,
                  "economic_status": 3
                },
                {
                  "index": 54,
                  "race": 3,
                  "test_prep": 1,
                  "gender_male": 0,
                  "total_score": 242,
                  "economic_status": 1
                },
                {
                  "index": 55,
                  "race": 3,
                  "test_prep": 0,
                  "gender_male": 0,
                  "total_score": 117,
                  "economic_status": 2
                },
                {
                  "index": 56,
                  "race": 5,
                  "test_prep": 1,
                  "gender_male": 0,
                  "total_score": 253,
                  "economic_status": 5
                },
                {
                  "index": 57,
                  "race": 4,
                  "test_prep": 0,
                  "gender_male": 1,
                  "total_score": 156,
                  "economic_status": 5
                },
                {
                  "index": 58,
                  "race": 4,
                  "test_prep": 1,
                  "gender_male": 1,
                  "total_score": 175,
                  "economic_status": 4
                },
                {
                  "index": 59,
                  "race": 3,
                  "test_prep": 0,
                  "gender_male": 0,
                  "total_score": 27,
                  "economic_status": 1
                },
                {
                  "index": 60,
                  "race": 5,
                  "test_prep": 1,
                  "gender_male": 1,
                  "total_score": 225,
                  "economic_status": 5
                },
                {
                  "index": 61,
                  "race": 1,
                  "test_prep": 0,
                  "gender_male": 1,
                  "total_score": 112,
                  "economic_status": 1
                },
                {
                  "index": 62,
                  "race": 1,
                  "test_prep": 0,
                  "gender_male": 1,
                  "total_score": 178,
                  "economic_status": 4
                },
                {
                  "index": 63,
                  "race": 3,
                  "test_prep": 0,
                  "gender_male": 0,
                  "total_score": 220,
                  "economic_status": 5
                },
                {
                  "index": 64,
                  "race": 4,
                  "test_prep": 0,
                  "gender_male": 0,
                  "total_score": 176,
                  "economic_status": 2
                },
                {
                  "index": 65,
                  "race": 2,
                  "test_prep": 0,
                  "gender_male": 1,
                  "total_score": 192,
                  "economic_status": 2
                },
                {
                  "index": 66,
                  "race": 4,
                  "test_prep": 0,
                  "gender_male": 1,
                  "total_score": 119,
                  "economic_status": 1
                },
                {
                  "index": 67,
                  "race": 3,
                  "test_prep": 0,
                  "gender_male": 0,
                  "total_score": 206,
                  "economic_status": 4
                },
                {
                  "index": 68,
                  "race": 2,
                  "test_prep": 0,
                  "gender_male": 1,
                  "total_score": 175,
                  "economic_status": 4
                },
                {
                  "index": 69,
                  "race": 3,
                  "test_prep": 0,
                  "gender_male": 0,
                  "total_score": 160,
                  "economic_status": 5
                },
                {
                  "index": 70,
                  "race": 4,
                  "test_prep": 1,
                  "gender_male": 0,
                  "total_score": 194,
                  "economic_status": 3
                },
                {
                  "index": 71,
                  "race": 4,
                  "test_prep": 1,
                  "gender_male": 1,
                  "total_score": 181,
                  "economic_status": 4
                },
                {
                  "index": 72,
                  "race": 1,
                  "test_prep": 0,
                  "gender_male": 0,
                  "total_score": 140,
                  "economic_status": 4
                },
                {
                  "index": 73,
                  "race": 3,
                  "test_prep": 0,
                  "gender_male": 1,
                  "total_score": 174,
                  "economic_status": 1
                },
                {
                  "index": 74,
                  "race": 3,
                  "test_prep": 0,
                  "gender_male": 1,
                  "total_score": 139,
                  "economic_status": 2
                },
                {
                  "index": 75,
                  "race": 2,
                  "test_prep": 0,
                  "gender_male": 1,
                  "total_score": 123,
                  "economic_status": 4
                },
                {
                  "index": 76,
                  "race": 5,
                  "test_prep": 0,
                  "gender_male": 1,
                  "total_score": 78,
                  "economic_status": 2
                },
                {
                  "index": 77,
                  "race": 1,
                  "test_prep": 1,
                  "gender_male": 1,
                  "total_score": 239,
                  "economic_status": 6
                },
                {
                  "index": 78,
                  "race": 4,
                  "test_prep": 1,
                  "gender_male": 0,
                  "total_score": 207,
                  "economic_status": 2
                },
                {
                  "index": 79,
                  "race": 5,
                  "test_prep": 0,
                  "gender_male": 0,
                  "total_score": 198,
                  "economic_status": 7
                },
                {
                  "index": 80,
                  "race": 2,
                  "test_prep": 0,
                  "gender_male": 0,
                  "total_score": 146,
                  "economic_status": 5
                },
                {
                  "index": 81,
                  "race": 2,
                  "test_prep": 0,
                  "gender_male": 1,
                  "total_score": 139,
                  "economic_status": 2
                },
                {
                  "index": 82,
                  "race": 1,
                  "test_prep": 1,
                  "gender_male": 1,
                  "total_score": 151,
                  "economic_status": 3
                },
                {
                  "index": 83,
                  "race": 5,
                  "test_prep": 0,
                  "gender_male": 1,
                  "total_score": 199,
                  "economic_status": 5
                },
                {
                  "index": 84,
                  "race": 4,
                  "test_prep": 0,
                  "gender_male": 1,
                  "total_score": 115,
                  "economic_status": 2
                },
                {
                  "index": 85,
                  "race": 3,
                  "test_prep": 0,
                  "gender_male": 0,
                  "total_score": 235,
                  "economic_status": 4
                },
                {
                  "index": 86,
                  "race": 3,
                  "test_prep": 0,
                  "gender_male": 0,
                  "total_score": 247,
                  "economic_status": 3
                },
                {
                  "index": 87,
                  "race": 4,
                  "test_prep": 0,
                  "gender_male": 0,
                  "total_score": 216,
                  "economic_status": 5
                },
                {
                  "index": 88,
                  "race": 1,
                  "test_prep": 0,
                  "gender_male": 0,
                  "total_score": 195,
                  "economic_status": 4
                },
                {
                  "index": 89,
                  "race": 4,
                  "test_prep": 0,
                  "gender_male": 0,
                  "total_score": 241,
                  "economic_status": 2
                },
                {
                  "index": 90,
                  "race": 3,
                  "test_prep": 0,
                  "gender_male": 0,
                  "total_score": 211,
                  "economic_status": 6
                },
                {
                  "index": 91,
                  "race": 3,
                  "test_prep": 0,
                  "gender_male": 1,
                  "total_score": 97,
                  "economic_status": 2
                },
                {
                  "index": 92,
                  "race": 3,
                  "test_prep": 0,
                  "gender_male": 1,
                  "total_score": 221,
                  "economic_status": 3
                },
                {
                  "index": 93,
                  "race": 3,
                  "test_prep": 1,
                  "gender_male": 1,
                  "total_score": 138,
                  "economic_status": 4
                },
                {
                  "index": 94,
                  "race": 2,
                  "test_prep": 0,
                  "gender_male": 0,
                  "total_score": 257,
                  "economic_status": 4
                },
                {
                  "index": 95,
                  "race": 3,
                  "test_prep": 1,
                  "gender_male": 1,
                  "total_score": 241,
                  "economic_status": 4
                },
                {
                  "index": 96,
                  "race": 2,
                  "test_prep": 1,
                  "gender_male": 1,
                  "total_score": 193,
                  "economic_status": 2
                },
                {
                  "index": 97,
                  "race": 5,
                  "test_prep": 1,
                  "gender_male": 0,
                  "total_score": 205,
                  "economic_status": 4
                },
                {
                  "index": 98,
                  "race": 4,
                  "test_prep": 0,
                  "gender_male": 0,
                  "total_score": 187,
                  "economic_status": 3
                },
                {
                  "index": 99,
                  "race": 4,
                  "test_prep": 0,
                  "gender_male": 0,
                  "total_score": 194,
                  "economic_status": 6
                },
                {
                  "index": 100,
                  "race": 2,
                  "test_prep": 0,
                  "gender_male": 1,
                  "total_score": 213,
                  "economic_status": 4
                },
                {
                  "index": 101,
                  "race": 4,
                  "test_prep": 1,
                  "gender_male": 1,
                  "total_score": 216,
                  "economic_status": 6
                },
                {
                  "index": 102,
                  "race": 4,
                  "test_prep": 0,
                  "gender_male": 0,
                  "total_score": 265,
                  "economic_status": 5
                },
                {
                  "index": 103,
                  "race": 2,
                  "test_prep": 1,
                  "gender_male": 1,
                  "total_score": 151,
                  "economic_status": 3
                },
                {
                  "index": 104,
                  "race": 3,
                  "test_prep": 1,
                  "gender_male": 1,
                  "total_score": 274,
                  "economic_status": 4
                },
                {
                  "index": 105,
                  "race": 3,
                  "test_prep": 0,
                  "gender_male": 0,
                  "total_score": 197,
                  "economic_status": 4
                },
                {
                  "index": 106,
                  "race": 4,
                  "test_prep": 0,
                  "gender_male": 0,
                  "total_score": 287,
                  "economic_status": 7
                },
                {
                  "index": 107,
                  "race": 5,
                  "test_prep": 1,
                  "gender_male": 1,
                  "total_score": 193,
                  "economic_status": 5
                },
                {
                  "index": 108,
                  "race": 2,
                  "test_prep": 0,
                  "gender_male": 0,
                  "total_score": 198,
                  "economic_status": 4
                },
                {
                  "index": 109,
                  "race": 2,
                  "test_prep": 0,
                  "gender_male": 0,
                  "total_score": 206,
                  "economic_status": 2
                },
                {
                  "index": 110,
                  "race": 4,
                  "test_prep": 1,
                  "gender_male": 0,
                  "total_score": 264,
                  "economic_status": 4
                },
                {
                  "index": 111,
                  "race": 3,
                  "test_prep": 0,
                  "gender_male": 1,
                  "total_score": 166,
                  "economic_status": 3
                },
                {
                  "index": 112,
                  "race": 1,
                  "test_prep": 0,
                  "gender_male": 1,
                  "total_score": 154,
                  "economic_status": 5
                },
                {
                  "index": 113,
                  "race": 4,
                  "test_prep": 0,
                  "gender_male": 0,
                  "total_score": 163,
                  "economic_status": 4
                },
                {
                  "index": 114,
                  "race": 5,
                  "test_prep": 1,
                  "gender_male": 0,
                  "total_score": 299,
                  "economic_status": 6
                },
                {
                  "index": 115,
                  "race": 3,
                  "test_prep": 0,
                  "gender_male": 1,
                  "total_score": 235,
                  "economic_status": 3
                },
                {
                  "index": 116,
                  "race": 2,
                  "test_prep": 0,
                  "gender_male": 0,
                  "total_score": 242,
                  "economic_status": 5
                },
                {
                  "index": 117,
                  "race": 4,
                  "test_prep": 0,
                  "gender_male": 0,
                  "total_score": 239,
                  "economic_status": 6
                },
                {
                  "index": 118,
                  "race": 4,
                  "test_prep": 0,
                  "gender_male": 0,
                  "total_score": 175,
                  "economic_status": 2
                },
                {
                  "index": 119,
                  "race": 3,
                  "test_prep": 0,
                  "gender_male": 0,
                  "total_score": 189,
                  "economic_status": 4
                },
                {
                  "index": 120,
                  "race": 3,
                  "test_prep": 1,
                  "gender_male": 0,
                  "total_score": 260,
                  "economic_status": 6
                },
                {
                  "index": 121,
                  "race": 2,
                  "test_prep": 1,
                  "gender_male": 1,
                  "total_score": 272,
                  "economic_status": 5
                },
                {
                  "index": 122,
                  "race": 3,
                  "test_prep": 1,
                  "gender_male": 0,
                  "total_score": 274,
                  "economic_status": 4
                },
                {
                  "index": 123,
                  "race": 4,
                  "test_prep": 0,
                  "gender_male": 1,
                  "total_score": 176,
                  "economic_status": 2
                },
                {
                  "index": 124,
                  "race": 5,
                  "test_prep": 0,
                  "gender_male": 1,
                  "total_score": 236,
                  "economic_status": 4
                },
                {
                  "index": 125,
                  "race": 2,
                  "test_prep": 0,
                  "gender_male": 0,
                  "total_score": 268,
                  "economic_status": 3
                },
                {
                  "index": 126,
                  "race": 2,
                  "test_prep": 0,
                  "gender_male": 1,
                  "total_score": 207,
                  "economic_status": 2
                },
                {
                  "index": 127,
                  "race": 4,
                  "test_prep": 1,
                  "gender_male": 1,
                  "total_score": 216,
                  "economic_status": 4
                },
                {
                  "index": 128,
                  "race": 4,
                  "test_prep": 0,
                  "gender_male": 1,
                  "total_score": 238,
                  "economic_status": 7
                },
                {
                  "index": 129,
                  "race": 1,
                  "test_prep": 0,
                  "gender_male": 0,
                  "total_score": 151,
                  "economic_status": 6
                },
                {
                  "index": 130,
                  "race": 4,
                  "test_prep": 0,
                  "gender_male": 1,
                  "total_score": 255,
                  "economic_status": 7
                },
                {
                  "index": 131,
                  "race": 3,
                  "test_prep": 1,
                  "gender_male": 1,
                  "total_score": 130,
                  "economic_status": 1
                },
                {
                  "index": 132,
                  "race": 5,
                  "test_prep": 1,
                  "gender_male": 1,
                  "total_score": 231,
                  "economic_status": 3
                },
                {
                  "index": 133,
                  "race": 3,
                  "test_prep": 1,
                  "gender_male": 0,
                  "total_score": 240,
                  "economic_status": 4
                },
                {
                  "index": 134,
                  "race": 4,
                  "test_prep": 1,
                  "gender_male": 1,
                  "total_score": 228,
                  "economic_status": 5
                },
                {
                  "index": 135,
                  "race": 3,
                  "test_prep": 0,
                  "gender_male": 1,
                  "total_score": 161,
                  "economic_status": 6
                },
                {
                  "index": 136,
                  "race": 2,
                  "test_prep": 1,
                  "gender_male": 1,
                  "total_score": 146,
                  "economic_status": 2
                },
                {
                  "index": 137,
                  "race": 5,
                  "test_prep": 0,
                  "gender_male": 1,
                  "total_score": 181,
                  "economic_status": 3
                },
                {
                  "index": 138,
                  "race": 3,
                  "test_prep": 0,
                  "gender_male": 0,
                  "total_score": 192,
                  "economic_status": 5
                },
                {
                  "index": 139,
                  "race": 4,
                  "test_prep": 1,
                  "gender_male": 1,
                  "total_score": 201,
                  "economic_status": 4
                },
                {
                  "index": 140,
                  "race": 4,
                  "test_prep": 0,
                  "gender_male": 0,
                  "total_score": 219,
                  "economic_status": 2
                },
                {
                  "index": 141,
                  "race": 3,
                  "test_prep": 0,
                  "gender_male": 0,
                  "total_score": 185,
                  "economic_status": 3
                },
                {
                  "index": 142,
                  "race": 5,
                  "test_prep": 1,
                  "gender_male": 0,
                  "total_score": 151,
                  "economic_status": 3
                },
                {
                  "index": 143,
                  "race": 1,
                  "test_prep": 0,
                  "gender_male": 1,
                  "total_score": 147,
                  "economic_status": 3
                },
                {
                  "index": 144,
                  "race": 4,
                  "test_prep": 0,
                  "gender_male": 1,
                  "total_score": 239,
                  "economic_status": 4
                },
                {
                  "index": 145,
                  "race": 3,
                  "test_prep": 0,
                  "gender_male": 0,
                  "total_score": 94,
                  "economic_status": 3
                },
                {
                  "index": 146,
                  "race": 2,
                  "test_prep": 0,
                  "gender_male": 1,
                  "total_score": 247,
                  "economic_status": 2
                },
                {
                  "index": 147,
                  "race": 3,
                  "test_prep": 0,
                  "gender_male": 1,
                  "total_score": 207,
                  "economic_status": 4
                },
                {
                  "index": 148,
                  "race": 4,
                  "test_prep": 1,
                  "gender_male": 0,
                  "total_score": 224,
                  "economic_status": 6
                },
                {
                  "index": 149,
                  "race": 5,
                  "test_prep": 1,
                  "gender_male": 1,
                  "total_score": 293,
                  "economic_status": 4
                },
                {
                  "index": 150,
                  "race": 1,
                  "test_prep": 1,
                  "gender_male": 1,
                  "total_score": 198,
                  "economic_status": 2
                },
                {
                  "index": 151,
                  "race": 1,
                  "test_prep": 0,
                  "gender_male": 1,
                  "total_score": 212,
                  "economic_status": 6
                },
                {
                  "index": 152,
                  "race": 2,
                  "test_prep": 1,
                  "gender_male": 0,
                  "total_score": 195,
                  "economic_status": 5
                },
                {
                  "index": 153,
                  "race": 4,
                  "test_prep": 0,
                  "gender_male": 1,
                  "total_score": 150,
                  "economic_status": 6
                },
                {
                  "index": 154,
                  "race": 4,
                  "test_prep": 0,
                  "gender_male": 1,
                  "total_score": 190,
                  "economic_status": 2
                },
                {
                  "index": 155,
                  "race": 3,
                  "test_prep": 1,
                  "gender_male": 0,
                  "total_score": 247,
                  "economic_status": 4
                },
                {
                  "index": 156,
                  "race": 5,
                  "test_prep": 1,
                  "gender_male": 0,
                  "total_score": 218,
                  "economic_status": 2
                },
                {
                  "index": 157,
                  "race": 2,
                  "test_prep": 0,
                  "gender_male": 1,
                  "total_score": 180,
                  "economic_status": 3
                },
                {
                  "index": 158,
                  "race": 2,
                  "test_prep": 1,
                  "gender_male": 0,
                  "total_score": 234,
                  "economic_status": 5
                },
                {
                  "index": 159,
                  "race": 4,
                  "test_prep": 0,
                  "gender_male": 1,
                  "total_score": 192,
                  "economic_status": 4
                },
                {
                  "index": 160,
                  "race": 2,
                  "test_prep": 1,
                  "gender_male": 1,
                  "total_score": 234,
                  "economic_status": 4
                },
                {
                  "index": 161,
                  "race": 5,
                  "test_prep": 1,
                  "gender_male": 0,
                  "total_score": 248,
                  "economic_status": 3
                },
                {
                  "index": 162,
                  "race": 2,
                  "test_prep": 0,
                  "gender_male": 1,
                  "total_score": 154,
                  "economic_status": 6
                },
                {
                  "index": 163,
                  "race": 3,
                  "test_prep": 0,
                  "gender_male": 1,
                  "total_score": 154,
                  "economic_status": 3
                },
                {
                  "index": 164,
                  "race": 5,
                  "test_prep": 0,
                  "gender_male": 0,
                  "total_score": 264,
                  "economic_status": 7
                },
                {
                  "index": 165,
                  "race": 3,
                  "test_prep": 1,
                  "gender_male": 0,
                  "total_score": 296,
                  "economic_status": 6
                },
                {
                  "index": 166,
                  "race": 3,
                  "test_prep": 1,
                  "gender_male": 1,
                  "total_score": 155,
                  "economic_status": 2
                },
                {
                  "index": 167,
                  "race": 2,
                  "test_prep": 1,
                  "gender_male": 0,
                  "total_score": 212,
                  "economic_status": 6
                },
                {
                  "index": 168,
                  "race": 2,
                  "test_prep": 1,
                  "gender_male": 0,
                  "total_score": 229,
                  "economic_status": 3
                },
                {
                  "index": 169,
                  "race": 3,
                  "test_prep": 1,
                  "gender_male": 0,
                  "total_score": 212,
                  "economic_status": 3
                },
                {
                  "index": 170,
                  "race": 1,
                  "test_prep": 1,
                  "gender_male": 1,
                  "total_score": 219,
                  "economic_status": 3
                },
                {
                  "index": 171,
                  "race": 5,
                  "test_prep": 0,
                  "gender_male": 1,
                  "total_score": 260,
                  "economic_status": 2
                },
                {
                  "index": 172,
                  "race": 4,
                  "test_prep": 0,
                  "gender_male": 0,
                  "total_score": 246,
                  "economic_status": 4
                },
                {
                  "index": 173,
                  "race": 3,
                  "test_prep": 0,
                  "gender_male": 0,
                  "total_score": 200,
                  "economic_status": 5
                },
                {
                  "index": 174,
                  "race": 3,
                  "test_prep": 1,
                  "gender_male": 0,
                  "total_score": 148,
                  "economic_status": 5
                },
                {
                  "index": 175,
                  "race": 3,
                  "test_prep": 1,
                  "gender_male": 0,
                  "total_score": 259,
                  "economic_status": 7
                },
                {
                  "index": 176,
                  "race": 2,
                  "test_prep": 1,
                  "gender_male": 0,
                  "total_score": 158,
                  "economic_status": 2
                },
                {
                  "index": 177,
                  "race": 3,
                  "test_prep": 1,
                  "gender_male": 0,
                  "total_score": 225,
                  "economic_status": 5
                },
                {
                  "index": 178,
                  "race": 2,
                  "test_prep": 1,
                  "gender_male": 0,
                  "total_score": 184,
                  "economic_status": 6
                },
                {
                  "index": 179,
                  "race": 4,
                  "test_prep": 1,
                  "gender_male": 0,
                  "total_score": 297,
                  "economic_status": 2
                },
                {
                  "index": 180,
                  "race": 3,
                  "test_prep": 1,
                  "gender_male": 1,
                  "total_score": 205,
                  "economic_status": 6
                },
                {
                  "index": 181,
                  "race": 3,
                  "test_prep": 0,
                  "gender_male": 0,
                  "total_score": 176,
                  "economic_status": 3
                },
                {
                  "index": 182,
                  "race": 5,
                  "test_prep": 0,
                  "gender_male": 0,
                  "total_score": 147,
                  "economic_status": 3
                },
                {
                  "index": 183,
                  "race": 4,
                  "test_prep": 0,
                  "gender_male": 0,
                  "total_score": 204,
                  "economic_status": 5
                },
                {
                  "index": 184,
                  "race": 3,
                  "test_prep": 1,
                  "gender_male": 1,
                  "total_score": 146,
                  "economic_status": 1
                },
                {
                  "index": 185,
                  "race": 3,
                  "test_prep": 1,
                  "gender_male": 1,
                  "total_score": 197,
                  "economic_status": 4
                },
                {
                  "index": 186,
                  "race": 5,
                  "test_prep": 0,
                  "gender_male": 1,
                  "total_score": 221,
                  "economic_status": 3
                },
                {
                  "index": 187,
                  "race": 4,
                  "test_prep": 1,
                  "gender_male": 1,
                  "total_score": 196,
                  "economic_status": 2
                },
                {
                  "index": 188,
                  "race": 2,
                  "test_prep": 0,
                  "gender_male": 1,
                  "total_score": 145,
                  "economic_status": 1
                },
                {
                  "index": 189,
                  "race": 3,
                  "test_prep": 0,
                  "gender_male": 0,
                  "total_score": 252,
                  "economic_status": 6
                },
                {
                  "index": 190,
                  "race": 5,
                  "test_prep": 0,
                  "gender_male": 0,
                  "total_score": 200,
                  "economic_status": 5
                },
                {
                  "index": 191,
                  "race": 4,
                  "test_prep": 1,
                  "gender_male": 1,
                  "total_score": 238,
                  "economic_status": 4
                },
                {
                  "index": 192,
                  "race": 2,
                  "test_prep": 0,
                  "gender_male": 0,
                  "total_score": 192,
                  "economic_status": 2
                },
                {
                  "index": 193,
                  "race": 4,
                  "test_prep": 1,
                  "gender_male": 1,
                  "total_score": 201,
                  "economic_status": 4
                },
                {
                  "index": 194,
                  "race": 3,
                  "test_prep": 1,
                  "gender_male": 0,
                  "total_score": 238,
                  "economic_status": 7
                },
                {
                  "index": 195,
                  "race": 4,
                  "test_prep": 0,
                  "gender_male": 1,
                  "total_score": 168,
                  "economic_status": 5
                },
                {
                  "index": 196,
                  "race": 3,
                  "test_prep": 1,
                  "gender_male": 1,
                  "total_score": 193,
                  "economic_status": 1
                },
                {
                  "index": 197,
                  "race": 5,
                  "test_prep": 0,
                  "gender_male": 1,
                  "total_score": 162,
                  "economic_status": 2
                },
                {
                  "index": 198,
                  "race": 2,
                  "test_prep": 0,
                  "gender_male": 0,
                  "total_score": 153,
                  "economic_status": 3
                },
                {
                  "index": 199,
                  "race": 2,
                  "test_prep": 0,
                  "gender_male": 0,
                  "total_score": 233,
                  "economic_status": 5
                },
                {
                  "index": 200,
                  "race": 3,
                  "test_prep": 1,
                  "gender_male": 0,
                  "total_score": 237,
                  "economic_status": 5
                },
                {
                  "index": 201,
                  "race": 4,
                  "test_prep": 0,
                  "gender_male": 0,
                  "total_score": 223,
                  "economic_status": 3
                },
                {
                  "index": 202,
                  "race": 3,
                  "test_prep": 0,
                  "gender_male": 1,
                  "total_score": 215,
                  "economic_status": 5
                },
                {
                  "index": 203,
                  "race": 2,
                  "test_prep": 0,
                  "gender_male": 0,
                  "total_score": 194,
                  "economic_status": 5
                },
                {
                  "index": 204,
                  "race": 3,
                  "test_prep": 0,
                  "gender_male": 1,
                  "total_score": 142,
                  "economic_status": 4
                },
                {
                  "index": 205,
                  "race": 4,
                  "test_prep": 1,
                  "gender_male": 1,
                  "total_score": 223,
                  "economic_status": 2
                },
                {
                  "index": 206,
                  "race": 5,
                  "test_prep": 0,
                  "gender_male": 1,
                  "total_score": 206,
                  "economic_status": 6
                },
                {
                  "index": 207,
                  "race": 5,
                  "test_prep": 1,
                  "gender_male": 1,
                  "total_score": 237,
                  "economic_status": 3
                },
                {
                  "index": 208,
                  "race": 2,
                  "test_prep": 0,
                  "gender_male": 0,
                  "total_score": 231,
                  "economic_status": 3
                },
                {
                  "index": 209,
                  "race": 2,
                  "test_prep": 0,
                  "gender_male": 0,
                  "total_score": 185,
                  "economic_status": 3
                },
                {
                  "index": 210,
                  "race": 4,
                  "test_prep": 1,
                  "gender_male": 1,
                  "total_score": 238,
                  "economic_status": 1
                },
                {
                  "index": 211,
                  "race": 3,
                  "test_prep": 0,
                  "gender_male": 1,
                  "total_score": 90,
                  "economic_status": 3
                },
                {
                  "index": 212,
                  "race": 3,
                  "test_prep": 0,
                  "gender_male": 0,
                  "total_score": 164,
                  "economic_status": 2
                },
                {
                  "index": 213,
                  "race": 3,
                  "test_prep": 1,
                  "gender_male": 1,
                  "total_score": 167,
                  "economic_status": 4
                },
                {
                  "index": 214,
                  "race": 5,
                  "test_prep": 1,
                  "gender_male": 1,
                  "total_score": 259,
                  "economic_status": 3
                },
                {
                  "index": 215,
                  "race": 2,
                  "test_prep": 1,
                  "gender_male": 1,
                  "total_score": 242,
                  "economic_status": 2
                },
                {
                  "index": 216,
                  "race": 5,
                  "test_prep": 1,
                  "gender_male": 0,
                  "total_score": 257,
                  "economic_status": 4
                },
                {
                  "index": 217,
                  "race": 3,
                  "test_prep": 0,
                  "gender_male": 0,
                  "total_score": 115,
                  "economic_status": 2
                },
                {
                  "index": 218,
                  "race": 2,
                  "test_prep": 0,
                  "gender_male": 1,
                  "total_score": 213,
                  "economic_status": 2
                },
                {
                  "index": 219,
                  "race": 2,
                  "test_prep": 1,
                  "gender_male": 1,
                  "total_score": 173,
                  "economic_status": 2
                },
                {
                  "index": 220,
                  "race": 4,
                  "test_prep": 1,
                  "gender_male": 0,
                  "total_score": 198,
                  "economic_status": 3
                },
                {
                  "index": 221,
                  "race": 2,
                  "test_prep": 0,
                  "gender_male": 1,
                  "total_score": 245,
                  "economic_status": 5
                },
                {
                  "index": 222,
                  "race": 3,
                  "test_prep": 0,
                  "gender_male": 0,
                  "total_score": 182,
                  "economic_status": 1
                },
                {
                  "index": 223,
                  "race": 4,
                  "test_prep": 0,
                  "gender_male": 1,
                  "total_score": 241,
                  "economic_status": 2
                },
                {
                  "index": 224,
                  "race": 2,
                  "test_prep": 1,
                  "gender_male": 0,
                  "total_score": 191,
                  "economic_status": 5
                },
                {
                  "index": 225,
                  "race": 5,
                  "test_prep": 0,
                  "gender_male": 0,
                  "total_score": 155,
                  "economic_status": 6
                },
                {
                  "index": 226,
                  "race": 3,
                  "test_prep": 0,
                  "gender_male": 0,
                  "total_score": 215,
                  "economic_status": 4
                },
                {
                  "index": 227,
                  "race": 4,
                  "test_prep": 0,
                  "gender_male": 1,
                  "total_score": 161,
                  "economic_status": 3
                },
                {
                  "index": 228,
                  "race": 1,
                  "test_prep": 0,
                  "gender_male": 1,
                  "total_score": 204,
                  "economic_status": 1
                },
                {
                  "index": 229,
                  "race": 3,
                  "test_prep": 1,
                  "gender_male": 0,
                  "total_score": 277,
                  "economic_status": 4
                },
                {
                  "index": 230,
                  "race": 4,
                  "test_prep": 0,
                  "gender_male": 1,
                  "total_score": 206,
                  "economic_status": 4
                },
                {
                  "index": 231,
                  "race": 3,
                  "test_prep": 0,
                  "gender_male": 1,
                  "total_score": 131,
                  "economic_status": 5
                },
                {
                  "index": 232,
                  "race": 2,
                  "test_prep": 0,
                  "gender_male": 0,
                  "total_score": 236,
                  "economic_status": 6
                },
                {
                  "index": 233,
                  "race": 5,
                  "test_prep": 0,
                  "gender_male": 1,
                  "total_score": 257,
                  "economic_status": 2
                },
                {
                  "index": 234,
                  "race": 3,
                  "test_prep": 1,
                  "gender_male": 1,
                  "total_score": 249,
                  "economic_status": 6
                },
                {
                  "index": 235,
                  "race": 4,
                  "test_prep": 0,
                  "gender_male": 1,
                  "total_score": 232,
                  "economic_status": 5
                },
                {
                  "index": 236,
                  "race": 4,
                  "test_prep": 0,
                  "gender_male": 1,
                  "total_score": 196,
                  "economic_status": 5
                },
                {
                  "index": 237,
                  "race": 4,
                  "test_prep": 1,
                  "gender_male": 0,
                  "total_score": 198,
                  "economic_status": 2
                },
                {
                  "index": 238,
                  "race": 2,
                  "test_prep": 0,
                  "gender_male": 1,
                  "total_score": 157,
                  "economic_status": 4
                },
                {
                  "index": 239,
                  "race": 3,
                  "test_prep": 0,
                  "gender_male": 1,
                  "total_score": 244,
                  "economic_status": 5
                },
                {
                  "index": 240,
                  "race": 4,
                  "test_prep": 1,
                  "gender_male": 1,
                  "total_score": 207,
                  "economic_status": 2
                },
                {
                  "index": 241,
                  "race": 5,
                  "test_prep": 0,
                  "gender_male": 0,
                  "total_score": 246,
                  "economic_status": 6
                },
                {
                  "index": 242,
                  "race": 4,
                  "test_prep": 0,
                  "gender_male": 0,
                  "total_score": 163,
                  "economic_status": 3
                },
                {
                  "index": 243,
                  "race": 5,
                  "test_prep": 0,
                  "gender_male": 1,
                  "total_score": 153,
                  "economic_status": 4
                },
                {
                  "index": 244,
                  "race": 4,
                  "test_prep": 0,
                  "gender_male": 1,
                  "total_score": 218,
                  "economic_status": 2
                },
                {
                  "index": 245,
                  "race": 3,
                  "test_prep": 0,
                  "gender_male": 1,
                  "total_score": 232,
                  "economic_status": 5
                },
                {
                  "index": 246,
                  "race": 5,
                  "test_prep": 0,
                  "gender_male": 1,
                  "total_score": 239,
                  "economic_status": 5
                },
                {
                  "index": 247,
                  "race": 2,
                  "test_prep": 1,
                  "gender_male": 0,
                  "total_score": 196,
                  "economic_status": 3
                },
                {
                  "index": 248,
                  "race": 2,
                  "test_prep": 0,
                  "gender_male": 0,
                  "total_score": 191,
                  "economic_status": 3
                },
                {
                  "index": 249,
                  "race": 3,
                  "test_prep": 0,
                  "gender_male": 1,
                  "total_score": 181,
                  "economic_status": 3
                },
                {
                  "index": 250,
                  "race": 1,
                  "test_prep": 1,
                  "gender_male": 1,
                  "total_score": 145,
                  "economic_status": 2
                },
                {
                  "index": 251,
                  "race": 4,
                  "test_prep": 0,
                  "gender_male": 0,
                  "total_score": 237,
                  "economic_status": 3
                },
                {
                  "index": 252,
                  "race": 2,
                  "test_prep": 1,
                  "gender_male": 0,
                  "total_score": 200,
                  "economic_status": 2
                },
                {
                  "index": 253,
                  "race": 4,
                  "test_prep": 0,
                  "gender_male": 1,
                  "total_score": 232,
                  "economic_status": 7
                },
                {
                  "index": 254,
                  "race": 4,
                  "test_prep": 0,
                  "gender_male": 1,
                  "total_score": 158,
                  "economic_status": 3
                },
                {
                  "index": 255,
                  "race": 5,
                  "test_prep": 0,
                  "gender_male": 0,
                  "total_score": 205,
                  "economic_status": 4
                },
                {
                  "index": 256,
                  "race": 3,
                  "test_prep": 0,
                  "gender_male": 0,
                  "total_score": 205,
                  "economic_status": 4
                },
                {
                  "index": 257,
                  "race": 3,
                  "test_prep": 1,
                  "gender_male": 1,
                  "total_score": 232,
                  "economic_status": 5
                },
                {
                  "index": 258,
                  "race": 2,
                  "test_prep": 0,
                  "gender_male": 0,
                  "total_score": 223,
                  "economic_status": 4
                },
                {
                  "index": 259,
                  "race": 3,
                  "test_prep": 1,
                  "gender_male": 0,
                  "total_score": 227,
                  "economic_status": 6
                },
                {
                  "index": 260,
                  "race": 3,
                  "test_prep": 1,
                  "gender_male": 0,
                  "total_score": 220,
                  "economic_status": 1
                },
                {
                  "index": 261,
                  "race": 3,
                  "test_prep": 1,
                  "gender_male": 1,
                  "total_score": 236,
                  "economic_status": 4
                },
                {
                  "index": 262,
                  "race": 3,
                  "test_prep": 0,
                  "gender_male": 0,
                  "total_score": 145,
                  "economic_status": 1
                },
                {
                  "index": 263,
                  "race": 5,
                  "test_prep": 0,
                  "gender_male": 0,
                  "total_score": 282,
                  "economic_status": 3
                },
                {
                  "index": 264,
                  "race": 4,
                  "test_prep": 0,
                  "gender_male": 1,
                  "total_score": 217,
                  "economic_status": 3
                },
                {
                  "index": 265,
                  "race": 4,
                  "test_prep": 0,
                  "gender_male": 1,
                  "total_score": 142,
                  "economic_status": 1
                },
                {
                  "index": 266,
                  "race": 3,
                  "test_prep": 0,
                  "gender_male": 0,
                  "total_score": 219,
                  "economic_status": 6
                },
                {
                  "index": 267,
                  "race": 4,
                  "test_prep": 0,
                  "gender_male": 0,
                  "total_score": 218,
                  "economic_status": 3
                },
                {
                  "index": 268,
                  "race": 4,
                  "test_prep": 1,
                  "gender_male": 0,
                  "total_score": 275,
                  "economic_status": 5
                },
                {
                  "index": 269,
                  "race": 5,
                  "test_prep": 0,
                  "gender_male": 0,
                  "total_score": 217,
                  "economic_status": 3
                },
                {
                  "index": 270,
                  "race": 3,
                  "test_prep": 0,
                  "gender_male": 1,
                  "total_score": 193,
                  "economic_status": 6
                },
                {
                  "index": 271,
                  "race": 3,
                  "test_prep": 0,
                  "gender_male": 1,
                  "total_score": 149,
                  "economic_status": 4
                },
                {
                  "index": 272,
                  "race": 4,
                  "test_prep": 0,
                  "gender_male": 0,
                  "total_score": 158,
                  "economic_status": 4
                },
                {
                  "index": 273,
                  "race": 4,
                  "test_prep": 0,
                  "gender_male": 0,
                  "total_score": 206,
                  "economic_status": 4
                },
                {
                  "index": 274,
                  "race": 2,
                  "test_prep": 1,
                  "gender_male": 1,
                  "total_score": 249,
                  "economic_status": 4
                },
                {
                  "index": 275,
                  "race": 3,
                  "test_prep": 0,
                  "gender_male": 1,
                  "total_score": 234,
                  "economic_status": 6
                },
                {
                  "index": 276,
                  "race": 3,
                  "test_prep": 1,
                  "gender_male": 0,
                  "total_score": 270,
                  "economic_status": 2
                },
                {
                  "index": 277,
                  "race": 5,
                  "test_prep": 1,
                  "gender_male": 0,
                  "total_score": 197,
                  "economic_status": 3
                },
                {
                  "index": 278,
                  "race": 3,
                  "test_prep": 0,
                  "gender_male": 0,
                  "total_score": 231,
                  "economic_status": 1
                },
                {
                  "index": 279,
                  "race": 2,
                  "test_prep": 0,
                  "gender_male": 1,
                  "total_score": 186,
                  "economic_status": 5
                },
                {
                  "index": 280,
                  "race": 4,
                  "test_prep": 0,
                  "gender_male": 1,
                  "total_score": 147,
                  "economic_status": 3
                },
                {
                  "index": 281,
                  "race": 4,
                  "test_prep": 0,
                  "gender_male": 1,
                  "total_score": 139,
                  "economic_status": 3
                },
                {
                  "index": 282,
                  "race": 4,
                  "test_prep": 0,
                  "gender_male": 0,
                  "total_score": 236,
                  "economic_status": 5
                },
                {
                  "index": 283,
                  "race": 4,
                  "test_prep": 1,
                  "gender_male": 0,
                  "total_score": 226,
                  "economic_status": 3
                },
                {
                  "index": 284,
                  "race": 2,
                  "test_prep": 0,
                  "gender_male": 0,
                  "total_score": 129,
                  "economic_status": 2
                },
                {
                  "index": 285,
                  "race": 2,
                  "test_prep": 1,
                  "gender_male": 1,
                  "total_score": 245,
                  "economic_status": 5
                },
                {
                  "index": 286,
                  "race": 5,
                  "test_prep": 1,
                  "gender_male": 1,
                  "total_score": 267,
                  "economic_status": 5
                },
                {
                  "index": 287,
                  "race": 2,
                  "test_prep": 0,
                  "gender_male": 0,
                  "total_score": 238,
                  "economic_status": 2
                },
                {
                  "index": 288,
                  "race": 2,
                  "test_prep": 0,
                  "gender_male": 1,
                  "total_score": 239,
                  "economic_status": 5
                },
                {
                  "index": 289,
                  "race": 5,
                  "test_prep": 1,
                  "gender_male": 1,
                  "total_score": 230,
                  "economic_status": 2
                },
                {
                  "index": 290,
                  "race": 3,
                  "test_prep": 0,
                  "gender_male": 1,
                  "total_score": 214,
                  "economic_status": 5
                },
                {
                  "index": 291,
                  "race": 4,
                  "test_prep": 0,
                  "gender_male": 1,
                  "total_score": 229,
                  "economic_status": 2
                },
                {
                  "index": 292,
                  "race": 3,
                  "test_prep": 1,
                  "gender_male": 1,
                  "total_score": 180,
                  "economic_status": 2
                },
                {
                  "index": 293,
                  "race": 5,
                  "test_prep": 0,
                  "gender_male": 0,
                  "total_score": 213,
                  "economic_status": 6
                },
                {
                  "index": 294,
                  "race": 4,
                  "test_prep": 1,
                  "gender_male": 1,
                  "total_score": 235,
                  "economic_status": 2
                },
                {
                  "index": 295,
                  "race": 2,
                  "test_prep": 0,
                  "gender_male": 1,
                  "total_score": 189,
                  "economic_status": 4
                },
                {
                  "index": 296,
                  "race": 1,
                  "test_prep": 1,
                  "gender_male": 1,
                  "total_score": 130,
                  "economic_status": 2
                },
                {
                  "index": 297,
                  "race": 5,
                  "test_prep": 1,
                  "gender_male": 1,
                  "total_score": 213,
                  "economic_status": 5
                },
                {
                  "index": 298,
                  "race": 3,
                  "test_prep": 1,
                  "gender_male": 1,
                  "total_score": 136,
                  "economic_status": 2
                },
                {
                  "index": 299,
                  "race": 4,
                  "test_prep": 0,
                  "gender_male": 1,
                  "total_score": 252,
                  "economic_status": 4
                },
                {
                  "index": 300,
                  "race": 1,
                  "test_prep": 1,
                  "gender_male": 1,
                  "total_score": 240,
                  "economic_status": 3
                },
                {
                  "index": 301,
                  "race": 4,
                  "test_prep": 0,
                  "gender_male": 1,
                  "total_score": 162,
                  "economic_status": 1
                },
                {
                  "index": 302,
                  "race": 3,
                  "test_prep": 1,
                  "gender_male": 0,
                  "total_score": 232,
                  "economic_status": 5
                },
                {
                  "index": 303,
                  "race": 2,
                  "test_prep": 0,
                  "gender_male": 1,
                  "total_score": 220,
                  "economic_status": 5
                },
                {
                  "index": 304,
                  "race": 3,
                  "test_prep": 1,
                  "gender_male": 0,
                  "total_score": 232,
                  "economic_status": 5
                },
                {
                  "index": 305,
                  "race": 1,
                  "test_prep": 0,
                  "gender_male": 1,
                  "total_score": 205,
                  "economic_status": 4
                },
                {
                  "index": 306,
                  "race": 5,
                  "test_prep": 1,
                  "gender_male": 1,
                  "total_score": 267,
                  "economic_status": 4
                },
                {
                  "index": 307,
                  "race": 3,
                  "test_prep": 0,
                  "gender_male": 1,
                  "total_score": 147,
                  "economic_status": 2
                },
                {
                  "index": 308,
                  "race": 2,
                  "test_prep": 0,
                  "gender_male": 0,
                  "total_score": 191,
                  "economic_status": 4
                },
                {
                  "index": 309,
                  "race": 4,
                  "test_prep": 0,
                  "gender_male": 0,
                  "total_score": 158,
                  "economic_status": 2
                },
                {
                  "index": 310,
                  "race": 2,
                  "test_prep": 0,
                  "gender_male": 0,
                  "total_score": 229,
                  "economic_status": 5
                },
                {
                  "index": 311,
                  "race": 2,
                  "test_prep": 0,
                  "gender_male": 1,
                  "total_score": 183,
                  "economic_status": 6
                },
                {
                  "index": 312,
                  "race": 4,
                  "test_prep": 1,
                  "gender_male": 1,
                  "total_score": 196,
                  "economic_status": 6
                },
                {
                  "index": 313,
                  "race": 3,
                  "test_prep": 1,
                  "gender_male": 0,
                  "total_score": 204,
                  "economic_status": 4
                },
                {
                  "index": 314,
                  "race": 3,
                  "test_prep": 1,
                  "gender_male": 0,
                  "total_score": 198,
                  "economic_status": 6
                },
                {
                  "index": 315,
                  "race": 3,
                  "test_prep": 0,
                  "gender_male": 1,
                  "total_score": 202,
                  "economic_status": 3
                },
                {
                  "index": 316,
                  "race": 4,
                  "test_prep": 1,
                  "gender_male": 0,
                  "total_score": 250,
                  "economic_status": 7
                },
                {
                  "index": 317,
                  "race": 3,
                  "test_prep": 0,
                  "gender_male": 1,
                  "total_score": 233,
                  "economic_status": 5
                },
                {
                  "index": 318,
                  "race": 2,
                  "test_prep": 0,
                  "gender_male": 1,
                  "total_score": 203,
                  "economic_status": 6
                },
                {
                  "index": 319,
                  "race": 4,
                  "test_prep": 0,
                  "gender_male": 0,
                  "total_score": 184,
                  "economic_status": 4
                },
                {
                  "index": 320,
                  "race": 3,
                  "test_prep": 1,
                  "gender_male": 0,
                  "total_score": 230,
                  "economic_status": 2
                },
                {
                  "index": 321,
                  "race": 5,
                  "test_prep": 0,
                  "gender_male": 0,
                  "total_score": 240,
                  "economic_status": 3
                },
                {
                  "index": 322,
                  "race": 3,
                  "test_prep": 0,
                  "gender_male": 0,
                  "total_score": 232,
                  "economic_status": 4
                },
                {
                  "index": 323,
                  "race": 3,
                  "test_prep": 0,
                  "gender_male": 0,
                  "total_score": 149,
                  "economic_status": 1
                },
                {
                  "index": 324,
                  "race": 3,
                  "test_prep": 0,
                  "gender_male": 0,
                  "total_score": 130,
                  "economic_status": 2
                },
                {
                  "index": 325,
                  "race": 3,
                  "test_prep": 0,
                  "gender_male": 0,
                  "total_score": 266,
                  "economic_status": 4
                },
                {
                  "index": 326,
                  "race": 3,
                  "test_prep": 0,
                  "gender_male": 1,
                  "total_score": 184,
                  "economic_status": 4
                },
                {
                  "index": 327,
                  "race": 1,
                  "test_prep": 0,
                  "gender_male": 1,
                  "total_score": 70,
                  "economic_status": 3
                },
                {
                  "index": 328,
                  "race": 3,
                  "test_prep": 1,
                  "gender_male": 1,
                  "total_score": 234,
                  "economic_status": 5
                },
                {
                  "index": 329,
                  "race": 2,
                  "test_prep": 0,
                  "gender_male": 0,
                  "total_score": 147,
                  "economic_status": 2
                },
                {
                  "index": 330,
                  "race": 3,
                  "test_prep": 0,
                  "gender_male": 1,
                  "total_score": 192,
                  "economic_status": 3
                },
                {
                  "index": 331,
                  "race": 3,
                  "test_prep": 0,
                  "gender_male": 1,
                  "total_score": 119,
                  "economic_status": 5
                },
                {
                  "index": 332,
                  "race": 5,
                  "test_prep": 1,
                  "gender_male": 1,
                  "total_score": 171,
                  "economic_status": 5
                },
                {
                  "index": 333,
                  "race": 2,
                  "test_prep": 0,
                  "gender_male": 1,
                  "total_score": 249,
                  "economic_status": 5
                },
                {
                  "index": 334,
                  "race": 3,
                  "test_prep": 0,
                  "gender_male": 0,
                  "total_score": 271,
                  "economic_status": 6
                },
                {
                  "index": 335,
                  "race": 2,
                  "test_prep": 0,
                  "gender_male": 0,
                  "total_score": 195,
                  "economic_status": 3
                },
                {
                  "index": 336,
                  "race": 4,
                  "test_prep": 1,
                  "gender_male": 1,
                  "total_score": 215,
                  "economic_status": 2
                },
                {
                  "index": 337,
                  "race": 3,
                  "test_prep": 0,
                  "gender_male": 1,
                  "total_score": 143,
                  "economic_status": 5
                },
                {
                  "index": 338,
                  "race": 2,
                  "test_prep": 0,
                  "gender_male": 0,
                  "total_score": 89,
                  "economic_status": 1
                },
                {
                  "index": 339,
                  "race": 4,
                  "test_prep": 1,
                  "gender_male": 0,
                  "total_score": 150,
                  "economic_status": 1
                },
                {
                  "index": 340,
                  "race": 3,
                  "test_prep": 0,
                  "gender_male": 1,
                  "total_score": 171,
                  "economic_status": 2
                },
                {
                  "index": 341,
                  "race": 3,
                  "test_prep": 0,
                  "gender_male": 0,
                  "total_score": 197,
                  "economic_status": 3
                },
                {
                  "index": 342,
                  "race": 2,
                  "test_prep": 1,
                  "gender_male": 0,
                  "total_score": 219,
                  "economic_status": 3
                },
                {
                  "index": 343,
                  "race": 4,
                  "test_prep": 1,
                  "gender_male": 1,
                  "total_score": 206,
                  "economic_status": 5
                },
                {
                  "index": 344,
                  "race": 4,
                  "test_prep": 0,
                  "gender_male": 1,
                  "total_score": 219,
                  "economic_status": 4
                },
                {
                  "index": 345,
                  "race": 3,
                  "test_prep": 0,
                  "gender_male": 0,
                  "total_score": 227,
                  "economic_status": 3
                },
                {
                  "index": 346,
                  "race": 2,
                  "test_prep": 0,
                  "gender_male": 1,
                  "total_score": 180,
                  "economic_status": 4
                },
                {
                  "index": 347,
                  "race": 3,
                  "test_prep": 1,
                  "gender_male": 0,
                  "total_score": 266,
                  "economic_status": 6
                },
                {
                  "index": 348,
                  "race": 4,
                  "test_prep": 0,
                  "gender_male": 1,
                  "total_score": 215,
                  "economic_status": 2
                },
                {
                  "index": 349,
                  "race": 5,
                  "test_prep": 0,
                  "gender_male": 1,
                  "total_score": 237,
                  "economic_status": 5
                },
                {
                  "index": 350,
                  "race": 2,
                  "test_prep": 0,
                  "gender_male": 0,
                  "total_score": 186,
                  "economic_status": 6
                },
                {
                  "index": 351,
                  "race": 5,
                  "test_prep": 0,
                  "gender_male": 1,
                  "total_score": 175,
                  "economic_status": 4
                },
                {
                  "index": 352,
                  "race": 3,
                  "test_prep": 1,
                  "gender_male": 0,
                  "total_score": 221,
                  "economic_status": 4
                },
                {
                  "index": 353,
                  "race": 3,
                  "test_prep": 0,
                  "gender_male": 0,
                  "total_score": 161,
                  "economic_status": 5
                },
                {
                  "index": 354,
                  "race": 3,
                  "test_prep": 0,
                  "gender_male": 0,
                  "total_score": 200,
                  "economic_status": 4
                },
                {
                  "index": 355,
                  "race": 2,
                  "test_prep": 0,
                  "gender_male": 0,
                  "total_score": 203,
                  "economic_status": 6
                },
                {
                  "index": 356,
                  "race": 1,
                  "test_prep": 0,
                  "gender_male": 1,
                  "total_score": 185,
                  "economic_status": 5
                },
                {
                  "index": 357,
                  "race": 3,
                  "test_prep": 1,
                  "gender_male": 0,
                  "total_score": 177,
                  "economic_status": 3
                },
                {
                  "index": 358,
                  "race": 4,
                  "test_prep": 0,
                  "gender_male": 1,
                  "total_score": 182,
                  "economic_status": 3
                },
                {
                  "index": 359,
                  "race": 4,
                  "test_prep": 0,
                  "gender_male": 0,
                  "total_score": 259,
                  "economic_status": 4
                },
                {
                  "index": 360,
                  "race": 2,
                  "test_prep": 0,
                  "gender_male": 0,
                  "total_score": 179,
                  "economic_status": 3
                },
                {
                  "index": 361,
                  "race": 2,
                  "test_prep": 1,
                  "gender_male": 1,
                  "total_score": 247,
                  "economic_status": 2
                },
                {
                  "index": 362,
                  "race": 3,
                  "test_prep": 0,
                  "gender_male": 0,
                  "total_score": 168,
                  "economic_status": 4
                },
                {
                  "index": 363,
                  "race": 4,
                  "test_prep": 0,
                  "gender_male": 0,
                  "total_score": 93,
                  "economic_status": 1
                },
                {
                  "index": 364,
                  "race": 3,
                  "test_prep": 0,
                  "gender_male": 1,
                  "total_score": 177,
                  "economic_status": 4
                },
                {
                  "index": 365,
                  "race": 1,
                  "test_prep": 1,
                  "gender_male": 1,
                  "total_score": 167,
                  "economic_status": 5
                },
                {
                  "index": 366,
                  "race": 3,
                  "test_prep": 1,
                  "gender_male": 1,
                  "total_score": 180,
                  "economic_status": 3
                },
                {
                  "index": 367,
                  "race": 3,
                  "test_prep": 0,
                  "gender_male": 1,
                  "total_score": 188,
                  "economic_status": 5
                },
                {
                  "index": 368,
                  "race": 1,
                  "test_prep": 0,
                  "gender_male": 0,
                  "total_score": 166,
                  "economic_status": 1
                },
                {
                  "index": 369,
                  "race": 4,
                  "test_prep": 0,
                  "gender_male": 0,
                  "total_score": 242,
                  "economic_status": 2
                },
                {
                  "index": 370,
                  "race": 5,
                  "test_prep": 0,
                  "gender_male": 1,
                  "total_score": 232,
                  "economic_status": 4
                },
                {
                  "index": 371,
                  "race": 3,
                  "test_prep": 1,
                  "gender_male": 0,
                  "total_score": 188,
                  "economic_status": 3
                },
                {
                  "index": 372,
                  "race": 4,
                  "test_prep": 0,
                  "gender_male": 1,
                  "total_score": 220,
                  "economic_status": 2
                },
                {
                  "index": 373,
                  "race": 4,
                  "test_prep": 1,
                  "gender_male": 0,
                  "total_score": 275,
                  "economic_status": 4
                },
                {
                  "index": 374,
                  "race": 4,
                  "test_prep": 0,
                  "gender_male": 0,
                  "total_score": 202,
                  "economic_status": 6
                },
                {
                  "index": 375,
                  "race": 5,
                  "test_prep": 0,
                  "gender_male": 1,
                  "total_score": 130,
                  "economic_status": 4
                },
                {
                  "index": 376,
                  "race": 4,
                  "test_prep": 0,
                  "gender_male": 0,
                  "total_score": 252,
                  "economic_status": 2
                },
                {
                  "index": 377,
                  "race": 4,
                  "test_prep": 1,
                  "gender_male": 0,
                  "total_score": 280,
                  "economic_status": 6
                },
                {
                  "index": 378,
                  "race": 1,
                  "test_prep": 0,
                  "gender_male": 0,
                  "total_score": 231,
                  "economic_status": 2
                },
                {
                  "index": 379,
                  "race": 1,
                  "test_prep": 0,
                  "gender_male": 1,
                  "total_score": 192,
                  "economic_status": 6
                },
                {
                  "index": 380,
                  "race": 2,
                  "test_prep": 0,
                  "gender_male": 0,
                  "total_score": 249,
                  "economic_status": 5
                },
                {
                  "index": 381,
                  "race": 3,
                  "test_prep": 1,
                  "gender_male": 1,
                  "total_score": 282,
                  "economic_status": 5
                },
                {
                  "index": 382,
                  "race": 3,
                  "test_prep": 0,
                  "gender_male": 1,
                  "total_score": 231,
                  "economic_status": 6
                },
                {
                  "index": 383,
                  "race": 5,
                  "test_prep": 0,
                  "gender_male": 0,
                  "total_score": 132,
                  "economic_status": 1
                },
                {
                  "index": 384,
                  "race": 1,
                  "test_prep": 0,
                  "gender_male": 0,
                  "total_score": 124,
                  "economic_status": 1
                },
                {
                  "index": 385,
                  "race": 5,
                  "test_prep": 0,
                  "gender_male": 0,
                  "total_score": 218,
                  "economic_status": 4
                },
                {
                  "index": 386,
                  "race": 5,
                  "test_prep": 0,
                  "gender_male": 0,
                  "total_score": 207,
                  "economic_status": 6
                },
                {
                  "index": 387,
                  "race": 3,
                  "test_prep": 0,
                  "gender_male": 0,
                  "total_score": 202,
                  "economic_status": 4
                },
                {
                  "index": 388,
                  "race": 4,
                  "test_prep": 0,
                  "gender_male": 0,
                  "total_score": 190,
                  "economic_status": 3
                },
                {
                  "index": 389,
                  "race": 4,
                  "test_prep": 0,
                  "gender_male": 1,
                  "total_score": 218,
                  "economic_status": 7
                },
                {
                  "index": 390,
                  "race": 5,
                  "test_prep": 1,
                  "gender_male": 1,
                  "total_score": 199,
                  "economic_status": 1
                },
                {
                  "index": 391,
                  "race": 4,
                  "test_prep": 0,
                  "gender_male": 0,
                  "total_score": 222,
                  "economic_status": 4
                },
                {
                  "index": 392,
                  "race": 5,
                  "test_prep": 0,
                  "gender_male": 1,
                  "total_score": 210,
                  "economic_status": 4
                },
                {
                  "index": 393,
                  "race": 3,
                  "test_prep": 1,
                  "gender_male": 1,
                  "total_score": 167,
                  "economic_status": 5
                },
                {
                  "index": 394,
                  "race": 3,
                  "test_prep": 1,
                  "gender_male": 0,
                  "total_score": 216,
                  "economic_status": 2
                },
                {
                  "index": 395,
                  "race": 1,
                  "test_prep": 0,
                  "gender_male": 1,
                  "total_score": 134,
                  "economic_status": 2
                },
                {
                  "index": 396,
                  "race": 2,
                  "test_prep": 0,
                  "gender_male": 0,
                  "total_score": 180,
                  "economic_status": 2
                },
                {
                  "index": 397,
                  "race": 3,
                  "test_prep": 0,
                  "gender_male": 0,
                  "total_score": 269,
                  "economic_status": 5
                },
                {
                  "index": 398,
                  "race": 2,
                  "test_prep": 0,
                  "gender_male": 1,
                  "total_score": 194,
                  "economic_status": 2
                },
                {
                  "index": 399,
                  "race": 4,
                  "test_prep": 0,
                  "gender_male": 1,
                  "total_score": 173,
                  "economic_status": 2
                },
                {
                  "index": 400,
                  "race": 3,
                  "test_prep": 1,
                  "gender_male": 0,
                  "total_score": 180,
                  "economic_status": 2
                },
                {
                  "index": 401,
                  "race": 1,
                  "test_prep": 0,
                  "gender_male": 1,
                  "total_score": 139,
                  "economic_status": 4
                },
                {
                  "index": 402,
                  "race": 1,
                  "test_prep": 0,
                  "gender_male": 0,
                  "total_score": 169,
                  "economic_status": 3
                },
                {
                  "index": 403,
                  "race": 4,
                  "test_prep": 1,
                  "gender_male": 0,
                  "total_score": 287,
                  "economic_status": 3
                },
                {
                  "index": 404,
                  "race": 3,
                  "test_prep": 0,
                  "gender_male": 0,
                  "total_score": 175,
                  "economic_status": 3
                },
                {
                  "index": 405,
                  "race": 3,
                  "test_prep": 0,
                  "gender_male": 0,
                  "total_score": 204,
                  "economic_status": 2
                },
                {
                  "index": 406,
                  "race": 2,
                  "test_prep": 1,
                  "gender_male": 1,
                  "total_score": 193,
                  "economic_status": 5
                },
                {
                  "index": 407,
                  "race": 2,
                  "test_prep": 0,
                  "gender_male": 0,
                  "total_score": 239,
                  "economic_status": 5
                },
                {
                  "index": 408,
                  "race": 4,
                  "test_prep": 1,
                  "gender_male": 0,
                  "total_score": 165,
                  "economic_status": 2
                },
                {
                  "index": 409,
                  "race": 4,
                  "test_prep": 1,
                  "gender_male": 1,
                  "total_score": 256,
                  "economic_status": 5
                },
                {
                  "index": 410,
                  "race": 4,
                  "test_prep": 1,
                  "gender_male": 0,
                  "total_score": 215,
                  "economic_status": 7
                },
                {
                  "index": 411,
                  "race": 5,
                  "test_prep": 1,
                  "gender_male": 1,
                  "total_score": 245,
                  "economic_status": 4
                },
                {
                  "index": 412,
                  "race": 4,
                  "test_prep": 0,
                  "gender_male": 1,
                  "total_score": 197,
                  "economic_status": 5
                },
                {
                  "index": 413,
                  "race": 2,
                  "test_prep": 1,
                  "gender_male": 1,
                  "total_score": 197,
                  "economic_status": 2
                },
                {
                  "index": 414,
                  "race": 3,
                  "test_prep": 1,
                  "gender_male": 0,
                  "total_score": 202,
                  "economic_status": 5
                },
                {
                  "index": 415,
                  "race": 5,
                  "test_prep": 0,
                  "gender_male": 1,
                  "total_score": 226,
                  "economic_status": 3
                },
                {
                  "index": 416,
                  "race": 3,
                  "test_prep": 1,
                  "gender_male": 1,
                  "total_score": 213,
                  "economic_status": 6
                },
                {
                  "index": 417,
                  "race": 3,
                  "test_prep": 0,
                  "gender_male": 1,
                  "total_score": 214,
                  "economic_status": 5
                },
                {
                  "index": 418,
                  "race": 4,
                  "test_prep": 0,
                  "gender_male": 1,
                  "total_score": 189,
                  "economic_status": 4
                },
                {
                  "index": 419,
                  "race": 5,
                  "test_prep": 1,
                  "gender_male": 1,
                  "total_score": 167,
                  "economic_status": 2
                },
                {
                  "index": 420,
                  "race": 3,
                  "test_prep": 1,
                  "gender_male": 0,
                  "total_score": 268,
                  "economic_status": 4
                },
                {
                  "index": 421,
                  "race": 4,
                  "test_prep": 1,
                  "gender_male": 0,
                  "total_score": 179,
                  "economic_status": 3
                },
                {
                  "index": 422,
                  "race": 4,
                  "test_prep": 1,
                  "gender_male": 0,
                  "total_score": 172,
                  "economic_status": 6
                },
                {
                  "index": 423,
                  "race": 1,
                  "test_prep": 1,
                  "gender_male": 0,
                  "total_score": 224,
                  "economic_status": 2
                },
                {
                  "index": 424,
                  "race": 2,
                  "test_prep": 0,
                  "gender_male": 1,
                  "total_score": 114,
                  "economic_status": 3
                },
                {
                  "index": 425,
                  "race": 3,
                  "test_prep": 0,
                  "gender_male": 0,
                  "total_score": 191,
                  "economic_status": 3
                },
                {
                  "index": 426,
                  "race": 3,
                  "test_prep": 0,
                  "gender_male": 1,
                  "total_score": 255,
                  "economic_status": 6
                },
                {
                  "index": 427,
                  "race": 3,
                  "test_prep": 0,
                  "gender_male": 1,
                  "total_score": 205,
                  "economic_status": 1
                },
                {
                  "index": 428,
                  "race": 1,
                  "test_prep": 0,
                  "gender_male": 1,
                  "total_score": 177,
                  "economic_status": 1
                },
                {
                  "index": 429,
                  "race": 3,
                  "test_prep": 0,
                  "gender_male": 1,
                  "total_score": 185,
                  "economic_status": 1
                },
                {
                  "index": 430,
                  "race": 3,
                  "test_prep": 0,
                  "gender_male": 1,
                  "total_score": 189,
                  "economic_status": 4
                },
                {
                  "index": 431,
                  "race": 3,
                  "test_prep": 0,
                  "gender_male": 0,
                  "total_score": 203,
                  "economic_status": 3
                },
                {
                  "index": 432,
                  "race": 3,
                  "test_prep": 0,
                  "gender_male": 1,
                  "total_score": 172,
                  "economic_status": 3
                },
                {
                  "index": 433,
                  "race": 1,
                  "test_prep": 0,
                  "gender_male": 0,
                  "total_score": 156,
                  "economic_status": 1
                },
                {
                  "index": 434,
                  "race": 3,
                  "test_prep": 0,
                  "gender_male": 1,
                  "total_score": 205,
                  "economic_status": 2
                },
                {
                  "index": 435,
                  "race": 3,
                  "test_prep": 1,
                  "gender_male": 1,
                  "total_score": 151,
                  "economic_status": 3
                },
                {
                  "index": 436,
                  "race": 4,
                  "test_prep": 0,
                  "gender_male": 1,
                  "total_score": 207,
                  "economic_status": 5
                },
                {
                  "index": 437,
                  "race": 4,
                  "test_prep": 0,
                  "gender_male": 1,
                  "total_score": 214,
                  "economic_status": 4
                },
                {
                  "index": 438,
                  "race": 3,
                  "test_prep": 0,
                  "gender_male": 1,
                  "total_score": 177,
                  "economic_status": 3
                },
                {
                  "index": 439,
                  "race": 4,
                  "test_prep": 1,
                  "gender_male": 1,
                  "total_score": 259,
                  "economic_status": 2
                },
                {
                  "index": 440,
                  "race": 3,
                  "test_prep": 1,
                  "gender_male": 0,
                  "total_score": 227,
                  "economic_status": 4
                },
                {
                  "index": 441,
                  "race": 4,
                  "test_prep": 0,
                  "gender_male": 0,
                  "total_score": 239,
                  "economic_status": 3
                },
                {
                  "index": 442,
                  "race": 1,
                  "test_prep": 0,
                  "gender_male": 0,
                  "total_score": 201,
                  "economic_status": 1
                },
                {
                  "index": 443,
                  "race": 2,
                  "test_prep": 0,
                  "gender_male": 0,
                  "total_score": 232,
                  "economic_status": 5
                },
                {
                  "index": 444,
                  "race": 1,
                  "test_prep": 0,
                  "gender_male": 1,
                  "total_score": 234,
                  "economic_status": 1
                },
                {
                  "index": 445,
                  "race": 3,
                  "test_prep": 1,
                  "gender_male": 0,
                  "total_score": 218,
                  "economic_status": 2
                },
                {
                  "index": 446,
                  "race": 4,
                  "test_prep": 0,
                  "gender_male": 1,
                  "total_score": 195,
                  "economic_status": 3
                },
                {
                  "index": 447,
                  "race": 3,
                  "test_prep": 1,
                  "gender_male": 1,
                  "total_score": 247,
                  "economic_status": 3
                },
                {
                  "index": 448,
                  "race": 2,
                  "test_prep": 0,
                  "gender_male": 1,
                  "total_score": 135,
                  "economic_status": 3
                },
                {
                  "index": 449,
                  "race": 2,
                  "test_prep": 0,
                  "gender_male": 1,
                  "total_score": 226,
                  "economic_status": 5
                },
                {
                  "index": 450,
                  "race": 3,
                  "test_prep": 1,
                  "gender_male": 0,
                  "total_score": 234,
                  "economic_status": 3
                },
                {
                  "index": 451,
                  "race": 5,
                  "test_prep": 0,
                  "gender_male": 0,
                  "total_score": 289,
                  "economic_status": 4
                },
                {
                  "index": 452,
                  "race": 3,
                  "test_prep": 0,
                  "gender_male": 0,
                  "total_score": 216,
                  "economic_status": 4
                },
                {
                  "index": 453,
                  "race": 3,
                  "test_prep": 0,
                  "gender_male": 1,
                  "total_score": 172,
                  "economic_status": 3
                },
                {
                  "index": 454,
                  "race": 3,
                  "test_prep": 0,
                  "gender_male": 0,
                  "total_score": 176,
                  "economic_status": 4
                },
                {
                  "index": 455,
                  "race": 3,
                  "test_prep": 0,
                  "gender_male": 1,
                  "total_score": 140,
                  "economic_status": 5
                },
                {
                  "index": 456,
                  "race": 4,
                  "test_prep": 0,
                  "gender_male": 0,
                  "total_score": 257,
                  "economic_status": 6
                },
                {
                  "index": 457,
                  "race": 4,
                  "test_prep": 0,
                  "gender_male": 1,
                  "total_score": 155,
                  "economic_status": 4
                },
                {
                  "index": 458,
                  "race": 5,
                  "test_prep": 0,
                  "gender_male": 0,
                  "total_score": 300,
                  "economic_status": 6
                },
                {
                  "index": 459,
                  "race": 2,
                  "test_prep": 1,
                  "gender_male": 1,
                  "total_score": 205,
                  "economic_status": 3
                },
                {
                  "index": 460,
                  "race": 3,
                  "test_prep": 0,
                  "gender_male": 1,
                  "total_score": 166,
                  "economic_status": 5
                },
                {
                  "index": 461,
                  "race": 2,
                  "test_prep": 0,
                  "gender_male": 1,
                  "total_score": 153,
                  "economic_status": 3
                },
                {
                  "index": 462,
                  "race": 5,
                  "test_prep": 0,
                  "gender_male": 0,
                  "total_score": 217,
                  "economic_status": 4
                },
                {
                  "index": 463,
                  "race": 3,
                  "test_prep": 0,
                  "gender_male": 0,
                  "total_score": 258,
                  "economic_status": 3
                },
                {
                  "index": 464,
                  "race": 1,
                  "test_prep": 1,
                  "gender_male": 1,
                  "total_score": 195,
                  "economic_status": 6
                },
                {
                  "index": 465,
                  "race": 3,
                  "test_prep": 0,
                  "gender_male": 0,
                  "total_score": 262,
                  "economic_status": 4
                },
                {
                  "index": 466,
                  "race": 4,
                  "test_prep": 0,
                  "gender_male": 0,
                  "total_score": 95,
                  "economic_status": 4
                },
                {
                  "index": 467,
                  "race": 1,
                  "test_prep": 1,
                  "gender_male": 1,
                  "total_score": 204,
                  "economic_status": 2
                },
                {
                  "index": 468,
                  "race": 1,
                  "test_prep": 1,
                  "gender_male": 0,
                  "total_score": 250,
                  "economic_status": 2
                },
                {
                  "index": 469,
                  "race": 3,
                  "test_prep": 0,
                  "gender_male": 1,
                  "total_score": 241,
                  "economic_status": 4
                },
                {
                  "index": 470,
                  "race": 3,
                  "test_prep": 1,
                  "gender_male": 0,
                  "total_score": 258,
                  "economic_status": 5
                },
                {
                  "index": 471,
                  "race": 3,
                  "test_prep": 0,
                  "gender_male": 0,
                  "total_score": 206,
                  "economic_status": 3
                },
                {
                  "index": 472,
                  "race": 3,
                  "test_prep": 1,
                  "gender_male": 0,
                  "total_score": 238,
                  "economic_status": 5
                },
                {
                  "index": 473,
                  "race": 4,
                  "test_prep": 0,
                  "gender_male": 0,
                  "total_score": 187,
                  "economic_status": 2
                },
                {
                  "index": 474,
                  "race": 2,
                  "test_prep": 1,
                  "gender_male": 0,
                  "total_score": 271,
                  "economic_status": 5
                },
                {
                  "index": 475,
                  "race": 4,
                  "test_prep": 1,
                  "gender_male": 0,
                  "total_score": 230,
                  "economic_status": 6
                },
                {
                  "index": 476,
                  "race": 5,
                  "test_prep": 1,
                  "gender_male": 1,
                  "total_score": 204,
                  "economic_status": 6
                },
                {
                  "index": 477,
                  "race": 4,
                  "test_prep": 0,
                  "gender_male": 1,
                  "total_score": 220,
                  "economic_status": 5
                },
                {
                  "index": 478,
                  "race": 4,
                  "test_prep": 0,
                  "gender_male": 0,
                  "total_score": 189,
                  "economic_status": 7
                },
                {
                  "index": 479,
                  "race": 5,
                  "test_prep": 0,
                  "gender_male": 1,
                  "total_score": 214,
                  "economic_status": 5
                },
                {
                  "index": 480,
                  "race": 2,
                  "test_prep": 1,
                  "gender_male": 1,
                  "total_score": 212,
                  "economic_status": 3
                },
                {
                  "index": 481,
                  "race": 4,
                  "test_prep": 0,
                  "gender_male": 0,
                  "total_score": 167,
                  "economic_status": 4
                },
                {
                  "index": 482,
                  "race": 3,
                  "test_prep": 0,
                  "gender_male": 1,
                  "total_score": 197,
                  "economic_status": 3
                },
                {
                  "index": 483,
                  "race": 1,
                  "test_prep": 0,
                  "gender_male": 1,
                  "total_score": 157,
                  "economic_status": 3
                },
                {
                  "index": 484,
                  "race": 2,
                  "test_prep": 0,
                  "gender_male": 0,
                  "total_score": 155,
                  "economic_status": 5
                },
                {
                  "index": 485,
                  "race": 3,
                  "test_prep": 0,
                  "gender_male": 1,
                  "total_score": 215,
                  "economic_status": 3
                },
                {
                  "index": 486,
                  "race": 4,
                  "test_prep": 0,
                  "gender_male": 1,
                  "total_score": 164,
                  "economic_status": 3
                },
                {
                  "index": 487,
                  "race": 3,
                  "test_prep": 0,
                  "gender_male": 0,
                  "total_score": 209,
                  "economic_status": 4
                },
                {
                  "index": 488,
                  "race": 2,
                  "test_prep": 1,
                  "gender_male": 1,
                  "total_score": 174,
                  "economic_status": 2
                },
                {
                  "index": 489,
                  "race": 1,
                  "test_prep": 1,
                  "gender_male": 1,
                  "total_score": 243,
                  "economic_status": 4
                },
                {
                  "index": 490,
                  "race": 1,
                  "test_prep": 0,
                  "gender_male": 0,
                  "total_score": 226,
                  "economic_status": 4
                },
                {
                  "index": 491,
                  "race": 3,
                  "test_prep": 0,
                  "gender_male": 0,
                  "total_score": 198,
                  "economic_status": 5
                },
                {
                  "index": 492,
                  "race": 3,
                  "test_prep": 0,
                  "gender_male": 0,
                  "total_score": 256,
                  "economic_status": 4
                },
                {
                  "index": 493,
                  "race": 3,
                  "test_prep": 0,
                  "gender_male": 0,
                  "total_score": 259,
                  "economic_status": 6
                },
                {
                  "index": 494,
                  "race": 2,
                  "test_prep": 0,
                  "gender_male": 0,
                  "total_score": 186,
                  "economic_status": 3
                },
                {
                  "index": 495,
                  "race": 4,
                  "test_prep": 1,
                  "gender_male": 1,
                  "total_score": 198,
                  "economic_status": 3
                },
                {
                  "index": 496,
                  "race": 3,
                  "test_prep": 0,
                  "gender_male": 0,
                  "total_score": 154,
                  "economic_status": 4
                },
                {
                  "index": 497,
                  "race": 4,
                  "test_prep": 1,
                  "gender_male": 0,
                  "total_score": 213,
                  "economic_status": 3
                },
                {
                  "index": 498,
                  "race": 2,
                  "test_prep": 0,
                  "gender_male": 0,
                  "total_score": 203,
                  "economic_status": 2
                },
                {
                  "index": 499,
                  "race": 5,
                  "test_prep": 0,
                  "gender_male": 1,
                  "total_score": 219,
                  "economic_status": 4
                },
                {
                  "index": 500,
                  "race": 4,
                  "test_prep": 0,
                  "gender_male": 0,
                  "total_score": 235,
                  "economic_status": 7
                },
                {
                  "index": 501,
                  "race": 2,
                  "test_prep": 1,
                  "gender_male": 0,
                  "total_score": 273,
                  "economic_status": 5
                },
                {
                  "index": 502,
                  "race": 3,
                  "test_prep": 0,
                  "gender_male": 1,
                  "total_score": 178,
                  "economic_status": 3
                },
                {
                  "index": 503,
                  "race": 5,
                  "test_prep": 1,
                  "gender_male": 0,
                  "total_score": 276,
                  "economic_status": 5
                },
                {
                  "index": 504,
                  "race": 4,
                  "test_prep": 0,
                  "gender_male": 0,
                  "total_score": 153,
                  "economic_status": 6
                },
                {
                  "index": 505,
                  "race": 2,
                  "test_prep": 0,
                  "gender_male": 0,
                  "total_score": 244,
                  "economic_status": 2
                },
                {
                  "index": 506,
                  "race": 1,
                  "test_prep": 0,
                  "gender_male": 1,
                  "total_score": 204,
                  "economic_status": 3
                },
                {
                  "index": 507,
                  "race": 2,
                  "test_prep": 0,
                  "gender_male": 1,
                  "total_score": 168,
                  "economic_status": 5
                },
                {
                  "index": 508,
                  "race": 3,
                  "test_prep": 0,
                  "gender_male": 1,
                  "total_score": 234,
                  "economic_status": 7
                },
                {
                  "index": 509,
                  "race": 3,
                  "test_prep": 0,
                  "gender_male": 0,
                  "total_score": 265,
                  "economic_status": 6
                },
                {
                  "index": 510,
                  "race": 4,
                  "test_prep": 0,
                  "gender_male": 1,
                  "total_score": 220,
                  "economic_status": 4
                },
                {
                  "index": 511,
                  "race": 1,
                  "test_prep": 0,
                  "gender_male": 1,
                  "total_score": 157,
                  "economic_status": 2
                },
                {
                  "index": 512,
                  "race": 4,
                  "test_prep": 0,
                  "gender_male": 1,
                  "total_score": 163,
                  "economic_status": 1
                },
                {
                  "index": 513,
                  "race": 2,
                  "test_prep": 1,
                  "gender_male": 0,
                  "total_score": 177,
                  "economic_status": 2
                },
                {
                  "index": 514,
                  "race": 2,
                  "test_prep": 1,
                  "gender_male": 0,
                  "total_score": 268,
                  "economic_status": 6
                },
                {
                  "index": 515,
                  "race": 3,
                  "test_prep": 1,
                  "gender_male": 0,
                  "total_score": 248,
                  "economic_status": 2
                },
                {
                  "index": 516,
                  "race": 4,
                  "test_prep": 0,
                  "gender_male": 0,
                  "total_score": 247,
                  "economic_status": 4
                },
                {
                  "index": 517,
                  "race": 5,
                  "test_prep": 1,
                  "gender_male": 0,
                  "total_score": 213,
                  "economic_status": 4
                },
                {
                  "index": 518,
                  "race": 4,
                  "test_prep": 1,
                  "gender_male": 0,
                  "total_score": 222,
                  "economic_status": 2
                },
                {
                  "index": 519,
                  "race": 2,
                  "test_prep": 1,
                  "gender_male": 0,
                  "total_score": 224,
                  "economic_status": 2
                },
                {
                  "index": 520,
                  "race": 4,
                  "test_prep": 0,
                  "gender_male": 1,
                  "total_score": 172,
                  "economic_status": 4
                },
                {
                  "index": 521,
                  "race": 3,
                  "test_prep": 0,
                  "gender_male": 0,
                  "total_score": 261,
                  "economic_status": 5
                },
                {
                  "index": 522,
                  "race": 4,
                  "test_prep": 0,
                  "gender_male": 1,
                  "total_score": 184,
                  "economic_status": 6
                },
                {
                  "index": 523,
                  "race": 3,
                  "test_prep": 0,
                  "gender_male": 1,
                  "total_score": 163,
                  "economic_status": 6
                },
                {
                  "index": 524,
                  "race": 3,
                  "test_prep": 1,
                  "gender_male": 1,
                  "total_score": 154,
                  "economic_status": 3
                },
                {
                  "index": 525,
                  "race": 5,
                  "test_prep": 0,
                  "gender_male": 1,
                  "total_score": 187,
                  "economic_status": 4
                },
                {
                  "index": 526,
                  "race": 3,
                  "test_prep": 1,
                  "gender_male": 1,
                  "total_score": 177,
                  "economic_status": 1
                },
                {
                  "index": 527,
                  "race": 3,
                  "test_prep": 0,
                  "gender_male": 0,
                  "total_score": 132,
                  "economic_status": 2
                },
                {
                  "index": 528,
                  "race": 4,
                  "test_prep": 0,
                  "gender_male": 0,
                  "total_score": 117,
                  "economic_status": 5
                },
                {
                  "index": 529,
                  "race": 3,
                  "test_prep": 0,
                  "gender_male": 0,
                  "total_score": 206,
                  "economic_status": 5
                },
                {
                  "index": 530,
                  "race": 3,
                  "test_prep": 1,
                  "gender_male": 0,
                  "total_score": 208,
                  "economic_status": 5
                },
                {
                  "index": 531,
                  "race": 3,
                  "test_prep": 0,
                  "gender_male": 0,
                  "total_score": 154,
                  "economic_status": 2
                },
                {
                  "index": 532,
                  "race": 5,
                  "test_prep": 1,
                  "gender_male": 1,
                  "total_score": 181,
                  "economic_status": 5
                },
                {
                  "index": 533,
                  "race": 5,
                  "test_prep": 1,
                  "gender_male": 0,
                  "total_score": 261,
                  "economic_status": 5
                },
                {
                  "index": 534,
                  "race": 2,
                  "test_prep": 1,
                  "gender_male": 1,
                  "total_score": 210,
                  "economic_status": 3
                },
                {
                  "index": 535,
                  "race": 3,
                  "test_prep": 1,
                  "gender_male": 0,
                  "total_score": 232,
                  "economic_status": 5
                },
                {
                  "index": 536,
                  "race": 3,
                  "test_prep": 1,
                  "gender_male": 1,
                  "total_score": 169,
                  "economic_status": 5
                },
                {
                  "index": 537,
                  "race": 4,
                  "test_prep": 0,
                  "gender_male": 0,
                  "total_score": 179,
                  "economic_status": 3
                },
                {
                  "index": 538,
                  "race": 5,
                  "test_prep": 1,
                  "gender_male": 1,
                  "total_score": 222,
                  "economic_status": 6
                },
                {
                  "index": 539,
                  "race": 1,
                  "test_prep": 1,
                  "gender_male": 1,
                  "total_score": 275,
                  "economic_status": 5
                },
                {
                  "index": 540,
                  "race": 3,
                  "test_prep": 1,
                  "gender_male": 1,
                  "total_score": 212,
                  "economic_status": 3
                },
                {
                  "index": 541,
                  "race": 4,
                  "test_prep": 1,
                  "gender_male": 1,
                  "total_score": 241,
                  "economic_status": 4
                },
                {
                  "index": 542,
                  "race": 3,
                  "test_prep": 0,
                  "gender_male": 0,
                  "total_score": 237,
                  "economic_status": 5
                },
                {
                  "index": 543,
                  "race": 4,
                  "test_prep": 0,
                  "gender_male": 0,
                  "total_score": 266,
                  "economic_status": 5
                },
                {
                  "index": 544,
                  "race": 4,
                  "test_prep": 0,
                  "gender_male": 0,
                  "total_score": 193,
                  "economic_status": 7
                },
                {
                  "index": 545,
                  "race": 5,
                  "test_prep": 1,
                  "gender_male": 1,
                  "total_score": 241,
                  "economic_status": 1
                },
                {
                  "index": 546,
                  "race": 1,
                  "test_prep": 1,
                  "gender_male": 0,
                  "total_score": 289,
                  "economic_status": 2
                },
                {
                  "index": 547,
                  "race": 3,
                  "test_prep": 1,
                  "gender_male": 1,
                  "total_score": 203,
                  "economic_status": 3
                },
                {
                  "index": 548,
                  "race": 3,
                  "test_prep": 0,
                  "gender_male": 0,
                  "total_score": 193,
                  "economic_status": 2
                },
                {
                  "index": 549,
                  "race": 3,
                  "test_prep": 0,
                  "gender_male": 1,
                  "total_score": 220,
                  "economic_status": 7
                },
                {
                  "index": 550,
                  "race": 3,
                  "test_prep": 0,
                  "gender_male": 1,
                  "total_score": 220,
                  "economic_status": 1
                },
                {
                  "index": 551,
                  "race": 2,
                  "test_prep": 1,
                  "gender_male": 1,
                  "total_score": 265,
                  "economic_status": 5
                },
                {
                  "index": 552,
                  "race": 2,
                  "test_prep": 0,
                  "gender_male": 0,
                  "total_score": 138,
                  "economic_status": 5
                },
                {
                  "index": 553,
                  "race": 4,
                  "test_prep": 0,
                  "gender_male": 1,
                  "total_score": 203,
                  "economic_status": 3
                },
                {
                  "index": 554,
                  "race": 5,
                  "test_prep": 0,
                  "gender_male": 1,
                  "total_score": 138,
                  "economic_status": 5
                },
                {
                  "index": 555,
                  "race": 3,
                  "test_prep": 0,
                  "gender_male": 0,
                  "total_score": 104,
                  "economic_status": 3
                },
                {
                  "index": 556,
                  "race": 3,
                  "test_prep": 1,
                  "gender_male": 0,
                  "total_score": 206,
                  "economic_status": 5
                },
                {
                  "index": 557,
                  "race": 3,
                  "test_prep": 0,
                  "gender_male": 1,
                  "total_score": 194,
                  "economic_status": 6
                },
                {
                  "index": 558,
                  "race": 2,
                  "test_prep": 0,
                  "gender_male": 0,
                  "total_score": 193,
                  "economic_status": 4
                },
                {
                  "index": 559,
                  "race": 4,
                  "test_prep": 0,
                  "gender_male": 1,
                  "total_score": 201,
                  "economic_status": 2
                },
                {
                  "index": 560,
                  "race": 4,
                  "test_prep": 1,
                  "gender_male": 0,
                  "total_score": 228,
                  "economic_status": 4
                },
                {
                  "index": 561,
                  "race": 3,
                  "test_prep": 0,
                  "gender_male": 0,
                  "total_score": 211,
                  "economic_status": 4
                },
                {
                  "index": 562,
                  "race": 3,
                  "test_prep": 1,
                  "gender_male": 1,
                  "total_score": 278,
                  "economic_status": 6
                },
                {
                  "index": 563,
                  "race": 4,
                  "test_prep": 1,
                  "gender_male": 0,
                  "total_score": 223,
                  "economic_status": 3
                },
                {
                  "index": 564,
                  "race": 2,
                  "test_prep": 0,
                  "gender_male": 1,
                  "total_score": 145,
                  "economic_status": 5
                },
                {
                  "index": 565,
                  "race": 2,
                  "test_prep": 0,
                  "gender_male": 1,
                  "total_score": 136,
                  "economic_status": 5
                },
                {
                  "index": 566,
                  "race": 5,
                  "test_prep": 1,
                  "gender_male": 0,
                  "total_score": 292,
                  "economic_status": 5
                },
                {
                  "index": 567,
                  "race": 4,
                  "test_prep": 1,
                  "gender_male": 0,
                  "total_score": 210,
                  "economic_status": 6
                },
                {
                  "index": 568,
                  "race": 2,
                  "test_prep": 0,
                  "gender_male": 1,
                  "total_score": 158,
                  "economic_status": 2
                },
                {
                  "index": 569,
                  "race": 4,
                  "test_prep": 0,
                  "gender_male": 1,
                  "total_score": 203,
                  "economic_status": 5
                },
                {
                  "index": 570,
                  "race": 2,
                  "test_prep": 1,
                  "gender_male": 1,
                  "total_score": 216,
                  "economic_status": 4
                },
                {
                  "index": 571,
                  "race": 1,
                  "test_prep": 0,
                  "gender_male": 1,
                  "total_score": 279,
                  "economic_status": 6
                },
                {
                  "index": 572,
                  "race": 3,
                  "test_prep": 0,
                  "gender_male": 0,
                  "total_score": 171,
                  "economic_status": 4
                },
                {
                  "index": 573,
                  "race": 3,
                  "test_prep": 1,
                  "gender_male": 0,
                  "total_score": 180,
                  "economic_status": 2
                },
                {
                  "index": 574,
                  "race": 5,
                  "test_prep": 0,
                  "gender_male": 0,
                  "total_score": 226,
                  "economic_status": 3
                },
                {
                  "index": 575,
                  "race": 1,
                  "test_prep": 1,
                  "gender_male": 1,
                  "total_score": 148,
                  "economic_status": 4
                },
                {
                  "index": 576,
                  "race": 1,
                  "test_prep": 1,
                  "gender_male": 1,
                  "total_score": 164,
                  "economic_status": 4
                },
                {
                  "index": 577,
                  "race": 2,
                  "test_prep": 0,
                  "gender_male": 0,
                  "total_score": 261,
                  "economic_status": 3
                },
                {
                  "index": 578,
                  "race": 2,
                  "test_prep": 1,
                  "gender_male": 0,
                  "total_score": 162,
                  "economic_status": 3
                },
                {
                  "index": 579,
                  "race": 4,
                  "test_prep": 0,
                  "gender_male": 0,
                  "total_score": 182,
                  "economic_status": 7
                },
                {
                  "index": 580,
                  "race": 4,
                  "test_prep": 0,
                  "gender_male": 0,
                  "total_score": 274,
                  "economic_status": 2
                },
                {
                  "index": 581,
                  "race": 5,
                  "test_prep": 0,
                  "gender_male": 0,
                  "total_score": 236,
                  "economic_status": 2
                },
                {
                  "index": 582,
                  "race": 4,
                  "test_prep": 0,
                  "gender_male": 0,
                  "total_score": 214,
                  "economic_status": 5
                },
                {
                  "index": 583,
                  "race": 4,
                  "test_prep": 1,
                  "gender_male": 0,
                  "total_score": 228,
                  "economic_status": 5
                },
                {
                  "index": 584,
                  "race": 4,
                  "test_prep": 0,
                  "gender_male": 0,
                  "total_score": 223,
                  "economic_status": 4
                },
                {
                  "index": 585,
                  "race": 3,
                  "test_prep": 0,
                  "gender_male": 0,
                  "total_score": 217,
                  "economic_status": 5
                },
                {
                  "index": 586,
                  "race": 1,
                  "test_prep": 0,
                  "gender_male": 0,
                  "total_score": 201,
                  "economic_status": 3
                },
                {
                  "index": 587,
                  "race": 3,
                  "test_prep": 0,
                  "gender_male": 0,
                  "total_score": 169,
                  "economic_status": 5
                },
                {
                  "index": 588,
                  "race": 3,
                  "test_prep": 0,
                  "gender_male": 0,
                  "total_score": 183,
                  "economic_status": 4
                },
                {
                  "index": 589,
                  "race": 1,
                  "test_prep": 0,
                  "gender_male": 0,
                  "total_score": 179,
                  "economic_status": 2
                },
                {
                  "index": 590,
                  "race": 3,
                  "test_prep": 0,
                  "gender_male": 1,
                  "total_score": 169,
                  "economic_status": 3
                },
                {
                  "index": 591,
                  "race": 1,
                  "test_prep": 0,
                  "gender_male": 1,
                  "total_score": 183,
                  "economic_status": 2
                },
                {
                  "index": 592,
                  "race": 5,
                  "test_prep": 0,
                  "gender_male": 1,
                  "total_score": 200,
                  "economic_status": 6
                },
                {
                  "index": 593,
                  "race": 5,
                  "test_prep": 0,
                  "gender_male": 0,
                  "total_score": 223,
                  "economic_status": 3
                },
                {
                  "index": 594,
                  "race": 3,
                  "test_prep": 1,
                  "gender_male": 0,
                  "total_score": 291,
                  "economic_status": 6
                },
                {
                  "index": 595,
                  "race": 3,
                  "test_prep": 1,
                  "gender_male": 0,
                  "total_score": 207,
                  "economic_status": 6
                },
                {
                  "index": 596,
                  "race": 2,
                  "test_prep": 0,
                  "gender_male": 1,
                  "total_score": 69,
                  "economic_status": 2
                },
                {
                  "index": 597,
                  "race": 1,
                  "test_prep": 0,
                  "gender_male": 1,
                  "total_score": 155,
                  "economic_status": 2
                },
                {
                  "index": 598,
                  "race": 4,
                  "test_prep": 0,
                  "gender_male": 0,
                  "total_score": 219,
                  "economic_status": 3
                },
                {
                  "index": 599,
                  "race": 4,
                  "test_prep": 0,
                  "gender_male": 0,
                  "total_score": 228,
                  "economic_status": 2
                },
                {
                  "index": 600,
                  "race": 4,
                  "test_prep": 0,
                  "gender_male": 0,
                  "total_score": 177,
                  "economic_status": 7
                },
                {
                  "index": 601,
                  "race": 3,
                  "test_prep": 0,
                  "gender_male": 0,
                  "total_score": 88,
                  "economic_status": 3
                },
                {
                  "index": 602,
                  "race": 5,
                  "test_prep": 0,
                  "gender_male": 0,
                  "total_score": 234,
                  "economic_status": 4
                },
                {
                  "index": 603,
                  "race": 4,
                  "test_prep": 0,
                  "gender_male": 1,
                  "total_score": 168,
                  "economic_status": 2
                },
                {
                  "index": 604,
                  "race": 4,
                  "test_prep": 1,
                  "gender_male": 1,
                  "total_score": 263,
                  "economic_status": 6
                },
                {
                  "index": 605,
                  "race": 3,
                  "test_prep": 0,
                  "gender_male": 1,
                  "total_score": 209,
                  "economic_status": 2
                },
                {
                  "index": 606,
                  "race": 3,
                  "test_prep": 0,
                  "gender_male": 0,
                  "total_score": 251,
                  "economic_status": 5
                },
                {
                  "index": 607,
                  "race": 3,
                  "test_prep": 0,
                  "gender_male": 0,
                  "total_score": 152,
                  "economic_status": 6
                },
                {
                  "index": 608,
                  "race": 5,
                  "test_prep": 0,
                  "gender_male": 0,
                  "total_score": 187,
                  "economic_status": 4
                },
                {
                  "index": 609,
                  "race": 2,
                  "test_prep": 0,
                  "gender_male": 0,
                  "total_score": 186,
                  "economic_status": 5
                },
                {
                  "index": 610,
                  "race": 4,
                  "test_prep": 1,
                  "gender_male": 1,
                  "total_score": 192,
                  "economic_status": 3
                },
                {
                  "index": 611,
                  "race": 3,
                  "test_prep": 0,
                  "gender_male": 0,
                  "total_score": 183,
                  "economic_status": 4
                },
                {
                  "index": 612,
                  "race": 3,
                  "test_prep": 1,
                  "gender_male": 1,
                  "total_score": 275,
                  "economic_status": 6
                },
                {
                  "index": 613,
                  "race": 3,
                  "test_prep": 0,
                  "gender_male": 0,
                  "total_score": 216,
                  "economic_status": 5
                },
                {
                  "index": 614,
                  "race": 1,
                  "test_prep": 0,
                  "gender_male": 0,
                  "total_score": 268,
                  "economic_status": 5
                },
                {
                  "index": 615,
                  "race": 3,
                  "test_prep": 0,
                  "gender_male": 0,
                  "total_score": 200,
                  "economic_status": 3
                },
                {
                  "index": 616,
                  "race": 5,
                  "test_prep": 0,
                  "gender_male": 0,
                  "total_score": 120,
                  "economic_status": 6
                },
                {
                  "index": 617,
                  "race": 4,
                  "test_prep": 0,
                  "gender_male": 1,
                  "total_score": 249,
                  "economic_status": 6
                },
                {
                  "index": 618,
                  "race": 4,
                  "test_prep": 0,
                  "gender_male": 1,
                  "total_score": 260,
                  "economic_status": 7
                },
                {
                  "index": 619,
                  "race": 3,
                  "test_prep": 1,
                  "gender_male": 1,
                  "total_score": 206,
                  "economic_status": 4
                },
                {
                  "index": 620,
                  "race": 3,
                  "test_prep": 0,
                  "gender_male": 0,
                  "total_score": 150,
                  "economic_status": 2
                },
                {
                  "index": 621,
                  "race": 2,
                  "test_prep": 0,
                  "gender_male": 1,
                  "total_score": 181,
                  "economic_status": 5
                },
                {
                  "index": 622,
                  "race": 3,
                  "test_prep": 1,
                  "gender_male": 1,
                  "total_score": 161,
                  "economic_status": 2
                },
                {
                  "index": 623,
                  "race": 1,
                  "test_prep": 1,
                  "gender_male": 1,
                  "total_score": 282,
                  "economic_status": 4
                },
                {
                  "index": 624,
                  "race": 5,
                  "test_prep": 0,
                  "gender_male": 0,
                  "total_score": 181,
                  "economic_status": 5
                },
                {
                  "index": 625,
                  "race": 4,
                  "test_prep": 1,
                  "gender_male": 1,
                  "total_score": 296,
                  "economic_status": 4
                },
                {
                  "index": 626,
                  "race": 2,
                  "test_prep": 1,
                  "gender_male": 1,
                  "total_score": 202,
                  "economic_status": 4
                },
                {
                  "index": 627,
                  "race": 4,
                  "test_prep": 0,
                  "gender_male": 1,
                  "total_score": 155,
                  "economic_status": 5
                },
                {
                  "index": 628,
                  "race": 4,
                  "test_prep": 0,
                  "gender_male": 1,
                  "total_score": 152,
                  "economic_status": 3
                },
                {
                  "index": 629,
                  "race": 3,
                  "test_prep": 1,
                  "gender_male": 0,
                  "total_score": 150,
                  "economic_status": 2
                },
                {
                  "index": 630,
                  "race": 4,
                  "test_prep": 0,
                  "gender_male": 1,
                  "total_score": 201,
                  "economic_status": 4
                },
                {
                  "index": 631,
                  "race": 2,
                  "test_prep": 0,
                  "gender_male": 1,
                  "total_score": 204,
                  "economic_status": 3
                },
                {
                  "index": 632,
                  "race": 2,
                  "test_prep": 1,
                  "gender_male": 0,
                  "total_score": 221,
                  "economic_status": 6
                },
                {
                  "index": 633,
                  "race": 3,
                  "test_prep": 0,
                  "gender_male": 0,
                  "total_score": 248,
                  "economic_status": 3
                },
                {
                  "index": 634,
                  "race": 4,
                  "test_prep": 0,
                  "gender_male": 1,
                  "total_score": 248,
                  "economic_status": 2
                },
                {
                  "index": 635,
                  "race": 1,
                  "test_prep": 0,
                  "gender_male": 1,
                  "total_score": 209,
                  "economic_status": 3
                },
                {
                  "index": 636,
                  "race": 2,
                  "test_prep": 1,
                  "gender_male": 0,
                  "total_score": 228,
                  "economic_status": 2
                },
                {
                  "index": 637,
                  "race": 4,
                  "test_prep": 1,
                  "gender_male": 0,
                  "total_score": 260,
                  "economic_status": 2
                },
                {
                  "index": 638,
                  "race": 5,
                  "test_prep": 0,
                  "gender_male": 1,
                  "total_score": 236,
                  "economic_status": 4
                },
                {
                  "index": 639,
                  "race": 4,
                  "test_prep": 0,
                  "gender_male": 0,
                  "total_score": 223,
                  "economic_status": 5
                },
                {
                  "index": 640,
                  "race": 4,
                  "test_prep": 0,
                  "gender_male": 1,
                  "total_score": 144,
                  "economic_status": 3
                },
                {
                  "index": 641,
                  "race": 4,
                  "test_prep": 1,
                  "gender_male": 0,
                  "total_score": 252,
                  "economic_status": 4
                },
                {
                  "index": 642,
                  "race": 2,
                  "test_prep": 0,
                  "gender_male": 0,
                  "total_score": 232,
                  "economic_status": 1
                },
                {
                  "index": 643,
                  "race": 5,
                  "test_prep": 1,
                  "gender_male": 0,
                  "total_score": 233,
                  "economic_status": 3
                },
                {
                  "index": 644,
                  "race": 2,
                  "test_prep": 0,
                  "gender_male": 1,
                  "total_score": 195,
                  "economic_status": 3
                },
                {
                  "index": 645,
                  "race": 2,
                  "test_prep": 1,
                  "gender_male": 0,
                  "total_score": 227,
                  "economic_status": 6
                },
                {
                  "index": 646,
                  "race": 4,
                  "test_prep": 0,
                  "gender_male": 0,
                  "total_score": 194,
                  "economic_status": 5
                },
                {
                  "index": 647,
                  "race": 5,
                  "test_prep": 0,
                  "gender_male": 0,
                  "total_score": 194,
                  "economic_status": 2
                },
                {
                  "index": 648,
                  "race": 2,
                  "test_prep": 0,
                  "gender_male": 0,
                  "total_score": 158,
                  "economic_status": 3
                },
                {
                  "index": 649,
                  "race": 4,
                  "test_prep": 1,
                  "gender_male": 0,
                  "total_score": 229,
                  "economic_status": 4
                },
                {
                  "index": 650,
                  "race": 3,
                  "test_prep": 1,
                  "gender_male": 1,
                  "total_score": 160,
                  "economic_status": 1
                },
                {
                  "index": 651,
                  "race": 1,
                  "test_prep": 1,
                  "gender_male": 0,
                  "total_score": 224,
                  "economic_status": 3
                },
                {
                  "index": 652,
                  "race": 4,
                  "test_prep": 1,
                  "gender_male": 0,
                  "total_score": 269,
                  "economic_status": 4
                },
                {
                  "index": 653,
                  "race": 1,
                  "test_prep": 1,
                  "gender_male": 0,
                  "total_score": 209,
                  "economic_status": 5
                },
                {
                  "index": 654,
                  "race": 2,
                  "test_prep": 0,
                  "gender_male": 0,
                  "total_score": 231,
                  "economic_status": 2
                },
                {
                  "index": 655,
                  "race": 2,
                  "test_prep": 0,
                  "gender_male": 0,
                  "total_score": 196,
                  "economic_status": 4
                },
                {
                  "index": 656,
                  "race": 3,
                  "test_prep": 0,
                  "gender_male": 1,
                  "total_score": 208,
                  "economic_status": 4
                },
                {
                  "index": 657,
                  "race": 4,
                  "test_prep": 0,
                  "gender_male": 1,
                  "total_score": 196,
                  "economic_status": 2
                },
                {
                  "index": 658,
                  "race": 4,
                  "test_prep": 0,
                  "gender_male": 0,
                  "total_score": 161,
                  "economic_status": 4
                },
                {
                  "index": 659,
                  "race": 4,
                  "test_prep": 0,
                  "gender_male": 1,
                  "total_score": 262,
                  "economic_status": 5
                },
                {
                  "index": 660,
                  "race": 3,
                  "test_prep": 0,
                  "gender_male": 1,
                  "total_score": 224,
                  "economic_status": 3
                },
                {
                  "index": 661,
                  "race": 3,
                  "test_prep": 0,
                  "gender_male": 1,
                  "total_score": 202,
                  "economic_status": 2
                },
                {
                  "index": 662,
                  "race": 4,
                  "test_prep": 0,
                  "gender_male": 0,
                  "total_score": 195,
                  "economic_status": 3
                },
                {
                  "index": 663,
                  "race": 3,
                  "test_prep": 0,
                  "gender_male": 0,
                  "total_score": 201,
                  "economic_status": 3
                },
                {
                  "index": 664,
                  "race": 4,
                  "test_prep": 0,
                  "gender_male": 1,
                  "total_score": 206,
                  "economic_status": 5
                },
                {
                  "index": 665,
                  "race": 3,
                  "test_prep": 1,
                  "gender_male": 0,
                  "total_score": 170,
                  "economic_status": 1
                },
                {
                  "index": 666,
                  "race": 3,
                  "test_prep": 1,
                  "gender_male": 0,
                  "total_score": 207,
                  "economic_status": 3
                },
                {
                  "index": 667,
                  "race": 2,
                  "test_prep": 0,
                  "gender_male": 0,
                  "total_score": 249,
                  "economic_status": 5
                },
                {
                  "index": 668,
                  "race": 3,
                  "test_prep": 0,
                  "gender_male": 1,
                  "total_score": 208,
                  "economic_status": 4
                },
                {
                  "index": 669,
                  "race": 4,
                  "test_prep": 1,
                  "gender_male": 1,
                  "total_score": 230,
                  "economic_status": 5
                },
                {
                  "index": 670,
                  "race": 3,
                  "test_prep": 0,
                  "gender_male": 0,
                  "total_score": 210,
                  "economic_status": 2
                },
                {
                  "index": 671,
                  "race": 4,
                  "test_prep": 0,
                  "gender_male": 1,
                  "total_score": 159,
                  "economic_status": 4
                },
                {
                  "index": 672,
                  "race": 3,
                  "test_prep": 0,
                  "gender_male": 0,
                  "total_score": 223,
                  "economic_status": 4
                },
                {
                  "index": 673,
                  "race": 3,
                  "test_prep": 1,
                  "gender_male": 0,
                  "total_score": 233,
                  "economic_status": 5
                },
                {
                  "index": 674,
                  "race": 4,
                  "test_prep": 1,
                  "gender_male": 0,
                  "total_score": 224,
                  "economic_status": 3
                },
                {
                  "index": 675,
                  "race": 2,
                  "test_prep": 1,
                  "gender_male": 0,
                  "total_score": 180,
                  "economic_status": 4
                },
                {
                  "index": 676,
                  "race": 5,
                  "test_prep": 1,
                  "gender_male": 0,
                  "total_score": 227,
                  "economic_status": 4
                },
                {
                  "index": 677,
                  "race": 3,
                  "test_prep": 1,
                  "gender_male": 0,
                  "total_score": 228,
                  "economic_status": 2
                },
                {
                  "index": 678,
                  "race": 4,
                  "test_prep": 0,
                  "gender_male": 1,
                  "total_score": 234,
                  "economic_status": 4
                },
                {
                  "index": 679,
                  "race": 4,
                  "test_prep": 0,
                  "gender_male": 1,
                  "total_score": 184,
                  "economic_status": 3
                },
                {
                  "index": 680,
                  "race": 4,
                  "test_prep": 0,
                  "gender_male": 0,
                  "total_score": 213,
                  "economic_status": 3
                },
                {
                  "index": 681,
                  "race": 2,
                  "test_prep": 0,
                  "gender_male": 1,
                  "total_score": 188,
                  "economic_status": 3
                },
                {
                  "index": 682,
                  "race": 2,
                  "test_prep": 0,
                  "gender_male": 1,
                  "total_score": 171,
                  "economic_status": 3
                },
                {
                  "index": 683,
                  "race": 3,
                  "test_prep": 1,
                  "gender_male": 0,
                  "total_score": 113,
                  "economic_status": 1
                },
                {
                  "index": 684,
                  "race": 2,
                  "test_prep": 1,
                  "gender_male": 1,
                  "total_score": 196,
                  "economic_status": 4
                },
                {
                  "index": 685,
                  "race": 5,
                  "test_prep": 1,
                  "gender_male": 0,
                  "total_score": 293,
                  "economic_status": 7
                },
                {
                  "index": 686,
                  "race": 5,
                  "test_prep": 1,
                  "gender_male": 1,
                  "total_score": 228,
                  "economic_status": 4
                },
                {
                  "index": 687,
                  "race": 4,
                  "test_prep": 0,
                  "gender_male": 1,
                  "total_score": 228,
                  "economic_status": 4
                },
                {
                  "index": 688,
                  "race": 1,
                  "test_prep": 0,
                  "gender_male": 1,
                  "total_score": 155,
                  "economic_status": 2
                },
                {
                  "index": 689,
                  "race": 5,
                  "test_prep": 0,
                  "gender_male": 1,
                  "total_score": 266,
                  "economic_status": 3
                },
                {
                  "index": 690,
                  "race": 3,
                  "test_prep": 0,
                  "gender_male": 0,
                  "total_score": 155,
                  "economic_status": 5
                },
                {
                  "index": 691,
                  "race": 5,
                  "test_prep": 0,
                  "gender_male": 0,
                  "total_score": 227,
                  "economic_status": 4
                },
                {
                  "index": 692,
                  "race": 3,
                  "test_prep": 1,
                  "gender_male": 0,
                  "total_score": 221,
                  "economic_status": 5
                },
                {
                  "index": 693,
                  "race": 4,
                  "test_prep": 0,
                  "gender_male": 0,
                  "total_score": 227,
                  "economic_status": 5
                },
                {
                  "index": 694,
                  "race": 3,
                  "test_prep": 0,
                  "gender_male": 0,
                  "total_score": 168,
                  "economic_status": 2
                },
                {
                  "index": 695,
                  "race": 4,
                  "test_prep": 0,
                  "gender_male": 0,
                  "total_score": 254,
                  "economic_status": 3
                },
                {
                  "index": 696,
                  "race": 3,
                  "test_prep": 1,
                  "gender_male": 0,
                  "total_score": 247,
                  "economic_status": 5
                },
                {
                  "index": 697,
                  "race": 1,
                  "test_prep": 0,
                  "gender_male": 0,
                  "total_score": 201,
                  "economic_status": 6
                },
                {
                  "index": 698,
                  "race": 4,
                  "test_prep": 1,
                  "gender_male": 0,
                  "total_score": 214,
                  "economic_status": 5
                },
                {
                  "index": 699,
                  "race": 3,
                  "test_prep": 0,
                  "gender_male": 1,
                  "total_score": 191,
                  "economic_status": 2
                },
                {
                  "index": 700,
                  "race": 5,
                  "test_prep": 1,
                  "gender_male": 0,
                  "total_score": 242,
                  "economic_status": 6
                },
                {
                  "index": 701,
                  "race": 2,
                  "test_prep": 0,
                  "gender_male": 0,
                  "total_score": 196,
                  "economic_status": 2
                },
                {
                  "index": 702,
                  "race": 1,
                  "test_prep": 1,
                  "gender_male": 1,
                  "total_score": 258,
                  "economic_status": 6
                },
                {
                  "index": 703,
                  "race": 4,
                  "test_prep": 0,
                  "gender_male": 0,
                  "total_score": 194,
                  "economic_status": 4
                },
                {
                  "index": 704,
                  "race": 2,
                  "test_prep": 1,
                  "gender_male": 0,
                  "total_score": 186,
                  "economic_status": 1
                },
                {
                  "index": 705,
                  "race": 1,
                  "test_prep": 0,
                  "gender_male": 1,
                  "total_score": 199,
                  "economic_status": 5
                },
                {
                  "index": 706,
                  "race": 4,
                  "test_prep": 0,
                  "gender_male": 1,
                  "total_score": 116,
                  "economic_status": 3
                },
                {
                  "index": 707,
                  "race": 3,
                  "test_prep": 0,
                  "gender_male": 1,
                  "total_score": 177,
                  "economic_status": 4
                },
                {
                  "index": 708,
                  "race": 4,
                  "test_prep": 0,
                  "gender_male": 1,
                  "total_score": 255,
                  "economic_status": 3
                },
                {
                  "index": 709,
                  "race": 4,
                  "test_prep": 1,
                  "gender_male": 0,
                  "total_score": 161,
                  "economic_status": 4
                },
                {
                  "index": 710,
                  "race": 3,
                  "test_prep": 1,
                  "gender_male": 1,
                  "total_score": 267,
                  "economic_status": 4
                },
                {
                  "index": 711,
                  "race": 5,
                  "test_prep": 1,
                  "gender_male": 0,
                  "total_score": 250,
                  "economic_status": 2
                },
                {
                  "index": 712,
                  "race": 4,
                  "test_prep": 0,
                  "gender_male": 0,
                  "total_score": 297,
                  "economic_status": 4
                },
                {
                  "index": 713,
                  "race": 4,
                  "test_prep": 0,
                  "gender_male": 1,
                  "total_score": 246,
                  "economic_status": 7
                },
                {
                  "index": 714,
                  "race": 2,
                  "test_prep": 1,
                  "gender_male": 0,
                  "total_score": 204,
                  "economic_status": 2
                },
                {
                  "index": 715,
                  "race": 2,
                  "test_prep": 1,
                  "gender_male": 0,
                  "total_score": 257,
                  "economic_status": 4
                },
                {
                  "index": 716,
                  "race": 3,
                  "test_prep": 1,
                  "gender_male": 1,
                  "total_score": 223,
                  "economic_status": 5
                },
                {
                  "index": 717,
                  "race": 3,
                  "test_prep": 1,
                  "gender_male": 0,
                  "total_score": 291,
                  "economic_status": 5
                },
                {
                  "index": 718,
                  "race": 3,
                  "test_prep": 0,
                  "gender_male": 0,
                  "total_score": 226,
                  "economic_status": 3
                },
                {
                  "index": 719,
                  "race": 5,
                  "test_prep": 1,
                  "gender_male": 1,
                  "total_score": 244,
                  "economic_status": 4
                },
                {
                  "index": 720,
                  "race": 3,
                  "test_prep": 0,
                  "gender_male": 0,
                  "total_score": 204,
                  "economic_status": 3
                },
                {
                  "index": 721,
                  "race": 4,
                  "test_prep": 1,
                  "gender_male": 1,
                  "total_score": 173,
                  "economic_status": 1
                },
                {
                  "index": 722,
                  "race": 2,
                  "test_prep": 1,
                  "gender_male": 0,
                  "total_score": 252,
                  "economic_status": 1
                },
                {
                  "index": 723,
                  "race": 3,
                  "test_prep": 0,
                  "gender_male": 1,
                  "total_score": 140,
                  "economic_status": 3
                },
                {
                  "index": 724,
                  "race": 2,
                  "test_prep": 0,
                  "gender_male": 1,
                  "total_score": 131,
                  "economic_status": 4
                },
                {
                  "index": 725,
                  "race": 5,
                  "test_prep": 1,
                  "gender_male": 1,
                  "total_score": 226,
                  "economic_status": 4
                },
                {
                  "index": 726,
                  "race": 5,
                  "test_prep": 1,
                  "gender_male": 0,
                  "total_score": 217,
                  "economic_status": 5
                },
                {
                  "index": 727,
                  "race": 5,
                  "test_prep": 1,
                  "gender_male": 1,
                  "total_score": 176,
                  "economic_status": 2
                },
                {
                  "index": 728,
                  "race": 4,
                  "test_prep": 0,
                  "gender_male": 0,
                  "total_score": 249,
                  "economic_status": 2
                },
                {
                  "index": 729,
                  "race": 3,
                  "test_prep": 0,
                  "gender_male": 1,
                  "total_score": 129,
                  "economic_status": 4
                },
                {
                  "index": 730,
                  "race": 2,
                  "test_prep": 1,
                  "gender_male": 0,
                  "total_score": 225,
                  "economic_status": 4
                },
                {
                  "index": 731,
                  "race": 1,
                  "test_prep": 0,
                  "gender_male": 1,
                  "total_score": 144,
                  "economic_status": 1
                },
                {
                  "index": 732,
                  "race": 3,
                  "test_prep": 1,
                  "gender_male": 0,
                  "total_score": 270,
                  "economic_status": 4
                },
                {
                  "index": 733,
                  "race": 4,
                  "test_prep": 0,
                  "gender_male": 1,
                  "total_score": 146,
                  "economic_status": 2
                },
                {
                  "index": 734,
                  "race": 5,
                  "test_prep": 0,
                  "gender_male": 0,
                  "total_score": 168,
                  "economic_status": 3
                },
                {
                  "index": 735,
                  "race": 3,
                  "test_prep": 0,
                  "gender_male": 1,
                  "total_score": 183,
                  "economic_status": 7
                },
                {
                  "index": 736,
                  "race": 3,
                  "test_prep": 0,
                  "gender_male": 1,
                  "total_score": 255,
                  "economic_status": 5
                },
                {
                  "index": 737,
                  "race": 2,
                  "test_prep": 1,
                  "gender_male": 0,
                  "total_score": 192,
                  "economic_status": 3
                },
                {
                  "index": 738,
                  "race": 4,
                  "test_prep": 0,
                  "gender_male": 1,
                  "total_score": 225,
                  "economic_status": 5
                },
                {
                  "index": 739,
                  "race": 3,
                  "test_prep": 0,
                  "gender_male": 1,
                  "total_score": 176,
                  "economic_status": 2
                },
                {
                  "index": 740,
                  "race": 4,
                  "test_prep": 0,
                  "gender_male": 1,
                  "total_score": 225,
                  "economic_status": 6
                },
                {
                  "index": 741,
                  "race": 1,
                  "test_prep": 0,
                  "gender_male": 0,
                  "total_score": 150,
                  "economic_status": 4
                },
                {
                  "index": 742,
                  "race": 3,
                  "test_prep": 0,
                  "gender_male": 0,
                  "total_score": 247,
                  "economic_status": 3
                },
                {
                  "index": 743,
                  "race": 3,
                  "test_prep": 1,
                  "gender_male": 0,
                  "total_score": 204,
                  "economic_status": 5
                },
                {
                  "index": 744,
                  "race": 2,
                  "test_prep": 0,
                  "gender_male": 1,
                  "total_score": 157,
                  "economic_status": 3
                },
                {
                  "index": 745,
                  "race": 4,
                  "test_prep": 0,
                  "gender_male": 1,
                  "total_score": 225,
                  "economic_status": 5
                },
                {
                  "index": 746,
                  "race": 4,
                  "test_prep": 0,
                  "gender_male": 1,
                  "total_score": 215,
                  "economic_status": 3
                },
                {
                  "index": 747,
                  "race": 3,
                  "test_prep": 0,
                  "gender_male": 1,
                  "total_score": 201,
                  "economic_status": 4
                },
                {
                  "index": 748,
                  "race": 3,
                  "test_prep": 0,
                  "gender_male": 0,
                  "total_score": 169,
                  "economic_status": 5
                },
                {
                  "index": 749,
                  "race": 2,
                  "test_prep": 1,
                  "gender_male": 1,
                  "total_score": 257,
                  "economic_status": 4
                },
                {
                  "index": 750,
                  "race": 4,
                  "test_prep": 1,
                  "gender_male": 1,
                  "total_score": 208,
                  "economic_status": 2
                },
                {
                  "index": 751,
                  "race": 5,
                  "test_prep": 0,
                  "gender_male": 1,
                  "total_score": 205,
                  "economic_status": 4
                },
                {
                  "index": 752,
                  "race": 3,
                  "test_prep": 1,
                  "gender_male": 1,
                  "total_score": 231,
                  "economic_status": 6
                },
                {
                  "index": 753,
                  "race": 3,
                  "test_prep": 1,
                  "gender_male": 0,
                  "total_score": 252,
                  "economic_status": 2
                },
                {
                  "index": 754,
                  "race": 3,
                  "test_prep": 0,
                  "gender_male": 1,
                  "total_score": 166,
                  "economic_status": 4
                },
                {
                  "index": 755,
                  "race": 5,
                  "test_prep": 0,
                  "gender_male": 0,
                  "total_score": 271,
                  "economic_status": 5
                },
                {
                  "index": 756,
                  "race": 4,
                  "test_prep": 0,
                  "gender_male": 1,
                  "total_score": 165,
                  "economic_status": 4
                },
                {
                  "index": 757,
                  "race": 5,
                  "test_prep": 1,
                  "gender_male": 1,
                  "total_score": 210,
                  "economic_status": 5
                },
                {
                  "index": 758,
                  "race": 4,
                  "test_prep": 1,
                  "gender_male": 0,
                  "total_score": 176,
                  "economic_status": 3
                },
                {
                  "index": 759,
                  "race": 2,
                  "test_prep": 1,
                  "gender_male": 1,
                  "total_score": 223,
                  "economic_status": 4
                },
                {
                  "index": 760,
                  "race": 3,
                  "test_prep": 0,
                  "gender_male": 0,
                  "total_score": 189,
                  "economic_status": 2
                },
                {
                  "index": 761,
                  "race": 4,
                  "test_prep": 0,
                  "gender_male": 0,
                  "total_score": 160,
                  "economic_status": 2
                },
                {
                  "index": 762,
                  "race": 4,
                  "test_prep": 1,
                  "gender_male": 1,
                  "total_score": 245,
                  "economic_status": 2
                },
                {
                  "index": 763,
                  "race": 2,
                  "test_prep": 0,
                  "gender_male": 0,
                  "total_score": 187,
                  "economic_status": 3
                },
                {
                  "index": 764,
                  "race": 4,
                  "test_prep": 0,
                  "gender_male": 1,
                  "total_score": 182,
                  "economic_status": 4
                },
                {
                  "index": 765,
                  "race": 2,
                  "test_prep": 0,
                  "gender_male": 0,
                  "total_score": 218,
                  "economic_status": 3
                },
                {
                  "index": 766,
                  "race": 3,
                  "test_prep": 1,
                  "gender_male": 0,
                  "total_score": 210,
                  "economic_status": 3
                },
                {
                  "index": 767,
                  "race": 2,
                  "test_prep": 1,
                  "gender_male": 1,
                  "total_score": 198,
                  "economic_status": 3
                },
                {
                  "index": 768,
                  "race": 4,
                  "test_prep": 0,
                  "gender_male": 0,
                  "total_score": 214,
                  "economic_status": 2
                },
                {
                  "index": 769,
                  "race": 1,
                  "test_prep": 0,
                  "gender_male": 1,
                  "total_score": 175,
                  "economic_status": 3
                },
                {
                  "index": 770,
                  "race": 2,
                  "test_prep": 0,
                  "gender_male": 1,
                  "total_score": 149,
                  "economic_status": 3
                },
                {
                  "index": 771,
                  "race": 4,
                  "test_prep": 0,
                  "gender_male": 1,
                  "total_score": 222,
                  "economic_status": 6
                },
                {
                  "index": 772,
                  "race": 2,
                  "test_prep": 1,
                  "gender_male": 0,
                  "total_score": 191,
                  "economic_status": 1
                },
                {
                  "index": 773,
                  "race": 3,
                  "test_prep": 0,
                  "gender_male": 0,
                  "total_score": 219,
                  "economic_status": 5
                },
                {
                  "index": 774,
                  "race": 2,
                  "test_prep": 0,
                  "gender_male": 1,
                  "total_score": 191,
                  "economic_status": 4
                },
                {
                  "index": 775,
                  "race": 2,
                  "test_prep": 0,
                  "gender_male": 0,
                  "total_score": 162,
                  "economic_status": 1
                },
                {
                  "index": 776,
                  "race": 2,
                  "test_prep": 0,
                  "gender_male": 0,
                  "total_score": 208,
                  "economic_status": 3
                },
                {
                  "index": 777,
                  "race": 3,
                  "test_prep": 0,
                  "gender_male": 0,
                  "total_score": 122,
                  "economic_status": 3
                },
                {
                  "index": 778,
                  "race": 1,
                  "test_prep": 1,
                  "gender_male": 0,
                  "total_score": 233,
                  "economic_status": 4
                },
                {
                  "index": 779,
                  "race": 5,
                  "test_prep": 1,
                  "gender_male": 1,
                  "total_score": 261,
                  "economic_status": 5
                },
                {
                  "index": 780,
                  "race": 4,
                  "test_prep": 0,
                  "gender_male": 0,
                  "total_score": 159,
                  "economic_status": 4
                },
                {
                  "index": 781,
                  "race": 2,
                  "test_prep": 0,
                  "gender_male": 0,
                  "total_score": 251,
                  "economic_status": 7
                },
                {
                  "index": 782,
                  "race": 2,
                  "test_prep": 1,
                  "gender_male": 0,
                  "total_score": 243,
                  "economic_status": 2
                },
                {
                  "index": 783,
                  "race": 3,
                  "test_prep": 1,
                  "gender_male": 0,
                  "total_score": 173,
                  "economic_status": 5
                },
                {
                  "index": 784,
                  "race": 3,
                  "test_prep": 1,
                  "gender_male": 1,
                  "total_score": 251,
                  "economic_status": 6
                },
                {
                  "index": 785,
                  "race": 2,
                  "test_prep": 1,
                  "gender_male": 0,
                  "total_score": 127,
                  "economic_status": 2
                },
                {
                  "index": 786,
                  "race": 5,
                  "test_prep": 0,
                  "gender_male": 0,
                  "total_score": 228,
                  "economic_status": 1
                },
                {
                  "index": 787,
                  "race": 2,
                  "test_prep": 0,
                  "gender_male": 0,
                  "total_score": 89,
                  "economic_status": 4
                },
                {
                  "index": 788,
                  "race": 3,
                  "test_prep": 0,
                  "gender_male": 1,
                  "total_score": 194,
                  "economic_status": 4
                },
                {
                  "index": 789,
                  "race": 3,
                  "test_prep": 0,
                  "gender_male": 0,
                  "total_score": 178,
                  "economic_status": 6
                },
                {
                  "index": 790,
                  "race": 2,
                  "test_prep": 0,
                  "gender_male": 0,
                  "total_score": 170,
                  "economic_status": 3
                },
                {
                  "index": 791,
                  "race": 4,
                  "test_prep": 0,
                  "gender_male": 0,
                  "total_score": 196,
                  "economic_status": 3
                },
                {
                  "index": 792,
                  "race": 4,
                  "test_prep": 0,
                  "gender_male": 1,
                  "total_score": 209,
                  "economic_status": 2
                },
                {
                  "index": 793,
                  "race": 5,
                  "test_prep": 1,
                  "gender_male": 1,
                  "total_score": 250,
                  "economic_status": 2
                },
                {
                  "index": 794,
                  "race": 2,
                  "test_prep": 0,
                  "gender_male": 0,
                  "total_score": 145,
                  "economic_status": 3
                },
                {
                  "index": 795,
                  "race": 5,
                  "test_prep": 1,
                  "gender_male": 0,
                  "total_score": 198,
                  "economic_status": 4
                },
                {
                  "index": 796,
                  "race": 4,
                  "test_prep": 0,
                  "gender_male": 1,
                  "total_score": 210,
                  "economic_status": 3
                },
                {
                  "index": 797,
                  "race": 5,
                  "test_prep": 0,
                  "gender_male": 0,
                  "total_score": 235,
                  "economic_status": 4
                },
                {
                  "index": 798,
                  "race": 5,
                  "test_prep": 0,
                  "gender_male": 1,
                  "total_score": 183,
                  "economic_status": 4
                },
                {
                  "index": 799,
                  "race": 3,
                  "test_prep": 0,
                  "gender_male": 0,
                  "total_score": 164,
                  "economic_status": 5
                },
                {
                  "index": 800,
                  "race": 3,
                  "test_prep": 1,
                  "gender_male": 1,
                  "total_score": 208,
                  "economic_status": 2
                },
                {
                  "index": 801,
                  "race": 3,
                  "test_prep": 1,
                  "gender_male": 1,
                  "total_score": 229,
                  "economic_status": 2
                },
                {
                  "index": 802,
                  "race": 5,
                  "test_prep": 0,
                  "gender_male": 0,
                  "total_score": 276,
                  "economic_status": 5
                },
                {
                  "index": 803,
                  "race": 2,
                  "test_prep": 0,
                  "gender_male": 0,
                  "total_score": 254,
                  "economic_status": 4
                },
                {
                  "index": 804,
                  "race": 3,
                  "test_prep": 0,
                  "gender_male": 0,
                  "total_score": 227,
                  "economic_status": 4
                },
                {
                  "index": 805,
                  "race": 1,
                  "test_prep": 0,
                  "gender_male": 1,
                  "total_score": 230,
                  "economic_status": 3
                },
                {
                  "index": 806,
                  "race": 4,
                  "test_prep": 0,
                  "gender_male": 0,
                  "total_score": 213,
                  "economic_status": 3
                },
                {
                  "index": 807,
                  "race": 5,
                  "test_prep": 0,
                  "gender_male": 0,
                  "total_score": 126,
                  "economic_status": 2
                },
                {
                  "index": 808,
                  "race": 3,
                  "test_prep": 0,
                  "gender_male": 1,
                  "total_score": 234,
                  "economic_status": 3
                },
                {
                  "index": 809,
                  "race": 2,
                  "test_prep": 0,
                  "gender_male": 1,
                  "total_score": 164,
                  "economic_status": 6
                },
                {
                  "index": 810,
                  "race": 1,
                  "test_prep": 0,
                  "gender_male": 1,
                  "total_score": 118,
                  "economic_status": 2
                },
                {
                  "index": 811,
                  "race": 1,
                  "test_prep": 0,
                  "gender_male": 1,
                  "total_score": 141,
                  "economic_status": 2
                },
                {
                  "index": 812,
                  "race": 3,
                  "test_prep": 1,
                  "gender_male": 0,
                  "total_score": 185,
                  "economic_status": 7
                },
                {
                  "index": 813,
                  "race": 5,
                  "test_prep": 1,
                  "gender_male": 1,
                  "total_score": 247,
                  "economic_status": 2
                },
                {
                  "index": 814,
                  "race": 3,
                  "test_prep": 0,
                  "gender_male": 0,
                  "total_score": 235,
                  "economic_status": 3
                },
                {
                  "index": 815,
                  "race": 2,
                  "test_prep": 1,
                  "gender_male": 1,
                  "total_score": 267,
                  "economic_status": 2
                },
                {
                  "index": 816,
                  "race": 1,
                  "test_prep": 0,
                  "gender_male": 0,
                  "total_score": 168,
                  "economic_status": 6
                },
                {
                  "index": 817,
                  "race": 4,
                  "test_prep": 1,
                  "gender_male": 1,
                  "total_score": 207,
                  "economic_status": 5
                },
                {
                  "index": 818,
                  "race": 2,
                  "test_prep": 0,
                  "gender_male": 0,
                  "total_score": 200,
                  "economic_status": 2
                },
                {
                  "index": 819,
                  "race": 3,
                  "test_prep": 0,
                  "gender_male": 0,
                  "total_score": 256,
                  "economic_status": 2
                },
                {
                  "index": 820,
                  "race": 1,
                  "test_prep": 1,
                  "gender_male": 0,
                  "total_score": 267,
                  "economic_status": 2
                },
                {
                  "index": 821,
                  "race": 4,
                  "test_prep": 0,
                  "gender_male": 0,
                  "total_score": 261,
                  "economic_status": 5
                },
                {
                  "index": 822,
                  "race": 5,
                  "test_prep": 1,
                  "gender_male": 1,
                  "total_score": 152,
                  "economic_status": 3
                },
                {
                  "index": 823,
                  "race": 2,
                  "test_prep": 0,
                  "gender_male": 0,
                  "total_score": 240,
                  "economic_status": 2
                },
                {
                  "index": 824,
                  "race": 3,
                  "test_prep": 0,
                  "gender_male": 0,
                  "total_score": 158,
                  "economic_status": 1
                },
                {
                  "index": 825,
                  "race": 3,
                  "test_prep": 0,
                  "gender_male": 1,
                  "total_score": 187,
                  "economic_status": 3
                },
                {
                  "index": 826,
                  "race": 3,
                  "test_prep": 1,
                  "gender_male": 0,
                  "total_score": 194,
                  "economic_status": 4
                },
                {
                  "index": 827,
                  "race": 3,
                  "test_prep": 0,
                  "gender_male": 0,
                  "total_score": 210,
                  "economic_status": 2
                },
                {
                  "index": 828,
                  "race": 4,
                  "test_prep": 1,
                  "gender_male": 0,
                  "total_score": 236,
                  "economic_status": 1
                },
                {
                  "index": 829,
                  "race": 2,
                  "test_prep": 0,
                  "gender_male": 1,
                  "total_score": 175,
                  "economic_status": 2
                },
                {
                  "index": 830,
                  "race": 1,
                  "test_prep": 0,
                  "gender_male": 0,
                  "total_score": 178,
                  "economic_status": 3
                },
                {
                  "index": 831,
                  "race": 3,
                  "test_prep": 1,
                  "gender_male": 0,
                  "total_score": 249,
                  "economic_status": 5
                },
                {
                  "index": 832,
                  "race": 1,
                  "test_prep": 0,
                  "gender_male": 1,
                  "total_score": 182,
                  "economic_status": 6
                },
                {
                  "index": 833,
                  "race": 2,
                  "test_prep": 1,
                  "gender_male": 0,
                  "total_score": 248,
                  "economic_status": 3
                },
                {
                  "index": 834,
                  "race": 2,
                  "test_prep": 0,
                  "gender_male": 1,
                  "total_score": 153,
                  "economic_status": 4
                },
                {
                  "index": 835,
                  "race": 3,
                  "test_prep": 1,
                  "gender_male": 0,
                  "total_score": 198,
                  "economic_status": 3
                },
                {
                  "index": 836,
                  "race": 5,
                  "test_prep": 0,
                  "gender_male": 1,
                  "total_score": 194,
                  "economic_status": 3
                },
                {
                  "index": 837,
                  "race": 1,
                  "test_prep": 1,
                  "gender_male": 0,
                  "total_score": 236,
                  "economic_status": 3
                },
                {
                  "index": 838,
                  "race": 2,
                  "test_prep": 1,
                  "gender_male": 1,
                  "total_score": 168,
                  "economic_status": 4
                },
                {
                  "index": 839,
                  "race": 3,
                  "test_prep": 0,
                  "gender_male": 0,
                  "total_score": 216,
                  "economic_status": 5
                },
                {
                  "index": 840,
                  "race": 4,
                  "test_prep": 0,
                  "gender_male": 0,
                  "total_score": 137,
                  "economic_status": 2
                },
                {
                  "index": 841,
                  "race": 3,
                  "test_prep": 0,
                  "gender_male": 1,
                  "total_score": 173,
                  "economic_status": 2
                },
                {
                  "index": 842,
                  "race": 2,
                  "test_prep": 1,
                  "gender_male": 0,
                  "total_score": 103,
                  "economic_status": 2
                },
                {
                  "index": 843,
                  "race": 2,
                  "test_prep": 1,
                  "gender_male": 1,
                  "total_score": 227,
                  "economic_status": 3
                },
                {
                  "index": 844,
                  "race": 4,
                  "test_prep": 1,
                  "gender_male": 0,
                  "total_score": 169,
                  "economic_status": 1
                },
                {
                  "index": 845,
                  "race": 5,
                  "test_prep": 0,
                  "gender_male": 1,
                  "total_score": 259,
                  "economic_status": 7
                },
                {
                  "index": 846,
                  "race": 3,
                  "test_prep": 1,
                  "gender_male": 1,
                  "total_score": 261,
                  "economic_status": 7
                },
                {
                  "index": 847,
                  "race": 4,
                  "test_prep": 0,
                  "gender_male": 1,
                  "total_score": 168,
                  "economic_status": 3
                },
                {
                  "index": 848,
                  "race": 3,
                  "test_prep": 0,
                  "gender_male": 0,
                  "total_score": 199,
                  "economic_status": 3
                },
                {
                  "index": 849,
                  "race": 4,
                  "test_prep": 0,
                  "gender_male": 1,
                  "total_score": 224,
                  "economic_status": 5
                },
                {
                  "index": 850,
                  "race": 3,
                  "test_prep": 0,
                  "gender_male": 1,
                  "total_score": 205,
                  "economic_status": 7
                },
                {
                  "index": 851,
                  "race": 1,
                  "test_prep": 0,
                  "gender_male": 0,
                  "total_score": 192,
                  "economic_status": 3
                },
                {
                  "index": 852,
                  "race": 5,
                  "test_prep": 0,
                  "gender_male": 0,
                  "total_score": 265,
                  "economic_status": 4
                },
                {
                  "index": 853,
                  "race": 5,
                  "test_prep": 0,
                  "gender_male": 1,
                  "total_score": 210,
                  "economic_status": 2
                },
                {
                  "index": 854,
                  "race": 3,
                  "test_prep": 0,
                  "gender_male": 1,
                  "total_score": 181,
                  "economic_status": 2
                },
                {
                  "index": 855,
                  "race": 2,
                  "test_prep": 0,
                  "gender_male": 0,
                  "total_score": 290,
                  "economic_status": 6
                },
                {
                  "index": 856,
                  "race": 2,
                  "test_prep": 0,
                  "gender_male": 1,
                  "total_score": 208,
                  "economic_status": 3
                },
                {
                  "index": 857,
                  "race": 3,
                  "test_prep": 0,
                  "gender_male": 0,
                  "total_score": 225,
                  "economic_status": 6
                },
                {
                  "index": 858,
                  "race": 2,
                  "test_prep": 1,
                  "gender_male": 1,
                  "total_score": 147,
                  "economic_status": 3
                },
                {
                  "index": 859,
                  "race": 3,
                  "test_prep": 0,
                  "gender_male": 1,
                  "total_score": 232,
                  "economic_status": 4
                },
                {
                  "index": 860,
                  "race": 3,
                  "test_prep": 0,
                  "gender_male": 0,
                  "total_score": 168,
                  "economic_status": 5
                },
                {
                  "index": 861,
                  "race": 5,
                  "test_prep": 0,
                  "gender_male": 0,
                  "total_score": 254,
                  "economic_status": 6
                },
                {
                  "index": 862,
                  "race": 4,
                  "test_prep": 1,
                  "gender_male": 1,
                  "total_score": 119,
                  "economic_status": 5
                },
                {
                  "index": 863,
                  "race": 3,
                  "test_prep": 1,
                  "gender_male": 0,
                  "total_score": 222,
                  "economic_status": 4
                },
                {
                  "index": 864,
                  "race": 3,
                  "test_prep": 0,
                  "gender_male": 1,
                  "total_score": 281,
                  "economic_status": 5
                },
                {
                  "index": 865,
                  "race": 4,
                  "test_prep": 1,
                  "gender_male": 1,
                  "total_score": 252,
                  "economic_status": 4
                },
                {
                  "index": 866,
                  "race": 3,
                  "test_prep": 0,
                  "gender_male": 1,
                  "total_score": 164,
                  "economic_status": 2
                },
                {
                  "index": 867,
                  "race": 2,
                  "test_prep": 0,
                  "gender_male": 1,
                  "total_score": 144,
                  "economic_status": 5
                },
                {
                  "index": 868,
                  "race": 5,
                  "test_prep": 1,
                  "gender_male": 1,
                  "total_score": 224,
                  "economic_status": 4
                },
                {
                  "index": 869,
                  "race": 3,
                  "test_prep": 0,
                  "gender_male": 1,
                  "total_score": 151,
                  "economic_status": 4
                },
                {
                  "index": 870,
                  "race": 2,
                  "test_prep": 0,
                  "gender_male": 1,
                  "total_score": 164,
                  "economic_status": 3
                },
                {
                  "index": 871,
                  "race": 3,
                  "test_prep": 1,
                  "gender_male": 0,
                  "total_score": 218,
                  "economic_status": 4
                },
                {
                  "index": 872,
                  "race": 2,
                  "test_prep": 1,
                  "gender_male": 1,
                  "total_score": 244,
                  "economic_status": 5
                },
                {
                  "index": 873,
                  "race": 5,
                  "test_prep": 0,
                  "gender_male": 1,
                  "total_score": 262,
                  "economic_status": 4
                },
                {
                  "index": 874,
                  "race": 3,
                  "test_prep": 0,
                  "gender_male": 0,
                  "total_score": 166,
                  "economic_status": 5
                },
                {
                  "index": 875,
                  "race": 3,
                  "test_prep": 0,
                  "gender_male": 1,
                  "total_score": 210,
                  "economic_status": 3
                },
                {
                  "index": 876,
                  "race": 4,
                  "test_prep": 0,
                  "gender_male": 1,
                  "total_score": 247,
                  "economic_status": 4
                },
                {
                  "index": 877,
                  "race": 3,
                  "test_prep": 0,
                  "gender_male": 1,
                  "total_score": 172,
                  "economic_status": 2
                },
                {
                  "index": 878,
                  "race": 4,
                  "test_prep": 0,
                  "gender_male": 0,
                  "total_score": 211,
                  "economic_status": 2
                },
                {
                  "index": 879,
                  "race": 4,
                  "test_prep": 0,
                  "gender_male": 0,
                  "total_score": 214,
                  "economic_status": 5
                },
                {
                  "index": 880,
                  "race": 3,
                  "test_prep": 1,
                  "gender_male": 1,
                  "total_score": 193,
                  "economic_status": 6
                },
                {
                  "index": 881,
                  "race": 5,
                  "test_prep": 1,
                  "gender_male": 0,
                  "total_score": 211,
                  "economic_status": 6
                },
                {
                  "index": 882,
                  "race": 2,
                  "test_prep": 0,
                  "gender_male": 0,
                  "total_score": 208,
                  "economic_status": 2
                },
                {
                  "index": 883,
                  "race": 4,
                  "test_prep": 0,
                  "gender_male": 1,
                  "total_score": 145,
                  "economic_status": 5
                },
                {
                  "index": 884,
                  "race": 5,
                  "test_prep": 0,
                  "gender_male": 0,
                  "total_score": 156,
                  "economic_status": 5
                },
                {
                  "index": 885,
                  "race": 3,
                  "test_prep": 1,
                  "gender_male": 0,
                  "total_score": 218,
                  "economic_status": 5
                },
                {
                  "index": 886,
                  "race": 5,
                  "test_prep": 1,
                  "gender_male": 0,
                  "total_score": 288,
                  "economic_status": 5
                },
                {
                  "index": 887,
                  "race": 3,
                  "test_prep": 0,
                  "gender_male": 1,
                  "total_score": 185,
                  "economic_status": 2
                },
                {
                  "index": 888,
                  "race": 4,
                  "test_prep": 0,
                  "gender_male": 0,
                  "total_score": 208,
                  "economic_status": 3
                },
                {
                  "index": 889,
                  "race": 4,
                  "test_prep": 0,
                  "gender_male": 1,
                  "total_score": 143,
                  "economic_status": 2
                },
                {
                  "index": 890,
                  "race": 5,
                  "test_prep": 1,
                  "gender_male": 0,
                  "total_score": 262,
                  "economic_status": 4
                },
                {
                  "index": 891,
                  "race": 5,
                  "test_prep": 0,
                  "gender_male": 0,
                  "total_score": 262,
                  "economic_status": 5
                },
                {
                  "index": 892,
                  "race": 1,
                  "test_prep": 0,
                  "gender_male": 0,
                  "total_score": 190,
                  "economic_status": 6
                },
                {
                  "index": 893,
                  "race": 4,
                  "test_prep": 1,
                  "gender_male": 1,
                  "total_score": 237,
                  "economic_status": 2
                },
                {
                  "index": 894,
                  "race": 5,
                  "test_prep": 0,
                  "gender_male": 0,
                  "total_score": 190,
                  "economic_status": 5
                },
                {
                  "index": 895,
                  "race": 5,
                  "test_prep": 0,
                  "gender_male": 0,
                  "total_score": 104,
                  "economic_status": 1
                },
                {
                  "index": 896,
                  "race": 2,
                  "test_prep": 0,
                  "gender_male": 1,
                  "total_score": 92,
                  "economic_status": 2
                },
                {
                  "index": 897,
                  "race": 2,
                  "test_prep": 1,
                  "gender_male": 0,
                  "total_score": 220,
                  "economic_status": 1
                },
                {
                  "index": 898,
                  "race": 4,
                  "test_prep": 1,
                  "gender_male": 1,
                  "total_score": 184,
                  "economic_status": 5
                },
                {
                  "index": 899,
                  "race": 4,
                  "test_prep": 1,
                  "gender_male": 0,
                  "total_score": 225,
                  "economic_status": 2
                },
                {
                  "index": 900,
                  "race": 4,
                  "test_prep": 0,
                  "gender_male": 1,
                  "total_score": 258,
                  "economic_status": 7
                },
                {
                  "index": 901,
                  "race": 3,
                  "test_prep": 0,
                  "gender_male": 0,
                  "total_score": 225,
                  "economic_status": 7
                },
                {
                  "index": 902,
                  "race": 1,
                  "test_prep": 1,
                  "gender_male": 0,
                  "total_score": 123,
                  "economic_status": 2
                },
                {
                  "index": 903,
                  "race": 4,
                  "test_prep": 1,
                  "gender_male": 0,
                  "total_score": 293,
                  "economic_status": 5
                },
                {
                  "index": 904,
                  "race": 4,
                  "test_prep": 0,
                  "gender_male": 0,
                  "total_score": 235,
                  "economic_status": 1
                },
                {
                  "index": 905,
                  "race": 4,
                  "test_prep": 0,
                  "gender_male": 1,
                  "total_score": 242,
                  "economic_status": 4
                },
                {
                  "index": 906,
                  "race": 2,
                  "test_prep": 0,
                  "gender_male": 1,
                  "total_score": 156,
                  "economic_status": 3
                },
                {
                  "index": 907,
                  "race": 4,
                  "test_prep": 1,
                  "gender_male": 0,
                  "total_score": 254,
                  "economic_status": 4
                },
                {
                  "index": 908,
                  "race": 3,
                  "test_prep": 0,
                  "gender_male": 0,
                  "total_score": 214,
                  "economic_status": 5
                },
                {
                  "index": 909,
                  "race": 5,
                  "test_prep": 1,
                  "gender_male": 1,
                  "total_score": 204,
                  "economic_status": 6
                },
                {
                  "index": 910,
                  "race": 4,
                  "test_prep": 0,
                  "gender_male": 1,
                  "total_score": 140,
                  "economic_status": 5
                },
                {
                  "index": 911,
                  "race": 1,
                  "test_prep": 0,
                  "gender_male": 0,
                  "total_score": 235,
                  "economic_status": 4
                },
                {
                  "index": 912,
                  "race": 3,
                  "test_prep": 1,
                  "gender_male": 0,
                  "total_score": 179,
                  "economic_status": 6
                },
                {
                  "index": 913,
                  "race": 3,
                  "test_prep": 1,
                  "gender_male": 0,
                  "total_score": 175,
                  "economic_status": 5
                },
                {
                  "index": 914,
                  "race": 2,
                  "test_prep": 0,
                  "gender_male": 0,
                  "total_score": 162,
                  "economic_status": 4
                },
                {
                  "index": 915,
                  "race": 5,
                  "test_prep": 0,
                  "gender_male": 0,
                  "total_score": 204,
                  "economic_status": 4
                },
                {
                  "index": 916,
                  "race": 5,
                  "test_prep": 1,
                  "gender_male": 1,
                  "total_score": 300,
                  "economic_status": 6
                },
                {
                  "index": 917,
                  "race": 3,
                  "test_prep": 0,
                  "gender_male": 0,
                  "total_score": 157,
                  "economic_status": 3
                },
                {
                  "index": 918,
                  "race": 3,
                  "test_prep": 1,
                  "gender_male": 0,
                  "total_score": 214,
                  "economic_status": 5
                },
                {
                  "index": 919,
                  "race": 2,
                  "test_prep": 1,
                  "gender_male": 1,
                  "total_score": 278,
                  "economic_status": 4
                },
                {
                  "index": 920,
                  "race": 4,
                  "test_prep": 0,
                  "gender_male": 1,
                  "total_score": 206,
                  "economic_status": 2
                },
                {
                  "index": 921,
                  "race": 3,
                  "test_prep": 0,
                  "gender_male": 0,
                  "total_score": 134,
                  "economic_status": 2
                },
                {
                  "index": 922,
                  "race": 4,
                  "test_prep": 0,
                  "gender_male": 1,
                  "total_score": 204,
                  "economic_status": 3
                },
                {
                  "index": 923,
                  "race": 2,
                  "test_prep": 0,
                  "gender_male": 0,
                  "total_score": 184,
                  "economic_status": 4
                },
                {
                  "index": 924,
                  "race": 4,
                  "test_prep": 0,
                  "gender_male": 1,
                  "total_score": 213,
                  "economic_status": 2
                },
                {
                  "index": 925,
                  "race": 5,
                  "test_prep": 1,
                  "gender_male": 1,
                  "total_score": 198,
                  "economic_status": 2
                },
                {
                  "index": 926,
                  "race": 5,
                  "test_prep": 0,
                  "gender_male": 1,
                  "total_score": 172,
                  "economic_status": 4
                },
                {
                  "index": 927,
                  "race": 4,
                  "test_prep": 1,
                  "gender_male": 0,
                  "total_score": 197,
                  "economic_status": 2
                },
                {
                  "index": 928,
                  "race": 5,
                  "test_prep": 1,
                  "gender_male": 1,
                  "total_score": 133,
                  "economic_status": 4
                },
                {
                  "index": 929,
                  "race": 3,
                  "test_prep": 0,
                  "gender_male": 0,
                  "total_score": 155,
                  "economic_status": 1
                },
                {
                  "index": 930,
                  "race": 3,
                  "test_prep": 1,
                  "gender_male": 1,
                  "total_score": 211,
                  "economic_status": 3
                },
                {
                  "index": 931,
                  "race": 4,
                  "test_prep": 0,
                  "gender_male": 1,
                  "total_score": 181,
                  "economic_status": 3
                },
                {
                  "index": 932,
                  "race": 4,
                  "test_prep": 1,
                  "gender_male": 1,
                  "total_score": 205,
                  "economic_status": 4
                },
                {
                  "index": 933,
                  "race": 3,
                  "test_prep": 1,
                  "gender_male": 1,
                  "total_score": 219,
                  "economic_status": 5
                },
                {
                  "index": 934,
                  "race": 3,
                  "test_prep": 1,
                  "gender_male": 1,
                  "total_score": 275,
                  "economic_status": 5
                },
                {
                  "index": 935,
                  "race": 4,
                  "test_prep": 0,
                  "gender_male": 1,
                  "total_score": 191,
                  "economic_status": 3
                },
                {
                  "index": 936,
                  "race": 1,
                  "test_prep": 0,
                  "gender_male": 1,
                  "total_score": 177,
                  "economic_status": 5
                },
                {
                  "index": 937,
                  "race": 5,
                  "test_prep": 0,
                  "gender_male": 0,
                  "total_score": 172,
                  "economic_status": 2
                },
                {
                  "index": 938,
                  "race": 4,
                  "test_prep": 1,
                  "gender_male": 1,
                  "total_score": 251,
                  "economic_status": 4
                },
                {
                  "index": 939,
                  "race": 4,
                  "test_prep": 1,
                  "gender_male": 1,
                  "total_score": 214,
                  "economic_status": 2
                },
                {
                  "index": 940,
                  "race": 3,
                  "test_prep": 1,
                  "gender_male": 1,
                  "total_score": 210,
                  "economic_status": 6
                },
                {
                  "index": 941,
                  "race": 4,
                  "test_prep": 0,
                  "gender_male": 0,
                  "total_score": 265,
                  "economic_status": 7
                },
                {
                  "index": 942,
                  "race": 3,
                  "test_prep": 0,
                  "gender_male": 1,
                  "total_score": 211,
                  "economic_status": 3
                },
                {
                  "index": 943,
                  "race": 1,
                  "test_prep": 1,
                  "gender_male": 1,
                  "total_score": 184,
                  "economic_status": 1
                },
                {
                  "index": 944,
                  "race": 2,
                  "test_prep": 0,
                  "gender_male": 0,
                  "total_score": 187,
                  "economic_status": 3
                },
                {
                  "index": 945,
                  "race": 3,
                  "test_prep": 0,
                  "gender_male": 0,
                  "total_score": 173,
                  "economic_status": 5
                },
                {
                  "index": 946,
                  "race": 2,
                  "test_prep": 0,
                  "gender_male": 1,
                  "total_score": 244,
                  "economic_status": 3
                },
                {
                  "index": 947,
                  "race": 4,
                  "test_prep": 0,
                  "gender_male": 0,
                  "total_score": 167,
                  "economic_status": 3
                },
                {
                  "index": 948,
                  "race": 2,
                  "test_prep": 1,
                  "gender_male": 1,
                  "total_score": 151,
                  "economic_status": 1
                },
                {
                  "index": 949,
                  "race": 5,
                  "test_prep": 1,
                  "gender_male": 0,
                  "total_score": 205,
                  "economic_status": 2
                },
                {
                  "index": 950,
                  "race": 5,
                  "test_prep": 0,
                  "gender_male": 1,
                  "total_score": 238,
                  "economic_status": 3
                },
                {
                  "index": 951,
                  "race": 4,
                  "test_prep": 1,
                  "gender_male": 0,
                  "total_score": 235,
                  "economic_status": 4
                },
                {
                  "index": 952,
                  "race": 5,
                  "test_prep": 0,
                  "gender_male": 0,
                  "total_score": 220,
                  "economic_status": 1
                },
                {
                  "index": 953,
                  "race": 3,
                  "test_prep": 1,
                  "gender_male": 1,
                  "total_score": 164,
                  "economic_status": 3
                },
                {
                  "index": 954,
                  "race": 3,
                  "test_prep": 0,
                  "gender_male": 0,
                  "total_score": 200,
                  "economic_status": 4
                },
                {
                  "index": 955,
                  "race": 5,
                  "test_prep": 0,
                  "gender_male": 1,
                  "total_score": 191,
                  "economic_status": 5
                },
                {
                  "index": 956,
                  "race": 3,
                  "test_prep": 0,
                  "gender_male": 1,
                  "total_score": 252,
                  "economic_status": 4
                },
                {
                  "index": 957,
                  "race": 4,
                  "test_prep": 0,
                  "gender_male": 0,
                  "total_score": 292,
                  "economic_status": 7
                },
                {
                  "index": 958,
                  "race": 4,
                  "test_prep": 0,
                  "gender_male": 0,
                  "total_score": 167,
                  "economic_status": 3
                },
                {
                  "index": 959,
                  "race": 3,
                  "test_prep": 0,
                  "gender_male": 1,
                  "total_score": 227,
                  "economic_status": 3
                },
                {
                  "index": 960,
                  "race": 1,
                  "test_prep": 0,
                  "gender_male": 0,
                  "total_score": 178,
                  "economic_status": 4
                },
                {
                  "index": 961,
                  "race": 4,
                  "test_prep": 0,
                  "gender_male": 0,
                  "total_score": 155,
                  "economic_status": 1
                },
                {
                  "index": 962,
                  "race": 5,
                  "test_prep": 0,
                  "gender_male": 0,
                  "total_score": 300,
                  "economic_status": 5
                },
                {
                  "index": 963,
                  "race": 3,
                  "test_prep": 1,
                  "gender_male": 0,
                  "total_score": 216,
                  "economic_status": 1
                },
                {
                  "index": 964,
                  "race": 4,
                  "test_prep": 0,
                  "gender_male": 1,
                  "total_score": 187,
                  "economic_status": 4
                },
                {
                  "index": 965,
                  "race": 4,
                  "test_prep": 0,
                  "gender_male": 0,
                  "total_score": 204,
                  "economic_status": 4
                },
                {
                  "index": 966,
                  "race": 1,
                  "test_prep": 1,
                  "gender_male": 1,
                  "total_score": 198,
                  "economic_status": 2
                },
                {
                  "index": 967,
                  "race": 3,
                  "test_prep": 0,
                  "gender_male": 1,
                  "total_score": 186,
                  "economic_status": 4
                },
                {
                  "index": 968,
                  "race": 5,
                  "test_prep": 0,
                  "gender_male": 0,
                  "total_score": 211,
                  "economic_status": 5
                },
                {
                  "index": 969,
                  "race": 2,
                  "test_prep": 0,
                  "gender_male": 0,
                  "total_score": 239,
                  "economic_status": 6
                },
                {
                  "index": 970,
                  "race": 4,
                  "test_prep": 0,
                  "gender_male": 0,
                  "total_score": 289,
                  "economic_status": 6
                },
                {
                  "index": 971,
                  "race": 3,
                  "test_prep": 1,
                  "gender_male": 1,
                  "total_score": 219,
                  "economic_status": 2
                },
                {
                  "index": 972,
                  "race": 1,
                  "test_prep": 1,
                  "gender_male": 0,
                  "total_score": 163,
                  "economic_status": 2
                },
                {
                  "index": 973,
                  "race": 4,
                  "test_prep": 0,
                  "gender_male": 0,
                  "total_score": 175,
                  "economic_status": 3
                },
                {
                  "index": 974,
                  "race": 1,
                  "test_prep": 0,
                  "gender_male": 0,
                  "total_score": 184,
                  "economic_status": 4
                },
                {
                  "index": 975,
                  "race": 3,
                  "test_prep": 1,
                  "gender_male": 0,
                  "total_score": 223,
                  "economic_status": 4
                },
                {
                  "index": 976,
                  "race": 2,
                  "test_prep": 1,
                  "gender_male": 1,
                  "total_score": 182,
                  "economic_status": 3
                },
                {
                  "index": 977,
                  "race": 3,
                  "test_prep": 0,
                  "gender_male": 1,
                  "total_score": 185,
                  "economic_status": 5
                },
                {
                  "index": 978,
                  "race": 4,
                  "test_prep": 1,
                  "gender_male": 1,
                  "total_score": 144,
                  "economic_status": 3
                },
                {
                  "index": 979,
                  "race": 3,
                  "test_prep": 0,
                  "gender_male": 0,
                  "total_score": 280,
                  "economic_status": 5
                },
                {
                  "index": 980,
                  "race": 2,
                  "test_prep": 0,
                  "gender_male": 0,
                  "total_score": 55,
                  "economic_status": 2
                },
                {
                  "index": 981,
                  "race": 4,
                  "test_prep": 0,
                  "gender_male": 1,
                  "total_score": 237,
                  "economic_status": 2
                },
                {
                  "index": 982,
                  "race": 2,
                  "test_prep": 1,
                  "gender_male": 1,
                  "total_score": 250,
                  "economic_status": 2
                },
                {
                  "index": 983,
                  "race": 1,
                  "test_prep": 1,
                  "gender_male": 0,
                  "total_score": 256,
                  "economic_status": 4
                },
                {
                  "index": 984,
                  "race": 3,
                  "test_prep": 0,
                  "gender_male": 0,
                  "total_score": 231,
                  "economic_status": 2
                },
                {
                  "index": 985,
                  "race": 1,
                  "test_prep": 0,
                  "gender_male": 1,
                  "total_score": 162,
                  "economic_status": 3
                },
                {
                  "index": 986,
                  "race": 3,
                  "test_prep": 0,
                  "gender_male": 0,
                  "total_score": 150,
                  "economic_status": 5
                },
                {
                  "index": 987,
                  "race": 5,
                  "test_prep": 1,
                  "gender_male": 1,
                  "total_score": 232,
                  "economic_status": 2
                },
                {
                  "index": 988,
                  "race": 1,
                  "test_prep": 0,
                  "gender_male": 0,
                  "total_score": 134,
                  "economic_status": 1
                },
                {
                  "index": 989,
                  "race": 4,
                  "test_prep": 1,
                  "gender_male": 0,
                  "total_score": 236,
                  "economic_status": 3
                },
                {
                  "index": 990,
                  "race": 5,
                  "test_prep": 1,
                  "gender_male": 1,
                  "total_score": 242,
                  "economic_status": 2
                },
                {
                  "index": 991,
                  "race": 2,
                  "test_prep": 1,
                  "gender_male": 0,
                  "total_score": 225,
                  "economic_status": 2
                },
                {
                  "index": 992,
                  "race": 4,
                  "test_prep": 0,
                  "gender_male": 0,
                  "total_score": 207,
                  "economic_status": 4
                },
                {
                  "index": 993,
                  "race": 4,
                  "test_prep": 0,
                  "gender_male": 0,
                  "total_score": 208,
                  "economic_status": 5
                },
                {
                  "index": 994,
                  "race": 1,
                  "test_prep": 0,
                  "gender_male": 1,
                  "total_score": 188,
                  "economic_status": 3
                },
                {
                  "index": 995,
                  "race": 5,
                  "test_prep": 1,
                  "gender_male": 0,
                  "total_score": 282,
                  "economic_status": 7
                },
                {
                  "index": 996,
                  "race": 3,
                  "test_prep": 0,
                  "gender_male": 1,
                  "total_score": 172,
                  "economic_status": 2
                },
                {
                  "index": 997,
                  "race": 3,
                  "test_prep": 1,
                  "gender_male": 0,
                  "total_score": 195,
                  "economic_status": 2
                },
                {
                  "index": 998,
                  "race": 4,
                  "test_prep": 1,
                  "gender_male": 0,
                  "total_score": 223,
                  "economic_status": 4
                },
                {
                  "index": 999,
                  "race": 4,
                  "test_prep": 0,
                  "gender_male": 0,
                  "total_score": 249,
                  "economic_status": 3
                }
              ],
              "datalink": {
                "display_id": "3a213f3a-862b-43f7-82cc-573aed9dcf20"
              }
            }
          },
          "metadata": {
            "application/vnd.dataresource+json": {
              "datalink": {
                "dataframe_info": {
                  "default_index_used": true,
                  "orig_size_bytes": 41000,
                  "orig_num_rows": 1000,
                  "orig_num_cols": 5,
                  "truncated_string_columns": [],
                  "truncated_size_bytes": 41000,
                  "truncated_num_rows": 1000,
                  "truncated_num_cols": 5
                },
                "dx_settings": {
                  "NUM_PAST_SAMPLES_TRACKED": 3,
                  "ENABLE_DATALINK": true,
                  "DISPLAY_MODE": "simple",
                  "GENERATE_DEX_METADATA": false,
                  "STRINGIFY_INDEX_VALUES": false,
                  "ALLOW_NOTEABLE_ATTRS": true,
                  "DISPLAY_MAX_COLUMNS": 100,
                  "HTML_TABLE_SCHEMA": false,
                  "SAMPLING_FACTOR": 0.1,
                  "LOG_LEVEL": 30,
                  "ENABLE_ASSIGNMENT": true,
                  "FLATTEN_INDEX_VALUES": false,
                  "DEV_MODE": false,
                  "COLUMN_SAMPLING_METHOD": "outer",
                  "FLATTEN_COLUMN_VALUES": true,
                  "DISPLAY_MAX_ROWS": 50000,
                  "ROW_SAMPLING_METHOD": "random",
                  "RANDOM_STATE": 12648430,
                  "DB_LOCATION": ":memory:",
                  "STRINGIFY_COLUMN_VALUES": true,
                  "SAMPLING_METHOD": "random",
                  "MAX_STRING_LENGTH": 250,
                  "MAX_RENDER_SIZE_BYTES": 104857600,
                  "RESET_INDEX_VALUES": false
                },
                "display_id": "3a213f3a-862b-43f7-82cc-573aed9dcf20",
                "applied_filters": [],
                "sample_history": [],
                "sampling_time": "2023-10-10T16:05:37.022938",
                "variable_name": "df",
                "user_variable_name": "df"
              },
              "display_id": "3a213f3a-862b-43f7-82cc-573aed9dcf20"
            }
          }
        }
      ],
      "execution_count": null,
      "metadata": {
        "jupyter": {
          "outputs_hidden": false,
          "source_hidden": false
        },
        "noteable": {
          "cell_type": "code"
        },
        "ExecuteTime": {
          "end_time": "2023-10-10T16:05:37.182877+00:00",
          "start_time": "2023-10-10T16:05:36.948191+00:00"
        },
        "datalink": {
          "b7c39dbb-3761-45ad-a987-107ba8698ed5": {
            "applied_filters": [],
            "dataframe_info": {
              "default_index_used": true,
              "orig_num_cols": 5,
              "orig_num_rows": 1000,
              "orig_size_bytes": 41000,
              "truncated_num_cols": 5,
              "truncated_num_rows": 1000,
              "truncated_size_bytes": 41000,
              "truncated_string_columns": []
            },
            "display_id": "b7c39dbb-3761-45ad-a987-107ba8698ed5",
            "dx_settings": {
              "ALLOW_NOTEABLE_ATTRS": true,
              "COLUMN_SAMPLING_METHOD": "outer",
              "DB_LOCATION": ":memory:",
              "DEV_MODE": false,
              "DISPLAY_MAX_COLUMNS": 100,
              "DISPLAY_MAX_ROWS": 50000,
              "DISPLAY_MODE": "simple",
              "ENABLE_ASSIGNMENT": true,
              "ENABLE_DATALINK": true,
              "FLATTEN_COLUMN_VALUES": true,
              "FLATTEN_INDEX_VALUES": false,
              "GENERATE_DEX_METADATA": false,
              "HTML_TABLE_SCHEMA": false,
              "LOG_LEVEL": 30,
              "MAX_RENDER_SIZE_BYTES": 104857600,
              "MAX_STRING_LENGTH": 250,
              "NUM_PAST_SAMPLES_TRACKED": 3,
              "RANDOM_STATE": 12648430,
              "RESET_INDEX_VALUES": false,
              "ROW_SAMPLING_METHOD": "random",
              "SAMPLING_FACTOR": 0.1,
              "SAMPLING_METHOD": "random",
              "STRINGIFY_COLUMN_VALUES": true,
              "STRINGIFY_INDEX_VALUES": false
            },
            "sample_history": [],
            "sampling_time": "2023-10-10T16:05:10.608705",
            "user_variable_name": "df",
            "variable_name": "df"
          },
          "3a213f3a-862b-43f7-82cc-573aed9dcf20": {
            "applied_filters": [],
            "dataframe_info": {
              "default_index_used": true,
              "orig_num_cols": 5,
              "orig_num_rows": 1000,
              "orig_size_bytes": 41000,
              "truncated_num_cols": 5,
              "truncated_num_rows": 1000,
              "truncated_size_bytes": 41000,
              "truncated_string_columns": []
            },
            "display_id": "3a213f3a-862b-43f7-82cc-573aed9dcf20",
            "dx_settings": {
              "ALLOW_NOTEABLE_ATTRS": true,
              "COLUMN_SAMPLING_METHOD": "outer",
              "DB_LOCATION": ":memory:",
              "DEV_MODE": false,
              "DISPLAY_MAX_COLUMNS": 100,
              "DISPLAY_MAX_ROWS": 50000,
              "DISPLAY_MODE": "simple",
              "ENABLE_ASSIGNMENT": true,
              "ENABLE_DATALINK": true,
              "FLATTEN_COLUMN_VALUES": true,
              "FLATTEN_INDEX_VALUES": false,
              "GENERATE_DEX_METADATA": false,
              "HTML_TABLE_SCHEMA": false,
              "LOG_LEVEL": 30,
              "MAX_RENDER_SIZE_BYTES": 104857600,
              "MAX_STRING_LENGTH": 250,
              "NUM_PAST_SAMPLES_TRACKED": 3,
              "RANDOM_STATE": 12648430,
              "RESET_INDEX_VALUES": false,
              "ROW_SAMPLING_METHOD": "random",
              "SAMPLING_FACTOR": 0.1,
              "SAMPLING_METHOD": "random",
              "STRINGIFY_COLUMN_VALUES": true,
              "STRINGIFY_INDEX_VALUES": false
            },
            "sample_history": [],
            "sampling_time": "2023-10-10T16:05:37.022938",
            "user_variable_name": "df",
            "variable_name": "df"
          }
        },
        "dx": {
          "dashboard": {
            "multiViews": []
          },
          "fieldMetadata": {},
          "updated": 1696954646799,
          "views": [
            {
              "annotationRules": [],
              "chart": {},
              "chartMode": "grid",
              "confoRules": [],
              "decoration": {
                "footer": "",
                "subtitle": "",
                "title": "Table"
              },
              "facets": [],
              "filterSettings": {
                "SHOW_FILTER_PANEL": true,
                "filters": []
              },
              "id": "first-view",
              "isDefault": true,
              "type": "public",
              "userID": ""
            },
            {
              "annotationRules": [],
              "chart": {
                "facets": [],
                "lineType": "line",
                "marginalGraphics": "none",
                "metric1": "economic_status",
                "metric2": "total_score",
                "scatterplotSize": "none",
                "trendLine": "polynomial"
              },
              "chartMode": "scatter",
              "confoRules": [],
              "decoration": {
                "footer": "",
                "subtitle": "",
                "title": "Scatterplot"
              },
              "facets": [],
              "filterSettings": {
                "SHOW_FILTER_PANEL": true,
                "filters": []
              },
              "id": "first-view",
              "isDefault": true,
              "isTransitory": true,
              "type": "public",
              "userID": ""
            }
          ]
        }
      },
      "id": "00768487-0ed9-4494-9eda-f6ce9c9cd100"
    },
    {
      "cell_type": "code",
      "source": [
        "X=df.drop(['total_score'],axis=1).to_numpy()\n",
        "y=df['total_score'].to_numpy()"
      ],
      "outputs": [],
      "execution_count": null,
      "metadata": {
        "jupyter": {
          "outputs_hidden": false,
          "source_hidden": false
        },
        "noteable": {
          "cell_type": "code"
        },
        "ExecuteTime": {
          "end_time": "2023-10-10T17:58:36.073834+00:00",
          "start_time": "2023-10-10T17:58:35.915670+00:00"
        }
      },
      "id": "cde3baed-db35-41f7-b452-0a8411011083"
    },
    {
      "cell_type": "markdown",
      "source": [
        "Train, validation, test datasets"
      ],
      "metadata": {
        "noteable": {
          "cell_type": "markdown"
        }
      },
      "id": "e7e3cbfe-91cf-4816-b6e7-21277fc0f392"
    },
    {
      "cell_type": "code",
      "source": [
        "X_train, X_val_test, y_train, y_val_test = train_test_split(X,y, test_size=0.4,shuffle=True)\n",
        "X_val, X_test, y_val, y_test = train_test_split(X_val_test,y_val_test, test_size=0.5,shuffle=True)"
      ],
      "outputs": [],
      "execution_count": null,
      "metadata": {
        "jupyter": {
          "outputs_hidden": false,
          "source_hidden": false
        },
        "noteable": {
          "cell_type": "code"
        },
        "ExecuteTime": {
          "end_time": "2023-10-10T17:58:40.483355+00:00",
          "start_time": "2023-10-10T17:58:40.326919+00:00"
        },
        "scrolled": false
      },
      "id": "ec98c990-db71-49dd-9e54-ba79d648948c"
    },
    {
      "cell_type": "markdown",
      "source": [
        "Polynomial Regression"
      ],
      "metadata": {
        "noteable": {
          "cell_type": "markdown"
        }
      },
      "id": "04a18da7-233e-40fa-9ef8-60ef66d50779"
    },
    {
      "cell_type": "code",
      "source": [
        "degrees = range(2,11)\n",
        "# we will use this variables to store the resulting training and validation errors for each polynomial degree\n",
        "poly_tr_errors = []          \n",
        "poly_val_errors = []\n",
        "for degree in degrees:    # use for-loop to fit polynomial regression models with different degrees\n",
        "    lin_regr = LinearRegression(fit_intercept=False) # NOTE: \"fit_intercept=False\" as we already have a constant iterm in the new feature X_poly\n",
        "    poly = PolynomialFeatures(degree=degree)    # generate polynomial features\n",
        "    X_train_poly = poly.fit_transform(X_train)    # fit the raw features\n",
        "    lin_regr.fit(X_train_poly, y_train)    # apply linear regression to these new features and labels\n",
        "  \n",
        "    y_pred_train = lin_regr.predict(X_train_poly)    # predict using the linear model\n",
        "    tr_error = mean_squared_error(y_train, y_pred_train)    # calculate the training error\n",
        "    X_val_poly = poly.transform(X_val) # transform the raw features for the validation data \n",
        "    y_pred_val = lin_regr.predict(X_val_poly) # predict values for the validation data using the linear model \n",
        "    val_error = mean_squared_error(y_val, y_pred_val) # calculate the validation error\n",
        " \n",
        "    poly_tr_errors.append(tr_error)\n",
        "    poly_val_errors.append(val_error)"
      ],
      "outputs": [],
      "execution_count": null,
      "metadata": {
        "jupyter": {
          "outputs_hidden": false,
          "source_hidden": false
        },
        "noteable": {
          "cell_type": "code"
        },
        "ExecuteTime": null
      },
      "id": "f522160e-7e72-4cc2-a193-9e474dd303ab"
    },
    {
      "cell_type": "code",
      "source": [
        "# create a table to compare training and validation errors\n",
        "errors = {\"poly degree\":degrees,\n",
        "          \"poly_train_errors\":poly_tr_errors,\n",
        "          \"poly_val_errors\":poly_val_errors,\n",
        "         }\n",
        "pd.DataFrame({ key:pd.Series(value) for key, value in errors.items()})"
      ],
      "outputs": [
        {
          "output_type": "display_data",
          "data": {
            "application/vnd.dataresource+json": {
              "schema": {
                "fields": [
                  {
                    "name": "index",
                    "type": "integer"
                  },
                  {
                    "name": "poly degree",
                    "type": "integer"
                  },
                  {
                    "name": "poly_train_errors",
                    "type": "number"
                  },
                  {
                    "name": "poly_val_errors",
                    "type": "number"
                  }
                ],
                "primaryKey": [
                  "index"
                ],
                "pandas_version": "1.4.0"
              },
              "data": [
                {
                  "index": 0,
                  "poly degree": 2,
                  "poly_train_errors": 1429.509973568401,
                  "poly_val_errors": 1685.3898763607515
                },
                {
                  "index": 1,
                  "poly degree": 3,
                  "poly_train_errors": 1401.9569713728172,
                  "poly_val_errors": 1704.5769422664819
                },
                {
                  "index": 2,
                  "poly degree": 4,
                  "poly_train_errors": 1353.9177978768796,
                  "poly_val_errors": 1796.506835295388
                },
                {
                  "index": 3,
                  "poly degree": 5,
                  "poly_train_errors": 1305.1651720750883,
                  "poly_val_errors": 1844.3006959450627
                },
                {
                  "index": 4,
                  "poly degree": 6,
                  "poly_train_errors": 1258.9072208789178,
                  "poly_val_errors": 1952.0840845112275
                }
              ],
              "datalink": {
                "display_id": "2635457d-62a3-4ae4-a5ce-a38b6a0d1783"
              }
            }
          },
          "metadata": {
            "application/vnd.dataresource+json": {
              "datalink": {
                "dataframe_info": {
                  "default_index_used": true,
                  "orig_size_bytes": 160,
                  "orig_num_rows": 5,
                  "orig_num_cols": 3,
                  "truncated_string_columns": [],
                  "truncated_size_bytes": 160,
                  "truncated_num_rows": 5,
                  "truncated_num_cols": 3
                },
                "dx_settings": {
                  "NUM_PAST_SAMPLES_TRACKED": 3,
                  "ENABLE_DATALINK": true,
                  "DISPLAY_MODE": "simple",
                  "GENERATE_DEX_METADATA": false,
                  "STRINGIFY_INDEX_VALUES": false,
                  "ALLOW_NOTEABLE_ATTRS": true,
                  "DISPLAY_MAX_COLUMNS": 100,
                  "HTML_TABLE_SCHEMA": false,
                  "SAMPLING_FACTOR": 0.1,
                  "LOG_LEVEL": 30,
                  "ENABLE_ASSIGNMENT": true,
                  "FLATTEN_INDEX_VALUES": false,
                  "DEV_MODE": false,
                  "COLUMN_SAMPLING_METHOD": "outer",
                  "FLATTEN_COLUMN_VALUES": true,
                  "DISPLAY_MAX_ROWS": 50000,
                  "ROW_SAMPLING_METHOD": "random",
                  "RANDOM_STATE": 12648430,
                  "DB_LOCATION": ":memory:",
                  "STRINGIFY_COLUMN_VALUES": true,
                  "SAMPLING_METHOD": "random",
                  "MAX_STRING_LENGTH": 250,
                  "MAX_RENDER_SIZE_BYTES": 104857600,
                  "RESET_INDEX_VALUES": false
                },
                "display_id": "2635457d-62a3-4ae4-a5ce-a38b6a0d1783",
                "applied_filters": [],
                "sample_history": [],
                "sampling_time": "2023-10-10T16:30:23.100815",
                "variable_name": "unk_dataframe_57e268138ccf49d88fe8278f4fafe080",
                "user_variable_name": null
              },
              "display_id": "2635457d-62a3-4ae4-a5ce-a38b6a0d1783"
            }
          }
        }
      ],
      "execution_count": null,
      "metadata": {
        "jupyter": {
          "outputs_hidden": false,
          "source_hidden": false
        },
        "noteable": {
          "cell_type": "code"
        },
        "ExecuteTime": {
          "end_time": "2023-10-10T16:30:23.259238+00:00",
          "start_time": "2023-10-10T16:30:23.039881+00:00"
        },
        "datalink": {
          "8e54a9c8-3460-4398-95a7-b7e8be1459f3": {
            "applied_filters": [],
            "dataframe_info": {
              "default_index_used": true,
              "orig_num_cols": 3,
              "orig_num_rows": 4,
              "orig_size_bytes": 128,
              "truncated_num_cols": 3,
              "truncated_num_rows": 4,
              "truncated_size_bytes": 128,
              "truncated_string_columns": []
            },
            "display_id": "8e54a9c8-3460-4398-95a7-b7e8be1459f3",
            "dx_settings": {
              "ALLOW_NOTEABLE_ATTRS": true,
              "COLUMN_SAMPLING_METHOD": "outer",
              "DB_LOCATION": ":memory:",
              "DEV_MODE": false,
              "DISPLAY_MAX_COLUMNS": 100,
              "DISPLAY_MAX_ROWS": 50000,
              "DISPLAY_MODE": "simple",
              "ENABLE_ASSIGNMENT": true,
              "ENABLE_DATALINK": true,
              "FLATTEN_COLUMN_VALUES": true,
              "FLATTEN_INDEX_VALUES": false,
              "GENERATE_DEX_METADATA": false,
              "HTML_TABLE_SCHEMA": false,
              "LOG_LEVEL": 30,
              "MAX_RENDER_SIZE_BYTES": 104857600,
              "MAX_STRING_LENGTH": 250,
              "NUM_PAST_SAMPLES_TRACKED": 3,
              "RANDOM_STATE": 12648430,
              "RESET_INDEX_VALUES": false,
              "ROW_SAMPLING_METHOD": "random",
              "SAMPLING_FACTOR": 0.1,
              "SAMPLING_METHOD": "random",
              "STRINGIFY_COLUMN_VALUES": true,
              "STRINGIFY_INDEX_VALUES": false
            },
            "sample_history": [],
            "sampling_time": "2023-10-08T13:33:38.195009",
            "user_variable_name": null,
            "variable_name": "unk_dataframe_bd2d2314d91f4df08f026a01442ca36d"
          },
          "2140c5ae-4422-4e9b-89bf-5e30cc2b2a16": {
            "applied_filters": [],
            "dataframe_info": {
              "default_index_used": true,
              "orig_num_cols": 3,
              "orig_num_rows": 5,
              "orig_size_bytes": 160,
              "truncated_num_cols": 3,
              "truncated_num_rows": 5,
              "truncated_size_bytes": 160,
              "truncated_string_columns": []
            },
            "display_id": "2140c5ae-4422-4e9b-89bf-5e30cc2b2a16",
            "dx_settings": {
              "ALLOW_NOTEABLE_ATTRS": true,
              "COLUMN_SAMPLING_METHOD": "outer",
              "DB_LOCATION": ":memory:",
              "DEV_MODE": false,
              "DISPLAY_MAX_COLUMNS": 100,
              "DISPLAY_MAX_ROWS": 50000,
              "DISPLAY_MODE": "simple",
              "ENABLE_ASSIGNMENT": true,
              "ENABLE_DATALINK": true,
              "FLATTEN_COLUMN_VALUES": true,
              "FLATTEN_INDEX_VALUES": false,
              "GENERATE_DEX_METADATA": false,
              "HTML_TABLE_SCHEMA": false,
              "LOG_LEVEL": 30,
              "MAX_RENDER_SIZE_BYTES": 104857600,
              "MAX_STRING_LENGTH": 250,
              "NUM_PAST_SAMPLES_TRACKED": 3,
              "RANDOM_STATE": 12648430,
              "RESET_INDEX_VALUES": false,
              "ROW_SAMPLING_METHOD": "random",
              "SAMPLING_FACTOR": 0.1,
              "SAMPLING_METHOD": "random",
              "STRINGIFY_COLUMN_VALUES": true,
              "STRINGIFY_INDEX_VALUES": false
            },
            "sample_history": [],
            "sampling_time": "2023-10-08T13:34:31.535548",
            "user_variable_name": null,
            "variable_name": "unk_dataframe_6877046c82fa4e78b1d1e5d48eb7aaa0"
          },
          "651388c0-af24-47f5-b8b8-1d48cc2e63c2": {
            "applied_filters": [],
            "dataframe_info": {
              "default_index_used": true,
              "orig_num_cols": 3,
              "orig_num_rows": 5,
              "orig_size_bytes": 160,
              "truncated_num_cols": 3,
              "truncated_num_rows": 5,
              "truncated_size_bytes": 160,
              "truncated_string_columns": []
            },
            "display_id": "651388c0-af24-47f5-b8b8-1d48cc2e63c2",
            "dx_settings": {
              "ALLOW_NOTEABLE_ATTRS": true,
              "COLUMN_SAMPLING_METHOD": "outer",
              "DB_LOCATION": ":memory:",
              "DEV_MODE": false,
              "DISPLAY_MAX_COLUMNS": 100,
              "DISPLAY_MAX_ROWS": 50000,
              "DISPLAY_MODE": "simple",
              "ENABLE_ASSIGNMENT": true,
              "ENABLE_DATALINK": true,
              "FLATTEN_COLUMN_VALUES": true,
              "FLATTEN_INDEX_VALUES": false,
              "GENERATE_DEX_METADATA": false,
              "HTML_TABLE_SCHEMA": false,
              "LOG_LEVEL": 30,
              "MAX_RENDER_SIZE_BYTES": 104857600,
              "MAX_STRING_LENGTH": 250,
              "NUM_PAST_SAMPLES_TRACKED": 3,
              "RANDOM_STATE": 12648430,
              "RESET_INDEX_VALUES": false,
              "ROW_SAMPLING_METHOD": "random",
              "SAMPLING_FACTOR": 0.1,
              "SAMPLING_METHOD": "random",
              "STRINGIFY_COLUMN_VALUES": true,
              "STRINGIFY_INDEX_VALUES": false
            },
            "sample_history": [],
            "sampling_time": "2023-10-08T13:37:41.415252",
            "user_variable_name": null,
            "variable_name": "unk_dataframe_1fd827d86710489a931405398b29a0bb"
          },
          "2635457d-62a3-4ae4-a5ce-a38b6a0d1783": {
            "applied_filters": [],
            "dataframe_info": {
              "default_index_used": true,
              "orig_num_cols": 3,
              "orig_num_rows": 5,
              "orig_size_bytes": 160,
              "truncated_num_cols": 3,
              "truncated_num_rows": 5,
              "truncated_size_bytes": 160,
              "truncated_string_columns": []
            },
            "display_id": "2635457d-62a3-4ae4-a5ce-a38b6a0d1783",
            "dx_settings": {
              "ALLOW_NOTEABLE_ATTRS": true,
              "COLUMN_SAMPLING_METHOD": "outer",
              "DB_LOCATION": ":memory:",
              "DEV_MODE": false,
              "DISPLAY_MAX_COLUMNS": 100,
              "DISPLAY_MAX_ROWS": 50000,
              "DISPLAY_MODE": "simple",
              "ENABLE_ASSIGNMENT": true,
              "ENABLE_DATALINK": true,
              "FLATTEN_COLUMN_VALUES": true,
              "FLATTEN_INDEX_VALUES": false,
              "GENERATE_DEX_METADATA": false,
              "HTML_TABLE_SCHEMA": false,
              "LOG_LEVEL": 30,
              "MAX_RENDER_SIZE_BYTES": 104857600,
              "MAX_STRING_LENGTH": 250,
              "NUM_PAST_SAMPLES_TRACKED": 3,
              "RANDOM_STATE": 12648430,
              "RESET_INDEX_VALUES": false,
              "ROW_SAMPLING_METHOD": "random",
              "SAMPLING_FACTOR": 0.1,
              "SAMPLING_METHOD": "random",
              "STRINGIFY_COLUMN_VALUES": true,
              "STRINGIFY_INDEX_VALUES": false
            },
            "sample_history": [],
            "sampling_time": "2023-10-10T16:30:23.100815",
            "user_variable_name": null,
            "variable_name": "unk_dataframe_57e268138ccf49d88fe8278f4fafe080"
          }
        },
        "dx": {
          "dashboard": {
            "multiViews": []
          },
          "fieldMetadata": {},
          "updated": 1696955437097,
          "views": [
            {
              "annotationRules": [],
              "chart": {},
              "chartMode": "empty",
              "confoRules": [],
              "decoration": {
                "footer": "",
                "subtitle": "",
                "title": "New View"
              },
              "facets": [],
              "filterSettings": {
                "SHOW_FILTER_PANEL": true,
                "filters": []
              },
              "id": "7382cf7b-db32-45a2-a09a-cb54e0fc04ff",
              "isDefault": false,
              "type": "public",
              "userID": ""
            },
            {
              "annotationRules": [],
              "chart": {
                "facets": []
              },
              "chartMode": "grid",
              "confoRules": [],
              "decoration": {
                "footer": "",
                "subtitle": "",
                "title": "Table"
              },
              "facets": [],
              "filterSettings": {
                "SHOW_FILTER_PANEL": true,
                "filters": []
              },
              "id": "7382cf7b-db32-45a2-a09a-cb54e0fc04ff",
              "isDefault": false,
              "isTransitory": true,
              "type": "public",
              "userID": ""
            }
          ]
        }
      },
      "id": "f7ddf190-0e75-4179-9f05-80e2d5443fdb"
    },
    {
      "cell_type": "markdown",
      "source": [
        "Multi Layer Perceptron Regression"
      ],
      "metadata": {
        "noteable": {
          "cell_type": "markdown"
        }
      },
      "id": "91ec8c55-0d15-443d-af2b-a94b1bacbc75"
    },
    {
      "cell_type": "code",
      "source": [
        "from sklearn.neural_network import MLPRegressor\n",
        "\n",
        "## define a list of values for the number of hidden layers\n",
        "num_layers = [1,2,4,6,8,10]    # number of hidden layers\n",
        "num_neurons = 15  # number of neurons in each layer\n",
        "\n",
        "# we will use this variable to store the resulting training errors corresponding to different hidden-layer numbers\n",
        "mlp_tr_errors = []          \n",
        "mlp_val_errors = []\n",
        "\n",
        "for i, num in enumerate(num_layers):\n",
        "    hidden_layer_sizes = tuple([num_neurons]*num) # size (num of neurons) of each layer stacked in a tuple\n",
        "    \n",
        "    mlp_regr = MLPRegressor(hidden_layer_sizes, max_iter=1000, random_state = 42) # Initialise an MLPRegressor\n",
        " \n",
        "    mlp_regr.fit(X_train,y_train)    # Train MLP on the training set\n",
        "    \n",
        "    ## evaluate the trained MLP on both training set and validation set\n",
        "    y_pred_train = mlp_regr.predict(X_train)    # predict on the training set\n",
        "    tr_error = mean_squared_error(y_train, y_pred_train)    # calculate the training error\n",
        "    y_pred_val = mlp_regr.predict(X_val) # predict values for the validation data \n",
        "    val_error = mean_squared_error(y_val, y_pred_val) # calculate the validation error\n",
        "    \n",
        "    mlp_tr_errors.append(tr_error)\n",
        "    mlp_val_errors.append(val_error)\n",
        "\n",
        "print(mlp_tr_errors)"
      ],
      "outputs": [
        {
          "output_type": "stream",
          "name": "stdout",
          "text": [
            "[0.32800320045257547, 6.870707027710165, 0.008351143539038276, 0.02334163782789658, 0.12636818800268135, 0.008265925365455536]\n"
          ]
        }
      ],
      "execution_count": null,
      "metadata": {
        "jupyter": {
          "outputs_hidden": false,
          "source_hidden": false
        },
        "noteable": {
          "cell_type": "code"
        },
        "ExecuteTime": {
          "end_time": "2023-10-10T18:41:33.955728+00:00",
          "start_time": "2023-10-10T18:41:27.023461+00:00"
        }
      },
      "id": "3d80ca02-773f-4a47-bb2c-a8f1d3c66b1f"
    },
    {
      "cell_type": "code",
      "source": [
        "# create a table to compare the training and validation errors for MLPs with different number of hidden layers\n",
        "errors = {\"num_hidden_layers\":num_layers,\n",
        "          \"mlp_train_errors\":mlp_tr_errors,\n",
        "          \"mlp_val_errors\":mlp_val_errors,\n",
        "         }\n",
        "pd.DataFrame(errors)"
      ],
      "outputs": [
        {
          "output_type": "display_data",
          "data": {
            "application/vnd.dataresource+json": {
              "schema": {
                "fields": [
                  {
                    "name": "index",
                    "type": "integer"
                  },
                  {
                    "name": "num_hidden_layers",
                    "type": "integer"
                  },
                  {
                    "name": "mlp_train_errors",
                    "type": "number"
                  },
                  {
                    "name": "mlp_val_errors",
                    "type": "number"
                  }
                ],
                "primaryKey": [
                  "index"
                ],
                "pandas_version": "1.4.0"
              },
              "data": [
                {
                  "index": 0,
                  "num_hidden_layers": 1,
                  "mlp_train_errors": 0.32800320045257547,
                  "mlp_val_errors": 0.220175444427949
                },
                {
                  "index": 1,
                  "num_hidden_layers": 2,
                  "mlp_train_errors": 6.870707027710165,
                  "mlp_val_errors": 5.787139405273065
                },
                {
                  "index": 2,
                  "num_hidden_layers": 4,
                  "mlp_train_errors": 0.008351143539038276,
                  "mlp_val_errors": 0.021838912604384406
                },
                {
                  "index": 3,
                  "num_hidden_layers": 6,
                  "mlp_train_errors": 0.02334163782789658,
                  "mlp_val_errors": 0.022780732354861607
                },
                {
                  "index": 4,
                  "num_hidden_layers": 8,
                  "mlp_train_errors": 0.12636818800268135,
                  "mlp_val_errors": 0.13940318655141457
                },
                {
                  "index": 5,
                  "num_hidden_layers": 10,
                  "mlp_train_errors": 0.008265925365455536,
                  "mlp_val_errors": 0.014660634471948604
                }
              ],
              "datalink": {
                "display_id": "53521fa6-bd4d-490e-b655-96d8960e5b18"
              }
            }
          },
          "metadata": {
            "application/vnd.dataresource+json": {
              "datalink": {
                "dataframe_info": {
                  "default_index_used": true,
                  "orig_size_bytes": 192,
                  "orig_num_rows": 6,
                  "orig_num_cols": 3,
                  "truncated_string_columns": [],
                  "truncated_size_bytes": 192,
                  "truncated_num_rows": 6,
                  "truncated_num_cols": 3
                },
                "dx_settings": {
                  "NUM_PAST_SAMPLES_TRACKED": 3,
                  "ENABLE_DATALINK": true,
                  "DISPLAY_MODE": "simple",
                  "GENERATE_DEX_METADATA": false,
                  "STRINGIFY_INDEX_VALUES": false,
                  "ALLOW_NOTEABLE_ATTRS": true,
                  "DISPLAY_MAX_COLUMNS": 100,
                  "HTML_TABLE_SCHEMA": false,
                  "SAMPLING_FACTOR": 0.1,
                  "LOG_LEVEL": 30,
                  "ENABLE_ASSIGNMENT": true,
                  "FLATTEN_INDEX_VALUES": false,
                  "DEV_MODE": false,
                  "COLUMN_SAMPLING_METHOD": "outer",
                  "FLATTEN_COLUMN_VALUES": true,
                  "DISPLAY_MAX_ROWS": 50000,
                  "ROW_SAMPLING_METHOD": "random",
                  "RANDOM_STATE": 12648430,
                  "DB_LOCATION": ":memory:",
                  "STRINGIFY_COLUMN_VALUES": true,
                  "SAMPLING_METHOD": "random",
                  "MAX_STRING_LENGTH": 250,
                  "MAX_RENDER_SIZE_BYTES": 104857600,
                  "RESET_INDEX_VALUES": false
                },
                "display_id": "53521fa6-bd4d-490e-b655-96d8960e5b18",
                "applied_filters": [],
                "sample_history": [],
                "sampling_time": "2023-10-10T18:41:39.405241",
                "variable_name": "unk_dataframe_8154b9f4a68547a2a00cf7b190062e1d",
                "user_variable_name": null
              },
              "display_id": "53521fa6-bd4d-490e-b655-96d8960e5b18"
            }
          }
        }
      ],
      "execution_count": null,
      "metadata": {
        "jupyter": {
          "outputs_hidden": false,
          "source_hidden": false
        },
        "noteable": {
          "cell_type": "code"
        },
        "ExecuteTime": {
          "end_time": "2023-10-10T18:41:39.566063+00:00",
          "start_time": "2023-10-10T18:41:39.367125+00:00"
        },
        "datalink": {
          "6b136fa7-279f-4d56-9525-270c2f8e304b": {
            "applied_filters": [],
            "dataframe_info": {
              "default_index_used": true,
              "orig_num_cols": 3,
              "orig_num_rows": 6,
              "orig_size_bytes": 192,
              "truncated_num_cols": 3,
              "truncated_num_rows": 6,
              "truncated_size_bytes": 192,
              "truncated_string_columns": []
            },
            "display_id": "6b136fa7-279f-4d56-9525-270c2f8e304b",
            "dx_settings": {
              "ALLOW_NOTEABLE_ATTRS": true,
              "COLUMN_SAMPLING_METHOD": "outer",
              "DB_LOCATION": ":memory:",
              "DEV_MODE": false,
              "DISPLAY_MAX_COLUMNS": 100,
              "DISPLAY_MAX_ROWS": 50000,
              "DISPLAY_MODE": "simple",
              "ENABLE_ASSIGNMENT": true,
              "ENABLE_DATALINK": true,
              "FLATTEN_COLUMN_VALUES": true,
              "FLATTEN_INDEX_VALUES": false,
              "GENERATE_DEX_METADATA": false,
              "HTML_TABLE_SCHEMA": false,
              "LOG_LEVEL": 30,
              "MAX_RENDER_SIZE_BYTES": 104857600,
              "MAX_STRING_LENGTH": 250,
              "NUM_PAST_SAMPLES_TRACKED": 3,
              "RANDOM_STATE": 12648430,
              "RESET_INDEX_VALUES": false,
              "ROW_SAMPLING_METHOD": "random",
              "SAMPLING_FACTOR": 0.1,
              "SAMPLING_METHOD": "random",
              "STRINGIFY_COLUMN_VALUES": true,
              "STRINGIFY_INDEX_VALUES": false
            },
            "sample_history": [],
            "sampling_time": "2023-10-08T13:38:52.376023",
            "user_variable_name": null,
            "variable_name": "unk_dataframe_36f319bb444243b69ca2a6c09b1da466"
          },
          "53521fa6-bd4d-490e-b655-96d8960e5b18": {
            "applied_filters": [],
            "dataframe_info": {
              "default_index_used": true,
              "orig_num_cols": 3,
              "orig_num_rows": 6,
              "orig_size_bytes": 192,
              "truncated_num_cols": 3,
              "truncated_num_rows": 6,
              "truncated_size_bytes": 192,
              "truncated_string_columns": []
            },
            "display_id": "53521fa6-bd4d-490e-b655-96d8960e5b18",
            "dx_settings": {
              "ALLOW_NOTEABLE_ATTRS": true,
              "COLUMN_SAMPLING_METHOD": "outer",
              "DB_LOCATION": ":memory:",
              "DEV_MODE": false,
              "DISPLAY_MAX_COLUMNS": 100,
              "DISPLAY_MAX_ROWS": 50000,
              "DISPLAY_MODE": "simple",
              "ENABLE_ASSIGNMENT": true,
              "ENABLE_DATALINK": true,
              "FLATTEN_COLUMN_VALUES": true,
              "FLATTEN_INDEX_VALUES": false,
              "GENERATE_DEX_METADATA": false,
              "HTML_TABLE_SCHEMA": false,
              "LOG_LEVEL": 30,
              "MAX_RENDER_SIZE_BYTES": 104857600,
              "MAX_STRING_LENGTH": 250,
              "NUM_PAST_SAMPLES_TRACKED": 3,
              "RANDOM_STATE": 12648430,
              "RESET_INDEX_VALUES": false,
              "ROW_SAMPLING_METHOD": "random",
              "SAMPLING_FACTOR": 0.1,
              "SAMPLING_METHOD": "random",
              "STRINGIFY_COLUMN_VALUES": true,
              "STRINGIFY_INDEX_VALUES": false
            },
            "sample_history": [],
            "sampling_time": "2023-10-10T18:41:39.405241",
            "user_variable_name": null,
            "variable_name": "unk_dataframe_8154b9f4a68547a2a00cf7b190062e1d"
          }
        },
        "dx": {
          "dashboard": {
            "multiViews": []
          },
          "fieldMetadata": {},
          "updated": 1696960182954,
          "views": [
            {
              "annotationRules": [],
              "chart": {},
              "chartMode": "grid",
              "confoRules": [],
              "decoration": {
                "footer": "",
                "subtitle": "",
                "title": "Table"
              },
              "facets": [],
              "filterSettings": {
                "SHOW_FILTER_PANEL": true,
                "filters": []
              },
              "id": "first-view",
              "isDefault": true,
              "type": "public",
              "userID": ""
            },
            {
              "annotationRules": [],
              "chart": {
                "tableSparklines": false
              },
              "chartMode": "grid",
              "confoRules": [],
              "decoration": {
                "footer": "",
                "subtitle": "",
                "title": "Table"
              },
              "facets": [],
              "filterSettings": {
                "SHOW_FILTER_PANEL": true,
                "filters": []
              },
              "id": "first-view",
              "isDefault": true,
              "isTransitory": true,
              "type": "public",
              "userID": ""
            }
          ]
        }
      },
      "id": "bdb33450-e977-4698-bb98-8feac682441b"
    }
  ],
  "metadata": {
    "kernel_info": {
      "name": "python3"
    },
    "kernelspec": {
      "display_name": "Python 3.9",
      "language": "python",
      "name": "python3"
    },
    "selected_hardware_size": "small",
    "noteable": {
      "last_delta_id": "e7905a7c-3bf7-41f8-8f1e-1b01e5f17c3c"
    },
    "nteract": {
      "version": "noteable@2.9.0"
    }
  },
  "nbformat": 4,
  "nbformat_minor": 5
}